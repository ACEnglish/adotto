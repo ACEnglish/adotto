{
 "cells": [
  {
   "cell_type": "markdown",
   "id": "56d62e90-5f73-4c51-8dc3-2a1c86e344fc",
   "metadata": {},
   "source": [
    "Summarizing the number of variants per tr-region"
   ]
  },
  {
   "cell_type": "code",
   "execution_count": 1,
   "id": "167ef41f-d4e5-43a5-8c62-3c9951d87650",
   "metadata": {},
   "outputs": [],
   "source": [
    "import pandas as pd\n",
    "import seaborn as sb\n",
    "import matplotlib.pyplot as plt"
   ]
  },
  {
   "cell_type": "code",
   "execution_count": 2,
   "id": "66deabf6-e092-485a-8b65-6830c73c59cf",
   "metadata": {},
   "outputs": [],
   "source": [
    "data = pd.read_csv(\"../tables/per_region_varcount.txt.gz\", sep='\\t')\n",
    "data['key'] = data[['chrom', 'start', 'end']].apply(lambda row: '_'.join(row.values.astype(str)), axis=1)\n",
    "data.set_index('key', inplace=True)"
   ]
  },
  {
   "cell_type": "code",
   "execution_count": 3,
   "id": "087f2bfd-9fdc-452b-a7af-92c73a9b62a6",
   "metadata": {},
   "outputs": [
    {
     "data": {
      "text/html": [
       "<div>\n",
       "<style scoped>\n",
       "    .dataframe tbody tr th:only-of-type {\n",
       "        vertical-align: middle;\n",
       "    }\n",
       "\n",
       "    .dataframe tbody tr th {\n",
       "        vertical-align: top;\n",
       "    }\n",
       "\n",
       "    .dataframe thead th {\n",
       "        text-align: right;\n",
       "    }\n",
       "</style>\n",
       "<table border=\"1\" class=\"dataframe\">\n",
       "  <thead>\n",
       "    <tr style=\"text-align: right;\">\n",
       "      <th></th>\n",
       "      <th>chrom</th>\n",
       "      <th>start</th>\n",
       "      <th>end</th>\n",
       "      <th>adotto_tot</th>\n",
       "      <th>adotto_5bp</th>\n",
       "      <th>thfa_tot</th>\n",
       "      <th>thfa_5bp</th>\n",
       "    </tr>\n",
       "    <tr>\n",
       "      <th>key</th>\n",
       "      <th></th>\n",
       "      <th></th>\n",
       "      <th></th>\n",
       "      <th></th>\n",
       "      <th></th>\n",
       "      <th></th>\n",
       "      <th></th>\n",
       "    </tr>\n",
       "  </thead>\n",
       "  <tbody>\n",
       "    <tr>\n",
       "      <th>chr1_16682_16774</th>\n",
       "      <td>chr1</td>\n",
       "      <td>16682</td>\n",
       "      <td>16774</td>\n",
       "      <td>0</td>\n",
       "      <td>0</td>\n",
       "      <td>0</td>\n",
       "      <td>0</td>\n",
       "    </tr>\n",
       "    <tr>\n",
       "      <th>chr1_19275_19473</th>\n",
       "      <td>chr1</td>\n",
       "      <td>19275</td>\n",
       "      <td>19473</td>\n",
       "      <td>0</td>\n",
       "      <td>0</td>\n",
       "      <td>0</td>\n",
       "      <td>0</td>\n",
       "    </tr>\n",
       "    <tr>\n",
       "      <th>chr1_20798_20893</th>\n",
       "      <td>chr1</td>\n",
       "      <td>20798</td>\n",
       "      <td>20893</td>\n",
       "      <td>0</td>\n",
       "      <td>0</td>\n",
       "      <td>0</td>\n",
       "      <td>0</td>\n",
       "    </tr>\n",
       "    <tr>\n",
       "      <th>chr1_29714_29822</th>\n",
       "      <td>chr1</td>\n",
       "      <td>29714</td>\n",
       "      <td>29822</td>\n",
       "      <td>0</td>\n",
       "      <td>0</td>\n",
       "      <td>0</td>\n",
       "      <td>0</td>\n",
       "    </tr>\n",
       "    <tr>\n",
       "      <th>chr1_30824_30989</th>\n",
       "      <td>chr1</td>\n",
       "      <td>30824</td>\n",
       "      <td>30989</td>\n",
       "      <td>0</td>\n",
       "      <td>0</td>\n",
       "      <td>0</td>\n",
       "      <td>0</td>\n",
       "    </tr>\n",
       "  </tbody>\n",
       "</table>\n",
       "</div>"
      ],
      "text/plain": [
       "                 chrom  start    end  adotto_tot  adotto_5bp  thfa_tot  \\\n",
       "key                                                                      \n",
       "chr1_16682_16774  chr1  16682  16774           0           0         0   \n",
       "chr1_19275_19473  chr1  19275  19473           0           0         0   \n",
       "chr1_20798_20893  chr1  20798  20893           0           0         0   \n",
       "chr1_29714_29822  chr1  29714  29822           0           0         0   \n",
       "chr1_30824_30989  chr1  30824  30989           0           0         0   \n",
       "\n",
       "                  thfa_5bp  \n",
       "key                         \n",
       "chr1_16682_16774         0  \n",
       "chr1_19275_19473         0  \n",
       "chr1_20798_20893         0  \n",
       "chr1_29714_29822         0  \n",
       "chr1_30824_30989         0  "
      ]
     },
     "execution_count": 3,
     "metadata": {},
     "output_type": "execute_result"
    }
   ],
   "source": [
    "data.head()"
   ]
  },
  {
   "cell_type": "code",
   "execution_count": 4,
   "id": "a3af4a6f-2f38-4e18-be27-12ab32e25818",
   "metadata": {},
   "outputs": [
    {
     "name": "stdout",
     "output_type": "stream",
     "text": [
      "546777 regions with any HG002 variant\n"
     ]
    }
   ],
   "source": [
    "any_hg002 = (data['adotto_tot'] != 0) | (data['thfa_tot'] != 0)\n",
    "print(len(data[any_hg002]), \"regions with any HG002 variant\")"
   ]
  },
  {
   "cell_type": "code",
   "execution_count": 5,
   "id": "c96eee5d-6910-4be8-a98c-0b2aa3a6f531",
   "metadata": {},
   "outputs": [
    {
     "name": "stdout",
     "output_type": "stream",
     "text": [
      "147952 regions with any HG002 variant >= 5bp\n"
     ]
    }
   ],
   "source": [
    "any_5bp_hg002 = (data['adotto_5bp'] != 0) | (data['thfa_5bp'] != 0)\n",
    "print(len(data[any_5bp_hg002]), \"regions with any HG002 variant >= 5bp\")"
   ]
  },
  {
   "cell_type": "code",
   "execution_count": 6,
   "id": "d681a40c-9164-4410-b9da-9f6983684f51",
   "metadata": {},
   "outputs": [],
   "source": [
    "adotto_not_thfa = data[any_5bp_hg002]['thfa_5bp'] == 0\n",
    "thfa_not_adotto = data[any_5bp_hg002]['adotto_5bp'] == 0\n",
    "# Present in both but don't agree in how many\n",
    "disagreement =  ~adotto_not_thfa & ~thfa_not_adotto & (data[any_5bp_hg002]['adotto_5bp'] != data[any_5bp_hg002]['thfa_5bp'])"
   ]
  },
  {
   "cell_type": "code",
   "execution_count": 7,
   "id": "f29fbcbd-1210-4778-878d-b6b4eb2f58a4",
   "metadata": {},
   "outputs": [
    {
     "name": "stdout",
     "output_type": "stream",
     "text": [
      "False    142566\n",
      "True       5386\n",
      "Name: thfa_5bp, dtype: int64\n",
      "0.03640369849680978\n"
     ]
    }
   ],
   "source": [
    "print(adotto_not_thfa.value_counts())\n",
    "print(adotto_not_thfa.mean())"
   ]
  },
  {
   "cell_type": "code",
   "execution_count": 8,
   "id": "d94e58d2-1882-4bac-ab7b-dd1327bde812",
   "metadata": {},
   "outputs": [
    {
     "name": "stdout",
     "output_type": "stream",
     "text": [
      "False    142209\n",
      "True       5743\n",
      "Name: adotto_5bp, dtype: int64\n",
      "0.038816643235643995\n"
     ]
    }
   ],
   "source": [
    "print(thfa_not_adotto.value_counts())\n",
    "print(thfa_not_adotto.mean())"
   ]
  },
  {
   "cell_type": "code",
   "execution_count": 9,
   "id": "67246989-0d97-4d45-b79a-e1b74799af53",
   "metadata": {},
   "outputs": [
    {
     "name": "stdout",
     "output_type": "stream",
     "text": [
      "False    135997\n",
      "True      11955\n",
      "dtype: int64\n",
      "0.08080323348112901\n"
     ]
    }
   ],
   "source": [
    "print(disagreement.value_counts())\n",
    "print(disagreement.mean())"
   ]
  },
  {
   "cell_type": "code",
   "execution_count": 10,
   "id": "76a35908-9a9f-4086-89e8-7efb9eec0912",
   "metadata": {},
   "outputs": [
    {
     "name": "stdout",
     "output_type": "stream",
     "text": [
      "False    124868\n",
      "True      23084\n",
      "dtype: int64\n",
      "0.1560235752135828\n"
     ]
    }
   ],
   "source": [
    "all_troublesome = disagreement | adotto_not_thfa | thfa_not_adotto\n",
    "print(all_troublesome.value_counts())\n",
    "print(all_troublesome.mean())"
   ]
  },
  {
   "cell_type": "markdown",
   "id": "b3ce5c13-eb20-4b58-85b3-f34604cb3a1b",
   "metadata": {},
   "source": [
    "For no good reason, let's just throw out the troublesome regions. For the remaining ones, lets get an idea for how many regions the truthsets give the same answer. These are likely the easiest regions to resolve."
   ]
  },
  {
   "cell_type": "code",
   "execution_count": 11,
   "id": "92cc94cf-ad57-4f33-b363-2f792315ca1a",
   "metadata": {},
   "outputs": [],
   "source": [
    "filtered_data = data[any_5bp_hg002 & data.index.isin(all_troublesome[~all_troublesome].index)]"
   ]
  },
  {
   "cell_type": "code",
   "execution_count": 12,
   "id": "5855a7a6-5526-4486-b008-7ab73ad2650c",
   "metadata": {},
   "outputs": [
    {
     "data": {
      "text/plain": [
       "124868"
      ]
     },
     "execution_count": 12,
     "metadata": {},
     "output_type": "execute_result"
    }
   ],
   "source": [
    "len(filtered_data)"
   ]
  },
  {
   "cell_type": "code",
   "execution_count": 13,
   "id": "bb1516f6-be66-4a3c-a958-486455424830",
   "metadata": {},
   "outputs": [
    {
     "data": {
      "text/html": [
       "<div>\n",
       "<style scoped>\n",
       "    .dataframe tbody tr th:only-of-type {\n",
       "        vertical-align: middle;\n",
       "    }\n",
       "\n",
       "    .dataframe tbody tr th {\n",
       "        vertical-align: top;\n",
       "    }\n",
       "\n",
       "    .dataframe thead th {\n",
       "        text-align: right;\n",
       "    }\n",
       "</style>\n",
       "<table border=\"1\" class=\"dataframe\">\n",
       "  <thead>\n",
       "    <tr style=\"text-align: right;\">\n",
       "      <th></th>\n",
       "      <th>chrom</th>\n",
       "      <th>start</th>\n",
       "      <th>end</th>\n",
       "      <th>adotto_tot</th>\n",
       "      <th>adotto_5bp</th>\n",
       "      <th>thfa_tot</th>\n",
       "      <th>thfa_5bp</th>\n",
       "    </tr>\n",
       "    <tr>\n",
       "      <th>key</th>\n",
       "      <th></th>\n",
       "      <th></th>\n",
       "      <th></th>\n",
       "      <th></th>\n",
       "      <th></th>\n",
       "      <th></th>\n",
       "      <th></th>\n",
       "    </tr>\n",
       "  </thead>\n",
       "  <tbody>\n",
       "    <tr>\n",
       "      <th>chr1_839268_839680</th>\n",
       "      <td>chr1</td>\n",
       "      <td>839268</td>\n",
       "      <td>839680</td>\n",
       "      <td>4</td>\n",
       "      <td>1</td>\n",
       "      <td>4</td>\n",
       "      <td>1</td>\n",
       "    </tr>\n",
       "    <tr>\n",
       "      <th>chr1_853385_853936</th>\n",
       "      <td>chr1</td>\n",
       "      <td>853385</td>\n",
       "      <td>853936</td>\n",
       "      <td>10</td>\n",
       "      <td>1</td>\n",
       "      <td>10</td>\n",
       "      <td>1</td>\n",
       "    </tr>\n",
       "    <tr>\n",
       "      <th>chr1_860153_860236</th>\n",
       "      <td>chr1</td>\n",
       "      <td>860153</td>\n",
       "      <td>860236</td>\n",
       "      <td>1</td>\n",
       "      <td>1</td>\n",
       "      <td>1</td>\n",
       "      <td>1</td>\n",
       "    </tr>\n",
       "    <tr>\n",
       "      <th>chr1_866415_867223</th>\n",
       "      <td>chr1</td>\n",
       "      <td>866415</td>\n",
       "      <td>867223</td>\n",
       "      <td>7</td>\n",
       "      <td>2</td>\n",
       "      <td>7</td>\n",
       "      <td>2</td>\n",
       "    </tr>\n",
       "    <tr>\n",
       "      <th>chr1_908556_908882</th>\n",
       "      <td>chr1</td>\n",
       "      <td>908556</td>\n",
       "      <td>908882</td>\n",
       "      <td>2</td>\n",
       "      <td>1</td>\n",
       "      <td>2</td>\n",
       "      <td>1</td>\n",
       "    </tr>\n",
       "    <tr>\n",
       "      <th>...</th>\n",
       "      <td>...</td>\n",
       "      <td>...</td>\n",
       "      <td>...</td>\n",
       "      <td>...</td>\n",
       "      <td>...</td>\n",
       "      <td>...</td>\n",
       "      <td>...</td>\n",
       "    </tr>\n",
       "    <tr>\n",
       "      <th>chrX_155830829_155830930</th>\n",
       "      <td>chrX</td>\n",
       "      <td>155830829</td>\n",
       "      <td>155830930</td>\n",
       "      <td>2</td>\n",
       "      <td>1</td>\n",
       "      <td>2</td>\n",
       "      <td>1</td>\n",
       "    </tr>\n",
       "    <tr>\n",
       "      <th>chrX_155846289_155846354</th>\n",
       "      <td>chrX</td>\n",
       "      <td>155846289</td>\n",
       "      <td>155846354</td>\n",
       "      <td>1</td>\n",
       "      <td>1</td>\n",
       "      <td>1</td>\n",
       "      <td>1</td>\n",
       "    </tr>\n",
       "    <tr>\n",
       "      <th>chrX_155848549_155848660</th>\n",
       "      <td>chrX</td>\n",
       "      <td>155848549</td>\n",
       "      <td>155848660</td>\n",
       "      <td>2</td>\n",
       "      <td>2</td>\n",
       "      <td>2</td>\n",
       "      <td>2</td>\n",
       "    </tr>\n",
       "    <tr>\n",
       "      <th>chrX_155873328_155873502</th>\n",
       "      <td>chrX</td>\n",
       "      <td>155873328</td>\n",
       "      <td>155873502</td>\n",
       "      <td>1</td>\n",
       "      <td>1</td>\n",
       "      <td>1</td>\n",
       "      <td>1</td>\n",
       "    </tr>\n",
       "    <tr>\n",
       "      <th>chrX_155927456_155927533</th>\n",
       "      <td>chrX</td>\n",
       "      <td>155927456</td>\n",
       "      <td>155927533</td>\n",
       "      <td>1</td>\n",
       "      <td>1</td>\n",
       "      <td>1</td>\n",
       "      <td>1</td>\n",
       "    </tr>\n",
       "  </tbody>\n",
       "</table>\n",
       "<p>124868 rows × 7 columns</p>\n",
       "</div>"
      ],
      "text/plain": [
       "                         chrom      start        end  adotto_tot  adotto_5bp  \\\n",
       "key                                                                            \n",
       "chr1_839268_839680        chr1     839268     839680           4           1   \n",
       "chr1_853385_853936        chr1     853385     853936          10           1   \n",
       "chr1_860153_860236        chr1     860153     860236           1           1   \n",
       "chr1_866415_867223        chr1     866415     867223           7           2   \n",
       "chr1_908556_908882        chr1     908556     908882           2           1   \n",
       "...                        ...        ...        ...         ...         ...   \n",
       "chrX_155830829_155830930  chrX  155830829  155830930           2           1   \n",
       "chrX_155846289_155846354  chrX  155846289  155846354           1           1   \n",
       "chrX_155848549_155848660  chrX  155848549  155848660           2           2   \n",
       "chrX_155873328_155873502  chrX  155873328  155873502           1           1   \n",
       "chrX_155927456_155927533  chrX  155927456  155927533           1           1   \n",
       "\n",
       "                          thfa_tot  thfa_5bp  \n",
       "key                                           \n",
       "chr1_839268_839680               4         1  \n",
       "chr1_853385_853936              10         1  \n",
       "chr1_860153_860236               1         1  \n",
       "chr1_866415_867223               7         2  \n",
       "chr1_908556_908882               2         1  \n",
       "...                            ...       ...  \n",
       "chrX_155830829_155830930         2         1  \n",
       "chrX_155846289_155846354         1         1  \n",
       "chrX_155848549_155848660         2         2  \n",
       "chrX_155873328_155873502         1         1  \n",
       "chrX_155927456_155927533         1         1  \n",
       "\n",
       "[124868 rows x 7 columns]"
      ]
     },
     "execution_count": 13,
     "metadata": {},
     "output_type": "execute_result"
    }
   ],
   "source": [
    "filtered_data"
   ]
  },
  {
   "cell_type": "markdown",
   "id": "decf435a-381c-4422-9351-27b889356b8e",
   "metadata": {},
   "source": [
    "So now I could rerun bench on discovery sets and these regions and would hopefully get identical answers from both base vcfs?\n",
    "\n",
    "AND! We're going to call these 'ranks' and number them with lower rank meaning less-likely to have ambiguous representations. "
   ]
  },
  {
   "cell_type": "code",
   "execution_count": 14,
   "id": "8f1eea24-9695-4c54-87a1-ebb4e94e7be9",
   "metadata": {},
   "outputs": [],
   "source": [
    "filtered_data[['chrom', 'start', 'end']].to_csv(\"rank1.bed\", sep='\\t', header=False, index=False)"
   ]
  },
  {
   "cell_type": "markdown",
   "id": "d7b34870-1d96-4903-b5dc-1986354580f7",
   "metadata": {},
   "source": [
    "Okay, so I realized I need to make a rank0 - these are all the TRregions where HG002 has a call (in either VCF)"
   ]
  },
  {
   "cell_type": "code",
   "execution_count": 15,
   "id": "8065d562-8540-463e-ad1e-46b77b957c91",
   "metadata": {},
   "outputs": [],
   "source": [
    "data[any_5bp_hg002][['chrom', 'start', 'end']].to_csv(\"rank0.bed\", sep='\\t', header=False, index=False)"
   ]
  },
  {
   "cell_type": "markdown",
   "id": "14328144-035b-478e-a925-414ef29b6d72",
   "metadata": {},
   "source": [
    "* We have a total of N regions in our TR catalog\n",
    "* We are going to classify the regions into different ranks\n",
    "  * Higher the rank, the harder it is to compare.\n",
    "  * These ranks should be highly correlated with traditional GIAB Tiers\n",
    "* HG002 Superset - N regions have any HG002 variant in Adotto or THFA\n",
    "* Rank5: N regions have any variant <5bp in Adotto or THFA\n",
    "* Rank4: N regions have any variant >=5bp in Adotto or THFA\n",
    "* Rank3: N regions have any variant >=5bp in Adotto AND THFA\n",
    "* Rank2: N regions SAME NUMBER of >=5bp in Adotto and THFA\n",
    "* Rank1: N regions have only MATCHING >=5bp variants between Adotto and THFA\n",
    "* Rank0: N regions have only MATCHING >=5bp variants between Adotta and THFA as well as at least 1 `truvari anno trf` reference annotation matching variant\n"
   ]
  },
  {
   "cell_type": "code",
   "execution_count": 16,
   "id": "3dffa2b4-de69-4305-a734-618bda160e32",
   "metadata": {},
   "outputs": [],
   "source": [
    "superset = any_hg002\n",
    "rank4_all = any_5bp_hg002\n",
    "rank3_all = (data['adotto_5bp'] != 0) & (data['thfa_5bp'] != 0)\n",
    "rank2_all = ((data['adotto_5bp'] != 0) & (data['thfa_5bp'] != 0)) & (data['adotto_5bp'] == data['thfa_5bp'])\n",
    "\n",
    "# Get the exclusive sets\n",
    "rank4_exclusive = rank4_all & ~rank3_all & ~rank2_all\n",
    "rank3_exclusive = rank3_all & ~rank2_all\n",
    "rank2_exclusive = rank2_all\n",
    "rank5_exclusive = superset & ~rank4_exclusive & ~rank3_exclusive & ~rank2_exclusive"
   ]
  },
  {
   "cell_type": "code",
   "execution_count": 17,
   "id": "83531489-399d-4542-8804-7efcc659c616",
   "metadata": {},
   "outputs": [
    {
     "data": {
      "text/html": [
       "<div>\n",
       "<style scoped>\n",
       "    .dataframe tbody tr th:only-of-type {\n",
       "        vertical-align: middle;\n",
       "    }\n",
       "\n",
       "    .dataframe tbody tr th {\n",
       "        vertical-align: top;\n",
       "    }\n",
       "\n",
       "    .dataframe thead th {\n",
       "        text-align: right;\n",
       "    }\n",
       "</style>\n",
       "<table border=\"1\" class=\"dataframe\">\n",
       "  <thead>\n",
       "    <tr style=\"text-align: right;\">\n",
       "      <th></th>\n",
       "      <th>count</th>\n",
       "    </tr>\n",
       "    <tr>\n",
       "      <th>set</th>\n",
       "      <th></th>\n",
       "    </tr>\n",
       "  </thead>\n",
       "  <tbody>\n",
       "    <tr>\n",
       "      <th>total</th>\n",
       "      <td>938088</td>\n",
       "    </tr>\n",
       "    <tr>\n",
       "      <th>superset</th>\n",
       "      <td>546777</td>\n",
       "    </tr>\n",
       "    <tr>\n",
       "      <th>rank5</th>\n",
       "      <td>398825</td>\n",
       "    </tr>\n",
       "    <tr>\n",
       "      <th>rank4</th>\n",
       "      <td>11129</td>\n",
       "    </tr>\n",
       "    <tr>\n",
       "      <th>rank3</th>\n",
       "      <td>11955</td>\n",
       "    </tr>\n",
       "  </tbody>\n",
       "</table>\n",
       "</div>"
      ],
      "text/plain": [
       "           count\n",
       "set             \n",
       "total     938088\n",
       "superset  546777\n",
       "rank5     398825\n",
       "rank4      11129\n",
       "rank3      11955"
      ]
     },
     "execution_count": 17,
     "metadata": {},
     "output_type": "execute_result"
    }
   ],
   "source": [
    "# Make a region count table\n",
    "table = [[\"total\", len(data)],\n",
    "         [\"superset\", any_hg002.value_counts()[True]],\n",
    "         [\"rank5\", rank5_exclusive.value_counts()[True]],\n",
    "         [\"rank4\", rank4_exclusive.value_counts()[True]],\n",
    "         [\"rank3\", rank3_exclusive.value_counts()[True]]]\n",
    "rank_table = pd.DataFrame(table, columns=[\"set\", \"count\"])\n",
    "rank_table.set_index(\"set\", inplace=True)\n",
    "rank_table      "
   ]
  },
  {
   "cell_type": "code",
   "execution_count": 18,
   "id": "91f587d6-dcca-4232-bd59-bcc8b986c1a3",
   "metadata": {},
   "outputs": [],
   "source": [
    "# Save all the ranks\n",
    "# then take rank2 and use the intersection to figure out what is rank1 vs rank0\n",
    "data[rank2_exclusive][[\"chrom\", \"start\", \"end\"]].to_csv(\"rank2.bed\", sep='\\t', header=False, index=False)"
   ]
  },
  {
   "cell_type": "code",
   "execution_count": 19,
   "id": "a8c8692c-7340-4a5f-8462-09caf61f2808",
   "metadata": {},
   "outputs": [],
   "source": [
    "rank2_benchcounts = pd.read_csv(\"../tables/rank2_benchcounts.txt.gz\", sep='\\t')\n",
    "rank2_benchcounts['key'] = rank2_benchcounts[['chrom', 'start', 'end']].apply(lambda row: '_'.join(row.values.astype(str)), axis=1)\n",
    "rank2_benchcounts.set_index('key', inplace=True)"
   ]
  },
  {
   "cell_type": "code",
   "execution_count": 20,
   "id": "f79cde9b-0767-44f8-953c-ee1ab8e8ff08",
   "metadata": {},
   "outputs": [],
   "source": [
    "rank1_all = (rank2_benchcounts['fp'] == 0) & (rank2_benchcounts['fn'] == 0)\n",
    "rank0_exclusive = rank1_all & ((rank2_benchcounts['tpb_tat'] != 0) | (rank2_benchcounts['tp_tat'] != 0))\n",
    "rank1_exclusive = rank1_all & ~rank0_exclusive\n",
    "rank2_exclusive = ~rank1_exclusive & ~rank0_exclusive"
   ]
  },
  {
   "cell_type": "code",
   "execution_count": 21,
   "id": "dcc321c3-5460-4f8d-a437-2eb58290310f",
   "metadata": {},
   "outputs": [],
   "source": [
    "rank_table.loc['rank2', 'count'] = rank2_exclusive.value_counts()[True]\n",
    "rank_table.loc['rank1', 'count'] = rank1_exclusive.value_counts()[True]\n",
    "rank_table.loc['rank0', 'count'] = rank0_exclusive.value_counts()[True]\n",
    "\n",
    "rank_table[\"percent\"] = rank_table[\"count\"] / rank_table.loc[\"total\", \"count\"]"
   ]
  },
  {
   "cell_type": "code",
   "execution_count": 22,
   "id": "fce2840f-d64d-4466-abd4-a09da0513ed2",
   "metadata": {},
   "outputs": [
    {
     "data": {
      "text/html": [
       "<div>\n",
       "<style scoped>\n",
       "    .dataframe tbody tr th:only-of-type {\n",
       "        vertical-align: middle;\n",
       "    }\n",
       "\n",
       "    .dataframe tbody tr th {\n",
       "        vertical-align: top;\n",
       "    }\n",
       "\n",
       "    .dataframe thead th {\n",
       "        text-align: right;\n",
       "    }\n",
       "</style>\n",
       "<table border=\"1\" class=\"dataframe\">\n",
       "  <thead>\n",
       "    <tr style=\"text-align: right;\">\n",
       "      <th></th>\n",
       "      <th>count</th>\n",
       "      <th>percent</th>\n",
       "    </tr>\n",
       "    <tr>\n",
       "      <th>set</th>\n",
       "      <th></th>\n",
       "      <th></th>\n",
       "    </tr>\n",
       "  </thead>\n",
       "  <tbody>\n",
       "    <tr>\n",
       "      <th>total</th>\n",
       "      <td>938088.0</td>\n",
       "      <td>1.000000</td>\n",
       "    </tr>\n",
       "    <tr>\n",
       "      <th>superset</th>\n",
       "      <td>546777.0</td>\n",
       "      <td>0.582863</td>\n",
       "    </tr>\n",
       "    <tr>\n",
       "      <th>rank5</th>\n",
       "      <td>398825.0</td>\n",
       "      <td>0.425147</td>\n",
       "    </tr>\n",
       "    <tr>\n",
       "      <th>rank4</th>\n",
       "      <td>11129.0</td>\n",
       "      <td>0.011863</td>\n",
       "    </tr>\n",
       "    <tr>\n",
       "      <th>rank3</th>\n",
       "      <td>11955.0</td>\n",
       "      <td>0.012744</td>\n",
       "    </tr>\n",
       "    <tr>\n",
       "      <th>rank2</th>\n",
       "      <td>4713.0</td>\n",
       "      <td>0.005024</td>\n",
       "    </tr>\n",
       "    <tr>\n",
       "      <th>rank1</th>\n",
       "      <td>3660.0</td>\n",
       "      <td>0.003902</td>\n",
       "    </tr>\n",
       "    <tr>\n",
       "      <th>rank0</th>\n",
       "      <td>116495.0</td>\n",
       "      <td>0.124183</td>\n",
       "    </tr>\n",
       "  </tbody>\n",
       "</table>\n",
       "</div>"
      ],
      "text/plain": [
       "             count   percent\n",
       "set                         \n",
       "total     938088.0  1.000000\n",
       "superset  546777.0  0.582863\n",
       "rank5     398825.0  0.425147\n",
       "rank4      11129.0  0.011863\n",
       "rank3      11955.0  0.012744\n",
       "rank2       4713.0  0.005024\n",
       "rank1       3660.0  0.003902\n",
       "rank0     116495.0  0.124183"
      ]
     },
     "execution_count": 22,
     "metadata": {},
     "output_type": "execute_result"
    }
   ],
   "source": [
    "rank_table"
   ]
  },
  {
   "cell_type": "code",
   "execution_count": 23,
   "id": "b9428158-5923-4637-b6aa-b6a7a4f2d0cb",
   "metadata": {},
   "outputs": [],
   "source": [
    "#Okay. Now I need to put these ranks back into the full data so I can separate them out\n",
    "# Just a single bed with region-->rank"
   ]
  },
  {
   "cell_type": "code",
   "execution_count": 24,
   "id": "285d9996-544d-4a5e-8979-98b1c6b7209f",
   "metadata": {},
   "outputs": [
    {
     "data": {
      "text/plain": [
       "[938088, 938088, 938088, 124868, 124868, 124868]"
      ]
     },
     "execution_count": 24,
     "metadata": {},
     "output_type": "execute_result"
    }
   ],
   "source": [
    "[len(rank5_exclusive),\n",
    "len(rank4_exclusive),\n",
    "len(rank3_exclusive),\n",
    "len(rank2_exclusive),\n",
    "len(rank1_exclusive),\n",
    " len(rank0_exclusive)]"
   ]
  },
  {
   "cell_type": "code",
   "execution_count": 25,
   "id": "c7121b52-1a2c-4959-8f75-26ec1130c48f",
   "metadata": {},
   "outputs": [
    {
     "data": {
      "text/plain": [
       "124868"
      ]
     },
     "execution_count": 25,
     "metadata": {},
     "output_type": "execute_result"
    }
   ],
   "source": [
    "len(rank2_benchcounts)"
   ]
  },
  {
   "cell_type": "code",
   "execution_count": 26,
   "id": "c5818089-4ea1-4dc1-9621-5697c77192a0",
   "metadata": {},
   "outputs": [],
   "source": [
    "data['rank'] = None"
   ]
  },
  {
   "cell_type": "code",
   "execution_count": 33,
   "id": "13d5467a-a4b9-43bd-9a6a-c32c474f6bc2",
   "metadata": {},
   "outputs": [],
   "source": [
    "m_data = data.copy()#data.loc[rank5_exclusive, 'rank'] = 5"
   ]
  },
  {
   "cell_type": "code",
   "execution_count": 34,
   "id": "f3cd7da2-2452-470a-a313-e774f2f8e5e9",
   "metadata": {},
   "outputs": [],
   "source": [
    "m_data.loc[rank5_exclusive[rank5_exclusive].index, 'rank'] = 5\n",
    "m_data.loc[rank4_exclusive[rank4_exclusive].index, 'rank'] = 4\n",
    "m_data.loc[rank3_exclusive[rank3_exclusive].index, 'rank'] = 3\n",
    "m_data.loc[rank2_exclusive[rank2_exclusive].index, 'rank'] = 2\n",
    "m_data.loc[rank1_exclusive[rank1_exclusive].index, 'rank'] = 1\n",
    "m_data.loc[rank0_exclusive[rank0_exclusive].index, 'rank'] = 0"
   ]
  },
  {
   "cell_type": "code",
   "execution_count": 37,
   "id": "8ddb0d4a-6c84-424f-abe5-236a37b187c8",
   "metadata": {},
   "outputs": [
    {
     "data": {
      "text/plain": [
       "5.0    398825\n",
       "NaN    391311\n",
       "0.0    116495\n",
       "3.0     11955\n",
       "4.0     11129\n",
       "2.0      4713\n",
       "1.0      3660\n",
       "Name: rank, dtype: int64"
      ]
     },
     "execution_count": 37,
     "metadata": {},
     "output_type": "execute_result"
    }
   ],
   "source": [
    "m_data['rank'].value_counts(dropna=False)"
   ]
  },
  {
   "cell_type": "code",
   "execution_count": 39,
   "id": "f0e28a76-be55-49be-aa96-6f9fcbe2f533",
   "metadata": {},
   "outputs": [],
   "source": [
    "m_data[[\"chrom\", \"start\", \"end\", \"rank\"]].to_csv(\"hg002_trregion_ranks.bed\", sep='\\t', header=False, index=False)"
   ]
  },
  {
   "cell_type": "code",
   "execution_count": 45,
   "id": "f17a4815-1752-480e-a5af-7c61fcfeb84d",
   "metadata": {},
   "outputs": [],
   "source": [
    "view = m_data.groupby(['chrom', 'rank']).size().unstack().reset_index().melt(id_vars='chrom', value_name=\"region_count\")"
   ]
  },
  {
   "cell_type": "code",
   "execution_count": 47,
   "id": "2cce7352-437c-4f6f-a9f6-833458407466",
   "metadata": {},
   "outputs": [
    {
     "data": {
      "text/plain": [
       "(array([ 0,  1,  2,  3,  4,  5,  6,  7,  8,  9, 10, 11, 12, 13, 14, 15, 16,\n",
       "        17, 18, 19, 20, 21, 22, 23]),\n",
       " [Text(0, 0, 'chr1'),\n",
       "  Text(1, 0, 'chr10'),\n",
       "  Text(2, 0, 'chr11'),\n",
       "  Text(3, 0, 'chr12'),\n",
       "  Text(4, 0, 'chr13'),\n",
       "  Text(5, 0, 'chr14'),\n",
       "  Text(6, 0, 'chr15'),\n",
       "  Text(7, 0, 'chr16'),\n",
       "  Text(8, 0, 'chr17'),\n",
       "  Text(9, 0, 'chr18'),\n",
       "  Text(10, 0, 'chr19'),\n",
       "  Text(11, 0, 'chr2'),\n",
       "  Text(12, 0, 'chr20'),\n",
       "  Text(13, 0, 'chr21'),\n",
       "  Text(14, 0, 'chr22'),\n",
       "  Text(15, 0, 'chr3'),\n",
       "  Text(16, 0, 'chr4'),\n",
       "  Text(17, 0, 'chr5'),\n",
       "  Text(18, 0, 'chr6'),\n",
       "  Text(19, 0, 'chr7'),\n",
       "  Text(20, 0, 'chr8'),\n",
       "  Text(21, 0, 'chr9'),\n",
       "  Text(22, 0, 'chrX'),\n",
       "  Text(23, 0, 'chrY')])"
      ]
     },
     "execution_count": 47,
     "metadata": {},
     "output_type": "execute_result"
    },
    {
     "data": {
      "image/png": "[encoded data removed]",
      "text/plain": [
       "<Figure size 432x288 with 1 Axes>"
      ]
     },
     "metadata": {
      "needs_background": "light"
     },
     "output_type": "display_data"
    }
   ],
   "source": [
    "sb.barplot(data=view, x=\"chrom\", y=\"region_count\", hue=\"rank\")\n",
    "plt.xticks(rotation=45, ha='right')"
   ]
  },
  {
   "cell_type": "code",
   "execution_count": 48,
   "id": "f030c9fd-53e0-4230-b781-15ccb484b3af",
   "metadata": {},
   "outputs": [],
   "source": [
    "m_data['span'] = m_data['end'] - m_data['start']"
   ]
  },
  {
   "cell_type": "code",
   "execution_count": 54,
   "id": "500d976d-0c0d-45f5-a7a1-cf50facb57d0",
   "metadata": {},
   "outputs": [],
   "source": [
    "a = m_data.groupby(['rank'])['span'].sum() / 3.2e9\n",
    "b = m_data.groupby(['rank']).size()\n",
    "x = pd.concat([a, b], axis=1)\n",
    "x.columns = ['genome%', 'count']"
   ]
  },
  {
   "cell_type": "code",
   "execution_count": 55,
   "id": "a8737eb1-0214-4c04-91f8-2188d2b56902",
   "metadata": {},
   "outputs": [
    {
     "data": {
      "text/html": [
       "<div>\n",
       "<style scoped>\n",
       "    .dataframe tbody tr th:only-of-type {\n",
       "        vertical-align: middle;\n",
       "    }\n",
       "\n",
       "    .dataframe tbody tr th {\n",
       "        vertical-align: top;\n",
       "    }\n",
       "\n",
       "    .dataframe thead th {\n",
       "        text-align: right;\n",
       "    }\n",
       "</style>\n",
       "<table border=\"1\" class=\"dataframe\">\n",
       "  <thead>\n",
       "    <tr style=\"text-align: right;\">\n",
       "      <th></th>\n",
       "      <th>genome%</th>\n",
       "      <th>count</th>\n",
       "    </tr>\n",
       "    <tr>\n",
       "      <th>rank</th>\n",
       "      <th></th>\n",
       "      <th></th>\n",
       "    </tr>\n",
       "  </thead>\n",
       "  <tbody>\n",
       "    <tr>\n",
       "      <th>0</th>\n",
       "      <td>0.006027</td>\n",
       "      <td>116495</td>\n",
       "    </tr>\n",
       "    <tr>\n",
       "      <th>1</th>\n",
       "      <td>0.000407</td>\n",
       "      <td>3660</td>\n",
       "    </tr>\n",
       "    <tr>\n",
       "      <th>2</th>\n",
       "      <td>0.000358</td>\n",
       "      <td>4713</td>\n",
       "    </tr>\n",
       "    <tr>\n",
       "      <th>3</th>\n",
       "      <td>0.001893</td>\n",
       "      <td>11955</td>\n",
       "    </tr>\n",
       "    <tr>\n",
       "      <th>4</th>\n",
       "      <td>0.001159</td>\n",
       "      <td>11129</td>\n",
       "    </tr>\n",
       "    <tr>\n",
       "      <th>5</th>\n",
       "      <td>0.014824</td>\n",
       "      <td>398825</td>\n",
       "    </tr>\n",
       "  </tbody>\n",
       "</table>\n",
       "</div>"
      ],
      "text/plain": [
       "       genome%   count\n",
       "rank                  \n",
       "0     0.006027  116495\n",
       "1     0.000407    3660\n",
       "2     0.000358    4713\n",
       "3     0.001893   11955\n",
       "4     0.001159   11129\n",
       "5     0.014824  398825"
      ]
     },
     "execution_count": 55,
     "metadata": {},
     "output_type": "execute_result"
    }
   ],
   "source": [
    "x"
   ]
  },
  {
   "cell_type": "code",
   "execution_count": null,
   "id": "f716070f-b06d-48f5-8901-48720ffffe81",
   "metadata": {},
   "outputs": [],
   "source": []
  }
 ],
 "metadata": {
  "kernelspec": {
   "display_name": "Python 3 (ipykernel)",
   "language": "python",
   "name": "python3"
  },
  "language_info": {
   "codemirror_mode": {
    "name": "ipython",
    "version": 3
   },
   "file_extension": ".py",
   "mimetype": "text/x-python",
   "name": "python",
   "nbconvert_exporter": "python",
   "pygments_lexer": "ipython3",
   "version": "3.8.9"
  }
 },
 "nbformat": 4,
 "nbformat_minor": 5
}
