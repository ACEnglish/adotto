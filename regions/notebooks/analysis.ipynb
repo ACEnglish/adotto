{
 "cells": [
  {
   "cell_type": "code",
   "execution_count": 1,
   "id": "domestic-payroll",
   "metadata": {},
   "outputs": [],
   "source": [
    "import pandas as pd\n",
    "import seaborn as sb\n",
    "import matplotlib.pyplot as plt\n",
    "import joblib"
   ]
  },
  {
   "cell_type": "code",
   "execution_count": 2,
   "id": "together-comparison",
   "metadata": {},
   "outputs": [
    {
     "data": {
      "text/html": [
       "<div>\n",
       "<style scoped>\n",
       "    .dataframe tbody tr th:only-of-type {\n",
       "        vertical-align: middle;\n",
       "    }\n",
       "\n",
       "    .dataframe tbody tr th {\n",
       "        vertical-align: top;\n",
       "    }\n",
       "\n",
       "    .dataframe thead th {\n",
       "        text-align: right;\n",
       "    }\n",
       "</style>\n",
       "<table border=\"1\" class=\"dataframe\">\n",
       "  <thead>\n",
       "    <tr style=\"text-align: right;\">\n",
       "      <th></th>\n",
       "      <th>count</th>\n",
       "      <th>mean</th>\n",
       "      <th>std</th>\n",
       "      <th>min</th>\n",
       "      <th>25%</th>\n",
       "      <th>50%</th>\n",
       "      <th>75%</th>\n",
       "      <th>max</th>\n",
       "      <th>tot_len</th>\n",
       "      <th>total</th>\n",
       "      <th>removed</th>\n",
       "      <th>removed_pct</th>\n",
       "      <th>chrom_rm</th>\n",
       "      <th>small_rm</th>\n",
       "      <th>big_rm</th>\n",
       "      <th>coord_rm</th>\n",
       "      <th>span_total</th>\n",
       "      <th>span_rm</th>\n",
       "      <th>span_kept</th>\n",
       "      <th>source</th>\n",
       "    </tr>\n",
       "  </thead>\n",
       "  <tbody>\n",
       "    <tr>\n",
       "      <th>0</th>\n",
       "      <td>965511.0</td>\n",
       "      <td>330.0</td>\n",
       "      <td>6599.0</td>\n",
       "      <td>25.0</td>\n",
       "      <td>35.0</td>\n",
       "      <td>47.0</td>\n",
       "      <td>87.0</td>\n",
       "      <td>500000.0</td>\n",
       "      <td>319296434.0</td>\n",
       "      <td>652237.0</td>\n",
       "      <td>100.0</td>\n",
       "      <td>0.015332</td>\n",
       "      <td>0.0</td>\n",
       "      <td>0.0</td>\n",
       "      <td>100.0</td>\n",
       "      <td>0.0</td>\n",
       "      <td>138453831.0</td>\n",
       "      <td>64064615.0</td>\n",
       "      <td>74389216.0</td>\n",
       "      <td>baylor</td>\n",
       "    </tr>\n",
       "    <tr>\n",
       "      <th>1</th>\n",
       "      <td>1852129.0</td>\n",
       "      <td>159.0</td>\n",
       "      <td>4818.0</td>\n",
       "      <td>1.0</td>\n",
       "      <td>22.0</td>\n",
       "      <td>43.0</td>\n",
       "      <td>77.0</td>\n",
       "      <td>2282171.0</td>\n",
       "      <td>294579269.0</td>\n",
       "      <td>1400092.0</td>\n",
       "      <td>130507.0</td>\n",
       "      <td>9.321316</td>\n",
       "      <td>0.0</td>\n",
       "      <td>130321.0</td>\n",
       "      <td>186.0</td>\n",
       "      <td>0.0</td>\n",
       "      <td>165371166.0</td>\n",
       "      <td>36031954.0</td>\n",
       "      <td>129339212.0</td>\n",
       "      <td>giab</td>\n",
       "    </tr>\n",
       "    <tr>\n",
       "      <th>2</th>\n",
       "      <td>171146.0</td>\n",
       "      <td>26.0</td>\n",
       "      <td>12.0</td>\n",
       "      <td>4.0</td>\n",
       "      <td>18.0</td>\n",
       "      <td>24.0</td>\n",
       "      <td>34.0</td>\n",
       "      <td>532.0</td>\n",
       "      <td>4538741.0</td>\n",
       "      <td>171145.0</td>\n",
       "      <td>7790.0</td>\n",
       "      <td>4.551696</td>\n",
       "      <td>0.0</td>\n",
       "      <td>7790.0</td>\n",
       "      <td>0.0</td>\n",
       "      <td>0.0</td>\n",
       "      <td>4538738.0</td>\n",
       "      <td>56923.0</td>\n",
       "      <td>4481815.0</td>\n",
       "      <td>pacbio</td>\n",
       "    </tr>\n",
       "    <tr>\n",
       "      <th>3</th>\n",
       "      <td>1776010.0</td>\n",
       "      <td>20.0</td>\n",
       "      <td>11.0</td>\n",
       "      <td>2.0</td>\n",
       "      <td>12.0</td>\n",
       "      <td>16.0</td>\n",
       "      <td>24.0</td>\n",
       "      <td>399.0</td>\n",
       "      <td>35852305.0</td>\n",
       "      <td>1739897.0</td>\n",
       "      <td>1646.0</td>\n",
       "      <td>0.094603</td>\n",
       "      <td>0.0</td>\n",
       "      <td>1646.0</td>\n",
       "      <td>0.0</td>\n",
       "      <td>0.0</td>\n",
       "      <td>35311586.0</td>\n",
       "      <td>10765.0</td>\n",
       "      <td>35300821.0</td>\n",
       "      <td>ucsd1</td>\n",
       "    </tr>\n",
       "    <tr>\n",
       "      <th>4</th>\n",
       "      <td>10264.0</td>\n",
       "      <td>59.0</td>\n",
       "      <td>27.0</td>\n",
       "      <td>20.0</td>\n",
       "      <td>38.0</td>\n",
       "      <td>52.0</td>\n",
       "      <td>73.0</td>\n",
       "      <td>284.0</td>\n",
       "      <td>613138.0</td>\n",
       "      <td>10259.0</td>\n",
       "      <td>0.0</td>\n",
       "      <td>0.000000</td>\n",
       "      <td>0.0</td>\n",
       "      <td>0.0</td>\n",
       "      <td>0.0</td>\n",
       "      <td>0.0</td>\n",
       "      <td>612921.0</td>\n",
       "      <td>0.0</td>\n",
       "      <td>612921.0</td>\n",
       "      <td>ucsd2</td>\n",
       "    </tr>\n",
       "  </tbody>\n",
       "</table>\n",
       "</div>"
      ],
      "text/plain": [
       "       count   mean     std   min   25%   50%   75%        max      tot_len  \\\n",
       "0   965511.0  330.0  6599.0  25.0  35.0  47.0  87.0   500000.0  319296434.0   \n",
       "1  1852129.0  159.0  4818.0   1.0  22.0  43.0  77.0  2282171.0  294579269.0   \n",
       "2   171146.0   26.0    12.0   4.0  18.0  24.0  34.0      532.0    4538741.0   \n",
       "3  1776010.0   20.0    11.0   2.0  12.0  16.0  24.0      399.0   35852305.0   \n",
       "4    10264.0   59.0    27.0  20.0  38.0  52.0  73.0      284.0     613138.0   \n",
       "\n",
       "       total   removed  removed_pct  chrom_rm  small_rm  big_rm  coord_rm  \\\n",
       "0   652237.0     100.0     0.015332       0.0       0.0   100.0       0.0   \n",
       "1  1400092.0  130507.0     9.321316       0.0  130321.0   186.0       0.0   \n",
       "2   171145.0    7790.0     4.551696       0.0    7790.0     0.0       0.0   \n",
       "3  1739897.0    1646.0     0.094603       0.0    1646.0     0.0       0.0   \n",
       "4    10259.0       0.0     0.000000       0.0       0.0     0.0       0.0   \n",
       "\n",
       "    span_total     span_rm    span_kept  source  \n",
       "0  138453831.0  64064615.0   74389216.0  baylor  \n",
       "1  165371166.0  36031954.0  129339212.0    giab  \n",
       "2    4538738.0     56923.0    4481815.0  pacbio  \n",
       "3   35311586.0     10765.0   35300821.0   ucsd1  \n",
       "4     612921.0         0.0     612921.0   ucsd2  "
      ]
     },
     "execution_count": 2,
     "metadata": {},
     "output_type": "execute_result"
    }
   ],
   "source": [
    "data = pd.read_csv(\"../data/region_stats.txt\", sep='\\t')\n",
    "orig_sources = ['baylor', 'giab', 'pacbio', 'ucsd1', 'ucsd2']\n",
    "data.head()"
   ]
  },
  {
   "cell_type": "code",
   "execution_count": 3,
   "id": "furnished-oxford",
   "metadata": {},
   "outputs": [
    {
     "data": {
      "image/png": "[encoded data removed]",
      "text/plain": [
       "<Figure size 1080x720 with 4 Axes>"
      ]
     },
     "metadata": {
      "needs_background": "light"
     },
     "output_type": "display_data"
    }
   ],
   "source": [
    "# Input bed files' stats\n",
    "m_fontsz = 10\n",
    "fix, axs = plt.subplots(2, 2, dpi=180)\n",
    "\n",
    "plt.sca(axs[0][0])\n",
    "p = sb.barplot(data=data, x=\"source\", y=\"count\", order=orig_sources)\n",
    "p.set_title(\"Input count\", fontsize=m_fontsz)\n",
    "hide = p.set(ylabel=\"Count\")\n",
    "\n",
    "plt.sca(axs[0][1])\n",
    "p = sb.barplot(data=data, x=\"source\", y=\"tot_len\", order=orig_sources)\n",
    "p.set_title(\"Input span (bp)\", fontsize=m_fontsz)\n",
    "hide = p.set(ylabel=\"Total Span\")\n",
    "\n",
    "# Input merged bed files' stats\n",
    "plt.sca(axs[1][0])\n",
    "data['kept_count'] = data['total'] - data['removed']\n",
    "p = sb.barplot(data=data, x=\"source\", y=\"kept_count\", order=orig_sources)\n",
    "p.set_title(\"Input merged count\", fontsize=m_fontsz)\n",
    "hide = p.set(ylabel=\"Count\")\n",
    "\n",
    "plt.sca(axs[1][1])\n",
    "# Input bed files' stats\n",
    "p = sb.barplot(data=data, x=\"source\", y=\"span_kept\", order=orig_sources)\n",
    "p.set_title(\"Input merged span (bp)\", fontsize=m_fontsz)\n",
    "hide = p.set(ylabel=\"Total Span\")\n",
    "\n",
    "plt.tight_layout()"
   ]
  },
  {
   "cell_type": "code",
   "execution_count": 4,
   "id": "durable-connection",
   "metadata": {},
   "outputs": [
    {
     "data": {
      "text/html": [
       "<div>\n",
       "<style scoped>\n",
       "    .dataframe tbody tr th:only-of-type {\n",
       "        vertical-align: middle;\n",
       "    }\n",
       "\n",
       "    .dataframe tbody tr th {\n",
       "        vertical-align: top;\n",
       "    }\n",
       "\n",
       "    .dataframe thead th {\n",
       "        text-align: right;\n",
       "    }\n",
       "</style>\n",
       "<table border=\"1\" class=\"dataframe\">\n",
       "  <thead>\n",
       "    <tr style=\"text-align: right;\">\n",
       "      <th></th>\n",
       "      <th>source</th>\n",
       "      <th>count</th>\n",
       "      <th>tot_len</th>\n",
       "      <th>kept_count</th>\n",
       "      <th>span_kept</th>\n",
       "    </tr>\n",
       "  </thead>\n",
       "  <tbody>\n",
       "    <tr>\n",
       "      <th>0</th>\n",
       "      <td>baylor</td>\n",
       "      <td>965511.0</td>\n",
       "      <td>319296434.0</td>\n",
       "      <td>652137.0</td>\n",
       "      <td>74389216.0</td>\n",
       "    </tr>\n",
       "    <tr>\n",
       "      <th>1</th>\n",
       "      <td>giab</td>\n",
       "      <td>1852129.0</td>\n",
       "      <td>294579269.0</td>\n",
       "      <td>1269585.0</td>\n",
       "      <td>129339212.0</td>\n",
       "    </tr>\n",
       "    <tr>\n",
       "      <th>2</th>\n",
       "      <td>pacbio</td>\n",
       "      <td>171146.0</td>\n",
       "      <td>4538741.0</td>\n",
       "      <td>163355.0</td>\n",
       "      <td>4481815.0</td>\n",
       "    </tr>\n",
       "    <tr>\n",
       "      <th>3</th>\n",
       "      <td>ucsd1</td>\n",
       "      <td>1776010.0</td>\n",
       "      <td>35852305.0</td>\n",
       "      <td>1738251.0</td>\n",
       "      <td>35300821.0</td>\n",
       "    </tr>\n",
       "    <tr>\n",
       "      <th>4</th>\n",
       "      <td>ucsd2</td>\n",
       "      <td>10264.0</td>\n",
       "      <td>613138.0</td>\n",
       "      <td>10259.0</td>\n",
       "      <td>612921.0</td>\n",
       "    </tr>\n",
       "  </tbody>\n",
       "</table>\n",
       "</div>"
      ],
      "text/plain": [
       "   source      count      tot_len  kept_count    span_kept\n",
       "0  baylor   965511.0  319296434.0    652137.0   74389216.0\n",
       "1    giab  1852129.0  294579269.0   1269585.0  129339212.0\n",
       "2  pacbio   171146.0    4538741.0    163355.0    4481815.0\n",
       "3   ucsd1  1776010.0   35852305.0   1738251.0   35300821.0\n",
       "4   ucsd2    10264.0     613138.0     10259.0     612921.0"
      ]
     },
     "execution_count": 4,
     "metadata": {},
     "output_type": "execute_result"
    }
   ],
   "source": [
    "# Input bed files stats table\n",
    "data[data[\"source\"].isin(orig_sources)][[\"source\", 'count', 'tot_len', 'kept_count', 'span_kept']]"
   ]
  },
  {
   "cell_type": "code",
   "execution_count": 5,
   "id": "crude-inspiration",
   "metadata": {},
   "outputs": [
    {
     "data": {
      "text/html": [
       "<div>\n",
       "<style scoped>\n",
       "    .dataframe tbody tr th:only-of-type {\n",
       "        vertical-align: middle;\n",
       "    }\n",
       "\n",
       "    .dataframe tbody tr th {\n",
       "        vertical-align: top;\n",
       "    }\n",
       "\n",
       "    .dataframe thead th {\n",
       "        text-align: right;\n",
       "    }\n",
       "</style>\n",
       "<table border=\"1\" class=\"dataframe\">\n",
       "  <thead>\n",
       "    <tr style=\"text-align: right;\">\n",
       "      <th></th>\n",
       "      <th>count</th>\n",
       "      <th>tot_len</th>\n",
       "    </tr>\n",
       "  </thead>\n",
       "  <tbody>\n",
       "    <tr>\n",
       "      <th>5</th>\n",
       "      <td>3833587.0</td>\n",
       "      <td>244123985.0</td>\n",
       "    </tr>\n",
       "  </tbody>\n",
       "</table>\n",
       "</div>"
      ],
      "text/plain": [
       "       count      tot_len\n",
       "5  3833587.0  244123985.0"
      ]
     },
     "execution_count": 5,
     "metadata": {},
     "output_type": "execute_result"
    }
   ],
   "source": [
    "#Input sources merged stats\n",
    "data[data[\"source\"]==\"grand\"][[\"count\", \"tot_len\"]]"
   ]
  },
  {
   "cell_type": "code",
   "execution_count": 6,
   "id": "twelve-sphere",
   "metadata": {},
   "outputs": [
    {
     "data": {
      "text/html": [
       "<div>\n",
       "<style scoped>\n",
       "    .dataframe tbody tr th:only-of-type {\n",
       "        vertical-align: middle;\n",
       "    }\n",
       "\n",
       "    .dataframe tbody tr th {\n",
       "        vertical-align: top;\n",
       "    }\n",
       "\n",
       "    .dataframe thead th {\n",
       "        text-align: right;\n",
       "    }\n",
       "</style>\n",
       "<table border=\"1\" class=\"dataframe\">\n",
       "  <thead>\n",
       "    <tr style=\"text-align: right;\">\n",
       "      <th></th>\n",
       "      <th>count</th>\n",
       "      <th>tot_len</th>\n",
       "    </tr>\n",
       "  </thead>\n",
       "  <tbody>\n",
       "    <tr>\n",
       "      <th>8</th>\n",
       "      <td>2232565.0</td>\n",
       "      <td>238052458.0</td>\n",
       "    </tr>\n",
       "  </tbody>\n",
       "</table>\n",
       "</div>"
      ],
      "text/plain": [
       "       count      tot_len\n",
       "8  2232565.0  238052458.0"
      ]
     },
     "execution_count": 6,
     "metadata": {},
     "output_type": "execute_result"
    }
   ],
   "source": [
    "# filtering (gaps) of the grand unified bed (a.k.a. the final)\n",
    "data[data['source'] == 'final'][[\"count\", \"tot_len\"]]"
   ]
  },
  {
   "cell_type": "markdown",
   "id": "occasional-closure",
   "metadata": {},
   "source": [
    "# TRF annotations"
   ]
  },
  {
   "cell_type": "code",
   "execution_count": 7,
   "id": "consolidated-anaheim",
   "metadata": {},
   "outputs": [],
   "source": [
    "regions = pd.read_csv(\"../data/tr_regions.bed.gz\", sep='\\t', names=[\"chrom\", \"start\", \"end\"])\n",
    "annos = joblib.load(\"../data/tr_annotated.jl\")\n",
    "annos['key'] = annos.apply((lambda x: f\"{x['chrom']}:{x['in_region_start']}-{x['in_region_end']}\"), axis=1)"
   ]
  },
  {
   "cell_type": "code",
   "execution_count": 68,
   "id": "diverse-biology",
   "metadata": {},
   "outputs": [
    {
     "name": "stdout",
     "output_type": "stream",
     "text": [
      "We have a total of 2232565 regions\n",
      "We annotated 1793027 regions\n",
      "With a total of 3298925 annotations...\n",
      "... spanning 191486115bp\n",
      "Annotation percent 80.31%\n"
     ]
    }
   ],
   "source": [
    "region_count = len(regions)\n",
    "anno_count = len(annos['key'].unique())\n",
    "print(f\"We have a total of {region_count} regions\")\n",
    "print(f\"We annotated {anno_count} regions\")\n",
    "print(f\"With a total of {len(annos)} annotations...\")\n",
    "total_anno_span = (annos[\"end\"] - annos[\"start\"]).sum()\n",
    "print(f\"... spanning {total_anno_span}bp\")\n",
    "print(\"Annotation percent %.2f%%\" % (anno_count / region_count * 100))"
   ]
  },
  {
   "cell_type": "code",
   "execution_count": 66,
   "id": "floating-promotion",
   "metadata": {},
   "outputs": [
    {
     "data": {
      "image/png": "[encoded data removed]",
      "text/plain": [
       "<Figure size 432x288 with 1 Axes>"
      ]
     },
     "metadata": {
      "needs_background": "light"
     },
     "output_type": "display_data"
    }
   ],
   "source": [
    "# Number of annotations per-regions\n",
    "\n",
    "annos_per_region = annos.groupby('key').size()\n",
    "labels = [\"1\", \"[2,5)\", \"[5,10)\", \"10+\"]\n",
    "bins = pd.cut(annos_per_region, bins=[1, 2, 5, 10, 200], labels=labels, right=False )\n",
    "view = pd.concat([annos_per_region, bins], axis=1)\n",
    "view.columns = [\"Count\", \"Bin\"]\n",
    "p = sb.countplot(data=view, x=\"Bin\")\n",
    "hide = p.set(title=\"Number of annotations per-region\", xlabel=\"Number of Annotations\", ylabel=\"Region Count\")"
   ]
  },
  {
   "cell_type": "code",
   "execution_count": 25,
   "id": "artificial-trademark",
   "metadata": {},
   "outputs": [
    {
     "name": "stdout",
     "output_type": "stream",
     "text": [
      "We have 773181 regions with more than one TRF entry\n"
     ]
    }
   ],
   "source": [
    "regions_with_gt1 = (annos.groupby('key').size() > 1).sum()\n",
    "print(f\"We have {regions_with_gt1} regions with more than one TRF entry\")"
   ]
  },
  {
   "cell_type": "markdown",
   "id": "aerial-advertising",
   "metadata": {},
   "source": [
    "# Source to regions summary\n",
    "How many of the source's merged.bed regions hit the tr_regions.bed"
   ]
  },
  {
   "cell_type": "code",
   "execution_count": 30,
   "id": "individual-johnson",
   "metadata": {},
   "outputs": [],
   "source": [
    "inter = joblib.load(\"../data/intersection.jl\")"
   ]
  },
  {
   "cell_type": "code",
   "execution_count": 50,
   "id": "amended-notebook",
   "metadata": {},
   "outputs": [],
   "source": [
    "# Counts of intersection\n",
    "summary_of_intersection = inter[inter['intersection'] != 0].groupby(['source', 'ro'])['count'].sum().unstack()"
   ]
  },
  {
   "cell_type": "code",
   "execution_count": 51,
   "id": "included-episode",
   "metadata": {},
   "outputs": [
    {
     "data": {
      "text/html": [
       "<div>\n",
       "<style scoped>\n",
       "    .dataframe tbody tr th:only-of-type {\n",
       "        vertical-align: middle;\n",
       "    }\n",
       "\n",
       "    .dataframe tbody tr th {\n",
       "        vertical-align: top;\n",
       "    }\n",
       "\n",
       "    .dataframe thead th {\n",
       "        text-align: right;\n",
       "    }\n",
       "</style>\n",
       "<table border=\"1\" class=\"dataframe\">\n",
       "  <thead>\n",
       "    <tr style=\"text-align: right;\">\n",
       "      <th></th>\n",
       "      <th>in_tr_regions</th>\n",
       "      <th>in_tr_regions (50%ro)</th>\n",
       "      <th>input_count</th>\n",
       "      <th>pct_in</th>\n",
       "      <th>pct_in(50)</th>\n",
       "    </tr>\n",
       "    <tr>\n",
       "      <th>source</th>\n",
       "      <th></th>\n",
       "      <th></th>\n",
       "      <th></th>\n",
       "      <th></th>\n",
       "      <th></th>\n",
       "    </tr>\n",
       "  </thead>\n",
       "  <tbody>\n",
       "    <tr>\n",
       "      <th>baylor</th>\n",
       "      <td>648439</td>\n",
       "      <td>628584</td>\n",
       "      <td>652137.0</td>\n",
       "      <td>0.994329</td>\n",
       "      <td>0.963883</td>\n",
       "    </tr>\n",
       "    <tr>\n",
       "      <th>giab</th>\n",
       "      <td>1072188</td>\n",
       "      <td>841403</td>\n",
       "      <td>1269585.0</td>\n",
       "      <td>0.844518</td>\n",
       "      <td>0.662739</td>\n",
       "    </tr>\n",
       "    <tr>\n",
       "      <th>pacbio</th>\n",
       "      <td>159535</td>\n",
       "      <td>130816</td>\n",
       "      <td>163355.0</td>\n",
       "      <td>0.976615</td>\n",
       "      <td>0.800808</td>\n",
       "    </tr>\n",
       "    <tr>\n",
       "      <th>ucsd1</th>\n",
       "      <td>1386733</td>\n",
       "      <td>1225317</td>\n",
       "      <td>1738251.0</td>\n",
       "      <td>0.797775</td>\n",
       "      <td>0.704914</td>\n",
       "    </tr>\n",
       "    <tr>\n",
       "      <th>ucsd2</th>\n",
       "      <td>10173</td>\n",
       "      <td>9811</td>\n",
       "      <td>10259.0</td>\n",
       "      <td>0.991617</td>\n",
       "      <td>0.956331</td>\n",
       "    </tr>\n",
       "  </tbody>\n",
       "</table>\n",
       "</div>"
      ],
      "text/plain": [
       "        in_tr_regions  in_tr_regions (50%ro)  input_count    pct_in  \\\n",
       "source                                                                \n",
       "baylor         648439                 628584     652137.0  0.994329   \n",
       "giab          1072188                 841403    1269585.0  0.844518   \n",
       "pacbio         159535                 130816     163355.0  0.976615   \n",
       "ucsd1         1386733                1225317    1738251.0  0.797775   \n",
       "ucsd2           10173                   9811      10259.0  0.991617   \n",
       "\n",
       "        pct_in(50)  \n",
       "source              \n",
       "baylor    0.963883  \n",
       "giab      0.662739  \n",
       "pacbio    0.800808  \n",
       "ucsd1     0.704914  \n",
       "ucsd2     0.956331  "
      ]
     },
     "execution_count": 51,
     "metadata": {},
     "output_type": "execute_result"
    }
   ],
   "source": [
    "input_counts = data[['source', 'kept_count']].copy().set_index(\"source\")\n",
    "input_counts.columns = ['input_count']\n",
    "summary_of_intersection = summary_of_intersection.join(input_counts, how='left')\n",
    "summary_of_intersection.columns = ['in_tr_regions', 'in_tr_regions (50%ro)', 'input_count']\n",
    "\n",
    "summary_of_intersection['pct_in'] = summary_of_intersection['in_tr_regions'] / summary_of_intersection['input_count']\n",
    "summary_of_intersection['pct_in(50)'] = summary_of_intersection['in_tr_regions (50%ro)'] / summary_of_intersection['input_count']\n",
    "summary_of_intersection"
   ]
  },
  {
   "cell_type": "code",
   "execution_count": 49,
   "id": "bright-enclosure",
   "metadata": {},
   "outputs": [],
   "source": [
    "# And I want to do this again but with the annotated hits.\n",
    "# This is harder because merged vs unmerged..."
   ]
  },
  {
   "cell_type": "code",
   "execution_count": null,
   "id": "automotive-supplement",
   "metadata": {},
   "outputs": [],
   "source": [
    "# Separate out regions that don't have annotations\n",
    "# I'd lke to "
   ]
  }
 ],
 "metadata": {
  "kernelspec": {
   "display_name": "Python 3",
   "language": "python",
   "name": "python3"
  },
  "language_info": {
   "codemirror_mode": {
    "name": "ipython",
    "version": 3
   },
   "file_extension": ".py",
   "mimetype": "text/x-python",
   "name": "python",
   "nbconvert_exporter": "python",
   "pygments_lexer": "ipython3",
   "version": "3.7.3"
  }
 },
 "nbformat": 4,
 "nbformat_minor": 5
}
