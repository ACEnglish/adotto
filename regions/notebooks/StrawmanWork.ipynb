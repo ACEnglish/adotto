{
 "cells": [
  {
   "cell_type": "markdown",
   "id": "be28aa9f-2933-492b-a68a-a802faf5ec14",
   "metadata": {},
   "source": [
    "We're finally in a position to start making a benchmark.\n",
    "\n",
    "We have the HPRC HG002 assembly high confidence regions.\n",
    "\n",
    "Let's first play with the seq.som to investigate if the subsets of regions inside the benchmark have a reasonable representation of the sequence space."
   ]
  },
  {
   "cell_type": "code",
   "execution_count": 1,
   "id": "b3378643-efcd-4562-b4eb-803461989cb2",
   "metadata": {},
   "outputs": [],
   "source": [
    "import joblib\n",
    "import pandas as pd\n",
    "import seaborn as sb\n",
    "import matplotlib.pyplot as plt\n",
    "import pickle"
   ]
  },
  {
   "cell_type": "code",
   "execution_count": 4,
   "id": "c7f6e700-dfd9-46f7-a865-62f0989d32bb",
   "metadata": {},
   "outputs": [],
   "source": [
    "seq_som_path = \"/Users/english/code/kmer/seq_som_TRr_v1.0.pkl\"\n",
    "seq_som = pickle.load(open(seq_som_path, 'rb'))"
   ]
  },
  {
   "cell_type": "code",
   "execution_count": null,
   "id": "585d0fea-c357-4275-ae17-dc884686d67a",
   "metadata": {},
   "outputs": [],
   "source": [
    "TRPATH = \"\"\n",
    "all_TRr = pd.read_csv(\""
   ]
  }
 ],
 "metadata": {
  "kernelspec": {
   "display_name": "Python 3 (ipykernel)",
   "language": "python",
   "name": "python3"
  },
  "language_info": {
   "codemirror_mode": {
    "name": "ipython",
    "version": 3
   },
   "file_extension": ".py",
   "mimetype": "text/x-python",
   "name": "python",
   "nbconvert_exporter": "python",
   "pygments_lexer": "ipython3",
   "version": "3.9.6"
  }
 },
 "nbformat": 4,
 "nbformat_minor": 5
}
