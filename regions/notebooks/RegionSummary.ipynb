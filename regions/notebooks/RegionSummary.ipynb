{
 "cells": [
  {
   "cell_type": "code",
   "execution_count": 1,
   "id": "105fde84-ba96-45d4-8da8-018b13d40a47",
   "metadata": {},
   "outputs": [],
   "source": [
    "import pandas as pd\n",
    "import seaborn as sb\n",
    "import matplotlib.pyplot as plt"
   ]
  },
  {
   "cell_type": "code",
   "execution_count": 3,
   "id": "b34b4321-4078-4219-8c97-0c57dacc9f35",
   "metadata": {},
   "outputs": [],
   "source": [
    "data = pd.read_csv(\"../annos/adotto_TRregions_v1.0.gene.bed.gz\", sep='\\t')\n",
    "data.columns = [\"chr\", \"start\", \"end\", \"ovl_flag\", \"up_buff\", \"dn_buff\", \"hom_span\", \"n_filtered\",\n",
    "\"n_annos\", \"n_subregions\", \"mu_purity\", \"pct_annotated\", \"interspersed\", \"patho\", \"codis\", \"gene_flag\",\n",
    "\"biotype\", \"annos\"\n",
    "]"
   ]
  },
  {
   "cell_type": "code",
   "execution_count": 4,
   "id": "8df75879-4d7c-4029-b7b4-29be89ab460a",
   "metadata": {},
   "outputs": [
    {
     "data": {
      "text/plain": [
       "1784803"
      ]
     },
     "execution_count": 4,
     "metadata": {},
     "output_type": "execute_result"
    }
   ],
   "source": [
    "len(data)"
   ]
  },
  {
   "cell_type": "code",
   "execution_count": 6,
   "id": "872c3001-df8e-438b-a8b3-6937f09d5479",
   "metadata": {},
   "outputs": [
    {
     "data": {
      "text/plain": [
       "(237864552, 0.0743326725)"
      ]
     },
     "execution_count": 6,
     "metadata": {},
     "output_type": "execute_result"
    }
   ],
   "source": [
    "span = data['end'] - data['start']\n",
    "span.sum(), span.sum() / 3.2e9"
   ]
  },
  {
   "cell_type": "code",
   "execution_count": 7,
   "id": "6fda2579-f140-45e1-a572-560d33ea4656",
   "metadata": {},
   "outputs": [
    {
     "data": {
      "text/plain": [
       "(167285339, 0.0522766684375)"
      ]
     },
     "execution_count": 7,
     "metadata": {},
     "output_type": "execute_result"
    }
   ],
   "source": [
    "adjusted_start = data['start'] + data['up_buff']\n",
    "adjusted_end = data['end'] - data['dn_buff']\n",
    "adjusted_span = adjusted_end - adjusted_start\n",
    "adjusted_span.sum(), adjusted_span.sum() / 3.2e9"
   ]
  },
  {
   "cell_type": "code",
   "execution_count": null,
   "id": "7a10ad57-b9c7-4df2-9826-fc1ba5c5e466",
   "metadata": {},
   "outputs": [],
   "source": []
  }
 ],
 "metadata": {
  "kernelspec": {
   "display_name": "Python 3 (ipykernel)",
   "language": "python",
   "name": "python3"
  },
  "language_info": {
   "codemirror_mode": {
    "name": "ipython",
    "version": 3
   },
   "file_extension": ".py",
   "mimetype": "text/x-python",
   "name": "python",
   "nbconvert_exporter": "python",
   "pygments_lexer": "ipython3",
   "version": "3.9.6"
  }
 },
 "nbformat": 4,
 "nbformat_minor": 5
}
