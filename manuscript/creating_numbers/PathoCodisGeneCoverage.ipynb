{
 "cells": [
  {
   "cell_type": "markdown",
   "id": "dd18cf80-2cf4-4084-a7f9-7b335cdb8566",
   "metadata": {},
   "source": [
    "For the known pathogenic, codis, and medically relevant genes, ask\n",
    "1) How many there are in the catalog\n",
    "2) How many are in the benchmark\n",
    "3) How many have >=5bp HG002 variants in the benchmark"
   ]
  },
  {
   "cell_type": "code",
   "execution_count": null,
   "id": "27caa5de-bce6-48af-bca3-ba0f74c8357d",
   "metadata": {},
   "outputs": [],
   "source": [
    "import pyranges"
   ]
  },
  {
   "cell_type": "code",
   "execution_count": 16,
   "id": "4f255d44-96a3-4401-960c-8ab60d00ec47",
   "metadata": {},
   "outputs": [],
   "source": [
    "import pandas as pd\n",
    "\n",
    "catalog = pd.read_csv(\"/Users/english/code/adotto/regions/adotto_TRregions_v1.2.bed\", sep='\\t')\n",
    "catalog.set_index(['chr', 'start', 'end'], inplace=True)\n",
    "benchmark = pd.read_csv(\"/Users/english/code/adotto/benchmark/GIABTR_benchmark.6.26/GIABTR.HG002.benchmark.regions.bed.gz\",\n",
    "                        sep='\\t', names=['chr', 'start', 'end', 'tier', 'repl', 'var_state', 'entropy', 'mat_ad', 'pat_ad'])\n",
    "benchmark.set_index(['chr', 'start', 'end'], inplace=True)"
   ]
  },
  {
   "cell_type": "code",
   "execution_count": 17,
   "id": "1729864b-fcff-437f-ba13-886b99b1ad73",
   "metadata": {},
   "outputs": [],
   "source": [
    "data = benchmark.join(catalog)"
   ]
  },
  {
   "cell_type": "code",
   "execution_count": 18,
   "id": "ea8d417f-3e21-4124-a7d3-f05694725d36",
   "metadata": {},
   "outputs": [],
   "source": [
    "cat_in_cmg = pd.read_csv(\"catalog_hitting_mrg.bed\", sep='\\t',\n",
    "                    names=['chr', 'start', 'end', 'gchr', 'gstart', 'gend', 'gene', 'ovl']).set_index(['chr', 'start', 'end'])"
   ]
  },
  {
   "cell_type": "code",
   "execution_count": 19,
   "id": "030c6300-2c9c-47ef-b2c3-704f11355400",
   "metadata": {},
   "outputs": [],
   "source": [
    "patho_meta = pd.read_csv(\"/Users/english/code/adotto/pathogenic/Patho.tsv\", sep='\\t')"
   ]
  },
  {
   "cell_type": "code",
   "execution_count": 20,
   "id": "a5c88142-f8a2-4236-ba6a-76bd73d0f108",
   "metadata": {},
   "outputs": [],
   "source": [
    "ph_subset_c = catalog['patho'].isin(patho_meta[patho_meta['Repeat type'] == 'VNTR']['Locus'])\n",
    "pheno = catalog[ph_subset_c]\n",
    "bench_pheno = data[data['patho'].isin(patho_meta[patho_meta['Repeat type'] == 'VNTR']['Locus'])]\n",
    "\n",
    "pa_subset = catalog['patho'].isin(patho_meta[patho_meta['Repeat type'] != 'VNTR']['Locus'])\n",
    "patho = catalog[pa_subset]\n",
    "bench_patho = data[data['patho'].isin(patho_meta[patho_meta['Repeat type'] != 'VNTR']['Locus'])]\n",
    "\n",
    "codis = catalog[catalog['codis'] != '.']\n",
    "bench_codis = data[data['codis'] != '.']\n",
    "\n",
    "gene = pd.read_csv(\"GRCh38_mrg_full_gene.bed\", sep='\\t', names=['chr', 'start', 'end', 'gene'])\n",
    "has_hit_cmg = cat_in_cmg[cat_in_cmg['gchr'] != '.']\n",
    "bench_gene = data[data.index.isin(has_hit_cmg.index)]"
   ]
  },
  {
   "cell_type": "code",
   "execution_count": 21,
   "id": "d56d35ef-e191-40cb-b60d-cf484523ff3a",
   "metadata": {},
   "outputs": [],
   "source": [
    "def make_summary(d_bare, d_bench):\n",
    "    \"\"\"\n",
    "    Okay, we gotta turn this into a table. Its too many numbers.\n",
    "    Columns:\n",
    "    - N : Total number of items there are (*on MRG as it'll have 1->N Gene to TRs\n",
    "    - benchmark : Total number of items in benchmark\n",
    "    - Tier1 count :\n",
    "    - HG002 >=5bp Variant :\n",
    "    - Non-HG002 >=5bp Variant :\n",
    "    \"\"\"\n",
    "    ret = d_bench['tier'].value_counts()\n",
    "    ret['N'] = len(d_bare)\n",
    "    ret['benchmark'] = len(d_bench)\n",
    "    ret['HG002 >=5bp'] = (d_bench['var_state'].apply(lambda x: (x & 0x1) != 0)).sum()\n",
    "    ret['Other >=5bp'] = (d_bench['var_state'].apply(lambda x: (x & 0x4) != 0)).sum()\n",
    "    return ret\n",
    "    \n",
    "    "
   ]
  },
  {
   "cell_type": "code",
   "execution_count": 22,
   "id": "8d879ada-e005-4d87-9531-4f06e73cc4eb",
   "metadata": {},
   "outputs": [],
   "source": [
    "p_summary = make_summary(patho, bench_patho)\n",
    "p_summary.name = \"Pathogenic\"\n",
    "c_summary = make_summary(codis, bench_codis)\n",
    "c_summary.name = \"CODIS\"\n",
    "g_summary = make_summary(has_hit_cmg, bench_gene)\n",
    "g_summary.name = \"MRG\"\n",
    "a_summary = make_summary(pheno, bench_pheno)\n",
    "a_summary.name = \"Phenotypic\"\n",
    "\n",
    "\n",
    "summary = pd.concat([p_summary, c_summary, g_summary, a_summary], axis=1).T"
   ]
  },
  {
   "cell_type": "code",
   "execution_count": 23,
   "id": "0209a3f4-9cac-4aae-bbef-252bf120acfe",
   "metadata": {},
   "outputs": [
    {
     "data": {
      "text/html": [
       "<div>\n",
       "<style scoped>\n",
       "    .dataframe tbody tr th:only-of-type {\n",
       "        vertical-align: middle;\n",
       "    }\n",
       "\n",
       "    .dataframe tbody tr th {\n",
       "        vertical-align: top;\n",
       "    }\n",
       "\n",
       "    .dataframe thead th {\n",
       "        text-align: right;\n",
       "    }\n",
       "</style>\n",
       "<table border=\"1\" class=\"dataframe\">\n",
       "  <thead>\n",
       "    <tr style=\"text-align: right;\">\n",
       "      <th></th>\n",
       "      <th>N</th>\n",
       "      <th>benchmark</th>\n",
       "      <th>Tier1</th>\n",
       "      <th>Tier2</th>\n",
       "      <th>HG002 &gt;=5bp</th>\n",
       "      <th>Other &gt;=5bp</th>\n",
       "    </tr>\n",
       "  </thead>\n",
       "  <tbody>\n",
       "    <tr>\n",
       "      <th>Pathogenic</th>\n",
       "      <td>62</td>\n",
       "      <td>50</td>\n",
       "      <td>43</td>\n",
       "      <td>7</td>\n",
       "      <td>25</td>\n",
       "      <td>42</td>\n",
       "    </tr>\n",
       "    <tr>\n",
       "      <th>CODIS</th>\n",
       "      <td>51</td>\n",
       "      <td>44</td>\n",
       "      <td>26</td>\n",
       "      <td>18</td>\n",
       "      <td>25</td>\n",
       "      <td>44</td>\n",
       "    </tr>\n",
       "    <tr>\n",
       "      <th>MRG</th>\n",
       "      <td>299633</td>\n",
       "      <td>289964</td>\n",
       "      <td>278225</td>\n",
       "      <td>11739</td>\n",
       "      <td>17201</td>\n",
       "      <td>49219</td>\n",
       "    </tr>\n",
       "    <tr>\n",
       "      <th>Phenotypic</th>\n",
       "      <td>113</td>\n",
       "      <td>111</td>\n",
       "      <td>108</td>\n",
       "      <td>3</td>\n",
       "      <td>49</td>\n",
       "      <td>89</td>\n",
       "    </tr>\n",
       "  </tbody>\n",
       "</table>\n",
       "</div>"
      ],
      "text/plain": [
       "                 N  benchmark   Tier1  Tier2  HG002 >=5bp  Other >=5bp\n",
       "Pathogenic      62         50      43      7           25           42\n",
       "CODIS           51         44      26     18           25           44\n",
       "MRG         299633     289964  278225  11739        17201        49219\n",
       "Phenotypic     113        111     108      3           49           89"
      ]
     },
     "execution_count": 23,
     "metadata": {},
     "output_type": "execute_result"
    }
   ],
   "source": [
    "summary[[\"N\", \"benchmark\", \"Tier1\", \"Tier2\", \"HG002 >=5bp\", \"Other >=5bp\"]]"
   ]
  },
  {
   "cell_type": "code",
   "execution_count": 24,
   "id": "acf0c080-6246-4fa0-a351-867f2ab57bcd",
   "metadata": {},
   "outputs": [],
   "source": [
    "has_hit_cmg = cat_in_cmg[cat_in_cmg['gchr'] != '.']"
   ]
  },
  {
   "cell_type": "code",
   "execution_count": 25,
   "id": "6d251b3d-2c16-4d2e-90c8-75753c60e264",
   "metadata": {},
   "outputs": [
    {
     "data": {
      "text/plain": [
       "Pathogenic    0.806452\n",
       "CODIS         0.862745\n",
       "MRG           0.967731\n",
       "Phenotypic    0.982301\n",
       "dtype: float64"
      ]
     },
     "execution_count": 25,
     "metadata": {},
     "output_type": "execute_result"
    }
   ],
   "source": [
    "summary['benchmark'] / summary['N']"
   ]
  },
  {
   "cell_type": "code",
   "execution_count": 26,
   "id": "c07b79d3-6e28-4703-bfa1-588fc6cc7eb0",
   "metadata": {},
   "outputs": [
    {
     "data": {
      "text/plain": [
       "Pathogenic    0.860000\n",
       "CODIS         0.590909\n",
       "MRG           0.959516\n",
       "Phenotypic    0.972973\n",
       "dtype: float64"
      ]
     },
     "execution_count": 26,
     "metadata": {},
     "output_type": "execute_result"
    }
   ],
   "source": [
    "summary['Tier1'] / summary['benchmark']"
   ]
  },
  {
   "cell_type": "code",
   "execution_count": 45,
   "id": "86a61094-5977-4159-bac0-ea03468dc0b3",
   "metadata": {},
   "outputs": [
    {
     "name": "stdout",
     "output_type": "stream",
     "text": [
      "Patho: 50\n",
      "CODIS: 44\n",
      "CMG: 289964\n"
     ]
    }
   ],
   "source": [
    "print(\"Patho:\", (data['patho'] != '.').sum())\n",
    "print(\"CODIS:\", (data['codis'] != '.').sum())\n",
    "print(\"CMG:\", data.index.isin(has_hit_cmg.index).sum())"
   ]
  },
  {
   "cell_type": "code",
   "execution_count": 46,
   "id": "06f35bc1-e0a0-4573-a510-dc6fa086c5fe",
   "metadata": {},
   "outputs": [
    {
     "name": "stdout",
     "output_type": "stream",
     "text": [
      "0.8064516129032258\n",
      "0.8627450980392157\n",
      "0.9677305236739612\n"
     ]
    }
   ],
   "source": [
    "print(50 / 62)\n",
    "print(44 / 51)\n",
    "print(289964 / 299633)"
   ]
  },
  {
   "cell_type": "code",
   "execution_count": 21,
   "id": "41087e04-8e82-4724-abe9-678c8caa12e8",
   "metadata": {},
   "outputs": [
    {
     "data": {
      "text/plain": [
       "Index(['tier', 'repl', 'var_state', 'entropy', 'mat_ad', 'pat_ad', 'ovl_flag',\n",
       "       'up_buff', 'dn_buff', 'hom_pct', 'n_filtered', 'n_annos',\n",
       "       'n_subregions', 'mu_purity', 'pct_annotated', 'interspersed', 'patho',\n",
       "       'codis', 'gene_flag', 'biotype', 'annos'],\n",
       "      dtype='object')"
      ]
     },
     "execution_count": 21,
     "metadata": {},
     "output_type": "execute_result"
    }
   ],
   "source": [
    "data.columns"
   ]
  },
  {
   "cell_type": "code",
   "execution_count": 22,
   "id": "bc5436dd-e7af-4636-8f0b-fe2a37735bf2",
   "metadata": {},
   "outputs": [
    {
     "name": "stdout",
     "output_type": "stream",
     "text": [
      "Patho: Tier1    42\n",
      "Tier2     8\n",
      "Name: tier, dtype: int64\n"
     ]
    }
   ],
   "source": [
    "print(\"Patho:\", data[data['patho'] != '.']['tier'].value_counts())\n"
   ]
  },
  {
   "cell_type": "code",
   "execution_count": 23,
   "id": "9caacfb8-7776-4526-9569-bd7b5a9966df",
   "metadata": {},
   "outputs": [
    {
     "name": "stdout",
     "output_type": "stream",
     "text": [
      "CODIS: Tier1    26\n",
      "Tier2    18\n",
      "Name: tier, dtype: int64\n"
     ]
    }
   ],
   "source": [
    "print(\"CODIS:\", data[data['codis'] != '.']['tier'].value_counts())\n"
   ]
  },
  {
   "cell_type": "code",
   "execution_count": 47,
   "id": "5d35170c-295d-451e-a86b-6c43693ee878",
   "metadata": {},
   "outputs": [
    {
     "name": "stdout",
     "output_type": "stream",
     "text": [
      "CMG: Tier1    278225\n",
      "Tier2     11739\n",
      "Name: tier, dtype: int64\n"
     ]
    }
   ],
   "source": [
    "print(\"CMG:\", data[data.index.isin(has_hit_cmg.index)]['tier'].value_counts())"
   ]
  },
  {
   "cell_type": "code",
   "execution_count": 48,
   "id": "dffd6869-2ded-4d17-bb8e-7849ababd077",
   "metadata": {},
   "outputs": [
    {
     "data": {
      "text/plain": [
       "0.9595156640134638"
      ]
     },
     "execution_count": 48,
     "metadata": {},
     "output_type": "execute_result"
    }
   ],
   "source": [
    "278225 / (278225 + 11739)"
   ]
  },
  {
   "cell_type": "code",
   "execution_count": 16,
   "id": "a7f9524e-4779-4281-bea9-28f5d93b0bbb",
   "metadata": {},
   "outputs": [
    {
     "data": {
      "text/plain": [
       "13    15\n",
       "12    11\n",
       "15     9\n",
       "8      8\n",
       "14     5\n",
       "10     2\n",
       "Name: var_state, dtype: int64"
      ]
     },
     "execution_count": 16,
     "metadata": {},
     "output_type": "execute_result"
    }
   ],
   "source": [
    "data[data['patho'] != '.']['var_state'].value_counts()"
   ]
  },
  {
   "cell_type": "code",
   "execution_count": 17,
   "id": "a0c4f524-133a-4766-a398-3005e09076cd",
   "metadata": {},
   "outputs": [
    {
     "data": {
      "text/plain": [
       "14    14\n",
       "15    13\n",
       "13    11\n",
       "12     5\n",
       "5      1\n",
       "Name: var_state, dtype: int64"
      ]
     },
     "execution_count": 17,
     "metadata": {},
     "output_type": "execute_result"
    }
   ],
   "source": [
    "data[data['codis'] != '.']['var_state'].value_counts()"
   ]
  },
  {
   "cell_type": "code",
   "execution_count": 18,
   "id": "b7326d6e-0968-448d-b924-0d1507b89fb4",
   "metadata": {},
   "outputs": [],
   "source": [
    "cat_view = data[data.index.isin(cat_in_cmg.index)]"
   ]
  },
  {
   "cell_type": "code",
   "execution_count": 19,
   "id": "47875f23-3a2f-4764-a2f5-65ea7fbee3a7",
   "metadata": {},
   "outputs": [
    {
     "data": {
      "text/plain": [
       "8     115442\n",
       "0      83822\n",
       "10     40516\n",
       "14     15774\n",
       "12     13520\n",
       "15      9720\n",
       "13      6610\n",
       "4       2569\n",
       "5        754\n",
       "2        159\n",
       "11        26\n",
       "9         17\n",
       "6          7\n",
       "1          4\n",
       "7          1\n",
       "Name: var_state, dtype: int64"
      ]
     },
     "execution_count": 19,
     "metadata": {},
     "output_type": "execute_result"
    }
   ],
   "source": [
    "cat_view['var_state'].value_counts()"
   ]
  },
  {
   "cell_type": "markdown",
   "id": "0990254b-93d2-486e-a680-095eaddb3336",
   "metadata": {},
   "source": [
    "Okay, we gotta turn this into a table. Its too many numbers.\n",
    "\n",
    "Columns:\n",
    "- Site : Pathogenic, CODIS, MRG\n",
    "- N : Total number of items there are (*on MRG as it'll have 1->N Gene to TRs\n",
    "- benchmark : Total number of items in benchmark\n",
    "- Tier1 count :\n",
    "- HG002 >=5bp Variant :\n",
    "- Non-HG002 >=5bp Variant :"
   ]
  },
  {
   "cell_type": "code",
   "execution_count": 68,
   "id": "aab46ff1-6aa0-41a0-aa18-3ed54b84c1d0",
   "metadata": {},
   "outputs": [],
   "source": [
    "# How many mrg have variants\n",
    "view = data[data.index.isin(has_hit_cmg.index)]"
   ]
  },
  {
   "cell_type": "code",
   "execution_count": 69,
   "id": "c7faaa78-53e7-4b8f-bd62-b4e6962db311",
   "metadata": {},
   "outputs": [
    {
     "data": {
      "text/plain": [
       "8     115897\n",
       "0      84002\n",
       "10     40639\n",
       "14     15856\n",
       "12     13627\n",
       "15      9751\n",
       "13      6644\n",
       "4       2576\n",
       "5        757\n",
       "2        159\n",
       "11        26\n",
       "9         18\n",
       "6          7\n",
       "1          4\n",
       "7          1\n",
       "Name: var_state, dtype: int64"
      ]
     },
     "execution_count": 69,
     "metadata": {},
     "output_type": "execute_result"
    }
   ],
   "source": [
    "view['var_state'].value_counts()"
   ]
  },
  {
   "cell_type": "code",
   "execution_count": 71,
   "id": "4623b4a2-4694-406b-a6f6-21031144d411",
   "metadata": {},
   "outputs": [],
   "source": [
    "view = data.join(has_hit_cmg)"
   ]
  },
  {
   "cell_type": "code",
   "execution_count": 91,
   "id": "52822a84-ec8b-4a19-a965-ca7472f2fdcc",
   "metadata": {},
   "outputs": [
    {
     "name": "stdout",
     "output_type": "stream",
     "text": [
      "Number of genes with >=5bp benchmark variant 4163\n"
     ]
    }
   ],
   "source": [
    "v2 = view.groupby('gene')['var_state'].value_counts()\n",
    "v2.name = 'count'\n",
    "v2 = v2.reset_index()\n",
    "want_states = v2['var_state'].apply(lambda x: x & 0x2 != 0)\n",
    "result = v2[want_states].groupby('gene')['count'].sum()\n",
    "print(\"Number of genes with >=5bp benchmark variant\", len(result))\n",
    "print(\"median\", result.median())"
   ]
  },
  {
   "cell_type": "code",
   "execution_count": 90,
   "id": "5f6ec171-0a62-4fb7-8671-c285513a5175",
   "metadata": {},
   "outputs": [
    {
     "name": "stdout",
     "output_type": "stream",
     "text": [
      "Number of genes with >=5bp T1 benchmark variant 3956\n"
     ]
    }
   ],
   "source": [
    "v2 = view[view['tier'] == 'Tier1'].groupby('gene')['var_state'].value_counts()\n",
    "v2.name = 'count'\n",
    "v2 = v2.reset_index()\n",
    "want_states = v2['var_state'].apply(lambda x: x & 0x2 != 0)\n",
    "result = v2[want_states].groupby('gene')['count'].sum()\n",
    "print(\"Number of genes with >=5bp T1 benchmark variant\", len(result))"
   ]
  },
  {
   "cell_type": "code",
   "execution_count": 93,
   "id": "2509cba3-7a9e-4576-a1aa-31389cf0b396",
   "metadata": {},
   "outputs": [
    {
     "data": {
      "text/plain": [
       "7.0"
      ]
     },
     "execution_count": 93,
     "metadata": {},
     "output_type": "execute_result"
    }
   ],
   "source": [
    "result.median()"
   ]
  },
  {
   "cell_type": "code",
   "execution_count": 96,
   "id": "0e972274-009a-4653-a155-b1f29b53bb9b",
   "metadata": {},
   "outputs": [
    {
     "data": {
      "text/plain": [
       "__TN    8\n",
       "Name: repl, dtype: int64"
      ]
     },
     "execution_count": 96,
     "metadata": {},
     "output_type": "execute_result"
    }
   ],
   "source": [
    "bench_patho[bench_patho['tier'] == 'Tier2']['repl'].value_counts()"
   ]
  },
  {
   "cell_type": "code",
   "execution_count": 98,
   "id": "731def9f-5069-4425-aea2-fe09f66b076e",
   "metadata": {},
   "outputs": [
    {
     "data": {
      "text/plain": [
       "__TN           17\n",
       "TN_FN,FP_TN     1\n",
       "Name: repl, dtype: int64"
      ]
     },
     "execution_count": 98,
     "metadata": {},
     "output_type": "execute_result"
    }
   ],
   "source": [
    "bench_codis[bench_codis['tier'] == 'Tier2']['repl'].value_counts()"
   ]
  },
  {
   "cell_type": "code",
   "execution_count": 100,
   "id": "2f4ceecc-8b73-45ff-9b7a-c73357bb327e",
   "metadata": {},
   "outputs": [
    {
     "data": {
      "text/plain": [
       "__TN              11240\n",
       "TN_TN_TP            104\n",
       "FP_FP_TN             75\n",
       "TP_TP_TN             53\n",
       "TP_FP_TP             49\n",
       "FP_TP_TP             49\n",
       "FN_FN_TP             45\n",
       "TP_TP_FN,FP          41\n",
       "_FP_TN               26\n",
       "TP_TP_FN             25\n",
       "__TP                 22\n",
       "FN,FP_FN,FP_TP       18\n",
       "FP__TN               16\n",
       "TP_TP_FP             16\n",
       "TP_TN_TP             13\n",
       "TN_TP_TP             11\n",
       "FP_FP_TP             10\n",
       "TN_TN_FP              8\n",
       "FN_FN,FP_TP           8\n",
       "FN,FP_FN_TP           8\n",
       "FP_FN,FP_TP           6\n",
       "TN_TN_FN,FP           6\n",
       "TN_TP_TN              5\n",
       "TN_TN_FN              5\n",
       "TP_TN_TN              4\n",
       "FN_FP_TP              4\n",
       "_TN_TP                3\n",
       "_FN_TP                3\n",
       "_FP_TP                3\n",
       "__FN                  3\n",
       "FP__TP                2\n",
       "_TP_FN                2\n",
       "_FN,FP_TP             2\n",
       "FP_FN_TP              2\n",
       "FN,FP_FP_TP           2\n",
       "_TP_TN                2\n",
       "FN,FP_TN_TN           1\n",
       "__FP                  1\n",
       "TN_TN_UNK             1\n",
       "FN,FP_TP_FP           1\n",
       "FP_TP_FN              1\n",
       "FN_FN_FP              1\n",
       "TP_FP_FN,FP           1\n",
       "TN_FP_FN              1\n",
       "FP_TN_TP              1\n",
       "FN_FN_TN              1\n",
       "FN,FP__TP             1\n",
       "TP__FP                1\n",
       "TP_FN,FP_FN,FP        1\n",
       "Name: repl, dtype: int64"
      ]
     },
     "execution_count": 100,
     "metadata": {},
     "output_type": "execute_result"
    }
   ],
   "source": [
    "view[~view['gene'].isna() & (view['tier'] == \"Tier2\")]['repl'].value_counts()"
   ]
  },
  {
   "cell_type": "code",
   "execution_count": 101,
   "id": "0ae87332-64e4-4a25-83a7-cfe5ed5ee674",
   "metadata": {},
   "outputs": [],
   "source": [
    "# Nevertheless, N% of these benchmark regions of interest containing HG002 ≥5bp variants remain Tier1\n"
   ]
  },
  {
   "cell_type": "code",
   "execution_count": 103,
   "id": "da33a2d9-b47b-4024-8770-839d984c33d4",
   "metadata": {},
   "outputs": [],
   "source": [
    "m_view = pd.concat([bench_codis, bench_patho, bench_gene])"
   ]
  },
  {
   "cell_type": "code",
   "execution_count": 106,
   "id": "4d537f25-63c6-44a2-a04e-5c1c8882fa5b",
   "metadata": {},
   "outputs": [
    {
     "name": "stdout",
     "output_type": "stream",
     "text": [
      "290058\n"
     ]
    }
   ],
   "source": [
    "print(len(m_view))"
   ]
  },
  {
   "cell_type": "code",
   "execution_count": 109,
   "id": "30354892-543b-4848-a82c-92e76b3e95e9",
   "metadata": {},
   "outputs": [
    {
     "name": "stdout",
     "output_type": "stream",
     "text": [
      "290008\n"
     ]
    }
   ],
   "source": [
    "m_view = m_view.reset_index().sort_values(by=['chr', \"start\", \"end\"]).drop_duplicates(subset=['chr', \"start\", \"end\"])\n",
    "print(len(m_view))"
   ]
  },
  {
   "cell_type": "code",
   "execution_count": 110,
   "id": "7e0da51f-8aae-4c50-878e-95cecfb1bd84",
   "metadata": {},
   "outputs": [],
   "source": [
    "isHG002_5bpvariant = m_view['var_state'].apply(lambda x: (x & 0x2) != 0)\n",
    "isTier1 = m_view['tier'] == \"Tier1\""
   ]
  },
  {
   "cell_type": "code",
   "execution_count": 111,
   "id": "4944f87b-629d-47fa-8f25-2f31b0386427",
   "metadata": {},
   "outputs": [
    {
     "name": "stdout",
     "output_type": "stream",
     "text": [
      "64386 66465 0.9687203791469194\n"
     ]
    }
   ],
   "source": [
    "denom = isHG002_5bpvariant.sum()\n",
    "neum = (isHG002_5bpvariant & isTier1).sum()\n",
    "print(neum, denom, neum / denom)"
   ]
  },
  {
   "cell_type": "code",
   "execution_count": null,
   "id": "58021b30-5f47-4b7c-9206-04f58fb77201",
   "metadata": {},
   "outputs": [],
   "source": []
  }
 ],
 "metadata": {
  "kernelspec": {
   "display_name": "Python 3 (ipykernel)",
   "language": "python",
   "name": "python3"
  },
  "language_info": {
   "codemirror_mode": {
    "name": "ipython",
    "version": 3
   },
   "file_extension": ".py",
   "mimetype": "text/x-python",
   "name": "python",
   "nbconvert_exporter": "python",
   "pygments_lexer": "ipython3",
   "version": "3.9.6"
  }
 },
 "nbformat": 4,
 "nbformat_minor": 5
}
