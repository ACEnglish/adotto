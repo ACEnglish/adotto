{
 "cells": [
  {
   "cell_type": "code",
   "execution_count": 2,
   "id": "550ebc8a-038c-4326-ac32-a2686e706c80",
   "metadata": {},
   "outputs": [],
   "source": [
    "import json\n",
    "import pandas as pd\n",
    "import seaborn as sb\n",
    "import matplotlib.pyplot as plt\n",
    "import sys\n",
    "import matplotlib as mpl\n",
    "mpl.rcParams['pdf.fonttype'] = 42\n",
    "sb.set_style(rc={\"pdf.fonttype\": 42})"
   ]
  },
  {
   "cell_type": "code",
   "execution_count": 3,
   "id": "20a658d9-866f-464f-af03-2ab9fe436b21",
   "metadata": {},
   "outputs": [],
   "source": [
    "catalog = pd.read_csv(\"/Users/english/code/adotto/regions/adotto_TRregions_v1.2.bed\", sep='\\t')\n",
    "catalog.set_index(['chr', 'start', 'end'], inplace=True)\n",
    "benchmark = pd.read_csv(\"/Users/english/code/adotto/benchmark/GIABTR_benchmark.6.26/GIABTR.HG002.benchmark.regions.bed.gz\",\n",
    "                        sep='\\t', names=['chr', 'start', 'end', 'tier', 'repl', 'var_state', 'entropy', 'mat_ad', 'pat_ad'])\n",
    "benchmark.set_index(['chr', 'start', 'end'], inplace=True)"
   ]
  },
  {
   "cell_type": "code",
   "execution_count": 4,
   "id": "98daba25-0334-4432-af25-261527d017cf",
   "metadata": {},
   "outputs": [
    {
     "data": {
      "text/plain": [
       "(1784804, 1706853, 0.9563251763218819)"
      ]
     },
     "execution_count": 4,
     "metadata": {},
     "output_type": "execute_result"
    }
   ],
   "source": [
    "len(catalog), len(benchmark), len(benchmark) / len(catalog)"
   ]
  },
  {
   "cell_type": "code",
   "execution_count": 5,
   "id": "c3d67495-cc97-4bc7-8924-e8676b85cb26",
   "metadata": {},
   "outputs": [],
   "source": [
    "def get_max_motif(x):\n",
    "    d = json.loads(x)\n",
    "    return max([_['period'] for _ in d])\n",
    "\n",
    "data = benchmark[benchmark['tier'] == \"Tier1\"]\n",
    "data = data.join(catalog)\n",
    "\n",
    "data['is_inter'] = data['interspersed'] != '.'\n",
    "\n",
    "data['max_motif'] = data['annos'].apply(get_max_motif)\n",
    "data['motif_length_bin'] = pd.cut(data['max_motif'], bins=[2, 8, 20, 50, 100, sys.maxsize], right=False, \n",
    "              labels=[\"[2, 8)\", \"[8, 20)\", \"[20,50)\", \"[50, 100)\", \"≥100\"])\n",
    "data['max_delta'] = data[['mat_ad','pat_ad']].max(axis=1)\n",
    "hg002_subset = data['var_state'].apply(lambda x: x & 0x1) != 0\n",
    "\n",
    "real_deltas = pd.read_csv(\"n_ad.txt\", sep='\\t', names=[\"chr\", \"start\", \"end\", \"delta\"]).set_index(['chr', 'start', 'end'])\n",
    "data['real_delta'] = real_deltas\n",
    "data['approx_copies'] = data['real_delta'] / data['max_motif']"
   ]
  },
  {
   "cell_type": "code",
   "execution_count": 7,
   "id": "fcaaf95e-bbab-4b56-85e0-7bee562ff436",
   "metadata": {},
   "outputs": [
    {
     "data": {
      "text/plain": [
       "93693"
      ]
     },
     "execution_count": 7,
     "metadata": {},
     "output_type": "execute_result"
    }
   ],
   "source": [
    "len(data[hg002_subset & (~data['is_inter'])])"
   ]
  },
  {
   "cell_type": "code",
   "execution_count": 6,
   "id": "754da1d9-ccbe-41c9-88d1-19fef871ef1e",
   "metadata": {},
   "outputs": [
    {
     "name": "stderr",
     "output_type": "stream",
     "text": [
      "/Users/english/py/lib/python3.9/site-packages/seaborn/categorical.py:641: FutureWarning: The default of observed=False is deprecated and will be changed to True in a future version of pandas. Pass observed=False to retain current behavior or observed=True to adopt the future default and silence this warning.\n",
      "  grouped_vals = vals.groupby(grouper)\n"
     ]
    },
    {
     "data": {
      "image/png": "[encoded data removed]",
      "text/plain": [
       "<Figure size 640x480 with 1 Axes>"
      ]
     },
     "metadata": {},
     "output_type": "display_data"
    }
   ],
   "source": [
    "p = sb.boxplot(data=data[hg002_subset & (~data['is_inter'])], x = \"motif_length_bin\", y=\"max_delta\", showfliers=False)\n",
    "p.set(title=\"TR benchmark allele delta\",\n",
    "     xlabel=\"Motif Length (bp)\",\n",
    "     ylabel=\"Maximum Allele Delta\")\n",
    "plt.savefig(\"Figure2C.pdf\")"
   ]
  },
  {
   "cell_type": "code",
   "execution_count": 6,
   "id": "7c3d38ac-06e2-4088-b67a-729dac23f2f0",
   "metadata": {},
   "outputs": [],
   "source": [
    "# There's a general trend that longer motifs create longer expansions/contractions of the region"
   ]
  },
  {
   "cell_type": "code",
   "execution_count": 7,
   "id": "d17ab24a-dd9a-40ea-9eb7-ec8fdcba30f4",
   "metadata": {},
   "outputs": [],
   "source": [
    "from scipy.stats import spearmanr, pearsonr"
   ]
  },
  {
   "cell_type": "code",
   "execution_count": 8,
   "id": "b313aac3-22e8-406f-b412-8d49a648f28b",
   "metadata": {},
   "outputs": [
    {
     "name": "stdout",
     "output_type": "stream",
     "text": [
      "PearsonRResult(statistic=0.15434867208318914, pvalue=0.0)\n",
      "PearsonRResult(statistic=0.16534644662267095, pvalue=0.0)\n"
     ]
    }
   ],
   "source": [
    "view = data[hg002_subset & ~data['is_inter']]\n",
    "print(pearsonr(view['max_delta'], view['max_motif']))\n",
    "print(pearsonr(view['max_delta'], view['motif_length_bin'].cat.codes))"
   ]
  },
  {
   "cell_type": "code",
   "execution_count": 9,
   "id": "75b174a5-02bc-4b7b-8afe-45e0f540b212",
   "metadata": {},
   "outputs": [
    {
     "data": {
      "text/plain": [
       "SignificanceResult(statistic=0.26935056111555483, pvalue=0.0)"
      ]
     },
     "execution_count": 9,
     "metadata": {},
     "output_type": "execute_result"
    }
   ],
   "source": [
    "view = data[hg002_subset & ~data['is_inter']]\n",
    "spearmanr(view['max_delta'], view['max_motif'])"
   ]
  },
  {
   "cell_type": "code",
   "execution_count": 10,
   "id": "0495fa68-1b5e-4598-8f7b-6bda8f61ddef",
   "metadata": {},
   "outputs": [
    {
     "data": {
      "text/plain": [
       "SignificanceResult(statistic=0.3318853734563183, pvalue=0.0)"
      ]
     },
     "execution_count": 10,
     "metadata": {},
     "output_type": "execute_result"
    }
   ],
   "source": [
    "view = data[hg002_subset & ~data['is_inter']]\n",
    "spearmanr(view['max_delta'], view['motif_length_bin'].cat.codes)"
   ]
  },
  {
   "cell_type": "code",
   "execution_count": 11,
   "id": "7dbf6b2d-aa89-4f6a-93e8-30dff6da557c",
   "metadata": {},
   "outputs": [
    {
     "name": "stdout",
     "output_type": "stream",
     "text": [
      "48286 45377\n"
     ]
    }
   ],
   "source": [
    "print((data[hg002_subset & (~data['is_inter'])]['approx_copies'] > 0).sum(),\n",
    "      (data[hg002_subset & (~data['is_inter'])]['approx_copies'] < 0).sum())"
   ]
  },
  {
   "cell_type": "code",
   "execution_count": 12,
   "id": "5f205a43-3933-4df3-878f-710838ed30d6",
   "metadata": {},
   "outputs": [
    {
     "data": {
      "image/png": "[encoded data removed]",
      "text/plain": [
       "<Figure size 640x480 with 1 Axes>"
      ]
     },
     "metadata": {},
     "output_type": "display_data"
    }
   ],
   "source": [
    "def copy_rounder(x):\n",
    "    sign = -1 if x < 0 else 1\n",
    "    mabs = abs(x)\n",
    "    if mabs < 1:\n",
    "        return sign * 1\n",
    "    if mabs > 30:\n",
    "        return sign * 31\n",
    "    return round(x)\n",
    "data['round_copies'] = data['approx_copies'].apply(copy_rounder)\n",
    "\n",
    "view = data[hg002_subset & (~data['is_inter'])]\n",
    "p = sb.histplot(data=view, \n",
    "                x='round_copies', hue=\"motif_length_bin\", \n",
    "                multiple='stack', \n",
    "                binwidth=1)\n",
    "#plt.xticks(ha='right')\n",
    "p.set(yscale='log', title=\"TR benchmark HG002 copy number\",\n",
    "     xlabel=\"Approx. Copy Number\",\n",
    "     ylabel=\"TR Count (log)\", \n",
    "      xlim=(-31.5, 31.5))\n",
    "_ = sb.move_legend(\n",
    "    p, \"upper left\",\n",
    "    bbox_to_anchor=(1, 1), ncol=1, title=\"Motif Length\", frameon=False,\n",
    ")\n",
    "plt.tight_layout()\n",
    "plt.savefig(\"Figure2D.pdf\")"
   ]
  },
  {
   "cell_type": "code",
   "execution_count": 24,
   "id": "43e47375-7567-4f90-a359-62cb6a8f2858",
   "metadata": {},
   "outputs": [
    {
     "data": {
      "text/plain": [
       "True     52658\n",
       "False    49014\n",
       "Name: real_delta, dtype: int64"
      ]
     },
     "execution_count": 24,
     "metadata": {},
     "output_type": "execute_result"
    }
   ],
   "source": [
    "(data[hg002_subset & (data['real_delta'] != 0)]['real_delta'] > 0).value_counts() # True = Expansion"
   ]
  },
  {
   "cell_type": "markdown",
   "id": "707184bc-6e49-4e5c-93f9-3cac3f5e608c",
   "metadata": {},
   "source": [
    "# For this we'll be looking for symmetry. \n",
    "Though there will be an imbalance at larger allele deltas because contractions are limited to a maximum length of the region's span whereas expansions can continue indefinitley."
   ]
  },
  {
   "cell_type": "code",
   "execution_count": 96,
   "id": "0b606bc8-5a1b-434f-aa44-90a7c9442e9a",
   "metadata": {},
   "outputs": [
    {
     "data": {
      "text/plain": [
       "[None]"
      ]
     },
     "execution_count": 96,
     "metadata": {},
     "output_type": "execute_result"
    },
    {
     "data": {
      "image/png": "[encoded data removed]",
      "text/plain": [
       "<Figure size 640x480 with 1 Axes>"
      ]
     },
     "metadata": {},
     "output_type": "display_data"
    }
   ],
   "source": [
    "# Why we sometimes want to exclude interspersed repeats\n",
    "view = data[hg002_subset & (data['approx_copies'].between(1, 21)) & (data['is_inter'])]\n",
    "p = sb.histplot(data=view, \n",
    "                x='fake_approx_copies', hue=\"motif_length_bin\", \n",
    "                multiple='stack', \n",
    "                binwidth=1)\n",
    "p.set(yscale='log')"
   ]
  },
  {
   "cell_type": "code",
   "execution_count": 99,
   "id": "2fabd986-bb75-4e1b-8046-af2ce50dce2c",
   "metadata": {},
   "outputs": [
    {
     "data": {
      "text/plain": [
       "[None]"
      ]
     },
     "execution_count": 99,
     "metadata": {},
     "output_type": "execute_result"
    },
    {
     "data": {
      "image/png": "[encoded data removed]",
      "text/plain": [
       "<Figure size 640x480 with 1 Axes>"
      ]
     },
     "metadata": {},
     "output_type": "display_data"
    }
   ],
   "source": [
    "p = sb.histplot(data=data[hg002_subset], x='real_delta', hue='motif_length_bin', binwidth=10, multiple='stack')\n",
    "p.set(yscale='log')"
   ]
  },
  {
   "cell_type": "markdown",
   "id": "be6ec4fd-91c1-4f8e-839f-2ad3c000e1e9",
   "metadata": {},
   "source": [
    "# Detailing Tiers"
   ]
  },
  {
   "cell_type": "code",
   "execution_count": 4,
   "id": "d743be58-5134-4ab1-b780-01e92437b508",
   "metadata": {},
   "outputs": [],
   "source": [
    "data = benchmark.join(catalog)"
   ]
  },
  {
   "cell_type": "code",
   "execution_count": 5,
   "id": "085b2592-2c47-4998-bdf6-622ca58f4129",
   "metadata": {},
   "outputs": [
    {
     "data": {
      "text/plain": [
       "Tier1    1638508\n",
       "Tier2      68345\n",
       "Name: tier, dtype: int64"
      ]
     },
     "execution_count": 5,
     "metadata": {},
     "output_type": "execute_result"
    }
   ],
   "source": [
    "data['tier'].value_counts()"
   ]
  },
  {
   "cell_type": "code",
   "execution_count": 7,
   "id": "ce045574-1887-4de1-a5ac-3641e79df9d2",
   "metadata": {},
   "outputs": [
    {
     "data": {
      "text/plain": [
       "TN_TN_TN       1518201\n",
       "TP_TP_TP         98755\n",
       "_TN_TN           13622\n",
       "TN__TN            3384\n",
       "TN_FP_TN           902\n",
       "TP_FN_TP           780\n",
       "FP_TN_TN           744\n",
       "FN_TP_TP           712\n",
       "_TP_TP             700\n",
       "TP_FN,FP_TP        260\n",
       "TP__TP             249\n",
       "FN,FP_TP_TP        198\n",
       "TP_UNK_TP            1\n",
       "Name: repl, dtype: int64"
      ]
     },
     "execution_count": 7,
     "metadata": {},
     "output_type": "execute_result"
    }
   ],
   "source": [
    "data[data['tier'] == \"Tier1\"]['repl'].value_counts()"
   ]
  },
  {
   "cell_type": "code",
   "execution_count": 17,
   "id": "7be1514c-1db6-4bf5-8cc7-343cb1cc043b",
   "metadata": {},
   "outputs": [
    {
     "name": "stdout",
     "output_type": "stream",
     "text": [
      "1616956 0.9473317268681017\n",
      "0.9868465701723763\n"
     ]
    }
   ],
   "source": [
    "tot = 1518201 + 98755\n",
    "print(tot, tot / len(data))\n",
    "print(tot / (data['tier'] == \"Tier1\").sum())"
   ]
  },
  {
   "cell_type": "code",
   "execution_count": 14,
   "id": "17c15e19-0196-42de-b266-768a6878fbce",
   "metadata": {},
   "outputs": [],
   "source": [
    "j = data[data['repl'].isin([\"TN_TN_TN\", \"TP_TP_TP\"])].reset_index()"
   ]
  },
  {
   "cell_type": "code",
   "execution_count": 15,
   "id": "c077f0ea-0cf5-46c6-8127-3c199ee47f4e",
   "metadata": {},
   "outputs": [
    {
     "name": "stdout",
     "output_type": "stream",
     "text": [
      "Total span of all agreement Tier1 regions 197317916\n"
     ]
    }
   ],
   "source": [
    "print(\"Total span of all agreement Tier1 regions\", (j['end'] - j['start']).sum())"
   ]
  },
  {
   "cell_type": "code",
   "execution_count": 18,
   "id": "f6845855-ec45-41aa-a165-78f7c1039921",
   "metadata": {},
   "outputs": [],
   "source": [
    "def find_no_agreement(x):\n",
    "    return len(set(x.split('_'))) == 3\n",
    "no_agree = data['repl'].apply(find_no_agreement)"
   ]
  },
  {
   "cell_type": "code",
   "execution_count": 21,
   "id": "fdda7ce7-3499-4405-bfc7-4a9c202cdeb1",
   "metadata": {},
   "outputs": [],
   "source": [
    "no_agree = no_agree.to_frame().join(data['tier'])"
   ]
  },
  {
   "cell_type": "code",
   "execution_count": 24,
   "id": "7e2c7f62-bac8-44f3-8ad5-1a14dd74aa43",
   "metadata": {},
   "outputs": [
    {
     "data": {
      "text/plain": [
       "False    67491\n",
       "True       854\n",
       "Name: repl, dtype: int64"
      ]
     },
     "execution_count": 24,
     "metadata": {},
     "output_type": "execute_result"
    }
   ],
   "source": [
    "no_agree[no_agree['tier'] == \"Tier2\"]['repl'].value_counts()"
   ]
  },
  {
   "cell_type": "code",
   "execution_count": 25,
   "id": "22bd216d-695b-4eca-9e85-e95c844fcd61",
   "metadata": {},
   "outputs": [
    {
     "data": {
      "text/plain": [
       "0.012495427609920258"
      ]
     },
     "execution_count": 25,
     "metadata": {},
     "output_type": "execute_result"
    }
   ],
   "source": [
    "854 / (data['tier'] == \"Tier2\").sum()"
   ]
  },
  {
   "cell_type": "code",
   "execution_count": 28,
   "id": "21ea18c5-91fd-462e-9747-0c5932dd241d",
   "metadata": {},
   "outputs": [],
   "source": [
    "# Supp Table - Assignment to Tiers\n",
    "data[['ei', 'li', 'th']] = data['repl'].str.split('_', expand=True)"
   ]
  },
  {
   "cell_type": "code",
   "execution_count": 32,
   "id": "4ca46220-ac48-4459-a116-0e64a49fe5a0",
   "metadata": {},
   "outputs": [],
   "source": [
    "cnts = data.groupby(['tier', 'repl']).size().reset_index()"
   ]
  },
  {
   "cell_type": "code",
   "execution_count": 33,
   "id": "05df3c46-ac5e-43de-a8d1-8dfb0dc69242",
   "metadata": {},
   "outputs": [],
   "source": [
    "cnts[['ei', 'li', 'th']] = cnts['repl'].str.split('_', expand=True)"
   ]
  },
  {
   "cell_type": "code",
   "execution_count": 36,
   "id": "8f0c5422-7953-4f01-ae5f-4b803b86052d",
   "metadata": {},
   "outputs": [],
   "source": [
    "table = cnts[['tier', 'ei', 'li', 'th', 0]]\n",
    "table.columns = [\"Tier\", \"TechRepl1\", \"TechRepl2\", \"AlignRepl\", \"Count\"]\n",
    "table.to_csv(\"SuppTableReplTiers.txt\", sep='\\t', index=False)"
   ]
  },
  {
   "cell_type": "code",
   "execution_count": 38,
   "id": "7fac7a77-76ad-46fa-a534-17038781c800",
   "metadata": {},
   "outputs": [],
   "source": [
    "# Variants in benchmark by size\n",
    "vstate = benchmark['var_state'].value_counts()"
   ]
  },
  {
   "cell_type": "code",
   "execution_count": 43,
   "id": "eeb02d15-4079-4d06-b86c-4e2e62553dd2",
   "metadata": {},
   "outputs": [],
   "source": [
    "has_5bp = vstate[[(_ & 0x1 != 0) for _ in vstate.index]]\n",
    "has_small = vstate[[(_ & 0x2 != 0) & (_ & 0x1 == 0) for _ in vstate.index]]"
   ]
  },
  {
   "cell_type": "code",
   "execution_count": 51,
   "id": "e61acaf3-371d-42d3-bc1d-a7f03f0efb76",
   "metadata": {},
   "outputs": [
    {
     "data": {
      "text/plain": [
       "(107842, 0.06318177370869078)"
      ]
     },
     "execution_count": 51,
     "metadata": {},
     "output_type": "execute_result"
    }
   ],
   "source": [
    "has_5bp.sum(), has_5bp.sum() / len(benchmark)"
   ]
  },
  {
   "cell_type": "code",
   "execution_count": 52,
   "id": "b0ff88e9-d5a2-4edd-9772-9d37f64e3707",
   "metadata": {},
   "outputs": [
    {
     "data": {
      "text/plain": [
       "(346935, 0.20326003469543072)"
      ]
     },
     "execution_count": 52,
     "metadata": {},
     "output_type": "execute_result"
    }
   ],
   "source": [
    "has_small.sum(), has_small.sum() / len(benchmark)"
   ]
  },
  {
   "cell_type": "code",
   "execution_count": 46,
   "id": "707eb0ae-ee54-4ac9-8497-d176808a830d",
   "metadata": {},
   "outputs": [],
   "source": [
    "is_neg = vstate[[_ & 0x3 == 0 for _ in vstate.index]]"
   ]
  },
  {
   "cell_type": "code",
   "execution_count": 53,
   "id": "5a7d204c-81e5-4281-b464-8d99a2c5b533",
   "metadata": {},
   "outputs": [
    {
     "data": {
      "text/plain": [
       "(1252076, 0.7335581915958785)"
      ]
     },
     "execution_count": 53,
     "metadata": {},
     "output_type": "execute_result"
    }
   ],
   "source": [
    "is_neg.sum(), is_neg.sum() / len(benchmark)"
   ]
  },
  {
   "cell_type": "code",
   "execution_count": 54,
   "id": "49ace5e7-95f9-429e-9a2d-b306caeff6d7",
   "metadata": {},
   "outputs": [
    {
     "data": {
      "text/plain": [
       "99"
      ]
     },
     "execution_count": 54,
     "metadata": {},
     "output_type": "execute_result"
    }
   ],
   "source": []
  },
  {
   "cell_type": "markdown",
   "id": "aa4a9c38-c54d-4aaa-b592-229942aeb748",
   "metadata": {},
   "source": [
    "To ensure that the variation captured in the benchmark is representative of variation found across the diverse set of individuals in the pVCF, we compare HG002 variants in Tier1 regions with that found in the other samples"
   ]
  },
  {
   "cell_type": "markdown",
   "id": "65e2866c-8341-46a2-b2be-afa86b7642d5",
   "metadata": {},
   "source": [
    "- This is just Tier1, var_flag 0x2 vs 0x4. \n",
    "- Then I gotta make a script to do the 98% similarity, too.\n",
    "  - For Tier1 with variants\n",
    "  - Make all haplotypes in pVCF (exclude HG002 technical replicates)\n",
    "  - and calculate the sequence similarity of HG002 to each\n",
    "  - count how many have >=98% similarity\n",
    "  - report that count over number of Tier1 with variants"
   ]
  },
  {
   "cell_type": "code",
   "execution_count": 60,
   "id": "466fa509-0136-4792-b907-366de4559d14",
   "metadata": {},
   "outputs": [],
   "source": [
    "view = data[data['tier'] == 'Tier1']\n",
    "isHG002 = view['var_state'].apply(lambda x: (x & 0x1) != 0)\n",
    "isOther = view['var_state'].apply(lambda x: (x & 0x4) != 0)"
   ]
  },
  {
   "cell_type": "code",
   "execution_count": 62,
   "id": "082e6433-4cd3-4490-8ae9-b836bfb0dc6e",
   "metadata": {},
   "outputs": [
    {
     "name": "stdout",
     "output_type": "stream",
     "text": [
      "hg002 5bp count 101704\n",
      "other 5bp count 282408\n",
      "both 5bp count 101402\n",
      "hg002 exclusive 302\n",
      "other exclusive 181006\n"
     ]
    }
   ],
   "source": [
    "print('hg002 5bp count', isHG002.sum())\n",
    "print('other 5bp count', isOther.sum())\n",
    "print('both 5bp count', (isHG002 & isOther).sum())\n",
    "print('hg002 exclusive', (isHG002 & ~isOther).sum())\n",
    "print('other exclusive', (~isHG002 & isOther).sum())"
   ]
  },
  {
   "cell_type": "code",
   "execution_count": 64,
   "id": "ade9eaeb-418b-4498-ba68-40b4351d56f0",
   "metadata": {},
   "outputs": [
    {
     "name": "stdout",
     "output_type": "stream",
     "text": [
      "hg002 and other 0.9970305985998584\n"
     ]
    }
   ],
   "source": [
    "print('hg002 and other', 101402 / 101704)"
   ]
  },
  {
   "cell_type": "code",
   "execution_count": 66,
   "id": "f7d279ee-e32d-4cc3-ab20-d89e05c02fee",
   "metadata": {},
   "outputs": [
    {
     "name": "stdout",
     "output_type": "stream",
     "text": [
      "lack hg002 but has other 0.11047001296301269\n"
     ]
    }
   ],
   "source": [
    "print('lack hg002 but has other', 181006 / len(view))\n"
   ]
  },
  {
   "cell_type": "code",
   "execution_count": null,
   "id": "21cdd959-7717-4d12-aa03-9a9410cfa4ed",
   "metadata": {},
   "outputs": [],
   "source": []
  }
 ],
 "metadata": {
  "kernelspec": {
   "display_name": "Python 3 (ipykernel)",
   "language": "python",
   "name": "python3"
  },
  "language_info": {
   "codemirror_mode": {
    "name": "ipython",
    "version": 3
   },
   "file_extension": ".py",
   "mimetype": "text/x-python",
   "name": "python",
   "nbconvert_exporter": "python",
   "pygments_lexer": "ipython3",
   "version": "3.9.6"
  }
 },
 "nbformat": 4,
 "nbformat_minor": 5
}
