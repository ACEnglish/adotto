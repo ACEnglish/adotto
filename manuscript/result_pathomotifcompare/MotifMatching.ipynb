{
 "cells": [
  {
   "cell_type": "code",
   "execution_count": 1,
   "id": "1f404998-44eb-4f4b-9b4f-3168d62fa5bc",
   "metadata": {},
   "outputs": [],
   "source": [
    "import pandas as pd\n",
    "import truvari\n",
    "import numpy as np\n",
    "import math\n",
    "import json"
   ]
  },
  {
   "cell_type": "code",
   "execution_count": 2,
   "id": "d9358f13-27f5-4bb0-b3fc-8d46f7cb2212",
   "metadata": {},
   "outputs": [],
   "source": [
    "compliment = str.maketrans(\"ATCGN\", \"TAGCN\")\n",
    "revcmp = lambda x: x.translate(compliment)[::-1]"
   ]
  },
  {
   "cell_type": "code",
   "execution_count": 18,
   "id": "dfabba17-3157-4442-89c2-d73d4505a789",
   "metadata": {},
   "outputs": [],
   "source": [
    "catalog_fn = \"/Users/english/code/adotto/regions/adotto_TRregions_v1.2.bed\"\n",
    "patho_fn = \"/Users/english/code/adotto/pathogenic/Patho.tsv\"\n",
    "\n",
    "catalog = pd.read_csv(catalog_fn, sep='\\t')\n",
    "patho = pd.read_csv(patho_fn, sep='\\t')\n",
    "\n",
    "def smallest_roll(seq):\n",
    "    if isinstance(seq, float):\n",
    "        return \"GCN\" # HOXA13 and ARX cheat\n",
    "    if ',' in seq:\n",
    "        return seq\n",
    "    sm = sorted(list(seq))\n",
    "    i = seq.index(sm[0])\n",
    "    return seq[i:] + seq[:i]\n",
    "\n",
    "cat_pathos = catalog[catalog['patho'] != '.'].copy()\n",
    "known_motifs = patho[[\"Locus\", \"Motifs 1\", \"Motifs 2\"]].copy()\n",
    "\n",
    "def motif_picker(x):\n",
    "    \"\"\"\n",
    "    Consolidate the two motifs\n",
    "    \"\"\"\n",
    "    m1 = x[\"Motifs 1\"].split(',') if isinstance(x[\"Motifs 1\"], str) else []\n",
    "    m2 = x[\"Motifs 2\"].split(',') if isinstance(x[\"Motifs 2\"], str) else []\n",
    "    all_m = set()\n",
    "    for motif in m1 + m2:\n",
    "        for roll in range(len(motif)):\n",
    "            m_mt = motif[roll:] + motif[:roll]\n",
    "            all_m.add(m_mt)\n",
    "            all_m.add(revcmp(m_mt))\n",
    "    return all_m\n",
    "known_motifs['motifs'] = known_motifs.apply(motif_picker, axis=1)\n",
    "\n",
    "\n",
    "def anno_puller(x):\n",
    "    d = json.loads(x)\n",
    "    ret = set()\n",
    "    for anno in d:\n",
    "        motif = anno['motif']\n",
    "        for roll in range(len(motif)):\n",
    "            m_mt = motif[roll:] + motif[:roll]\n",
    "            ret.add(m_mt)\n",
    "            ret.add(revcmp(m_mt))\n",
    "    return ret\n",
    "cat_pathos['motifs'] = cat_pathos['annos'].apply(anno_puller)"
   ]
  },
  {
   "cell_type": "code",
   "execution_count": 20,
   "id": "9c3a7b47-6763-4514-84c9-4dca10fd7b93",
   "metadata": {},
   "outputs": [
    {
     "data": {
      "text/html": [
       "<div>\n",
       "<style scoped>\n",
       "    .dataframe tbody tr th:only-of-type {\n",
       "        vertical-align: middle;\n",
       "    }\n",
       "\n",
       "    .dataframe tbody tr th {\n",
       "        vertical-align: top;\n",
       "    }\n",
       "\n",
       "    .dataframe thead th {\n",
       "        text-align: right;\n",
       "    }\n",
       "</style>\n",
       "<table border=\"1\" class=\"dataframe\">\n",
       "  <thead>\n",
       "    <tr style=\"text-align: right;\">\n",
       "      <th></th>\n",
       "      <th>Locus</th>\n",
       "      <th>Motifs 1</th>\n",
       "      <th>Motifs 2</th>\n",
       "      <th>motifs</th>\n",
       "    </tr>\n",
       "  </thead>\n",
       "  <tbody>\n",
       "    <tr>\n",
       "      <th>154</th>\n",
       "      <td>HOXA13_3</td>\n",
       "      <td>GCN</td>\n",
       "      <td>NaN</td>\n",
       "      <td>{GCN, CNG, NGC}</td>\n",
       "    </tr>\n",
       "    <tr>\n",
       "      <th>155</th>\n",
       "      <td>HOXA13_2</td>\n",
       "      <td>GCN</td>\n",
       "      <td>NaN</td>\n",
       "      <td>{GCN, CNG, NGC}</td>\n",
       "    </tr>\n",
       "    <tr>\n",
       "      <th>156</th>\n",
       "      <td>HOXA13_1</td>\n",
       "      <td>GCN</td>\n",
       "      <td>NGC</td>\n",
       "      <td>{GCN, CNG, NGC}</td>\n",
       "    </tr>\n",
       "    <tr>\n",
       "      <th>177</th>\n",
       "      <td>ARX_2</td>\n",
       "      <td>GCN</td>\n",
       "      <td>NaN</td>\n",
       "      <td>{GCN, CNG, NGC}</td>\n",
       "    </tr>\n",
       "    <tr>\n",
       "      <th>178</th>\n",
       "      <td>ARX_1</td>\n",
       "      <td>GCN</td>\n",
       "      <td>GCG</td>\n",
       "      <td>{GCN, CGG, CGC, NGC, GCC, GCG, GGC, CNG, CCG}</td>\n",
       "    </tr>\n",
       "  </tbody>\n",
       "</table>\n",
       "</div>"
      ],
      "text/plain": [
       "        Locus Motifs 1 Motifs 2                                         motifs\n",
       "154  HOXA13_3      GCN      NaN                                {GCN, CNG, NGC}\n",
       "155  HOXA13_2      GCN      NaN                                {GCN, CNG, NGC}\n",
       "156  HOXA13_1      GCN      NGC                                {GCN, CNG, NGC}\n",
       "177     ARX_2      GCN      NaN                                {GCN, CNG, NGC}\n",
       "178     ARX_1      GCN      GCG  {GCN, CGG, CGC, NGC, GCC, GCG, GGC, CNG, CCG}"
      ]
     },
     "execution_count": 20,
     "metadata": {},
     "output_type": "execute_result"
    }
   ],
   "source": [
    "to_consolidate = known_motifs[known_motifs['Locus'].str.contains('_')]\n",
    "to_consolidate "
   ]
  },
  {
   "cell_type": "code",
   "execution_count": 21,
   "id": "b72644db-584c-4a9b-bcd5-5d4cbf47aee1",
   "metadata": {},
   "outputs": [],
   "source": [
    "# Fix the split ARX/HOXA13\n",
    "arx_m = set.union(*[_ for _ in to_consolidate[to_consolidate['Locus'].str.startswith('ARX_')]['motifs']])\n",
    "hoxa13_m = set.union(*[_ for _ in to_consolidate[to_consolidate['Locus'].str.contains('HOXA13_')]['motifs']])\n",
    "known_motifs2 = pd.concat([known_motifs, \n",
    "                           pd.DataFrame(\n",
    "                               [[\"ARX\", None, None, arx_m]],\n",
    "                               columns=known_motifs.columns\n",
    "                           ),\n",
    "                           pd.DataFrame(\n",
    "                               [[\"HOXA13\", None, None, hoxa13_m]],\n",
    "                                columns=known_motifs.columns\n",
    "                           )])"
   ]
  },
  {
   "cell_type": "code",
   "execution_count": 25,
   "id": "69208a0f-1eb4-45b0-b2cb-0c2466a3bff5",
   "metadata": {},
   "outputs": [],
   "source": [
    "rows = []\n",
    "for _, m_patho in cat_pathos[[\"patho\", \"motifs\"]].iterrows():\n",
    "    partner = known_motifs2[known_motifs2['Locus'] == m_patho[\"patho\"]]\n",
    "    if len(partner) != 1:\n",
    "        print('messed up', patho)\n",
    "        continue\n",
    "    partner = partner.iloc[0]\n",
    "    rows.append([m_patho['patho'], \n",
    "                 m_patho['motifs'], \n",
    "                 partner['motifs'], \n",
    "                 len(m_patho['motifs'].intersection(partner['motifs']))\n",
    "                ])\n",
    "results = pd.DataFrame(rows, columns=[\"Patho\", \"CatMotif\", \"KnoMotif\", \"IntersectCnt\"])\n",
    "results.set_index('Patho', inplace=True)"
   ]
  },
  {
   "cell_type": "code",
   "execution_count": 30,
   "id": "d54bb610-477c-4fec-a7a6-0d4f904fe606",
   "metadata": {},
   "outputs": [],
   "source": [
    "results['isVNTR'] = patho.rename(columns={'Locus': \"Patho\"}).set_index(\"Patho\")[\"Repeat type\"] == 'VNTR'"
   ]
  },
  {
   "cell_type": "code",
   "execution_count": 31,
   "id": "4af0659e-10f1-470c-a1b9-206ab06d6eed",
   "metadata": {},
   "outputs": [
    {
     "data": {
      "text/plain": [
       "177"
      ]
     },
     "execution_count": 31,
     "metadata": {},
     "output_type": "execute_result"
    }
   ],
   "source": [
    "len(results)"
   ]
  },
  {
   "cell_type": "code",
   "execution_count": 32,
   "id": "c7d9cfe8-30f1-4664-ad6e-d03c05400861",
   "metadata": {},
   "outputs": [
    {
     "name": "stdout",
     "output_type": "stream",
     "text": [
      "78 0.4406779661016949\n"
     ]
    }
   ],
   "source": [
    "# Accuracy before dealing with Ns and non-parsimonious representations\n",
    "results['plain_compare'] = results['IntersectCnt'] != 0\n",
    "print(results['plain_compare'].sum(), results['plain_compare'].mean())"
   ]
  },
  {
   "cell_type": "code",
   "execution_count": 33,
   "id": "d74dba9f-719a-4626-afd7-36d4a94d3a9b",
   "metadata": {},
   "outputs": [
    {
     "name": "stdout",
     "output_type": "stream",
     "text": [
      "isVNTR\n",
      "False    47\n",
      "True     31\n",
      "Name: plain_compare, dtype: int64 isVNTR\n",
      "False    0.758065\n",
      "True     0.274336\n",
      "Name: plain_compare, dtype: float64\n"
     ]
    }
   ],
   "source": [
    "# Accuracy before dealing with Ns and non-parsimonious representations - by patho/vntr\n",
    "print(results.groupby('isVNTR')['plain_compare'].sum(), results.groupby('isVNTR')['plain_compare'].mean())"
   ]
  },
  {
   "cell_type": "code",
   "execution_count": 9,
   "id": "5fd9fa66-f025-4861-9fe1-3cfd18b19f6d",
   "metadata": {},
   "outputs": [
    {
     "data": {
      "text/html": [
       "<div>\n",
       "<style scoped>\n",
       "    .dataframe tbody tr th:only-of-type {\n",
       "        vertical-align: middle;\n",
       "    }\n",
       "\n",
       "    .dataframe tbody tr th {\n",
       "        vertical-align: top;\n",
       "    }\n",
       "\n",
       "    .dataframe thead th {\n",
       "        text-align: right;\n",
       "    }\n",
       "</style>\n",
       "<table border=\"1\" class=\"dataframe\">\n",
       "  <thead>\n",
       "    <tr style=\"text-align: right;\">\n",
       "      <th></th>\n",
       "      <th>CatMotif</th>\n",
       "      <th>KnoMotif</th>\n",
       "      <th>IntersectCnt</th>\n",
       "      <th>plain_compare</th>\n",
       "    </tr>\n",
       "    <tr>\n",
       "      <th>Patho</th>\n",
       "      <th></th>\n",
       "      <th></th>\n",
       "      <th></th>\n",
       "      <th></th>\n",
       "    </tr>\n",
       "  </thead>\n",
       "  <tbody>\n",
       "    <tr>\n",
       "      <th>RERE</th>\n",
       "      <td>{CTGCGGGAG, CCGCAGCTC, AGCTCCCGC, TGCGGGAGC, G...</td>\n",
       "      <td>{CTCTCGGATCTCCCG, TCGGATCTCCCGCTC, GGGAGATCCGA...</td>\n",
       "      <td>0</td>\n",
       "      <td>False</td>\n",
       "    </tr>\n",
       "    <tr>\n",
       "      <th>MACF1</th>\n",
       "      <td>{GGCACTGCAGCTGCTGGGGAGGTGGGTTCCTCTAGGGTGGGCACT...</td>\n",
       "      <td>{GGCTCCTCTGGGGTGGGCACTGCAGCAGCTGGGGAGGTG, GGGT...</td>\n",
       "      <td>0</td>\n",
       "      <td>False</td>\n",
       "    </tr>\n",
       "    <tr>\n",
       "      <th>L1TD1</th>\n",
       "      <td>{CTTCCTCCTCCTCCTCTAGCCTCTTCTTCTTCTTCCTCCTCCAGC...</td>\n",
       "      <td>{CCTGAGGTCTCTTCTTCCTCCTCCTCCTCCAGC, AGGAAGAAGA...</td>\n",
       "      <td>0</td>\n",
       "      <td>False</td>\n",
       "    </tr>\n",
       "    <tr>\n",
       "      <th>OVGP1</th>\n",
       "      <td>{TGAGTCATCAGTCTG, GTCTGTGAGTCATCA, TCAGTCTGTGA...</td>\n",
       "      <td>{GTGGGTCATCAGTCTGTGACCCCT, TCATCAGTCTGTGACCCCT...</td>\n",
       "      <td>0</td>\n",
       "      <td>False</td>\n",
       "    </tr>\n",
       "    <tr>\n",
       "      <th>TCHH</th>\n",
       "      <td>{TCCTGCTGCTGCCGGCGCTGCTCCTCT, CCTGCT, GGAGGGAG...</td>\n",
       "      <td>{CTGCTGCTCGCGCCTCAG, AGCAGCAGCTGAGGCGCG, CGCCT...</td>\n",
       "      <td>0</td>\n",
       "      <td>False</td>\n",
       "    </tr>\n",
       "    <tr>\n",
       "      <th>...</th>\n",
       "      <td>...</td>\n",
       "      <td>...</td>\n",
       "      <td>...</td>\n",
       "      <td>...</td>\n",
       "    </tr>\n",
       "    <tr>\n",
       "      <th>FXN</th>\n",
       "      <td>{TTTTTTGTAT, TTTTTTTGTA, AAATACAAAA, CAAAAAAAT...</td>\n",
       "      <td>{TTC, CTT, T, AAG, TCT, A, GAA, AGA}</td>\n",
       "      <td>0</td>\n",
       "      <td>False</td>\n",
       "    </tr>\n",
       "    <tr>\n",
       "      <th>PRDM12</th>\n",
       "      <td>{TGCACCGCCCCGCACGCGCACGCGCCCGCGC, TGCGGGGCGGTG...</td>\n",
       "      <td>{GCG, CGG, CGC, GCC, GGC, CCG}</td>\n",
       "      <td>0</td>\n",
       "      <td>False</td>\n",
       "    </tr>\n",
       "    <tr>\n",
       "      <th>ARX</th>\n",
       "      <td>{CGCGGC, CCGG, CTG, CGGG, CCGC, TGC, GCCG, GGC...</td>\n",
       "      <td>{GCN, CGG, NGC, CGC, GCC, GCG, GGC, CNG, CCG}</td>\n",
       "      <td>0</td>\n",
       "      <td>False</td>\n",
       "    </tr>\n",
       "    <tr>\n",
       "      <th>SOX3</th>\n",
       "      <td>{TGGGCG, CCGCTG, CGTGGG, GTGGGC, TGCCGC, CACGC...</td>\n",
       "      <td>{GCN, CNG, NGC}</td>\n",
       "      <td>0</td>\n",
       "      <td>False</td>\n",
       "    </tr>\n",
       "    <tr>\n",
       "      <th>TMEM185A</th>\n",
       "      <td>{GGA, CTGGCG, GCCGCC, GGCGGC, GCGGCG, CGCCAG, ...</td>\n",
       "      <td>{GCG, CGG, CGC, GCC, GGC, CCG}</td>\n",
       "      <td>0</td>\n",
       "      <td>False</td>\n",
       "    </tr>\n",
       "  </tbody>\n",
       "</table>\n",
       "<p>99 rows × 4 columns</p>\n",
       "</div>"
      ],
      "text/plain": [
       "                                                   CatMotif  \\\n",
       "Patho                                                         \n",
       "RERE      {CTGCGGGAG, CCGCAGCTC, AGCTCCCGC, TGCGGGAGC, G...   \n",
       "MACF1     {GGCACTGCAGCTGCTGGGGAGGTGGGTTCCTCTAGGGTGGGCACT...   \n",
       "L1TD1     {CTTCCTCCTCCTCCTCTAGCCTCTTCTTCTTCTTCCTCCTCCAGC...   \n",
       "OVGP1     {TGAGTCATCAGTCTG, GTCTGTGAGTCATCA, TCAGTCTGTGA...   \n",
       "TCHH      {TCCTGCTGCTGCCGGCGCTGCTCCTCT, CCTGCT, GGAGGGAG...   \n",
       "...                                                     ...   \n",
       "FXN       {TTTTTTGTAT, TTTTTTTGTA, AAATACAAAA, CAAAAAAAT...   \n",
       "PRDM12    {TGCACCGCCCCGCACGCGCACGCGCCCGCGC, TGCGGGGCGGTG...   \n",
       "ARX       {CGCGGC, CCGG, CTG, CGGG, CCGC, TGC, GCCG, GGC...   \n",
       "SOX3      {TGGGCG, CCGCTG, CGTGGG, GTGGGC, TGCCGC, CACGC...   \n",
       "TMEM185A  {GGA, CTGGCG, GCCGCC, GGCGGC, GCGGCG, CGCCAG, ...   \n",
       "\n",
       "                                                   KnoMotif  IntersectCnt  \\\n",
       "Patho                                                                       \n",
       "RERE      {CTCTCGGATCTCCCG, TCGGATCTCCCGCTC, GGGAGATCCGA...             0   \n",
       "MACF1     {GGCTCCTCTGGGGTGGGCACTGCAGCAGCTGGGGAGGTG, GGGT...             0   \n",
       "L1TD1     {CCTGAGGTCTCTTCTTCCTCCTCCTCCTCCAGC, AGGAAGAAGA...             0   \n",
       "OVGP1     {GTGGGTCATCAGTCTGTGACCCCT, TCATCAGTCTGTGACCCCT...             0   \n",
       "TCHH      {CTGCTGCTCGCGCCTCAG, AGCAGCAGCTGAGGCGCG, CGCCT...             0   \n",
       "...                                                     ...           ...   \n",
       "FXN                    {TTC, CTT, T, AAG, TCT, A, GAA, AGA}             0   \n",
       "PRDM12                       {GCG, CGG, CGC, GCC, GGC, CCG}             0   \n",
       "ARX           {GCN, CGG, NGC, CGC, GCC, GCG, GGC, CNG, CCG}             0   \n",
       "SOX3                                        {GCN, CNG, NGC}             0   \n",
       "TMEM185A                     {GCG, CGG, CGC, GCC, GGC, CCG}             0   \n",
       "\n",
       "          plain_compare  \n",
       "Patho                    \n",
       "RERE              False  \n",
       "MACF1             False  \n",
       "L1TD1             False  \n",
       "OVGP1             False  \n",
       "TCHH              False  \n",
       "...                 ...  \n",
       "FXN               False  \n",
       "PRDM12            False  \n",
       "ARX               False  \n",
       "SOX3              False  \n",
       "TMEM185A          False  \n",
       "\n",
       "[99 rows x 4 columns]"
      ]
     },
     "execution_count": 9,
     "metadata": {},
     "output_type": "execute_result"
    }
   ],
   "source": [
    "results[~results['plain_compare']]"
   ]
  },
  {
   "cell_type": "code",
   "execution_count": 34,
   "id": "da70dda7-bc6a-4304-b10a-2b625147c90e",
   "metadata": {},
   "outputs": [],
   "source": [
    "# Some of the known have Ns. Need a comparison\n",
    "def n_compare(x):\n",
    "    can_compare = False\n",
    "    for _ in x['KnoMotif']:\n",
    "        if 'N' in _:\n",
    "            can_compare = True\n",
    "    if not can_compare:\n",
    "        return False\n",
    "    for kno in x['KnoMotif']:\n",
    "        subset = [_ for _ in x['CatMotif'] if len(_) == len(kno)]\n",
    "        for cat in subset:\n",
    "            all_pass = True\n",
    "            for a, b in zip(kno, cat):\n",
    "                if a != 'N' and a != b:\n",
    "                    all_pass = False\n",
    "            if all_pass:\n",
    "                return True\n",
    "    return False"
   ]
  },
  {
   "cell_type": "code",
   "execution_count": 35,
   "id": "52cc6103-d934-4598-8bfa-acbb35d042f5",
   "metadata": {},
   "outputs": [],
   "source": [
    "results['n_compare'] = results.apply(n_compare, axis=1)"
   ]
  },
  {
   "cell_type": "code",
   "execution_count": 39,
   "id": "3ffe30b0-773c-4937-a2a5-cbc46ed03c86",
   "metadata": {},
   "outputs": [
    {
     "name": "stdout",
     "output_type": "stream",
     "text": [
      "6 0.4745762711864407\n"
     ]
    }
   ],
   "source": [
    "# Accuracy after dealing with Ns\n",
    "is_correct = results['plain_compare'] | results['n_compare']\n",
    "print(results['n_compare'].sum(), is_correct.mean())"
   ]
  },
  {
   "cell_type": "code",
   "execution_count": 40,
   "id": "d6a57fa7-e5a1-4aac-bb15-7270c0669a28",
   "metadata": {},
   "outputs": [
    {
     "name": "stdout",
     "output_type": "stream",
     "text": [
      "VNTR\n",
      "0 0.2743362831858407\n",
      "Patho\n",
      "4 0.8225806451612904\n"
     ]
    }
   ],
   "source": [
    "# Accuracy after dealing with Ns\n",
    "for i in [True, False]:\n",
    "    print('VNTR' if i else \"Patho\")\n",
    "    is_correct2 = results[results['isVNTR'] == i]['plain_compare'] | results[results['isVNTR'] == i]['n_compare']\n",
    "    print(results[results['isVNTR'] == i]['n_compare'].sum(), is_correct2.mean())"
   ]
  },
  {
   "cell_type": "code",
   "execution_count": 46,
   "id": "0aecab3e-1f4b-41c2-a65e-52d1f898f26d",
   "metadata": {},
   "outputs": [
    {
     "data": {
      "text/plain": [
       "True     113\n",
       "False     62\n",
       "NaN        2\n",
       "Name: isVNTR, dtype: int64"
      ]
     },
     "execution_count": 46,
     "metadata": {},
     "output_type": "execute_result"
    }
   ],
   "source": [
    "results['isVNTR'].value_counts(dropna=False)"
   ]
  },
  {
   "cell_type": "code",
   "execution_count": 48,
   "id": "29ae5cf9-ecfd-4aad-9b09-62ca58ae6ed2",
   "metadata": {},
   "outputs": [
    {
     "data": {
      "text/plain": [
       "False    82\n",
       "True     31\n",
       "dtype: int64"
      ]
     },
     "execution_count": 48,
     "metadata": {},
     "output_type": "execute_result"
    }
   ],
   "source": [
    "view = results[results['isVNTR'] & ~results['isVNTR'].isna()]\n",
    "(view['plain_compare'] | view['n_compare']).value_counts()"
   ]
  },
  {
   "cell_type": "code",
   "execution_count": 42,
   "id": "9e396873-1b47-499d-93a0-7b4168522b44",
   "metadata": {},
   "outputs": [],
   "source": [
    "results[~is_correct & results['isVNTR']].to_csv('hold.txt', sep='\\t')"
   ]
  },
  {
   "cell_type": "code",
   "execution_count": null,
   "id": "2f701a35-6f9d-4c40-93b9-72dadc537a95",
   "metadata": {},
   "outputs": [],
   "source": [
    "# 9 remaining that don't match.\n",
    "# Let's manually inspect them"
   ]
  },
  {
   "cell_type": "code",
   "execution_count": 154,
   "id": "f3711236-f86e-414b-a206-1c98c0c0c1cf",
   "metadata": {},
   "outputs": [
    {
     "name": "stdout",
     "output_type": "stream",
     "text": [
      "ACAGCGGGG\n",
      "AGCGGGGAC\n",
      "CAGCGGGGA\n",
      "CCCCGCTGT\n",
      "CCCGCCGCCGCCG\n",
      "CCCGCTGTC\n",
      "CCGCCCGCCGCCG\n",
      "CCGCCGCCCGCCG\n",
      "CCGCCGCCGCCCG\n",
      "CCGCCGCCGCCGC\n",
      "CCGCTGTCC\n",
      "CGCCCGCCGCCGC\n",
      "CGCCGCCCGCCGC\n",
      "CGCCGCCGCCCGC\n",
      "CGCCGCCGCCGCC\n",
      "CGCTGTCCC\n",
      "CGGCGGCGGCGGG\n",
      "CGGCGGCGGGCGG\n",
      "CGGCGGGCGGCGG\n",
      "CGGGCGGCGGCGG\n",
      "CGGGGACAG\n",
      "CTGTCCCCG\n",
      "GACAGCGGG\n",
      "GCCCGCCGCCGCC\n",
      "GCCGCCCGCCGCC\n",
      "GCCGCCGCCCGCC\n",
      "GCCGCCGCCGCCC\n",
      "GCGGCGGCGGCGG\n",
      "GCGGCGGCGGGCG\n",
      "GCGGCGGGCGGCG\n",
      "GCGGGCGGCGGCG\n",
      "GCGGGGACA\n",
      "GCTGTCCCC\n",
      "GGACAGCGG\n",
      "GGCGGCGGCGGCG\n",
      "GGCGGCGGCGGGC\n",
      "GGCGGCGGGCGGC\n",
      "GGCGGGCGGCGGC\n",
      "GGGACAGCG\n",
      "GGGCGGCGGCGGC\n",
      "GGGGACAGC\n",
      "GTCCCCGCT\n",
      "TCCCCGCTG\n",
      "TGTCCCCGC\n",
      "\n",
      "CCG\n",
      "CGC\n",
      "CGG\n",
      "GCC\n",
      "GCG\n",
      "GGC\n"
     ]
    }
   ],
   "source": [
    "n = \"ZNF713\"\n",
    "print('\\n'.join(sorted(list(results.loc[n]['CatMotif']))))\n",
    "print()\n",
    "print('\\n'.join(sorted(list(results.loc[n]['KnoMotif']))))"
   ]
  },
  {
   "cell_type": "markdown",
   "id": "36fc39c2-1692-4a06-9774-aeb57e8bfc69",
   "metadata": {},
   "source": [
    "- ZIC2 matches because GCn matches with GCaGCgGCg\n",
    "- FOXL2 matches because GCn pairs with GCAGCCGCAGCGGCT\n",
    "- SOX3 matches : known GCN is equivalent to catalog GCAGCG\n",
    "- TMEM185A matches : known CCG is equivlaent to CCGCCG\n",
    "\n",
    "- AFF3 failed\n",
    "- FXN failed\n",
    "- PRDM12 failed - but I also think that it's a mix of repeats.. like they go back and forth between two motifs..\n",
    "- CSTB was close - cat has CCCCGCG, known has CCCCGCCCCGCG\n",
    "- ZNF713 was close - kno has GCC, cat has GCCGCCGCCGCCC - just one extra base\n",
    "\n",
    "So, 2 hard failures, 1 maybe explainable failure, 2 close but no cigars, and 4 that I could probably programmatically find.\n",
    "\n",
    "- Total Patho in catalog: 62\n",
    "- Total Fails: 5\n",
    "- Final Accuracy: 91.9%\n",
    "- If I can excuse 3 maybe/close - 96.8%"
   ]
  },
  {
   "cell_type": "code",
   "execution_count": 50,
   "id": "9fe49d47-7891-4c65-969d-de1443358e8d",
   "metadata": {},
   "outputs": [],
   "source": [
    "results['isVNTR'] = results['isVNTR'].fillna(False)"
   ]
  },
  {
   "cell_type": "code",
   "execution_count": 65,
   "id": "061633f5-7e68-4fdd-ac2b-9eccd6b309bc",
   "metadata": {},
   "outputs": [],
   "source": [
    "# Same length\n",
    "def glens(x):\n",
    "    cat = set([len(_) for _ in x['CatMotif']])\n",
    "    kno = set([len(_) for _ in x['KnoMotif']])\n",
    "    any_len_inter = len(cat.intersection(kno)) !=0\n",
    "    \n",
    "    cat = sorted(list(cat))\n",
    "    kno = sorted(list(kno))\n",
    "    any_1bp_inter = False\n",
    "    for i in cat:\n",
    "        any_1bp_inter |= (i in kno or i+1 in kno or i-1 in kno)\n",
    "    return any_len_inter, any_1bp_inter\n",
    "lcomps = results[results['isVNTR']].apply(glens, axis=1)"
   ]
  },
  {
   "cell_type": "code",
   "execution_count": 66,
   "id": "2ca34453-b4de-47be-bade-e028c5829e0a",
   "metadata": {},
   "outputs": [
    {
     "data": {
      "text/plain": [
       "False    61\n",
       "True     52\n",
       "dtype: int64"
      ]
     },
     "execution_count": 66,
     "metadata": {},
     "output_type": "execute_result"
    }
   ],
   "source": [
    "lcomps.apply(lambda x: x[0]).value_counts()"
   ]
  },
  {
   "cell_type": "code",
   "execution_count": 67,
   "id": "7073e1ea-fae9-402c-9cc6-8fb13bcd50b5",
   "metadata": {},
   "outputs": [
    {
     "data": {
      "text/plain": [
       "True     63\n",
       "False    50\n",
       "dtype: int64"
      ]
     },
     "execution_count": 67,
     "metadata": {},
     "output_type": "execute_result"
    }
   ],
   "source": [
    "lcomps.apply(lambda x: x[1]).value_counts()"
   ]
  },
  {
   "cell_type": "code",
   "execution_count": null,
   "id": "7234f5e5-3e5a-4f3f-a24a-8317e4bd7138",
   "metadata": {},
   "outputs": [],
   "source": []
  }
 ],
 "metadata": {
  "kernelspec": {
   "display_name": "Python 3 (ipykernel)",
   "language": "python",
   "name": "python3"
  },
  "language_info": {
   "codemirror_mode": {
    "name": "ipython",
    "version": 3
   },
   "file_extension": ".py",
   "mimetype": "text/x-python",
   "name": "python",
   "nbconvert_exporter": "python",
   "pygments_lexer": "ipython3",
   "version": "3.9.6"
  }
 },
 "nbformat": 4,
 "nbformat_minor": 5
}
