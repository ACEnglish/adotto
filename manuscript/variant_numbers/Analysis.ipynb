{
 "cells": [
  {
   "cell_type": "code",
   "execution_count": 12,
   "id": "f3b2c1ca-1ef9-4507-9d6f-fa2d950c4554",
   "metadata": {},
   "outputs": [],
   "source": [
    "import pandas as pd\n",
    "import seaborn as sb\n",
    "import glob\n",
    "import joblib\n",
    "import numpy as np"
   ]
  },
  {
   "cell_type": "code",
   "execution_count": null,
   "id": "1b99fffa-a2c0-48e5-b555-858774825208",
   "metadata": {},
   "outputs": [],
   "source": [
    "# Per sample numbers"
   ]
  },
  {
   "cell_type": "code",
   "execution_count": 11,
   "id": "022b27b0-60f4-4233-b189-2244b627a19a",
   "metadata": {},
   "outputs": [],
   "source": [
    "all_dfs = glob.glob(\"persamp_varnumbers/*jl\")\n",
    "chrom_persample = [joblib.load(_) for _ in all_dfs]"
   ]
  },
  {
   "cell_type": "code",
   "execution_count": 14,
   "id": "a002eb3d-4996-4fe9-804b-461f77cd44c9",
   "metadata": {},
   "outputs": [],
   "source": [
    "sample_sum = {}\n",
    "for chrom in chrom_persample:\n",
    "    for sample, values in chrom.items():\n",
    "        if sample not in sample_sum:\n",
    "            sample_sum[sample] = values\n",
    "        else:\n",
    "            sample_sum[sample] += values"
   ]
  },
  {
   "cell_type": "code",
   "execution_count": 27,
   "id": "3e5e6031-03d5-488c-96a2-601709f13188",
   "metadata": {},
   "outputs": [
    {
     "data": {
      "text/plain": [
       "7506675"
      ]
     },
     "execution_count": 27,
     "metadata": {},
     "output_type": "execute_result"
    }
   ],
   "source": [
    "sample_sum['HG00096'][:,:4].sum()"
   ]
  },
  {
   "cell_type": "code",
   "execution_count": 37,
   "id": "aa20a7a9-49a7-4ee0-923f-f334a6e6e679",
   "metadata": {},
   "outputs": [
    {
     "data": {
      "text/plain": [
       "array([0.20591961, 0.35057034, 0.65898265, 0.71786304, 0.49732879])"
      ]
     },
     "execution_count": 38,
     "metadata": {},
     "output_type": "execute_result"
    }
   ],
   "source": [
    "s = sample_sum['HG00096'][:, :4]\n",
    "s[1] / s.sum(axis=0)"
   ]
  },
  {
   "cell_type": "code",
   "execution_count": 28,
   "id": "cbdbc2d5-bd67-4b6f-abd8-4771eb0e8742",
   "metadata": {},
   "outputs": [
    {
     "data": {
      "text/html": [
       "<div>\n",
       "<style scoped>\n",
       "    .dataframe tbody tr th:only-of-type {\n",
       "        vertical-align: middle;\n",
       "    }\n",
       "\n",
       "    .dataframe tbody tr th {\n",
       "        vertical-align: top;\n",
       "    }\n",
       "\n",
       "    .dataframe thead th {\n",
       "        text-align: right;\n",
       "    }\n",
       "</style>\n",
       "<table border=\"1\" class=\"dataframe\">\n",
       "  <thead>\n",
       "    <tr style=\"text-align: right;\">\n",
       "      <th></th>\n",
       "      <th>sample</th>\n",
       "      <th>tot_vars</th>\n",
       "    </tr>\n",
       "  </thead>\n",
       "  <tbody>\n",
       "    <tr>\n",
       "      <th>0</th>\n",
       "      <td>HG00096</td>\n",
       "      <td>7506675</td>\n",
       "    </tr>\n",
       "    <tr>\n",
       "      <th>1</th>\n",
       "      <td>HG00171</td>\n",
       "      <td>7716979</td>\n",
       "    </tr>\n",
       "    <tr>\n",
       "      <th>2</th>\n",
       "      <td>HG00512</td>\n",
       "      <td>7950401</td>\n",
       "    </tr>\n",
       "    <tr>\n",
       "      <th>3</th>\n",
       "      <td>HG00513</td>\n",
       "      <td>7949054</td>\n",
       "    </tr>\n",
       "    <tr>\n",
       "      <th>4</th>\n",
       "      <td>HG00514</td>\n",
       "      <td>9854081</td>\n",
       "    </tr>\n",
       "    <tr>\n",
       "      <th>...</th>\n",
       "      <td>...</td>\n",
       "      <td>...</td>\n",
       "    </tr>\n",
       "    <tr>\n",
       "      <th>81</th>\n",
       "      <td>NA21309</td>\n",
       "      <td>7080185</td>\n",
       "    </tr>\n",
       "    <tr>\n",
       "      <th>82</th>\n",
       "      <td>li:HG00733</td>\n",
       "      <td>6550635</td>\n",
       "    </tr>\n",
       "    <tr>\n",
       "      <th>83</th>\n",
       "      <td>li:NA12878</td>\n",
       "      <td>6269644</td>\n",
       "    </tr>\n",
       "    <tr>\n",
       "      <th>84</th>\n",
       "      <td>li:NA24385</td>\n",
       "      <td>6307540</td>\n",
       "    </tr>\n",
       "    <tr>\n",
       "      <th>85</th>\n",
       "      <td>PGP1</td>\n",
       "      <td>6224782</td>\n",
       "    </tr>\n",
       "  </tbody>\n",
       "</table>\n",
       "<p>86 rows × 2 columns</p>\n",
       "</div>"
      ],
      "text/plain": [
       "        sample  tot_vars\n",
       "0      HG00096   7506675\n",
       "1      HG00171   7716979\n",
       "2      HG00512   7950401\n",
       "3      HG00513   7949054\n",
       "4      HG00514   9854081\n",
       "..         ...       ...\n",
       "81     NA21309   7080185\n",
       "82  li:HG00733   6550635\n",
       "83  li:NA12878   6269644\n",
       "84  li:NA24385   6307540\n",
       "85        PGP1   6224782\n",
       "\n",
       "[86 rows x 2 columns]"
      ]
     },
     "execution_count": 28,
     "metadata": {},
     "output_type": "execute_result"
    }
   ],
   "source": [
    "vars_per_sample = pd.DataFrame(\n",
    "                        [[k, v[:, :4].sum()] for k,v in sample_sum.items()],\n",
    "                        columns=['sample', 'tot_vars']\n",
    "                    )\n",
    "vars_per_sample"
   ]
  },
  {
   "cell_type": "code",
   "execution_count": 30,
   "id": "ad97d252-2756-40c9-8d6d-a5b08f5ecb54",
   "metadata": {},
   "outputs": [
    {
     "data": {
      "text/plain": [
       "count          86\n",
       "mean      7250447\n",
       "std        994311\n",
       "min       5774879\n",
       "25%       6258978\n",
       "50%       7250783\n",
       "75%       7765342\n",
       "max      10227465\n",
       "Name: tot_vars, dtype: int64"
      ]
     },
     "execution_count": 30,
     "metadata": {},
     "output_type": "execute_result"
    }
   ],
   "source": [
    "vars_per_sample['tot_vars'].describe().astype(int)"
   ]
  },
  {
   "cell_type": "code",
   "execution_count": 34,
   "id": "c842dcc3-5ad0-4b87-ae78-e9c4bf99f58d",
   "metadata": {},
   "outputs": [
    {
     "data": {
      "text/html": [
       "<div>\n",
       "<style scoped>\n",
       "    .dataframe tbody tr th:only-of-type {\n",
       "        vertical-align: middle;\n",
       "    }\n",
       "\n",
       "    .dataframe tbody tr th {\n",
       "        vertical-align: top;\n",
       "    }\n",
       "\n",
       "    .dataframe thead th {\n",
       "        text-align: right;\n",
       "    }\n",
       "</style>\n",
       "<table border=\"1\" class=\"dataframe\">\n",
       "  <thead>\n",
       "    <tr style=\"text-align: right;\">\n",
       "      <th></th>\n",
       "      <th>sample</th>\n",
       "      <th>pct_tr</th>\n",
       "    </tr>\n",
       "  </thead>\n",
       "  <tbody>\n",
       "    <tr>\n",
       "      <th>0</th>\n",
       "      <td>HG00096</td>\n",
       "      <td>0.241313</td>\n",
       "    </tr>\n",
       "    <tr>\n",
       "      <th>1</th>\n",
       "      <td>HG00171</td>\n",
       "      <td>0.245533</td>\n",
       "    </tr>\n",
       "    <tr>\n",
       "      <th>2</th>\n",
       "      <td>HG00512</td>\n",
       "      <td>0.233581</td>\n",
       "    </tr>\n",
       "    <tr>\n",
       "      <th>3</th>\n",
       "      <td>HG00513</td>\n",
       "      <td>0.237805</td>\n",
       "    </tr>\n",
       "    <tr>\n",
       "      <th>4</th>\n",
       "      <td>HG00514</td>\n",
       "      <td>0.227258</td>\n",
       "    </tr>\n",
       "    <tr>\n",
       "      <th>...</th>\n",
       "      <td>...</td>\n",
       "      <td>...</td>\n",
       "    </tr>\n",
       "    <tr>\n",
       "      <th>81</th>\n",
       "      <td>NA21309</td>\n",
       "      <td>0.253136</td>\n",
       "    </tr>\n",
       "    <tr>\n",
       "      <th>82</th>\n",
       "      <td>li:HG00733</td>\n",
       "      <td>0.254720</td>\n",
       "    </tr>\n",
       "    <tr>\n",
       "      <th>83</th>\n",
       "      <td>li:NA12878</td>\n",
       "      <td>0.251977</td>\n",
       "    </tr>\n",
       "    <tr>\n",
       "      <th>84</th>\n",
       "      <td>li:NA24385</td>\n",
       "      <td>0.253190</td>\n",
       "    </tr>\n",
       "    <tr>\n",
       "      <th>85</th>\n",
       "      <td>PGP1</td>\n",
       "      <td>0.254564</td>\n",
       "    </tr>\n",
       "  </tbody>\n",
       "</table>\n",
       "<p>86 rows × 2 columns</p>\n",
       "</div>"
      ],
      "text/plain": [
       "        sample    pct_tr\n",
       "0      HG00096  0.241313\n",
       "1      HG00171  0.245533\n",
       "2      HG00512  0.233581\n",
       "3      HG00513  0.237805\n",
       "4      HG00514  0.227258\n",
       "..         ...       ...\n",
       "81     NA21309  0.253136\n",
       "82  li:HG00733  0.254720\n",
       "83  li:NA12878  0.251977\n",
       "84  li:NA24385  0.253190\n",
       "85        PGP1  0.254564\n",
       "\n",
       "[86 rows x 2 columns]"
      ]
     },
     "execution_count": 34,
     "metadata": {},
     "output_type": "execute_result"
    }
   ],
   "source": [
    "def pct_tr(d):\n",
    "    s = d[:, :4]\n",
    "    return s[1].sum() / s.sum()\n",
    "\n",
    "pct_tr_per_sample = pd.DataFrame(\n",
    "                        [[k, pct_tr(v)] for k,v in sample_sum.items()],\n",
    "                        columns=['sample', 'pct_tr']\n",
    "                    )\n",
    "pct_tr_per_sample"
   ]
  },
  {
   "cell_type": "code",
   "execution_count": 39,
   "id": "2343e918-620a-4c67-a088-aec4b89fe2dc",
   "metadata": {},
   "outputs": [
    {
     "data": {
      "text/html": [
       "<div>\n",
       "<style scoped>\n",
       "    .dataframe tbody tr th:only-of-type {\n",
       "        vertical-align: middle;\n",
       "    }\n",
       "\n",
       "    .dataframe tbody tr th {\n",
       "        vertical-align: top;\n",
       "    }\n",
       "\n",
       "    .dataframe thead th {\n",
       "        text-align: right;\n",
       "    }\n",
       "</style>\n",
       "<table border=\"1\" class=\"dataframe\">\n",
       "  <thead>\n",
       "    <tr style=\"text-align: right;\">\n",
       "      <th></th>\n",
       "      <th>sample</th>\n",
       "      <th>snp</th>\n",
       "      <th>five</th>\n",
       "      <th>fifty</th>\n",
       "      <th>sv</th>\n",
       "      <th>len</th>\n",
       "    </tr>\n",
       "  </thead>\n",
       "  <tbody>\n",
       "    <tr>\n",
       "      <th>0</th>\n",
       "      <td>HG00096</td>\n",
       "      <td>0.205920</td>\n",
       "      <td>0.350570</td>\n",
       "      <td>0.658983</td>\n",
       "      <td>0.717863</td>\n",
       "      <td>0.497329</td>\n",
       "    </tr>\n",
       "    <tr>\n",
       "      <th>1</th>\n",
       "      <td>HG00171</td>\n",
       "      <td>0.211059</td>\n",
       "      <td>0.357604</td>\n",
       "      <td>0.663484</td>\n",
       "      <td>0.711061</td>\n",
       "      <td>0.485174</td>\n",
       "    </tr>\n",
       "    <tr>\n",
       "      <th>2</th>\n",
       "      <td>HG00512</td>\n",
       "      <td>0.198931</td>\n",
       "      <td>0.332674</td>\n",
       "      <td>0.659010</td>\n",
       "      <td>0.702700</td>\n",
       "      <td>0.462575</td>\n",
       "    </tr>\n",
       "    <tr>\n",
       "      <th>3</th>\n",
       "      <td>HG00513</td>\n",
       "      <td>0.202685</td>\n",
       "      <td>0.351580</td>\n",
       "      <td>0.662701</td>\n",
       "      <td>0.708800</td>\n",
       "      <td>0.471683</td>\n",
       "    </tr>\n",
       "    <tr>\n",
       "      <th>4</th>\n",
       "      <td>HG00514</td>\n",
       "      <td>0.205112</td>\n",
       "      <td>0.251086</td>\n",
       "      <td>0.658276</td>\n",
       "      <td>0.703133</td>\n",
       "      <td>0.444972</td>\n",
       "    </tr>\n",
       "    <tr>\n",
       "      <th>...</th>\n",
       "      <td>...</td>\n",
       "      <td>...</td>\n",
       "      <td>...</td>\n",
       "      <td>...</td>\n",
       "      <td>...</td>\n",
       "      <td>...</td>\n",
       "    </tr>\n",
       "    <tr>\n",
       "      <th>81</th>\n",
       "      <td>NA21309</td>\n",
       "      <td>0.212807</td>\n",
       "      <td>0.380759</td>\n",
       "      <td>0.669610</td>\n",
       "      <td>0.727189</td>\n",
       "      <td>0.470844</td>\n",
       "    </tr>\n",
       "    <tr>\n",
       "      <th>82</th>\n",
       "      <td>li:HG00733</td>\n",
       "      <td>0.217738</td>\n",
       "      <td>0.377267</td>\n",
       "      <td>0.668760</td>\n",
       "      <td>0.735432</td>\n",
       "      <td>0.507921</td>\n",
       "    </tr>\n",
       "    <tr>\n",
       "      <th>83</th>\n",
       "      <td>li:NA12878</td>\n",
       "      <td>0.213776</td>\n",
       "      <td>0.376909</td>\n",
       "      <td>0.667226</td>\n",
       "      <td>0.738703</td>\n",
       "      <td>0.489362</td>\n",
       "    </tr>\n",
       "    <tr>\n",
       "      <th>84</th>\n",
       "      <td>li:NA24385</td>\n",
       "      <td>0.212839</td>\n",
       "      <td>0.379759</td>\n",
       "      <td>0.665112</td>\n",
       "      <td>0.738439</td>\n",
       "      <td>0.518887</td>\n",
       "    </tr>\n",
       "    <tr>\n",
       "      <th>85</th>\n",
       "      <td>PGP1</td>\n",
       "      <td>0.217505</td>\n",
       "      <td>0.371881</td>\n",
       "      <td>0.665520</td>\n",
       "      <td>0.731073</td>\n",
       "      <td>0.493262</td>\n",
       "    </tr>\n",
       "  </tbody>\n",
       "</table>\n",
       "<p>86 rows × 6 columns</p>\n",
       "</div>"
      ],
      "text/plain": [
       "        sample       snp      five     fifty        sv       len\n",
       "0      HG00096  0.205920  0.350570  0.658983  0.717863  0.497329\n",
       "1      HG00171  0.211059  0.357604  0.663484  0.711061  0.485174\n",
       "2      HG00512  0.198931  0.332674  0.659010  0.702700  0.462575\n",
       "3      HG00513  0.202685  0.351580  0.662701  0.708800  0.471683\n",
       "4      HG00514  0.205112  0.251086  0.658276  0.703133  0.444972\n",
       "..         ...       ...       ...       ...       ...       ...\n",
       "81     NA21309  0.212807  0.380759  0.669610  0.727189  0.470844\n",
       "82  li:HG00733  0.217738  0.377267  0.668760  0.735432  0.507921\n",
       "83  li:NA12878  0.213776  0.376909  0.667226  0.738703  0.489362\n",
       "84  li:NA24385  0.212839  0.379759  0.665112  0.738439  0.518887\n",
       "85        PGP1  0.217505  0.371881  0.665520  0.731073  0.493262\n",
       "\n",
       "[86 rows x 6 columns]"
      ]
     },
     "execution_count": 39,
     "metadata": {},
     "output_type": "execute_result"
    }
   ],
   "source": [
    "def pct_tr_type(k, d):\n",
    "    ret = list(d[1] / d.sum(axis=0))\n",
    "    ret.insert(0, k)\n",
    "    return ret\n",
    "\n",
    "pct_tr_per_sample = pd.DataFrame(\n",
    "                        [pct_tr_type(k, v) for k,v in sample_sum.items()],\n",
    "                        columns=['sample', 'snp', 'five', 'fifty', 'sv', 'len']\n",
    "                    )\n",
    "pct_tr_per_sample"
   ]
  },
  {
   "cell_type": "code",
   "execution_count": 40,
   "id": "a282a2a2-9085-4c76-85f0-5bfa95a12731",
   "metadata": {},
   "outputs": [
    {
     "data": {
      "text/html": [
       "<div>\n",
       "<style scoped>\n",
       "    .dataframe tbody tr th:only-of-type {\n",
       "        vertical-align: middle;\n",
       "    }\n",
       "\n",
       "    .dataframe tbody tr th {\n",
       "        vertical-align: top;\n",
       "    }\n",
       "\n",
       "    .dataframe thead th {\n",
       "        text-align: right;\n",
       "    }\n",
       "</style>\n",
       "<table border=\"1\" class=\"dataframe\">\n",
       "  <thead>\n",
       "    <tr style=\"text-align: right;\">\n",
       "      <th></th>\n",
       "      <th>snp</th>\n",
       "      <th>five</th>\n",
       "      <th>fifty</th>\n",
       "      <th>sv</th>\n",
       "      <th>len</th>\n",
       "    </tr>\n",
       "  </thead>\n",
       "  <tbody>\n",
       "    <tr>\n",
       "      <th>count</th>\n",
       "      <td>86.000000</td>\n",
       "      <td>86.000000</td>\n",
       "      <td>86.000000</td>\n",
       "      <td>86.000000</td>\n",
       "      <td>86.000000</td>\n",
       "    </tr>\n",
       "    <tr>\n",
       "      <th>mean</th>\n",
       "      <td>0.212091</td>\n",
       "      <td>0.366297</td>\n",
       "      <td>0.666016</td>\n",
       "      <td>0.722369</td>\n",
       "      <td>0.464789</td>\n",
       "    </tr>\n",
       "    <tr>\n",
       "      <th>std</th>\n",
       "      <td>0.006840</td>\n",
       "      <td>0.025523</td>\n",
       "      <td>0.005652</td>\n",
       "      <td>0.011762</td>\n",
       "      <td>0.022267</td>\n",
       "    </tr>\n",
       "    <tr>\n",
       "      <th>min</th>\n",
       "      <td>0.189031</td>\n",
       "      <td>0.251086</td>\n",
       "      <td>0.654101</td>\n",
       "      <td>0.691322</td>\n",
       "      <td>0.401017</td>\n",
       "    </tr>\n",
       "    <tr>\n",
       "      <th>25%</th>\n",
       "      <td>0.208962</td>\n",
       "      <td>0.360253</td>\n",
       "      <td>0.661121</td>\n",
       "      <td>0.714486</td>\n",
       "      <td>0.450411</td>\n",
       "    </tr>\n",
       "    <tr>\n",
       "      <th>50%</th>\n",
       "      <td>0.214178</td>\n",
       "      <td>0.378982</td>\n",
       "      <td>0.668138</td>\n",
       "      <td>0.725985</td>\n",
       "      <td>0.465788</td>\n",
       "    </tr>\n",
       "    <tr>\n",
       "      <th>75%</th>\n",
       "      <td>0.216863</td>\n",
       "      <td>0.381000</td>\n",
       "      <td>0.670546</td>\n",
       "      <td>0.730871</td>\n",
       "      <td>0.481645</td>\n",
       "    </tr>\n",
       "    <tr>\n",
       "      <th>max</th>\n",
       "      <td>0.221400</td>\n",
       "      <td>0.386498</td>\n",
       "      <td>0.674651</td>\n",
       "      <td>0.739112</td>\n",
       "      <td>0.518887</td>\n",
       "    </tr>\n",
       "  </tbody>\n",
       "</table>\n",
       "</div>"
      ],
      "text/plain": [
       "             snp       five      fifty         sv        len\n",
       "count  86.000000  86.000000  86.000000  86.000000  86.000000\n",
       "mean    0.212091   0.366297   0.666016   0.722369   0.464789\n",
       "std     0.006840   0.025523   0.005652   0.011762   0.022267\n",
       "min     0.189031   0.251086   0.654101   0.691322   0.401017\n",
       "25%     0.208962   0.360253   0.661121   0.714486   0.450411\n",
       "50%     0.214178   0.378982   0.668138   0.725985   0.465788\n",
       "75%     0.216863   0.381000   0.670546   0.730871   0.481645\n",
       "max     0.221400   0.386498   0.674651   0.739112   0.518887"
      ]
     },
     "execution_count": 40,
     "metadata": {},
     "output_type": "execute_result"
    }
   ],
   "source": [
    "pct_tr_per_sample.describe()"
   ]
  },
  {
   "cell_type": "code",
   "execution_count": null,
   "id": "a494cbe0-6e2a-4cfc-9954-2cad3168881a",
   "metadata": {},
   "outputs": [],
   "source": []
  },
  {
   "cell_type": "code",
   "execution_count": null,
   "id": "40cc3094-bb50-41ae-b8f5-4226cd50c1a7",
   "metadata": {},
   "outputs": [],
   "source": []
  },
  {
   "cell_type": "code",
   "execution_count": null,
   "id": "50131914-dc1c-4375-a68b-d3aa63a81ddd",
   "metadata": {},
   "outputs": [],
   "source": []
  },
  {
   "cell_type": "code",
   "execution_count": 3,
   "id": "b7e706e0-e816-4db4-9d07-80aa8c19bcca",
   "metadata": {},
   "outputs": [],
   "source": [
    "pvcf = pd.read_csv(\"TRcatalog_pVCFcounts.txt.gz\", sep='\\t')"
   ]
  },
  {
   "cell_type": "code",
   "execution_count": 4,
   "id": "a5bbd7b1-81ab-4fc2-b256-4f4460a19b5e",
   "metadata": {},
   "outputs": [],
   "source": [
    "genome = pd.read_csv(\"genome_pVCFcounts.txt\", sep='\\t')"
   ]
  },
  {
   "cell_type": "code",
   "execution_count": 5,
   "id": "ebd9e2a0-a2e2-4a12-90a6-e64926d19c79",
   "metadata": {},
   "outputs": [
    {
     "data": {
      "text/plain": [
       "chrom          chr1chr2chr3chr4chr5chr6chr7chr8chr9chr10chr11...\n",
       "snp                                                    106410565\n",
       "five                                                    14421648\n",
       "fifty                                                    3138977\n",
       "sv                                                        763953\n",
       "total_len                                             1185371549\n",
       "total_count                                            124735143\n",
       "dtype: object"
      ]
     },
     "execution_count": 5,
     "metadata": {},
     "output_type": "execute_result"
    }
   ],
   "source": [
    "genome.sum()"
   ]
  },
  {
   "cell_type": "code",
   "execution_count": 6,
   "id": "52fa81f4-c56a-4ca4-ade1-5069d050a22b",
   "metadata": {},
   "outputs": [],
   "source": [
    "tots_g = genome.drop(columns=['chrom']).sum()\n",
    "tots_p = pvcf.drop(columns=['chrom', 'start', 'end']).sum()"
   ]
  },
  {
   "cell_type": "code",
   "execution_count": 7,
   "id": "5361c542-49b4-44d9-8326-a2c40ec75e39",
   "metadata": {},
   "outputs": [
    {
     "data": {
      "text/plain": [
       "snp            0.182234\n",
       "five           0.259509\n",
       "fifty          0.697908\n",
       "sv             0.742466\n",
       "total_len      0.410679\n",
       "total_count    0.207577\n",
       "dtype: float64"
      ]
     },
     "execution_count": 7,
     "metadata": {},
     "output_type": "execute_result"
    }
   ],
   "source": [
    "tots_p / tots_g"
   ]
  },
  {
   "cell_type": "code",
   "execution_count": 8,
   "id": "1c4393ca-2fbd-4a99-a57f-954a4d2e4e15",
   "metadata": {},
   "outputs": [
    {
     "data": {
      "text/plain": [
       "snp             19391644\n",
       "five             3742549\n",
       "fifty            2190718\n",
       "sv                567209\n",
       "total_len      486807444\n",
       "total_count     25892120\n",
       "dtype: int64"
      ]
     },
     "execution_count": 8,
     "metadata": {},
     "output_type": "execute_result"
    }
   ],
   "source": [
    "tots_p"
   ]
  },
  {
   "cell_type": "code",
   "execution_count": 19,
   "id": "ab37259b-2cec-4574-a540-842fcb037549",
   "metadata": {},
   "outputs": [
    {
     "data": {
      "text/plain": [
       "25892120"
      ]
     },
     "execution_count": 19,
     "metadata": {},
     "output_type": "execute_result"
    }
   ],
   "source": [
    "pvcf['total_count'].sum()"
   ]
  },
  {
   "cell_type": "code",
   "execution_count": 5,
   "id": "cce8acf8-5ba0-494c-83b9-879a1868ac58",
   "metadata": {},
   "outputs": [
    {
     "data": {
      "text/plain": [
       "0.2724349564433966"
      ]
     },
     "execution_count": 5,
     "metadata": {},
     "output_type": "execute_result"
    }
   ],
   "source": [
    "(pvcf['total_count'] == 0).mean()"
   ]
  },
  {
   "cell_type": "markdown",
   "id": "f66672f0-3500-499a-9205-4d8b947e423c",
   "metadata": {},
   "source": [
    "# What percent of the TR regions have no variants\n",
    "- no variants at all\n",
    "- no non-snps\n",
    "- no variants >= 5bp"
   ]
  },
  {
   "cell_type": "code",
   "execution_count": 41,
   "id": "a436234b-0e14-4830-9047-0034307c6f85",
   "metadata": {},
   "outputs": [
    {
     "data": {
      "text/html": [
       "<div>\n",
       "<style scoped>\n",
       "    .dataframe tbody tr th:only-of-type {\n",
       "        vertical-align: middle;\n",
       "    }\n",
       "\n",
       "    .dataframe tbody tr th {\n",
       "        vertical-align: top;\n",
       "    }\n",
       "\n",
       "    .dataframe thead th {\n",
       "        text-align: right;\n",
       "    }\n",
       "</style>\n",
       "<table border=\"1\" class=\"dataframe\">\n",
       "  <thead>\n",
       "    <tr style=\"text-align: right;\">\n",
       "      <th></th>\n",
       "      <th>chrom</th>\n",
       "      <th>start</th>\n",
       "      <th>end</th>\n",
       "      <th>snp</th>\n",
       "      <th>five</th>\n",
       "      <th>fifty</th>\n",
       "      <th>sv</th>\n",
       "      <th>total_len</th>\n",
       "      <th>total_count</th>\n",
       "    </tr>\n",
       "  </thead>\n",
       "  <tbody>\n",
       "    <tr>\n",
       "      <th>0</th>\n",
       "      <td>chr1</td>\n",
       "      <td>9975</td>\n",
       "      <td>10498</td>\n",
       "      <td>1165</td>\n",
       "      <td>54</td>\n",
       "      <td>5</td>\n",
       "      <td>3</td>\n",
       "      <td>491</td>\n",
       "      <td>1227</td>\n",
       "    </tr>\n",
       "    <tr>\n",
       "      <th>1</th>\n",
       "      <td>chr1</td>\n",
       "      <td>10602</td>\n",
       "      <td>11025</td>\n",
       "      <td>651</td>\n",
       "      <td>18</td>\n",
       "      <td>7</td>\n",
       "      <td>15</td>\n",
       "      <td>2684</td>\n",
       "      <td>691</td>\n",
       "    </tr>\n",
       "    <tr>\n",
       "      <th>2</th>\n",
       "      <td>chr1</td>\n",
       "      <td>11195</td>\n",
       "      <td>11472</td>\n",
       "      <td>91</td>\n",
       "      <td>7</td>\n",
       "      <td>0</td>\n",
       "      <td>0</td>\n",
       "      <td>7</td>\n",
       "      <td>98</td>\n",
       "    </tr>\n",
       "    <tr>\n",
       "      <th>3</th>\n",
       "      <td>chr1</td>\n",
       "      <td>15797</td>\n",
       "      <td>15871</td>\n",
       "      <td>14</td>\n",
       "      <td>4</td>\n",
       "      <td>0</td>\n",
       "      <td>0</td>\n",
       "      <td>4</td>\n",
       "      <td>18</td>\n",
       "    </tr>\n",
       "    <tr>\n",
       "      <th>4</th>\n",
       "      <td>chr1</td>\n",
       "      <td>16687</td>\n",
       "      <td>16768</td>\n",
       "      <td>11</td>\n",
       "      <td>4</td>\n",
       "      <td>2</td>\n",
       "      <td>0</td>\n",
       "      <td>24</td>\n",
       "      <td>17</td>\n",
       "    </tr>\n",
       "    <tr>\n",
       "      <th>...</th>\n",
       "      <td>...</td>\n",
       "      <td>...</td>\n",
       "      <td>...</td>\n",
       "      <td>...</td>\n",
       "      <td>...</td>\n",
       "      <td>...</td>\n",
       "      <td>...</td>\n",
       "      <td>...</td>\n",
       "      <td>...</td>\n",
       "    </tr>\n",
       "    <tr>\n",
       "      <th>1784799</th>\n",
       "      <td>chrY</td>\n",
       "      <td>56881152</td>\n",
       "      <td>56881235</td>\n",
       "      <td>14</td>\n",
       "      <td>6</td>\n",
       "      <td>5</td>\n",
       "      <td>0</td>\n",
       "      <td>51</td>\n",
       "      <td>25</td>\n",
       "    </tr>\n",
       "    <tr>\n",
       "      <th>1784800</th>\n",
       "      <td>chrY</td>\n",
       "      <td>56884295</td>\n",
       "      <td>56884465</td>\n",
       "      <td>227</td>\n",
       "      <td>12</td>\n",
       "      <td>13</td>\n",
       "      <td>0</td>\n",
       "      <td>205</td>\n",
       "      <td>252</td>\n",
       "    </tr>\n",
       "    <tr>\n",
       "      <th>1784801</th>\n",
       "      <td>chrY</td>\n",
       "      <td>56884637</td>\n",
       "      <td>56884703</td>\n",
       "      <td>109</td>\n",
       "      <td>2</td>\n",
       "      <td>0</td>\n",
       "      <td>0</td>\n",
       "      <td>2</td>\n",
       "      <td>111</td>\n",
       "    </tr>\n",
       "    <tr>\n",
       "      <th>1784802</th>\n",
       "      <td>chrY</td>\n",
       "      <td>56885593</td>\n",
       "      <td>56885665</td>\n",
       "      <td>89</td>\n",
       "      <td>3</td>\n",
       "      <td>0</td>\n",
       "      <td>0</td>\n",
       "      <td>5</td>\n",
       "      <td>92</td>\n",
       "    </tr>\n",
       "    <tr>\n",
       "      <th>1784803</th>\n",
       "      <td>chrY</td>\n",
       "      <td>56887086</td>\n",
       "      <td>56887171</td>\n",
       "      <td>150</td>\n",
       "      <td>7</td>\n",
       "      <td>0</td>\n",
       "      <td>0</td>\n",
       "      <td>11</td>\n",
       "      <td>157</td>\n",
       "    </tr>\n",
       "  </tbody>\n",
       "</table>\n",
       "<p>1784804 rows × 9 columns</p>\n",
       "</div>"
      ],
      "text/plain": [
       "        chrom     start       end   snp  five  fifty  sv  total_len  \\\n",
       "0        chr1      9975     10498  1165    54      5   3        491   \n",
       "1        chr1     10602     11025   651    18      7  15       2684   \n",
       "2        chr1     11195     11472    91     7      0   0          7   \n",
       "3        chr1     15797     15871    14     4      0   0          4   \n",
       "4        chr1     16687     16768    11     4      2   0         24   \n",
       "...       ...       ...       ...   ...   ...    ...  ..        ...   \n",
       "1784799  chrY  56881152  56881235    14     6      5   0         51   \n",
       "1784800  chrY  56884295  56884465   227    12     13   0        205   \n",
       "1784801  chrY  56884637  56884703   109     2      0   0          2   \n",
       "1784802  chrY  56885593  56885665    89     3      0   0          5   \n",
       "1784803  chrY  56887086  56887171   150     7      0   0         11   \n",
       "\n",
       "         total_count  \n",
       "0               1227  \n",
       "1                691  \n",
       "2                 98  \n",
       "3                 18  \n",
       "4                 17  \n",
       "...              ...  \n",
       "1784799           25  \n",
       "1784800          252  \n",
       "1784801          111  \n",
       "1784802           92  \n",
       "1784803          157  \n",
       "\n",
       "[1784804 rows x 9 columns]"
      ]
     },
     "execution_count": 41,
     "metadata": {},
     "output_type": "execute_result"
    }
   ],
   "source": [
    "pvcf"
   ]
  },
  {
   "cell_type": "code",
   "execution_count": 43,
   "id": "c42791e9-a74b-468e-8fc3-b060e8d6909a",
   "metadata": {},
   "outputs": [
    {
     "data": {
      "text/plain": [
       "0    62\n",
       "1    40\n",
       "2     7\n",
       "3     4\n",
       "4     6\n",
       "dtype: int64"
      ]
     },
     "execution_count": 43,
     "metadata": {},
     "output_type": "execute_result"
    }
   ],
   "source": [
    "pvcf.head()[['five', 'fifty', 'sv']].sum(axis=1)"
   ]
  },
  {
   "cell_type": "code",
   "execution_count": 44,
   "id": "7058e586-e06d-4af6-8da5-c52550cedd27",
   "metadata": {},
   "outputs": [
    {
     "name": "stdout",
     "output_type": "stream",
     "text": [
      "none at all 0.2724349564433966\n",
      "no non-snps 0.4745254941158805\n",
      "no >=5bp 0.810680612549053\n"
     ]
    }
   ],
   "source": [
    "print('none at all', (pvcf['total_count'] == 0).mean())\n",
    "print('no non-snps', (pvcf[['five', 'fifty', 'sv']].sum(axis=1) == 0).mean())\n",
    "print('no >=5bp', (pvcf[['fifty', 'sv']].sum(axis=1) == 0).mean())"
   ]
  },
  {
   "cell_type": "code",
   "execution_count": 46,
   "id": "a49a83f9-40fb-4ccb-ba05-0f88e18cc121",
   "metadata": {},
   "outputs": [],
   "source": [
    "# Total span of TR regions with any variation\n",
    "view = pvcf[(pvcf[['fifty', 'sv']].sum(axis=1) != 0)]"
   ]
  },
  {
   "cell_type": "code",
   "execution_count": 49,
   "id": "044eff3f-879c-4ded-a1f5-144ccda44b2f",
   "metadata": {},
   "outputs": [
    {
     "data": {
      "text/plain": [
       "0.03035558495591849"
      ]
     },
     "execution_count": 49,
     "metadata": {},
     "output_type": "execute_result"
    }
   ],
   "source": [
    "(view['end'] - view['start']).sum() / 2_923_715_986"
   ]
  },
  {
   "cell_type": "code",
   "execution_count": 53,
   "id": "4a27744b-ce8b-4567-94ad-a272e5493d51",
   "metadata": {},
   "outputs": [
    {
     "data": {
      "text/plain": [
       "0.706629890876854"
      ]
     },
     "execution_count": 53,
     "metadata": {},
     "output_type": "execute_result"
    }
   ],
   "source": [
    "tots_p[['fifty', 'sv']].sum() / tots_g[['fifty', 'sv']].sum()"
   ]
  },
  {
   "cell_type": "code",
   "execution_count": 74,
   "id": "84e21223-1593-4078-86da-7da9a04a74ff",
   "metadata": {},
   "outputs": [],
   "source": [
    "view[['chrom', 'start', 'end']].to_csv('TR_with_any_variant.bed', sep='\\t', header=False, index=False)"
   ]
  },
  {
   "cell_type": "code",
   "execution_count": 75,
   "id": "be5bc3da-9d02-4faf-8dae-f7127d3b58e1",
   "metadata": {},
   "outputs": [],
   "source": [
    "view = pvcf[(pvcf[['fifty', 'sv']].sum(axis=1) == 0)]\n",
    "view[['chrom', 'start', 'end']].to_csv('TR_without_any_variant.bed', sep='\\t', header=False, index=False)"
   ]
  },
  {
   "cell_type": "markdown",
   "id": "881c5191-c792-482c-884f-14f423992733",
   "metadata": {},
   "source": [
    "# Checking dbSNP"
   ]
  },
  {
   "cell_type": "code",
   "execution_count": 67,
   "id": "bb054fa6-9d1c-413e-b149-ea3d400ae38a",
   "metadata": {},
   "outputs": [],
   "source": [
    "sub = ['chrom', 'start', 'end']"
   ]
  },
  {
   "cell_type": "code",
   "execution_count": 69,
   "id": "201d0e6c-dd8c-4c81-ac32-b1e57618cdc7",
   "metadata": {},
   "outputs": [
    {
     "data": {
      "text/plain": [
       "(145464, 8)"
      ]
     },
     "execution_count": 69,
     "metadata": {},
     "output_type": "execute_result"
    }
   ],
   "source": [
    "all_dbsnp = (pd.read_csv(\"TRcatalog_chr1_dbSNPcounts.txt.gz\", sep='\\t')\n",
    "                    .groupby(sub)\n",
    "                    .sum()\n",
    "                   .reset_index())\n",
    "all_dbsnp.drop_duplicates(subset=sub).shape"
   ]
  },
  {
   "cell_type": "code",
   "execution_count": 71,
   "id": "4ef4b96f-1fd2-45ec-8e33-121eb64fcf1c",
   "metadata": {},
   "outputs": [
    {
     "data": {
      "text/plain": [
       "(115377, 8)"
      ]
     },
     "execution_count": 71,
     "metadata": {},
     "output_type": "execute_result"
    }
   ],
   "source": [
    "all_dbsnp[(all_dbsnp[['fifty', 'sv']].sum(axis=1) != 0)].shape"
   ]
  },
  {
   "cell_type": "code",
   "execution_count": 73,
   "id": "066f6cb9-ec00-43db-b621-628608181001",
   "metadata": {},
   "outputs": [
    {
     "data": {
      "text/plain": [
       "0.791326593599539"
      ]
     },
     "execution_count": 73,
     "metadata": {},
     "output_type": "execute_result"
    }
   ],
   "source": [
    "115377 / (pvcf['chrom'] == 'chr1').sum()"
   ]
  },
  {
   "cell_type": "code",
   "execution_count": 66,
   "id": "81f761b5-311c-4c3f-a287-745a5459bc42",
   "metadata": {},
   "outputs": [
    {
     "data": {
      "text/plain": [
       "(78988, 8)"
      ]
     },
     "execution_count": 66,
     "metadata": {},
     "output_type": "execute_result"
    }
   ],
   "source": [
    "common_dbsnp = (pd.read_csv(\"TRcatalog_chr1_dbSNP_commoncounts.txt.gz\", sep='\\t')\n",
    "                    .groupby(sub)\n",
    "                    .sum()\n",
    "                   .reset_index()\n",
    "               )\n",
    "common_dbsnp.drop_duplicates(subset=sub).shape"
   ]
  },
  {
   "cell_type": "code",
   "execution_count": 68,
   "id": "a0412f8b-7fe9-4344-a5d1-4c79b17e9a35",
   "metadata": {},
   "outputs": [
    {
     "data": {
      "text/plain": [
       "(37968, 8)"
      ]
     },
     "execution_count": 68,
     "metadata": {},
     "output_type": "execute_result"
    }
   ],
   "source": [
    "common_dbsnp[(common_dbsnp[['fifty', 'sv']].sum(axis=1) != 0)].shape"
   ]
  },
  {
   "cell_type": "code",
   "execution_count": 72,
   "id": "24235767-3923-4521-8880-d928b0ba5d53",
   "metadata": {},
   "outputs": [
    {
     "data": {
      "text/plain": [
       "0.26040795050822346"
      ]
     },
     "execution_count": 72,
     "metadata": {},
     "output_type": "execute_result"
    }
   ],
   "source": [
    "37968 / (pvcf['chrom'] == 'chr1').sum()"
   ]
  },
  {
   "cell_type": "code",
   "execution_count": null,
   "id": "aa0e9abc-17de-4047-905e-f712d174ad31",
   "metadata": {},
   "outputs": [],
   "source": []
  }
 ],
 "metadata": {
  "kernelspec": {
   "display_name": "Python 3 (ipykernel)",
   "language": "python",
   "name": "python3"
  },
  "language_info": {
   "codemirror_mode": {
    "name": "ipython",
    "version": 3
   },
   "file_extension": ".py",
   "mimetype": "text/x-python",
   "name": "python",
   "nbconvert_exporter": "python",
   "pygments_lexer": "ipython3",
   "version": "3.9.6"
  }
 },
 "nbformat": 4,
 "nbformat_minor": 5
}
