{
 "cells": [
  {
   "cell_type": "code",
   "execution_count": 12,
   "id": "f3b2c1ca-1ef9-4507-9d6f-fa2d950c4554",
   "metadata": {},
   "outputs": [],
   "source": [
    "import pandas as pd\n",
    "import seaborn as sb\n",
    "import glob\n",
    "import joblib\n",
    "import numpy as np"
   ]
  },
  {
   "cell_type": "code",
   "execution_count": null,
   "id": "1b99fffa-a2c0-48e5-b555-858774825208",
   "metadata": {},
   "outputs": [],
   "source": [
    "# Per sample numbers"
   ]
  },
  {
   "cell_type": "code",
   "execution_count": 11,
   "id": "022b27b0-60f4-4233-b189-2244b627a19a",
   "metadata": {},
   "outputs": [],
   "source": [
    "all_dfs = glob.glob(\"persamp_varnumbers/*jl\")\n",
    "chrom_persample = [joblib.load(_) for _ in all_dfs]"
   ]
  },
  {
   "cell_type": "code",
   "execution_count": 14,
   "id": "a002eb3d-4996-4fe9-804b-461f77cd44c9",
   "metadata": {},
   "outputs": [],
   "source": [
    "sample_sum = {}\n",
    "for chrom in chrom_persample:\n",
    "    for sample, values in chrom.items():\n",
    "        if sample not in sample_sum:\n",
    "            sample_sum[sample] = values\n",
    "        else:\n",
    "            sample_sum[sample] += values"
   ]
  },
  {
   "cell_type": "code",
   "execution_count": 27,
   "id": "3e5e6031-03d5-488c-96a2-601709f13188",
   "metadata": {},
   "outputs": [
    {
     "data": {
      "text/plain": [
       "7506675"
      ]
     },
     "execution_count": 27,
     "metadata": {},
     "output_type": "execute_result"
    }
   ],
   "source": [
    "sample_sum['HG00096'][:,:4].sum()"
   ]
  },
  {
   "cell_type": "code",
   "execution_count": 37,
   "id": "aa20a7a9-49a7-4ee0-923f-f334a6e6e679",
   "metadata": {},
   "outputs": [
    {
     "data": {
      "text/plain": [
       "array([0.20591961, 0.35057034, 0.65898265, 0.71786304, 0.49732879])"
      ]
     },
     "execution_count": 38,
     "metadata": {},
     "output_type": "execute_result"
    }
   ],
   "source": [
    "s = sample_sum['HG00096'][:, :4]\n",
    "s[1] / s.sum(axis=0)"
   ]
  },
  {
   "cell_type": "code",
   "execution_count": 28,
   "id": "cbdbc2d5-bd67-4b6f-abd8-4771eb0e8742",
   "metadata": {},
   "outputs": [
    {
     "data": {
      "text/html": [
       "<div>\n",
       "<style scoped>\n",
       "    .dataframe tbody tr th:only-of-type {\n",
       "        vertical-align: middle;\n",
       "    }\n",
       "\n",
       "    .dataframe tbody tr th {\n",
       "        vertical-align: top;\n",
       "    }\n",
       "\n",
       "    .dataframe thead th {\n",
       "        text-align: right;\n",
       "    }\n",
       "</style>\n",
       "<table border=\"1\" class=\"dataframe\">\n",
       "  <thead>\n",
       "    <tr style=\"text-align: right;\">\n",
       "      <th></th>\n",
       "      <th>sample</th>\n",
       "      <th>tot_vars</th>\n",
       "    </tr>\n",
       "  </thead>\n",
       "  <tbody>\n",
       "    <tr>\n",
       "      <th>0</th>\n",
       "      <td>HG00096</td>\n",
       "      <td>7506675</td>\n",
       "    </tr>\n",
       "    <tr>\n",
       "      <th>1</th>\n",
       "      <td>HG00171</td>\n",
       "      <td>7716979</td>\n",
       "    </tr>\n",
       "    <tr>\n",
       "      <th>2</th>\n",
       "      <td>HG00512</td>\n",
       "      <td>7950401</td>\n",
       "    </tr>\n",
       "    <tr>\n",
       "      <th>3</th>\n",
       "      <td>HG00513</td>\n",
       "      <td>7949054</td>\n",
       "    </tr>\n",
       "    <tr>\n",
       "      <th>4</th>\n",
       "      <td>HG00514</td>\n",
       "      <td>9854081</td>\n",
       "    </tr>\n",
       "    <tr>\n",
       "      <th>...</th>\n",
       "      <td>...</td>\n",
       "      <td>...</td>\n",
       "    </tr>\n",
       "    <tr>\n",
       "      <th>81</th>\n",
       "      <td>NA21309</td>\n",
       "      <td>7080185</td>\n",
       "    </tr>\n",
       "    <tr>\n",
       "      <th>82</th>\n",
       "      <td>li:HG00733</td>\n",
       "      <td>6550635</td>\n",
       "    </tr>\n",
       "    <tr>\n",
       "      <th>83</th>\n",
       "      <td>li:NA12878</td>\n",
       "      <td>6269644</td>\n",
       "    </tr>\n",
       "    <tr>\n",
       "      <th>84</th>\n",
       "      <td>li:NA24385</td>\n",
       "      <td>6307540</td>\n",
       "    </tr>\n",
       "    <tr>\n",
       "      <th>85</th>\n",
       "      <td>PGP1</td>\n",
       "      <td>6224782</td>\n",
       "    </tr>\n",
       "  </tbody>\n",
       "</table>\n",
       "<p>86 rows × 2 columns</p>\n",
       "</div>"
      ],
      "text/plain": [
       "        sample  tot_vars\n",
       "0      HG00096   7506675\n",
       "1      HG00171   7716979\n",
       "2      HG00512   7950401\n",
       "3      HG00513   7949054\n",
       "4      HG00514   9854081\n",
       "..         ...       ...\n",
       "81     NA21309   7080185\n",
       "82  li:HG00733   6550635\n",
       "83  li:NA12878   6269644\n",
       "84  li:NA24385   6307540\n",
       "85        PGP1   6224782\n",
       "\n",
       "[86 rows x 2 columns]"
      ]
     },
     "execution_count": 28,
     "metadata": {},
     "output_type": "execute_result"
    }
   ],
   "source": [
    "vars_per_sample = pd.DataFrame(\n",
    "                        [[k, v[:, :4].sum()] for k,v in sample_sum.items()],\n",
    "                        columns=['sample', 'tot_vars']\n",
    "                    )\n",
    "vars_per_sample"
   ]
  },
  {
   "cell_type": "code",
   "execution_count": 120,
   "id": "96b92d50-d24f-4b2c-93c7-2a230186e80b",
   "metadata": {},
   "outputs": [
    {
     "data": {
      "text/html": [
       "<div>\n",
       "<style scoped>\n",
       "    .dataframe tbody tr th:only-of-type {\n",
       "        vertical-align: middle;\n",
       "    }\n",
       "\n",
       "    .dataframe tbody tr th {\n",
       "        vertical-align: top;\n",
       "    }\n",
       "\n",
       "    .dataframe thead th {\n",
       "        text-align: right;\n",
       "    }\n",
       "</style>\n",
       "<table border=\"1\" class=\"dataframe\">\n",
       "  <thead>\n",
       "    <tr style=\"text-align: right;\">\n",
       "      <th></th>\n",
       "      <th>sample</th>\n",
       "      <th>tot_vars</th>\n",
       "    </tr>\n",
       "  </thead>\n",
       "  <tbody>\n",
       "    <tr>\n",
       "      <th>0</th>\n",
       "      <td>HG00096</td>\n",
       "      <td>1811460</td>\n",
       "    </tr>\n",
       "    <tr>\n",
       "      <th>1</th>\n",
       "      <td>HG00171</td>\n",
       "      <td>1894773</td>\n",
       "    </tr>\n",
       "    <tr>\n",
       "      <th>2</th>\n",
       "      <td>HG00512</td>\n",
       "      <td>1857063</td>\n",
       "    </tr>\n",
       "    <tr>\n",
       "      <th>3</th>\n",
       "      <td>HG00513</td>\n",
       "      <td>1890328</td>\n",
       "    </tr>\n",
       "    <tr>\n",
       "      <th>4</th>\n",
       "      <td>HG00514</td>\n",
       "      <td>2239416</td>\n",
       "    </tr>\n",
       "    <tr>\n",
       "      <th>...</th>\n",
       "      <td>...</td>\n",
       "      <td>...</td>\n",
       "    </tr>\n",
       "    <tr>\n",
       "      <th>81</th>\n",
       "      <td>NA21309</td>\n",
       "      <td>1792248</td>\n",
       "    </tr>\n",
       "    <tr>\n",
       "      <th>82</th>\n",
       "      <td>li:HG00733</td>\n",
       "      <td>1668579</td>\n",
       "    </tr>\n",
       "    <tr>\n",
       "      <th>83</th>\n",
       "      <td>li:NA12878</td>\n",
       "      <td>1579809</td>\n",
       "    </tr>\n",
       "    <tr>\n",
       "      <th>84</th>\n",
       "      <td>li:NA24385</td>\n",
       "      <td>1597005</td>\n",
       "    </tr>\n",
       "    <tr>\n",
       "      <th>85</th>\n",
       "      <td>PGP1</td>\n",
       "      <td>1584603</td>\n",
       "    </tr>\n",
       "  </tbody>\n",
       "</table>\n",
       "<p>86 rows × 2 columns</p>\n",
       "</div>"
      ],
      "text/plain": [
       "        sample  tot_vars\n",
       "0      HG00096   1811460\n",
       "1      HG00171   1894773\n",
       "2      HG00512   1857063\n",
       "3      HG00513   1890328\n",
       "4      HG00514   2239416\n",
       "..         ...       ...\n",
       "81     NA21309   1792248\n",
       "82  li:HG00733   1668579\n",
       "83  li:NA12878   1579809\n",
       "84  li:NA24385   1597005\n",
       "85        PGP1   1584603\n",
       "\n",
       "[86 rows x 2 columns]"
      ]
     },
     "execution_count": 120,
     "metadata": {},
     "output_type": "execute_result"
    }
   ],
   "source": [
    "tr_vars_per_sample = pd.DataFrame(\n",
    "                        [[k, v[1, :4].sum()] for k,v in sample_sum.items()],\n",
    "                        columns=['sample', 'tot_vars']\n",
    "                    )\n",
    "tr_vars_per_sample"
   ]
  },
  {
   "cell_type": "code",
   "execution_count": 30,
   "id": "ad97d252-2756-40c9-8d6d-a5b08f5ecb54",
   "metadata": {},
   "outputs": [
    {
     "data": {
      "text/plain": [
       "count          86\n",
       "mean      7250447\n",
       "std        994311\n",
       "min       5774879\n",
       "25%       6258978\n",
       "50%       7250783\n",
       "75%       7765342\n",
       "max      10227465\n",
       "Name: tot_vars, dtype: int64"
      ]
     },
     "execution_count": 30,
     "metadata": {},
     "output_type": "execute_result"
    }
   ],
   "source": [
    "vars_per_sample['tot_vars'].describe().astype(int)"
   ]
  },
  {
   "cell_type": "code",
   "execution_count": 123,
   "id": "c842dcc3-5ad0-4b87-ae78-e9c4bf99f58d",
   "metadata": {},
   "outputs": [
    {
     "data": {
      "text/html": [
       "<div>\n",
       "<style scoped>\n",
       "    .dataframe tbody tr th:only-of-type {\n",
       "        vertical-align: middle;\n",
       "    }\n",
       "\n",
       "    .dataframe tbody tr th {\n",
       "        vertical-align: top;\n",
       "    }\n",
       "\n",
       "    .dataframe thead th {\n",
       "        text-align: right;\n",
       "    }\n",
       "</style>\n",
       "<table border=\"1\" class=\"dataframe\">\n",
       "  <thead>\n",
       "    <tr style=\"text-align: right;\">\n",
       "      <th></th>\n",
       "      <th>sample</th>\n",
       "      <th>pct_tr</th>\n",
       "    </tr>\n",
       "  </thead>\n",
       "  <tbody>\n",
       "    <tr>\n",
       "      <th>0</th>\n",
       "      <td>HG00096</td>\n",
       "      <td>0.241313</td>\n",
       "    </tr>\n",
       "    <tr>\n",
       "      <th>1</th>\n",
       "      <td>HG00171</td>\n",
       "      <td>0.245533</td>\n",
       "    </tr>\n",
       "    <tr>\n",
       "      <th>2</th>\n",
       "      <td>HG00512</td>\n",
       "      <td>0.233581</td>\n",
       "    </tr>\n",
       "    <tr>\n",
       "      <th>3</th>\n",
       "      <td>HG00513</td>\n",
       "      <td>0.237805</td>\n",
       "    </tr>\n",
       "    <tr>\n",
       "      <th>4</th>\n",
       "      <td>HG00514</td>\n",
       "      <td>0.227258</td>\n",
       "    </tr>\n",
       "    <tr>\n",
       "      <th>...</th>\n",
       "      <td>...</td>\n",
       "      <td>...</td>\n",
       "    </tr>\n",
       "    <tr>\n",
       "      <th>81</th>\n",
       "      <td>NA21309</td>\n",
       "      <td>0.253136</td>\n",
       "    </tr>\n",
       "    <tr>\n",
       "      <th>82</th>\n",
       "      <td>li:HG00733</td>\n",
       "      <td>0.254720</td>\n",
       "    </tr>\n",
       "    <tr>\n",
       "      <th>83</th>\n",
       "      <td>li:NA12878</td>\n",
       "      <td>0.251977</td>\n",
       "    </tr>\n",
       "    <tr>\n",
       "      <th>84</th>\n",
       "      <td>li:NA24385</td>\n",
       "      <td>0.253190</td>\n",
       "    </tr>\n",
       "    <tr>\n",
       "      <th>85</th>\n",
       "      <td>PGP1</td>\n",
       "      <td>0.254564</td>\n",
       "    </tr>\n",
       "  </tbody>\n",
       "</table>\n",
       "<p>86 rows × 2 columns</p>\n",
       "</div>"
      ],
      "text/plain": [
       "        sample    pct_tr\n",
       "0      HG00096  0.241313\n",
       "1      HG00171  0.245533\n",
       "2      HG00512  0.233581\n",
       "3      HG00513  0.237805\n",
       "4      HG00514  0.227258\n",
       "..         ...       ...\n",
       "81     NA21309  0.253136\n",
       "82  li:HG00733  0.254720\n",
       "83  li:NA12878  0.251977\n",
       "84  li:NA24385  0.253190\n",
       "85        PGP1  0.254564\n",
       "\n",
       "[86 rows x 2 columns]"
      ]
     },
     "execution_count": 123,
     "metadata": {},
     "output_type": "execute_result"
    }
   ],
   "source": [
    "def pct_tr(d):\n",
    "    s = d[:, :4]\n",
    "    return s[1].sum() / s.sum()\n",
    "\n",
    "pct_tr_per_sample = pd.DataFrame(\n",
    "                        [[k, pct_tr(v)] for k,v in sample_sum.items()],\n",
    "                        columns=['sample', 'pct_tr']\n",
    "                    )\n",
    "pct_tr_per_sample"
   ]
  },
  {
   "cell_type": "code",
   "execution_count": 39,
   "id": "2343e918-620a-4c67-a088-aec4b89fe2dc",
   "metadata": {},
   "outputs": [
    {
     "data": {
      "text/html": [
       "<div>\n",
       "<style scoped>\n",
       "    .dataframe tbody tr th:only-of-type {\n",
       "        vertical-align: middle;\n",
       "    }\n",
       "\n",
       "    .dataframe tbody tr th {\n",
       "        vertical-align: top;\n",
       "    }\n",
       "\n",
       "    .dataframe thead th {\n",
       "        text-align: right;\n",
       "    }\n",
       "</style>\n",
       "<table border=\"1\" class=\"dataframe\">\n",
       "  <thead>\n",
       "    <tr style=\"text-align: right;\">\n",
       "      <th></th>\n",
       "      <th>sample</th>\n",
       "      <th>snp</th>\n",
       "      <th>five</th>\n",
       "      <th>fifty</th>\n",
       "      <th>sv</th>\n",
       "      <th>len</th>\n",
       "    </tr>\n",
       "  </thead>\n",
       "  <tbody>\n",
       "    <tr>\n",
       "      <th>0</th>\n",
       "      <td>HG00096</td>\n",
       "      <td>0.205920</td>\n",
       "      <td>0.350570</td>\n",
       "      <td>0.658983</td>\n",
       "      <td>0.717863</td>\n",
       "      <td>0.497329</td>\n",
       "    </tr>\n",
       "    <tr>\n",
       "      <th>1</th>\n",
       "      <td>HG00171</td>\n",
       "      <td>0.211059</td>\n",
       "      <td>0.357604</td>\n",
       "      <td>0.663484</td>\n",
       "      <td>0.711061</td>\n",
       "      <td>0.485174</td>\n",
       "    </tr>\n",
       "    <tr>\n",
       "      <th>2</th>\n",
       "      <td>HG00512</td>\n",
       "      <td>0.198931</td>\n",
       "      <td>0.332674</td>\n",
       "      <td>0.659010</td>\n",
       "      <td>0.702700</td>\n",
       "      <td>0.462575</td>\n",
       "    </tr>\n",
       "    <tr>\n",
       "      <th>3</th>\n",
       "      <td>HG00513</td>\n",
       "      <td>0.202685</td>\n",
       "      <td>0.351580</td>\n",
       "      <td>0.662701</td>\n",
       "      <td>0.708800</td>\n",
       "      <td>0.471683</td>\n",
       "    </tr>\n",
       "    <tr>\n",
       "      <th>4</th>\n",
       "      <td>HG00514</td>\n",
       "      <td>0.205112</td>\n",
       "      <td>0.251086</td>\n",
       "      <td>0.658276</td>\n",
       "      <td>0.703133</td>\n",
       "      <td>0.444972</td>\n",
       "    </tr>\n",
       "    <tr>\n",
       "      <th>...</th>\n",
       "      <td>...</td>\n",
       "      <td>...</td>\n",
       "      <td>...</td>\n",
       "      <td>...</td>\n",
       "      <td>...</td>\n",
       "      <td>...</td>\n",
       "    </tr>\n",
       "    <tr>\n",
       "      <th>81</th>\n",
       "      <td>NA21309</td>\n",
       "      <td>0.212807</td>\n",
       "      <td>0.380759</td>\n",
       "      <td>0.669610</td>\n",
       "      <td>0.727189</td>\n",
       "      <td>0.470844</td>\n",
       "    </tr>\n",
       "    <tr>\n",
       "      <th>82</th>\n",
       "      <td>li:HG00733</td>\n",
       "      <td>0.217738</td>\n",
       "      <td>0.377267</td>\n",
       "      <td>0.668760</td>\n",
       "      <td>0.735432</td>\n",
       "      <td>0.507921</td>\n",
       "    </tr>\n",
       "    <tr>\n",
       "      <th>83</th>\n",
       "      <td>li:NA12878</td>\n",
       "      <td>0.213776</td>\n",
       "      <td>0.376909</td>\n",
       "      <td>0.667226</td>\n",
       "      <td>0.738703</td>\n",
       "      <td>0.489362</td>\n",
       "    </tr>\n",
       "    <tr>\n",
       "      <th>84</th>\n",
       "      <td>li:NA24385</td>\n",
       "      <td>0.212839</td>\n",
       "      <td>0.379759</td>\n",
       "      <td>0.665112</td>\n",
       "      <td>0.738439</td>\n",
       "      <td>0.518887</td>\n",
       "    </tr>\n",
       "    <tr>\n",
       "      <th>85</th>\n",
       "      <td>PGP1</td>\n",
       "      <td>0.217505</td>\n",
       "      <td>0.371881</td>\n",
       "      <td>0.665520</td>\n",
       "      <td>0.731073</td>\n",
       "      <td>0.493262</td>\n",
       "    </tr>\n",
       "  </tbody>\n",
       "</table>\n",
       "<p>86 rows × 6 columns</p>\n",
       "</div>"
      ],
      "text/plain": [
       "        sample       snp      five     fifty        sv       len\n",
       "0      HG00096  0.205920  0.350570  0.658983  0.717863  0.497329\n",
       "1      HG00171  0.211059  0.357604  0.663484  0.711061  0.485174\n",
       "2      HG00512  0.198931  0.332674  0.659010  0.702700  0.462575\n",
       "3      HG00513  0.202685  0.351580  0.662701  0.708800  0.471683\n",
       "4      HG00514  0.205112  0.251086  0.658276  0.703133  0.444972\n",
       "..         ...       ...       ...       ...       ...       ...\n",
       "81     NA21309  0.212807  0.380759  0.669610  0.727189  0.470844\n",
       "82  li:HG00733  0.217738  0.377267  0.668760  0.735432  0.507921\n",
       "83  li:NA12878  0.213776  0.376909  0.667226  0.738703  0.489362\n",
       "84  li:NA24385  0.212839  0.379759  0.665112  0.738439  0.518887\n",
       "85        PGP1  0.217505  0.371881  0.665520  0.731073  0.493262\n",
       "\n",
       "[86 rows x 6 columns]"
      ]
     },
     "execution_count": 39,
     "metadata": {},
     "output_type": "execute_result"
    }
   ],
   "source": [
    "def pct_tr_type(k, d):\n",
    "    ret = list(d[1] / d.sum(axis=0))\n",
    "    ret.insert(0, k)\n",
    "    return ret\n",
    "\n",
    "pct_tr_per_sample = pd.DataFrame(\n",
    "                        [pct_tr_type(k, v) for k,v in sample_sum.items()],\n",
    "                        columns=['sample', 'snp', 'five', 'fifty', 'sv', 'len']\n",
    "                    )\n",
    "pct_tr_per_sample"
   ]
  },
  {
   "cell_type": "code",
   "execution_count": 40,
   "id": "a282a2a2-9085-4c76-85f0-5bfa95a12731",
   "metadata": {},
   "outputs": [
    {
     "data": {
      "text/html": [
       "<div>\n",
       "<style scoped>\n",
       "    .dataframe tbody tr th:only-of-type {\n",
       "        vertical-align: middle;\n",
       "    }\n",
       "\n",
       "    .dataframe tbody tr th {\n",
       "        vertical-align: top;\n",
       "    }\n",
       "\n",
       "    .dataframe thead th {\n",
       "        text-align: right;\n",
       "    }\n",
       "</style>\n",
       "<table border=\"1\" class=\"dataframe\">\n",
       "  <thead>\n",
       "    <tr style=\"text-align: right;\">\n",
       "      <th></th>\n",
       "      <th>snp</th>\n",
       "      <th>five</th>\n",
       "      <th>fifty</th>\n",
       "      <th>sv</th>\n",
       "      <th>len</th>\n",
       "    </tr>\n",
       "  </thead>\n",
       "  <tbody>\n",
       "    <tr>\n",
       "      <th>count</th>\n",
       "      <td>86.000000</td>\n",
       "      <td>86.000000</td>\n",
       "      <td>86.000000</td>\n",
       "      <td>86.000000</td>\n",
       "      <td>86.000000</td>\n",
       "    </tr>\n",
       "    <tr>\n",
       "      <th>mean</th>\n",
       "      <td>0.212091</td>\n",
       "      <td>0.366297</td>\n",
       "      <td>0.666016</td>\n",
       "      <td>0.722369</td>\n",
       "      <td>0.464789</td>\n",
       "    </tr>\n",
       "    <tr>\n",
       "      <th>std</th>\n",
       "      <td>0.006840</td>\n",
       "      <td>0.025523</td>\n",
       "      <td>0.005652</td>\n",
       "      <td>0.011762</td>\n",
       "      <td>0.022267</td>\n",
       "    </tr>\n",
       "    <tr>\n",
       "      <th>min</th>\n",
       "      <td>0.189031</td>\n",
       "      <td>0.251086</td>\n",
       "      <td>0.654101</td>\n",
       "      <td>0.691322</td>\n",
       "      <td>0.401017</td>\n",
       "    </tr>\n",
       "    <tr>\n",
       "      <th>25%</th>\n",
       "      <td>0.208962</td>\n",
       "      <td>0.360253</td>\n",
       "      <td>0.661121</td>\n",
       "      <td>0.714486</td>\n",
       "      <td>0.450411</td>\n",
       "    </tr>\n",
       "    <tr>\n",
       "      <th>50%</th>\n",
       "      <td>0.214178</td>\n",
       "      <td>0.378982</td>\n",
       "      <td>0.668138</td>\n",
       "      <td>0.725985</td>\n",
       "      <td>0.465788</td>\n",
       "    </tr>\n",
       "    <tr>\n",
       "      <th>75%</th>\n",
       "      <td>0.216863</td>\n",
       "      <td>0.381000</td>\n",
       "      <td>0.670546</td>\n",
       "      <td>0.730871</td>\n",
       "      <td>0.481645</td>\n",
       "    </tr>\n",
       "    <tr>\n",
       "      <th>max</th>\n",
       "      <td>0.221400</td>\n",
       "      <td>0.386498</td>\n",
       "      <td>0.674651</td>\n",
       "      <td>0.739112</td>\n",
       "      <td>0.518887</td>\n",
       "    </tr>\n",
       "  </tbody>\n",
       "</table>\n",
       "</div>"
      ],
      "text/plain": [
       "             snp       five      fifty         sv        len\n",
       "count  86.000000  86.000000  86.000000  86.000000  86.000000\n",
       "mean    0.212091   0.366297   0.666016   0.722369   0.464789\n",
       "std     0.006840   0.025523   0.005652   0.011762   0.022267\n",
       "min     0.189031   0.251086   0.654101   0.691322   0.401017\n",
       "25%     0.208962   0.360253   0.661121   0.714486   0.450411\n",
       "50%     0.214178   0.378982   0.668138   0.725985   0.465788\n",
       "75%     0.216863   0.381000   0.670546   0.730871   0.481645\n",
       "max     0.221400   0.386498   0.674651   0.739112   0.518887"
      ]
     },
     "execution_count": 40,
     "metadata": {},
     "output_type": "execute_result"
    }
   ],
   "source": [
    "pct_tr_per_sample.describe()"
   ]
  },
  {
   "cell_type": "code",
   "execution_count": null,
   "id": "a494cbe0-6e2a-4cfc-9954-2cad3168881a",
   "metadata": {},
   "outputs": [],
   "source": []
  },
  {
   "cell_type": "code",
   "execution_count": null,
   "id": "40cc3094-bb50-41ae-b8f5-4226cd50c1a7",
   "metadata": {},
   "outputs": [],
   "source": []
  },
  {
   "cell_type": "code",
   "execution_count": null,
   "id": "50131914-dc1c-4375-a68b-d3aa63a81ddd",
   "metadata": {},
   "outputs": [],
   "source": []
  },
  {
   "cell_type": "code",
   "execution_count": 3,
   "id": "b7e706e0-e816-4db4-9d07-80aa8c19bcca",
   "metadata": {},
   "outputs": [],
   "source": [
    "pvcf = pd.read_csv(\"TRcatalog_pVCFcounts.txt.gz\", sep='\\t')"
   ]
  },
  {
   "cell_type": "code",
   "execution_count": 4,
   "id": "a5bbd7b1-81ab-4fc2-b256-4f4460a19b5e",
   "metadata": {},
   "outputs": [],
   "source": [
    "genome = pd.read_csv(\"genome_pVCFcounts.txt\", sep='\\t')"
   ]
  },
  {
   "cell_type": "code",
   "execution_count": 5,
   "id": "ebd9e2a0-a2e2-4a12-90a6-e64926d19c79",
   "metadata": {},
   "outputs": [
    {
     "data": {
      "text/plain": [
       "chrom          chr1chr2chr3chr4chr5chr6chr7chr8chr9chr10chr11...\n",
       "snp                                                    106410565\n",
       "five                                                    14421648\n",
       "fifty                                                    3138977\n",
       "sv                                                        763953\n",
       "total_len                                             1185371549\n",
       "total_count                                            124735143\n",
       "dtype: object"
      ]
     },
     "execution_count": 5,
     "metadata": {},
     "output_type": "execute_result"
    }
   ],
   "source": [
    "genome.sum()"
   ]
  },
  {
   "cell_type": "code",
   "execution_count": 6,
   "id": "52fa81f4-c56a-4ca4-ade1-5069d050a22b",
   "metadata": {},
   "outputs": [],
   "source": [
    "tots_g = genome.drop(columns=['chrom']).sum()\n",
    "tots_p = pvcf.drop(columns=['chrom', 'start', 'end']).sum()"
   ]
  },
  {
   "cell_type": "code",
   "execution_count": 7,
   "id": "5361c542-49b4-44d9-8326-a2c40ec75e39",
   "metadata": {},
   "outputs": [
    {
     "data": {
      "text/plain": [
       "snp            0.182234\n",
       "five           0.259509\n",
       "fifty          0.697908\n",
       "sv             0.742466\n",
       "total_len      0.410679\n",
       "total_count    0.207577\n",
       "dtype: float64"
      ]
     },
     "execution_count": 7,
     "metadata": {},
     "output_type": "execute_result"
    }
   ],
   "source": [
    "tots_p / tots_g"
   ]
  },
  {
   "cell_type": "code",
   "execution_count": 8,
   "id": "1c4393ca-2fbd-4a99-a57f-954a4d2e4e15",
   "metadata": {},
   "outputs": [
    {
     "data": {
      "text/plain": [
       "snp             19391644\n",
       "five             3742549\n",
       "fifty            2190718\n",
       "sv                567209\n",
       "total_len      486807444\n",
       "total_count     25892120\n",
       "dtype: int64"
      ]
     },
     "execution_count": 8,
     "metadata": {},
     "output_type": "execute_result"
    }
   ],
   "source": [
    "tots_p"
   ]
  },
  {
   "cell_type": "code",
   "execution_count": 19,
   "id": "ab37259b-2cec-4574-a540-842fcb037549",
   "metadata": {},
   "outputs": [
    {
     "data": {
      "text/plain": [
       "25892120"
      ]
     },
     "execution_count": 19,
     "metadata": {},
     "output_type": "execute_result"
    }
   ],
   "source": [
    "pvcf['total_count'].sum()"
   ]
  },
  {
   "cell_type": "code",
   "execution_count": 5,
   "id": "cce8acf8-5ba0-494c-83b9-879a1868ac58",
   "metadata": {},
   "outputs": [
    {
     "data": {
      "text/plain": [
       "0.2724349564433966"
      ]
     },
     "execution_count": 5,
     "metadata": {},
     "output_type": "execute_result"
    }
   ],
   "source": [
    "(pvcf['total_count'] == 0).mean()"
   ]
  },
  {
   "cell_type": "markdown",
   "id": "f66672f0-3500-499a-9205-4d8b947e423c",
   "metadata": {},
   "source": [
    "# What percent of the TR regions have no variants\n",
    "- no variants at all\n",
    "- no non-snps\n",
    "- no variants >= 5bp"
   ]
  },
  {
   "cell_type": "code",
   "execution_count": 41,
   "id": "a436234b-0e14-4830-9047-0034307c6f85",
   "metadata": {},
   "outputs": [
    {
     "data": {
      "text/html": [
       "<div>\n",
       "<style scoped>\n",
       "    .dataframe tbody tr th:only-of-type {\n",
       "        vertical-align: middle;\n",
       "    }\n",
       "\n",
       "    .dataframe tbody tr th {\n",
       "        vertical-align: top;\n",
       "    }\n",
       "\n",
       "    .dataframe thead th {\n",
       "        text-align: right;\n",
       "    }\n",
       "</style>\n",
       "<table border=\"1\" class=\"dataframe\">\n",
       "  <thead>\n",
       "    <tr style=\"text-align: right;\">\n",
       "      <th></th>\n",
       "      <th>chrom</th>\n",
       "      <th>start</th>\n",
       "      <th>end</th>\n",
       "      <th>snp</th>\n",
       "      <th>five</th>\n",
       "      <th>fifty</th>\n",
       "      <th>sv</th>\n",
       "      <th>total_len</th>\n",
       "      <th>total_count</th>\n",
       "    </tr>\n",
       "  </thead>\n",
       "  <tbody>\n",
       "    <tr>\n",
       "      <th>0</th>\n",
       "      <td>chr1</td>\n",
       "      <td>9975</td>\n",
       "      <td>10498</td>\n",
       "      <td>1165</td>\n",
       "      <td>54</td>\n",
       "      <td>5</td>\n",
       "      <td>3</td>\n",
       "      <td>491</td>\n",
       "      <td>1227</td>\n",
       "    </tr>\n",
       "    <tr>\n",
       "      <th>1</th>\n",
       "      <td>chr1</td>\n",
       "      <td>10602</td>\n",
       "      <td>11025</td>\n",
       "      <td>651</td>\n",
       "      <td>18</td>\n",
       "      <td>7</td>\n",
       "      <td>15</td>\n",
       "      <td>2684</td>\n",
       "      <td>691</td>\n",
       "    </tr>\n",
       "    <tr>\n",
       "      <th>2</th>\n",
       "      <td>chr1</td>\n",
       "      <td>11195</td>\n",
       "      <td>11472</td>\n",
       "      <td>91</td>\n",
       "      <td>7</td>\n",
       "      <td>0</td>\n",
       "      <td>0</td>\n",
       "      <td>7</td>\n",
       "      <td>98</td>\n",
       "    </tr>\n",
       "    <tr>\n",
       "      <th>3</th>\n",
       "      <td>chr1</td>\n",
       "      <td>15797</td>\n",
       "      <td>15871</td>\n",
       "      <td>14</td>\n",
       "      <td>4</td>\n",
       "      <td>0</td>\n",
       "      <td>0</td>\n",
       "      <td>4</td>\n",
       "      <td>18</td>\n",
       "    </tr>\n",
       "    <tr>\n",
       "      <th>4</th>\n",
       "      <td>chr1</td>\n",
       "      <td>16687</td>\n",
       "      <td>16768</td>\n",
       "      <td>11</td>\n",
       "      <td>4</td>\n",
       "      <td>2</td>\n",
       "      <td>0</td>\n",
       "      <td>24</td>\n",
       "      <td>17</td>\n",
       "    </tr>\n",
       "    <tr>\n",
       "      <th>...</th>\n",
       "      <td>...</td>\n",
       "      <td>...</td>\n",
       "      <td>...</td>\n",
       "      <td>...</td>\n",
       "      <td>...</td>\n",
       "      <td>...</td>\n",
       "      <td>...</td>\n",
       "      <td>...</td>\n",
       "      <td>...</td>\n",
       "    </tr>\n",
       "    <tr>\n",
       "      <th>1784799</th>\n",
       "      <td>chrY</td>\n",
       "      <td>56881152</td>\n",
       "      <td>56881235</td>\n",
       "      <td>14</td>\n",
       "      <td>6</td>\n",
       "      <td>5</td>\n",
       "      <td>0</td>\n",
       "      <td>51</td>\n",
       "      <td>25</td>\n",
       "    </tr>\n",
       "    <tr>\n",
       "      <th>1784800</th>\n",
       "      <td>chrY</td>\n",
       "      <td>56884295</td>\n",
       "      <td>56884465</td>\n",
       "      <td>227</td>\n",
       "      <td>12</td>\n",
       "      <td>13</td>\n",
       "      <td>0</td>\n",
       "      <td>205</td>\n",
       "      <td>252</td>\n",
       "    </tr>\n",
       "    <tr>\n",
       "      <th>1784801</th>\n",
       "      <td>chrY</td>\n",
       "      <td>56884637</td>\n",
       "      <td>56884703</td>\n",
       "      <td>109</td>\n",
       "      <td>2</td>\n",
       "      <td>0</td>\n",
       "      <td>0</td>\n",
       "      <td>2</td>\n",
       "      <td>111</td>\n",
       "    </tr>\n",
       "    <tr>\n",
       "      <th>1784802</th>\n",
       "      <td>chrY</td>\n",
       "      <td>56885593</td>\n",
       "      <td>56885665</td>\n",
       "      <td>89</td>\n",
       "      <td>3</td>\n",
       "      <td>0</td>\n",
       "      <td>0</td>\n",
       "      <td>5</td>\n",
       "      <td>92</td>\n",
       "    </tr>\n",
       "    <tr>\n",
       "      <th>1784803</th>\n",
       "      <td>chrY</td>\n",
       "      <td>56887086</td>\n",
       "      <td>56887171</td>\n",
       "      <td>150</td>\n",
       "      <td>7</td>\n",
       "      <td>0</td>\n",
       "      <td>0</td>\n",
       "      <td>11</td>\n",
       "      <td>157</td>\n",
       "    </tr>\n",
       "  </tbody>\n",
       "</table>\n",
       "<p>1784804 rows × 9 columns</p>\n",
       "</div>"
      ],
      "text/plain": [
       "        chrom     start       end   snp  five  fifty  sv  total_len  \\\n",
       "0        chr1      9975     10498  1165    54      5   3        491   \n",
       "1        chr1     10602     11025   651    18      7  15       2684   \n",
       "2        chr1     11195     11472    91     7      0   0          7   \n",
       "3        chr1     15797     15871    14     4      0   0          4   \n",
       "4        chr1     16687     16768    11     4      2   0         24   \n",
       "...       ...       ...       ...   ...   ...    ...  ..        ...   \n",
       "1784799  chrY  56881152  56881235    14     6      5   0         51   \n",
       "1784800  chrY  56884295  56884465   227    12     13   0        205   \n",
       "1784801  chrY  56884637  56884703   109     2      0   0          2   \n",
       "1784802  chrY  56885593  56885665    89     3      0   0          5   \n",
       "1784803  chrY  56887086  56887171   150     7      0   0         11   \n",
       "\n",
       "         total_count  \n",
       "0               1227  \n",
       "1                691  \n",
       "2                 98  \n",
       "3                 18  \n",
       "4                 17  \n",
       "...              ...  \n",
       "1784799           25  \n",
       "1784800          252  \n",
       "1784801          111  \n",
       "1784802           92  \n",
       "1784803          157  \n",
       "\n",
       "[1784804 rows x 9 columns]"
      ]
     },
     "execution_count": 41,
     "metadata": {},
     "output_type": "execute_result"
    }
   ],
   "source": [
    "pvcf"
   ]
  },
  {
   "cell_type": "code",
   "execution_count": 43,
   "id": "c42791e9-a74b-468e-8fc3-b060e8d6909a",
   "metadata": {},
   "outputs": [
    {
     "data": {
      "text/plain": [
       "0    62\n",
       "1    40\n",
       "2     7\n",
       "3     4\n",
       "4     6\n",
       "dtype: int64"
      ]
     },
     "execution_count": 43,
     "metadata": {},
     "output_type": "execute_result"
    }
   ],
   "source": [
    "pvcf.head()[['five', 'fifty', 'sv']].sum(axis=1)"
   ]
  },
  {
   "cell_type": "code",
   "execution_count": 44,
   "id": "7058e586-e06d-4af6-8da5-c52550cedd27",
   "metadata": {},
   "outputs": [
    {
     "name": "stdout",
     "output_type": "stream",
     "text": [
      "none at all 0.2724349564433966\n",
      "no non-snps 0.4745254941158805\n",
      "no >=5bp 0.810680612549053\n"
     ]
    }
   ],
   "source": [
    "print('none at all', (pvcf['total_count'] == 0).mean())\n",
    "print('no non-snps', (pvcf[['five', 'fifty', 'sv']].sum(axis=1) == 0).mean())\n",
    "print('no >=5bp', (pvcf[['fifty', 'sv']].sum(axis=1) == 0).mean())"
   ]
  },
  {
   "cell_type": "code",
   "execution_count": 76,
   "id": "a49a83f9-40fb-4ccb-ba05-0f88e18cc121",
   "metadata": {},
   "outputs": [],
   "source": [
    "# Total span of TR regions with any variation\n",
    "with_any = pvcf[(pvcf[['fifty', 'sv']].sum(axis=1) != 0)]"
   ]
  },
  {
   "cell_type": "code",
   "execution_count": 77,
   "id": "044eff3f-879c-4ded-a1f5-144ccda44b2f",
   "metadata": {},
   "outputs": [
    {
     "data": {
      "text/plain": [
       "0.03035558495591849"
      ]
     },
     "execution_count": 77,
     "metadata": {},
     "output_type": "execute_result"
    }
   ],
   "source": [
    "(with_any['end'] - with_any['start']).sum() / 2_923_715_986"
   ]
  },
  {
   "cell_type": "code",
   "execution_count": 53,
   "id": "4a27744b-ce8b-4567-94ad-a272e5493d51",
   "metadata": {},
   "outputs": [
    {
     "data": {
      "text/plain": [
       "0.706629890876854"
      ]
     },
     "execution_count": 53,
     "metadata": {},
     "output_type": "execute_result"
    }
   ],
   "source": [
    "tots_p[['fifty', 'sv']].sum() / tots_g[['fifty', 'sv']].sum()"
   ]
  },
  {
   "cell_type": "code",
   "execution_count": 74,
   "id": "84e21223-1593-4078-86da-7da9a04a74ff",
   "metadata": {},
   "outputs": [],
   "source": [
    "with_any[['chrom', 'start', 'end']].to_csv('TR_with_any_variant.bed', sep='\\t', header=False, index=False)"
   ]
  },
  {
   "cell_type": "code",
   "execution_count": 78,
   "id": "be5bc3da-9d02-4faf-8dae-f7127d3b58e1",
   "metadata": {},
   "outputs": [],
   "source": [
    "without_any = pvcf[(pvcf[['fifty', 'sv']].sum(axis=1) == 0)]\n",
    "without_any[['chrom', 'start', 'end']].to_csv('TR_without_any_variant.bed', sep='\\t', header=False, index=False)"
   ]
  },
  {
   "cell_type": "code",
   "execution_count": 81,
   "id": "469b5f72-89a0-408a-b72c-d12fe766cb3d",
   "metadata": {},
   "outputs": [],
   "source": [
    "all_tr = pd.read_csv(\"../../regions/adotto_TRregions_v1.1.bed\", sep='\\t')"
   ]
  },
  {
   "cell_type": "code",
   "execution_count": 83,
   "id": "a1d6bd15-12d8-4416-9e6f-6ac78a82ef67",
   "metadata": {},
   "outputs": [],
   "source": [
    "all_tr = all_tr.rename(columns={'chr':'chrom'}).set_index(['chrom', 'start', 'end'])"
   ]
  },
  {
   "cell_type": "code",
   "execution_count": 128,
   "id": "ca705822-77c2-4f97-82ff-7ee0d76c4eb7",
   "metadata": {},
   "outputs": [
    {
     "data": {
      "text/plain": [
       "62"
      ]
     },
     "execution_count": 128,
     "metadata": {},
     "output_type": "execute_result"
    }
   ],
   "source": [
    "(all_tr['patho'] != '.').sum()"
   ]
  },
  {
   "cell_type": "code",
   "execution_count": null,
   "id": "09707618-29ce-4dab-a5cf-6b116d159b92",
   "metadata": {},
   "outputs": [],
   "source": [
    "with_any = with_any.set_index(['chrom', 'start', 'end'])\n",
    "m_with = all_tr.loc[with_any.index]\n",
    "without_any = without_any.set_index(['chrom', 'start', 'end'])\n",
    "m_without = all_tr.loc[without_any.index]"
   ]
  },
  {
   "cell_type": "code",
   "execution_count": 127,
   "id": "6ab17fd2-065f-42d1-a68d-d1a21034f619",
   "metadata": {},
   "outputs": [
    {
     "data": {
      "text/plain": [
       "10"
      ]
     },
     "execution_count": 127,
     "metadata": {},
     "output_type": "execute_result"
    }
   ],
   "source": [
    "(m_without['patho'] != '.').sum()"
   ]
  },
  {
   "cell_type": "code",
   "execution_count": 126,
   "id": "5a0a5604-0ed5-404c-bd8b-b6ce232b5d28",
   "metadata": {},
   "outputs": [
    {
     "data": {
      "text/plain": [
       "52"
      ]
     },
     "execution_count": 126,
     "metadata": {},
     "output_type": "execute_result"
    }
   ],
   "source": [
    "(m_with['patho'] != '.').sum()"
   ]
  },
  {
   "cell_type": "code",
   "execution_count": 137,
   "id": "d4f574a9-59ad-4968-b4f3-cb99695fa4f5",
   "metadata": {},
   "outputs": [],
   "source": [
    "all_tr['number of variants'] = with_any['total_count']"
   ]
  },
  {
   "cell_type": "code",
   "execution_count": 145,
   "id": "5bb4b6b0-37b6-4ad2-85ce-bfd051164f7d",
   "metadata": {},
   "outputs": [],
   "source": [
    "set_A = all_tr[(all_tr['patho'] == '.') & (all_tr['number of variants'] != 0)].reset_index()\n",
    "set_B = all_tr[(all_tr['patho'] != '.') & (all_tr['number of variants'] != 0)].reset_index()"
   ]
  },
  {
   "cell_type": "code",
   "execution_count": 146,
   "id": "c6a7a517-2e01-4623-84e1-d454fef52d60",
   "metadata": {},
   "outputs": [],
   "source": [
    "set_A['span'] = set_A['end'] - set_A['start']\n",
    "set_B['span'] = set_B['end'] - set_B['start']"
   ]
  },
  {
   "cell_type": "code",
   "execution_count": 147,
   "id": "acc2c466-40ff-4bae-aa65-b1b8a49f5e2e",
   "metadata": {},
   "outputs": [],
   "source": [
    "set_A['v per base'] = set_A['number of variants'] / set_A['span']\n",
    "set_B['v per base'] = set_B['number of variants'] / set_B['span']"
   ]
  },
  {
   "cell_type": "code",
   "execution_count": 160,
   "id": "69bac8ee-458e-4eb8-9c68-9ff19be73606",
   "metadata": {},
   "outputs": [
    {
     "data": {
      "text/plain": [
       "<Axes: xlabel='v per base', ylabel='Count'>"
      ]
     },
     "execution_count": 160,
     "metadata": {},
     "output_type": "execute_result"
    },
    {
     "data": {
      "image/png": "[encoded data removed]",
      "text/plain": [
       "<Figure size 640x480 with 1 Axes>"
      ]
     },
     "metadata": {},
     "output_type": "display_data"
    }
   ],
   "source": [
    "j = set_A[['v per base']].copy().sample(200)\n",
    "j['set'] = 'non-patho'\n",
    "k = set_B[['v per base']].copy()\n",
    "k['set'] = 'patho'\n",
    "l = pd.concat([j, k]).reset_index()\n",
    "sb.histplot(data=l, x=\"v per base\", hue='set', multiple='dodge', binwidth=0.05)"
   ]
  },
  {
   "cell_type": "code",
   "execution_count": 151,
   "id": "818daca1-292a-4ead-a800-1fbe3b16b467",
   "metadata": {},
   "outputs": [
    {
     "data": {
      "text/plain": [
       "<Axes: xlabel='v per base', ylabel='Density'>"
      ]
     },
     "execution_count": 151,
     "metadata": {},
     "output_type": "execute_result"
    },
    {
     "data": {
      "image/png": "[encoded data removed]",
      "text/plain": [
       "<Figure size 640x480 with 1 Axes>"
      ]
     },
     "metadata": {},
     "output_type": "display_data"
    }
   ],
   "source": [
    "p = sb.kdeplot(data=set_B, x=\"v per base\")"
   ]
  },
  {
   "cell_type": "code",
   "execution_count": 148,
   "id": "e1b811be-9943-4c93-8f9f-28bf2a2e77cf",
   "metadata": {},
   "outputs": [
    {
     "data": {
      "text/plain": [
       "count    337846.000000\n",
       "mean          0.192906\n",
       "std           0.290969\n",
       "min           0.000969\n",
       "25%           0.038462\n",
       "50%           0.094241\n",
       "75%           0.208333\n",
       "max           3.613218\n",
       "Name: v per base, dtype: float64"
      ]
     },
     "execution_count": 148,
     "metadata": {},
     "output_type": "execute_result"
    }
   ],
   "source": [
    "set_A['v per base'].describe()"
   ]
  },
  {
   "cell_type": "code",
   "execution_count": 149,
   "id": "7632881e-ad2e-41b1-a534-bdb2ef1bdf39",
   "metadata": {},
   "outputs": [
    {
     "data": {
      "text/plain": [
       "count    52.000000\n",
       "mean      0.224537\n",
       "std       0.283656\n",
       "min       0.013201\n",
       "25%       0.065920\n",
       "50%       0.125361\n",
       "75%       0.244635\n",
       "max       1.413534\n",
       "Name: v per base, dtype: float64"
      ]
     },
     "execution_count": 149,
     "metadata": {},
     "output_type": "execute_result"
    }
   ],
   "source": [
    "set_B['v per base'].describe()"
   ]
  },
  {
   "cell_type": "code",
   "execution_count": 141,
   "id": "3b02d67e-89b2-43e3-b693-375ac62c2928",
   "metadata": {},
   "outputs": [
    {
     "data": {
      "text/html": [
       "<div>\n",
       "<style scoped>\n",
       "    .dataframe tbody tr th:only-of-type {\n",
       "        vertical-align: middle;\n",
       "    }\n",
       "\n",
       "    .dataframe tbody tr th {\n",
       "        vertical-align: top;\n",
       "    }\n",
       "\n",
       "    .dataframe thead th {\n",
       "        text-align: right;\n",
       "    }\n",
       "</style>\n",
       "<table border=\"1\" class=\"dataframe\">\n",
       "  <thead>\n",
       "    <tr style=\"text-align: right;\">\n",
       "      <th></th>\n",
       "      <th>number of variants</th>\n",
       "    </tr>\n",
       "  </thead>\n",
       "  <tbody>\n",
       "    <tr>\n",
       "      <th>count</th>\n",
       "      <td>52.000000</td>\n",
       "    </tr>\n",
       "    <tr>\n",
       "      <th>mean</th>\n",
       "      <td>42.596154</td>\n",
       "    </tr>\n",
       "    <tr>\n",
       "      <th>std</th>\n",
       "      <td>79.174728</td>\n",
       "    </tr>\n",
       "    <tr>\n",
       "      <th>min</th>\n",
       "      <td>4.000000</td>\n",
       "    </tr>\n",
       "    <tr>\n",
       "      <th>25%</th>\n",
       "      <td>12.750000</td>\n",
       "    </tr>\n",
       "    <tr>\n",
       "      <th>50%</th>\n",
       "      <td>24.000000</td>\n",
       "    </tr>\n",
       "    <tr>\n",
       "      <th>75%</th>\n",
       "      <td>46.250000</td>\n",
       "    </tr>\n",
       "    <tr>\n",
       "      <th>max</th>\n",
       "      <td>564.000000</td>\n",
       "    </tr>\n",
       "  </tbody>\n",
       "</table>\n",
       "</div>"
      ],
      "text/plain": [
       "       number of variants\n",
       "count           52.000000\n",
       "mean            42.596154\n",
       "std             79.174728\n",
       "min              4.000000\n",
       "25%             12.750000\n",
       "50%             24.000000\n",
       "75%             46.250000\n",
       "max            564.000000"
      ]
     },
     "execution_count": 141,
     "metadata": {},
     "output_type": "execute_result"
    }
   ],
   "source": [
    "all_tr[all_tr['patho'] != '.'][['patho', 'number of variants']].describe()"
   ]
  },
  {
   "cell_type": "markdown",
   "id": "881c5191-c792-482c-884f-14f423992733",
   "metadata": {},
   "source": [
    "# Checking dbSNP"
   ]
  },
  {
   "cell_type": "code",
   "execution_count": 67,
   "id": "bb054fa6-9d1c-413e-b149-ea3d400ae38a",
   "metadata": {},
   "outputs": [],
   "source": [
    "sub = ['chrom', 'start', 'end']"
   ]
  },
  {
   "cell_type": "code",
   "execution_count": 69,
   "id": "201d0e6c-dd8c-4c81-ac32-b1e57618cdc7",
   "metadata": {},
   "outputs": [
    {
     "data": {
      "text/plain": [
       "(145464, 8)"
      ]
     },
     "execution_count": 69,
     "metadata": {},
     "output_type": "execute_result"
    }
   ],
   "source": [
    "all_dbsnp = (pd.read_csv(\"TRcatalog_chr1_dbSNPcounts.txt.gz\", sep='\\t')\n",
    "                    .groupby(sub)\n",
    "                    .sum()\n",
    "                   .reset_index())\n",
    "all_dbsnp.drop_duplicates(subset=sub).shape"
   ]
  },
  {
   "cell_type": "code",
   "execution_count": 71,
   "id": "4ef4b96f-1fd2-45ec-8e33-121eb64fcf1c",
   "metadata": {},
   "outputs": [
    {
     "data": {
      "text/plain": [
       "(115377, 8)"
      ]
     },
     "execution_count": 71,
     "metadata": {},
     "output_type": "execute_result"
    }
   ],
   "source": [
    "all_dbsnp[(all_dbsnp[['fifty', 'sv']].sum(axis=1) != 0)].shape"
   ]
  },
  {
   "cell_type": "code",
   "execution_count": 73,
   "id": "066f6cb9-ec00-43db-b621-628608181001",
   "metadata": {},
   "outputs": [
    {
     "data": {
      "text/plain": [
       "0.791326593599539"
      ]
     },
     "execution_count": 73,
     "metadata": {},
     "output_type": "execute_result"
    }
   ],
   "source": [
    "115377 / (pvcf['chrom'] == 'chr1').sum()"
   ]
  },
  {
   "cell_type": "code",
   "execution_count": 66,
   "id": "81f761b5-311c-4c3f-a287-745a5459bc42",
   "metadata": {},
   "outputs": [
    {
     "data": {
      "text/plain": [
       "(78988, 8)"
      ]
     },
     "execution_count": 66,
     "metadata": {},
     "output_type": "execute_result"
    }
   ],
   "source": [
    "common_dbsnp = (pd.read_csv(\"TRcatalog_chr1_dbSNP_commoncounts.txt.gz\", sep='\\t')\n",
    "                    .groupby(sub)\n",
    "                    .sum()\n",
    "                   .reset_index()\n",
    "               )\n",
    "common_dbsnp.drop_duplicates(subset=sub).shape"
   ]
  },
  {
   "cell_type": "code",
   "execution_count": 68,
   "id": "a0412f8b-7fe9-4344-a5d1-4c79b17e9a35",
   "metadata": {},
   "outputs": [
    {
     "data": {
      "text/plain": [
       "(37968, 8)"
      ]
     },
     "execution_count": 68,
     "metadata": {},
     "output_type": "execute_result"
    }
   ],
   "source": [
    "common_dbsnp[(common_dbsnp[['fifty', 'sv']].sum(axis=1) != 0)].shape"
   ]
  },
  {
   "cell_type": "code",
   "execution_count": 72,
   "id": "24235767-3923-4521-8880-d928b0ba5d53",
   "metadata": {},
   "outputs": [
    {
     "data": {
      "text/plain": [
       "0.26040795050822346"
      ]
     },
     "execution_count": 72,
     "metadata": {},
     "output_type": "execute_result"
    }
   ],
   "source": [
    "37968 / (pvcf['chrom'] == 'chr1').sum()"
   ]
  },
  {
   "cell_type": "code",
   "execution_count": 89,
   "id": "aa0e9abc-17de-4047-905e-f712d174ad31",
   "metadata": {},
   "outputs": [
    {
     "data": {
      "text/html": [
       "<div>\n",
       "<style scoped>\n",
       "    .dataframe tbody tr th:only-of-type {\n",
       "        vertical-align: middle;\n",
       "    }\n",
       "\n",
       "    .dataframe tbody tr th {\n",
       "        vertical-align: top;\n",
       "    }\n",
       "\n",
       "    .dataframe thead th {\n",
       "        text-align: right;\n",
       "    }\n",
       "</style>\n",
       "<table border=\"1\" class=\"dataframe\">\n",
       "  <thead>\n",
       "    <tr style=\"text-align: right;\">\n",
       "      <th></th>\n",
       "      <th>sample</th>\n",
       "      <th>tot_vars</th>\n",
       "    </tr>\n",
       "  </thead>\n",
       "  <tbody>\n",
       "    <tr>\n",
       "      <th>0</th>\n",
       "      <td>HG00096</td>\n",
       "      <td>7506675</td>\n",
       "    </tr>\n",
       "    <tr>\n",
       "      <th>1</th>\n",
       "      <td>HG00171</td>\n",
       "      <td>7716979</td>\n",
       "    </tr>\n",
       "    <tr>\n",
       "      <th>2</th>\n",
       "      <td>HG00512</td>\n",
       "      <td>7950401</td>\n",
       "    </tr>\n",
       "    <tr>\n",
       "      <th>3</th>\n",
       "      <td>HG00513</td>\n",
       "      <td>7949054</td>\n",
       "    </tr>\n",
       "    <tr>\n",
       "      <th>4</th>\n",
       "      <td>HG00514</td>\n",
       "      <td>9854081</td>\n",
       "    </tr>\n",
       "  </tbody>\n",
       "</table>\n",
       "</div>"
      ],
      "text/plain": [
       "    sample  tot_vars\n",
       "0  HG00096   7506675\n",
       "1  HG00171   7716979\n",
       "2  HG00512   7950401\n",
       "3  HG00513   7949054\n",
       "4  HG00514   9854081"
      ]
     },
     "execution_count": 89,
     "metadata": {},
     "output_type": "execute_result"
    }
   ],
   "source": [
    "# Variant count by ancestry\n",
    "vars_per_sample.head()"
   ]
  },
  {
   "cell_type": "code",
   "execution_count": 95,
   "id": "f5657799-6b45-4ee5-916b-aeb908981712",
   "metadata": {},
   "outputs": [],
   "source": [
    "samp_meta = pd.read_csv(\"../../metadata/sample_metadata.txt\", sep='\\t').set_index('individual')\n",
    "indiv = (pd.read_csv(\"../../metadata/individual_metadata.txt\", sep='\\t')\n",
    "             .rename(columns={\"Individual\":\"individual\"})\n",
    "             .set_index('individual'))\n",
    "meta = samp_meta.join(indiv).reset_index().set_index(['sample'])"
   ]
  },
  {
   "cell_type": "code",
   "execution_count": 98,
   "id": "53e14040-85b8-49ce-9fba-8719e109d3d5",
   "metadata": {},
   "outputs": [],
   "source": [
    "meta['tot_vars'] = vars_per_sample.set_index('sample')['tot_vars']"
   ]
  },
  {
   "cell_type": "code",
   "execution_count": 135,
   "id": "6f7e2b35-eeef-4193-86ca-1890b0b6198c",
   "metadata": {},
   "outputs": [
    {
     "data": {
      "text/plain": [
       "(5774879, 10227465)"
      ]
     },
     "execution_count": 135,
     "metadata": {},
     "output_type": "execute_result"
    }
   ],
   "source": [
    "meta['tot_vars'].min(),meta['tot_vars'].max()"
   ]
  },
  {
   "cell_type": "code",
   "execution_count": 133,
   "id": "e4626d31-44d3-4074-947a-6192ba28755d",
   "metadata": {},
   "outputs": [
    {
     "data": {
      "image/png": "[encoded data removed]",
      "text/plain": [
       "<Figure size 640x480 with 1 Axes>"
      ]
     },
     "metadata": {},
     "output_type": "display_data"
    }
   ],
   "source": [
    "PROPS = {\n",
    "    'boxprops':{'facecolor':'none'}#, 'edgecolor':'red'},\n",
    "    #'medianprops':{'color':'green'},\n",
    "    #'whiskerprops':{'color':'blue'},\n",
    "    #'capprops':{'color':'yellow'}\n",
    "}\n",
    "p = sb.boxplot(data=meta, x=\"Superpopulation code\", y=\"tot_vars\", **PROPS)\n",
    "p = sb.stripplot(data=meta, x=\"Superpopulation code\", y=\"tot_vars\", hue=\"Sex\")\n",
    "import matplotlib.pyplot as plt\n",
    "plt.legend(bbox_to_anchor=(1.05, 1), loc='upper left', borderaxespad=0)\n",
    "_ = p.set(title=\"Number of variants by super population\", ylabel=\"Total Variants\")\n"
   ]
  },
  {
   "cell_type": "code",
   "execution_count": 131,
   "id": "c3c54bf8-667b-4368-adda-0a8b454a2029",
   "metadata": {},
   "outputs": [
    {
     "data": {
      "text/plain": [
       "Superpopulation code  Superpopulation name\n",
       "AFR                   African Ancestry        35\n",
       "AMR                   American Ancestry       22\n",
       "EAS                   East Asian Ancestry     12\n",
       "EUR                   European Ancestry       11\n",
       "SAS                   South Asian Ancestry     6\n",
       "dtype: int64"
      ]
     },
     "execution_count": 131,
     "metadata": {},
     "output_type": "execute_result"
    }
   ],
   "source": [
    "meta[[\"Superpopulation code\", \"Superpopulation name\"]].value_counts()"
   ]
  },
  {
   "cell_type": "code",
   "execution_count": 121,
   "id": "c17c9c47-8726-4239-8737-0a2a58e9a554",
   "metadata": {},
   "outputs": [
    {
     "data": {
      "text/plain": [
       "[Text(0.5, 1.0, 'Number of variants in TR regions by super pop')]"
      ]
     },
     "execution_count": 121,
     "metadata": {},
     "output_type": "execute_result"
    },
    {
     "data": {
      "image/png": "[encoded data removed]",
      "text/plain": [
       "<Figure size 640x480 with 1 Axes>"
      ]
     },
     "metadata": {},
     "output_type": "display_data"
    }
   ],
   "source": [
    "meta['tot_tr_vars'] = tr_vars_per_sample.set_index('sample')['tot_vars']\n",
    "\n",
    "PROPS = {\n",
    "    'boxprops':{'facecolor':'none'}#, 'edgecolor':'red'},\n",
    "    #'medianprops':{'color':'green'},\n",
    "    #'whiskerprops':{'color':'blue'},\n",
    "    #'capprops':{'color':'yellow'}\n",
    "}\n",
    "p = sb.boxplot(data=meta, x=\"Superpopulation code\", y=\"tot_tr_vars\", **PROPS)\n",
    "p = sb.stripplot(data=meta, x=\"Superpopulation code\", y=\"tot_tr_vars\", hue=\"Sex\")\n",
    "import matplotlib.pyplot as plt\n",
    "plt.legend(bbox_to_anchor=(1.05, 1), loc='upper left', borderaxespad=0)\n",
    "p.set(title=\"Number of variants in TR regions by super pop\")\n"
   ]
  },
  {
   "cell_type": "code",
   "execution_count": 124,
   "id": "e784f498-5495-4cb4-9ff1-1dfa5a472afa",
   "metadata": {},
   "outputs": [
    {
     "data": {
      "text/html": [
       "<div>\n",
       "<style scoped>\n",
       "    .dataframe tbody tr th:only-of-type {\n",
       "        vertical-align: middle;\n",
       "    }\n",
       "\n",
       "    .dataframe tbody tr th {\n",
       "        vertical-align: top;\n",
       "    }\n",
       "\n",
       "    .dataframe thead th {\n",
       "        text-align: right;\n",
       "    }\n",
       "</style>\n",
       "<table border=\"1\" class=\"dataframe\">\n",
       "  <thead>\n",
       "    <tr style=\"text-align: right;\">\n",
       "      <th></th>\n",
       "      <th>sample</th>\n",
       "      <th>pct_tr</th>\n",
       "    </tr>\n",
       "  </thead>\n",
       "  <tbody>\n",
       "    <tr>\n",
       "      <th>0</th>\n",
       "      <td>HG00096</td>\n",
       "      <td>0.241313</td>\n",
       "    </tr>\n",
       "    <tr>\n",
       "      <th>1</th>\n",
       "      <td>HG00171</td>\n",
       "      <td>0.245533</td>\n",
       "    </tr>\n",
       "    <tr>\n",
       "      <th>2</th>\n",
       "      <td>HG00512</td>\n",
       "      <td>0.233581</td>\n",
       "    </tr>\n",
       "    <tr>\n",
       "      <th>3</th>\n",
       "      <td>HG00513</td>\n",
       "      <td>0.237805</td>\n",
       "    </tr>\n",
       "    <tr>\n",
       "      <th>4</th>\n",
       "      <td>HG00514</td>\n",
       "      <td>0.227258</td>\n",
       "    </tr>\n",
       "    <tr>\n",
       "      <th>...</th>\n",
       "      <td>...</td>\n",
       "      <td>...</td>\n",
       "    </tr>\n",
       "    <tr>\n",
       "      <th>81</th>\n",
       "      <td>NA21309</td>\n",
       "      <td>0.253136</td>\n",
       "    </tr>\n",
       "    <tr>\n",
       "      <th>82</th>\n",
       "      <td>li:HG00733</td>\n",
       "      <td>0.254720</td>\n",
       "    </tr>\n",
       "    <tr>\n",
       "      <th>83</th>\n",
       "      <td>li:NA12878</td>\n",
       "      <td>0.251977</td>\n",
       "    </tr>\n",
       "    <tr>\n",
       "      <th>84</th>\n",
       "      <td>li:NA24385</td>\n",
       "      <td>0.253190</td>\n",
       "    </tr>\n",
       "    <tr>\n",
       "      <th>85</th>\n",
       "      <td>PGP1</td>\n",
       "      <td>0.254564</td>\n",
       "    </tr>\n",
       "  </tbody>\n",
       "</table>\n",
       "<p>86 rows × 2 columns</p>\n",
       "</div>"
      ],
      "text/plain": [
       "        sample    pct_tr\n",
       "0      HG00096  0.241313\n",
       "1      HG00171  0.245533\n",
       "2      HG00512  0.233581\n",
       "3      HG00513  0.237805\n",
       "4      HG00514  0.227258\n",
       "..         ...       ...\n",
       "81     NA21309  0.253136\n",
       "82  li:HG00733  0.254720\n",
       "83  li:NA12878  0.251977\n",
       "84  li:NA24385  0.253190\n",
       "85        PGP1  0.254564\n",
       "\n",
       "[86 rows x 2 columns]"
      ]
     },
     "execution_count": 124,
     "metadata": {},
     "output_type": "execute_result"
    }
   ],
   "source": [
    "pct_tr_per_sample"
   ]
  },
  {
   "cell_type": "code",
   "execution_count": 134,
   "id": "410cbff3-99ab-4ffb-aad1-4ef179295c6c",
   "metadata": {},
   "outputs": [
    {
     "data": {
      "image/png": "[encoded data removed]",
      "text/plain": [
       "<Figure size 640x480 with 1 Axes>"
      ]
     },
     "metadata": {},
     "output_type": "display_data"
    }
   ],
   "source": [
    "\n",
    "meta['pct_tr_vars'] = pct_tr_per_sample.set_index('sample')['pct_tr']\n",
    "\n",
    "PROPS = {\n",
    "    'boxprops':{'facecolor':'none'}#, 'edgecolor':'red'},\n",
    "    #'medianprops':{'color':'green'},\n",
    "    #'whiskerprops':{'color':'blue'},\n",
    "    #'capprops':{'color':'yellow'}\n",
    "}\n",
    "p = sb.boxplot(data=meta, x=\"Superpopulation code\", y=\"pct_tr_vars\", **PROPS)\n",
    "p = sb.stripplot(data=meta, x=\"Superpopulation code\", y=\"pct_tr_vars\", hue=\"Sex\")\n",
    "import matplotlib.pyplot as plt\n",
    "plt.legend(bbox_to_anchor=(1.05, 1), loc='upper left', borderaxespad=0)\n",
    "_ = p.set(title=\"Percent of variants in TR regions by superer pop\", ylabel=\"Proportion of variants\")\n"
   ]
  },
  {
   "cell_type": "code",
   "execution_count": 161,
   "id": "14285a7e-3535-45e8-a712-e3de45207c78",
   "metadata": {},
   "outputs": [],
   "source": [
    "from scipy.stats import pearsonr"
   ]
  },
  {
   "cell_type": "code",
   "execution_count": 162,
   "id": "4e5f558e-3308-4170-ada3-6cb2fc23b01f",
   "metadata": {},
   "outputs": [
    {
     "data": {
      "text/plain": [
       "PearsonRResult(statistic=0.9712685886323877, pvalue=0.02873141136761226)"
      ]
     },
     "execution_count": 162,
     "metadata": {},
     "output_type": "execute_result"
    }
   ],
   "source": [
    "pearsonr([1, 2, 3, 4], [21.4, 36.6, 66.6, 72.2])"
   ]
  },
  {
   "cell_type": "code",
   "execution_count": null,
   "id": "45018526-b917-40c2-ba76-57b229e96af3",
   "metadata": {},
   "outputs": [],
   "source": []
  }
 ],
 "metadata": {
  "kernelspec": {
   "display_name": "Python 3 (ipykernel)",
   "language": "python",
   "name": "python3"
  },
  "language_info": {
   "codemirror_mode": {
    "name": "ipython",
    "version": 3
   },
   "file_extension": ".py",
   "mimetype": "text/x-python",
   "name": "python",
   "nbconvert_exporter": "python",
   "pygments_lexer": "ipython3",
   "version": "3.9.6"
  }
 },
 "nbformat": 4,
 "nbformat_minor": 5
}
