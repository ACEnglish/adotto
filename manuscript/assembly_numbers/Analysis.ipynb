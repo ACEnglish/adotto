{
 "cells": [
  {
   "cell_type": "code",
   "execution_count": 38,
   "id": "2ae54e34-2010-4652-ab0a-14f639a31f83",
   "metadata": {},
   "outputs": [],
   "source": [
    "import pandas as pd\n",
    "import seaborn as sb"
   ]
  },
  {
   "cell_type": "code",
   "execution_count": 169,
   "id": "fec4174d-647d-4b58-8df0-9a86ba0f3dd8",
   "metadata": {},
   "outputs": [],
   "source": [
    "data = pd.read_csv(\"assembly_stats.txt\", sep='\\t')"
   ]
  },
  {
   "cell_type": "code",
   "execution_count": 170,
   "id": "6ae3558d-bb69-4829-98d7-4628bd74449e",
   "metadata": {},
   "outputs": [],
   "source": [
    "non_giab =data[(data[\"project\"] != 'giab')]\n",
    "#data = data[~( (data[\"project\"] == 'hprc') & (data['sample'] == \"HG002\") )]"
   ]
  },
  {
   "cell_type": "code",
   "execution_count": 171,
   "id": "e0f350f2-0d59-40f4-9007-f70f2688df5d",
   "metadata": {},
   "outputs": [
    {
     "data": {
      "text/plain": [
       "count         172\n",
       "mean     35372147\n",
       "std      14742684\n",
       "min      14450795\n",
       "25%      25739780\n",
       "50%      30466158\n",
       "75%      44413548\n",
       "max      87239510\n",
       "Name: n50, dtype: int64"
      ]
     },
     "execution_count": 171,
     "metadata": {},
     "output_type": "execute_result"
    }
   ],
   "source": [
    "non_giab['n50'].describe().astype(int)"
   ]
  },
  {
   "cell_type": "code",
   "execution_count": 172,
   "id": "6cc2065e-e62a-4f93-858f-4e35ef9b4feb",
   "metadata": {},
   "outputs": [
    {
     "data": {
      "text/html": [
       "<div>\n",
       "<style scoped>\n",
       "    .dataframe tbody tr th:only-of-type {\n",
       "        vertical-align: middle;\n",
       "    }\n",
       "\n",
       "    .dataframe tbody tr th {\n",
       "        vertical-align: top;\n",
       "    }\n",
       "\n",
       "    .dataframe thead th {\n",
       "        text-align: right;\n",
       "    }\n",
       "</style>\n",
       "<table border=\"1\" class=\"dataframe\">\n",
       "  <thead>\n",
       "    <tr style=\"text-align: right;\">\n",
       "      <th>project</th>\n",
       "      <th>eichler</th>\n",
       "      <th>giab</th>\n",
       "      <th>hprc</th>\n",
       "      <th>li</th>\n",
       "    </tr>\n",
       "  </thead>\n",
       "  <tbody>\n",
       "    <tr>\n",
       "      <th>count</th>\n",
       "      <td>70</td>\n",
       "      <td>2</td>\n",
       "      <td>94</td>\n",
       "      <td>8</td>\n",
       "    </tr>\n",
       "    <tr>\n",
       "      <th>mean</th>\n",
       "      <td>27924723</td>\n",
       "      <td>161277649</td>\n",
       "      <td>42017870</td>\n",
       "      <td>22449875</td>\n",
       "    </tr>\n",
       "    <tr>\n",
       "      <th>std</th>\n",
       "      <td>6001634</td>\n",
       "      <td>1978570</td>\n",
       "      <td>16441231</td>\n",
       "      <td>4953928</td>\n",
       "    </tr>\n",
       "    <tr>\n",
       "      <th>min</th>\n",
       "      <td>14450795</td>\n",
       "      <td>159878589</td>\n",
       "      <td>17870629</td>\n",
       "      <td>14858698</td>\n",
       "    </tr>\n",
       "    <tr>\n",
       "      <th>25%</th>\n",
       "      <td>25651068</td>\n",
       "      <td>160578119</td>\n",
       "      <td>27560228</td>\n",
       "      <td>19033083</td>\n",
       "    </tr>\n",
       "    <tr>\n",
       "      <th>50%</th>\n",
       "      <td>28669490</td>\n",
       "      <td>161277649</td>\n",
       "      <td>41844848</td>\n",
       "      <td>22464944</td>\n",
       "    </tr>\n",
       "    <tr>\n",
       "      <th>75%</th>\n",
       "      <td>32757224</td>\n",
       "      <td>161977179</td>\n",
       "      <td>55038136</td>\n",
       "      <td>26383565</td>\n",
       "    </tr>\n",
       "    <tr>\n",
       "      <th>max</th>\n",
       "      <td>40327815</td>\n",
       "      <td>162676710</td>\n",
       "      <td>87239510</td>\n",
       "      <td>28262556</td>\n",
       "    </tr>\n",
       "  </tbody>\n",
       "</table>\n",
       "</div>"
      ],
      "text/plain": [
       "project   eichler       giab      hprc        li\n",
       "count          70          2        94         8\n",
       "mean     27924723  161277649  42017870  22449875\n",
       "std       6001634    1978570  16441231   4953928\n",
       "min      14450795  159878589  17870629  14858698\n",
       "25%      25651068  160578119  27560228  19033083\n",
       "50%      28669490  161277649  41844848  22464944\n",
       "75%      32757224  161977179  55038136  26383565\n",
       "max      40327815  162676710  87239510  28262556"
      ]
     },
     "execution_count": 172,
     "metadata": {},
     "output_type": "execute_result"
    }
   ],
   "source": [
    "data.groupby('project')['n50'].describe().T.astype(int)"
   ]
  },
  {
   "cell_type": "code",
   "execution_count": 173,
   "id": "b2f7db2d-e9a8-4013-a61d-30b6205c1805",
   "metadata": {},
   "outputs": [
    {
     "data": {
      "text/plain": [
       "count          78\n",
       "mean     27363200\n",
       "std       6107628\n",
       "min      14450795\n",
       "25%      22114177\n",
       "50%      28215538\n",
       "75%      32113336\n",
       "max      40327815\n",
       "Name: n50, dtype: int64"
      ]
     },
     "execution_count": 173,
     "metadata": {},
     "output_type": "execute_result"
    }
   ],
   "source": [
    "data[data['project'].isin([\"eichler\", \"li\"])]['n50'].describe().astype(int)"
   ]
  },
  {
   "cell_type": "code",
   "execution_count": 174,
   "id": "e7209a5b-b21f-47dc-849f-b53f91217c15",
   "metadata": {},
   "outputs": [
    {
     "data": {
      "text/plain": [
       "project\n",
       "giab    161277649.5\n",
       "hprc     86350596.5\n",
       "Name: n50, dtype: float64"
      ]
     },
     "execution_count": 174,
     "metadata": {},
     "output_type": "execute_result"
    }
   ],
   "source": [
    "data[data['sample'] == 'HG002'].groupby(['project'])['n50'].mean()"
   ]
  },
  {
   "cell_type": "code",
   "execution_count": 178,
   "id": "06b008d3-992f-41f2-adae-eba9ba1513df",
   "metadata": {},
   "outputs": [
    {
     "data": {
      "text/html": [
       "<div>\n",
       "<style scoped>\n",
       "    .dataframe tbody tr th:only-of-type {\n",
       "        vertical-align: middle;\n",
       "    }\n",
       "\n",
       "    .dataframe tbody tr th {\n",
       "        vertical-align: top;\n",
       "    }\n",
       "\n",
       "    .dataframe thead th {\n",
       "        text-align: right;\n",
       "    }\n",
       "</style>\n",
       "<table border=\"1\" class=\"dataframe\">\n",
       "  <thead>\n",
       "    <tr style=\"text-align: right;\">\n",
       "      <th></th>\n",
       "      <th>mat</th>\n",
       "      <th>pat</th>\n",
       "      <th>mat_1x</th>\n",
       "      <th>pat_1x</th>\n",
       "      <th>diploid</th>\n",
       "      <th>auto</th>\n",
       "      <th>chrX</th>\n",
       "      <th>final</th>\n",
       "      <th>project</th>\n",
       "      <th>sample</th>\n",
       "      <th>sex</th>\n",
       "      <th>chrY</th>\n",
       "      <th>PARchrX</th>\n",
       "    </tr>\n",
       "  </thead>\n",
       "  <tbody>\n",
       "    <tr>\n",
       "      <th>0</th>\n",
       "      <td>2802512086</td>\n",
       "      <td>2802845737</td>\n",
       "      <td>2789506233</td>\n",
       "      <td>2790710049</td>\n",
       "      <td>2809555401</td>\n",
       "      <td>2622223539</td>\n",
       "      <td>148338260</td>\n",
       "      <td>2770561799</td>\n",
       "      <td>li</td>\n",
       "      <td>HG00733</td>\n",
       "      <td>F</td>\n",
       "      <td>NaN</td>\n",
       "      <td>NaN</td>\n",
       "    </tr>\n",
       "    <tr>\n",
       "      <th>1</th>\n",
       "      <td>2804072988</td>\n",
       "      <td>2805462913</td>\n",
       "      <td>2792846762</td>\n",
       "      <td>2795559333</td>\n",
       "      <td>2815842213</td>\n",
       "      <td>2623624876</td>\n",
       "      <td>148858854</td>\n",
       "      <td>2772483730</td>\n",
       "      <td>eichler</td>\n",
       "      <td>HG03125</td>\n",
       "      <td>F</td>\n",
       "      <td>NaN</td>\n",
       "      <td>NaN</td>\n",
       "    </tr>\n",
       "    <tr>\n",
       "      <th>2</th>\n",
       "      <td>2842071604</td>\n",
       "      <td>2843282730</td>\n",
       "      <td>2820172774</td>\n",
       "      <td>2824059467</td>\n",
       "      <td>2834014412</td>\n",
       "      <td>2660552442</td>\n",
       "      <td>149665379</td>\n",
       "      <td>2810217821</td>\n",
       "      <td>hprc</td>\n",
       "      <td>HG02257</td>\n",
       "      <td>F</td>\n",
       "      <td>NaN</td>\n",
       "      <td>NaN</td>\n",
       "    </tr>\n",
       "    <tr>\n",
       "      <th>3</th>\n",
       "      <td>2718388169</td>\n",
       "      <td>2842479961</td>\n",
       "      <td>2695715244</td>\n",
       "      <td>2820423432</td>\n",
       "      <td>2855377588</td>\n",
       "      <td>2658249414</td>\n",
       "      <td>147563473</td>\n",
       "      <td>2826906412</td>\n",
       "      <td>hprc</td>\n",
       "      <td>HG03492</td>\n",
       "      <td>M</td>\n",
       "      <td>18773463.0</td>\n",
       "      <td>2320062.0</td>\n",
       "    </tr>\n",
       "    <tr>\n",
       "      <th>4</th>\n",
       "      <td>2844554217</td>\n",
       "      <td>2844178555</td>\n",
       "      <td>2820885125</td>\n",
       "      <td>2819807634</td>\n",
       "      <td>2837414524</td>\n",
       "      <td>2653228640</td>\n",
       "      <td>150043330</td>\n",
       "      <td>2803271970</td>\n",
       "      <td>hprc</td>\n",
       "      <td>HG01071</td>\n",
       "      <td>F</td>\n",
       "      <td>NaN</td>\n",
       "      <td>NaN</td>\n",
       "    </tr>\n",
       "  </tbody>\n",
       "</table>\n",
       "</div>"
      ],
      "text/plain": [
       "          mat         pat      mat_1x      pat_1x     diploid        auto  \\\n",
       "0  2802512086  2802845737  2789506233  2790710049  2809555401  2622223539   \n",
       "1  2804072988  2805462913  2792846762  2795559333  2815842213  2623624876   \n",
       "2  2842071604  2843282730  2820172774  2824059467  2834014412  2660552442   \n",
       "3  2718388169  2842479961  2695715244  2820423432  2855377588  2658249414   \n",
       "4  2844554217  2844178555  2820885125  2819807634  2837414524  2653228640   \n",
       "\n",
       "        chrX       final  project   sample sex        chrY    PARchrX  \n",
       "0  148338260  2770561799       li  HG00733   F         NaN        NaN  \n",
       "1  148858854  2772483730  eichler  HG03125   F         NaN        NaN  \n",
       "2  149665379  2810217821     hprc  HG02257   F         NaN        NaN  \n",
       "3  147563473  2826906412     hprc  HG03492   M  18773463.0  2320062.0  \n",
       "4  150043330  2803271970     hprc  HG01071   F         NaN        NaN  "
      ]
     },
     "execution_count": 178,
     "metadata": {},
     "output_type": "execute_result"
    }
   ],
   "source": [
    "cov = pd.read_csv(\"coverage_stats.txt\", sep='\\t')\n",
    "cov.head()"
   ]
  },
  {
   "cell_type": "code",
   "execution_count": 179,
   "id": "6a9925aa-4604-4648-80bc-b8fd63aa17bf",
   "metadata": {},
   "outputs": [
    {
     "data": {
      "text/plain": [
       "86"
      ]
     },
     "execution_count": 179,
     "metadata": {},
     "output_type": "execute_result"
    }
   ],
   "source": [
    "len(cov)"
   ]
  },
  {
   "cell_type": "code",
   "execution_count": 180,
   "id": "32f063ef-19e0-49aa-80b5-cddfacf1c071",
   "metadata": {},
   "outputs": [
    {
     "data": {
      "text/plain": [
       "79"
      ]
     },
     "execution_count": 180,
     "metadata": {},
     "output_type": "execute_result"
    }
   ],
   "source": [
    "cov['sample'].nunique() # -1 because HG002 == NA24385"
   ]
  },
  {
   "cell_type": "code",
   "execution_count": 196,
   "id": "b85ff676-7b89-47f5-9b97-e4472bb8f9f2",
   "metadata": {},
   "outputs": [
    {
     "data": {
      "text/plain": [
       "count    86.000000\n",
       "mean      0.967714\n",
       "std       0.006665\n",
       "min       0.954111\n",
       "25%       0.962415\n",
       "50%       0.969241\n",
       "75%       0.970851\n",
       "max       0.977883\n",
       "Name: overall_pct, dtype: float64"
      ]
     },
     "execution_count": 196,
     "metadata": {},
     "output_type": "execute_result"
    }
   ],
   "source": [
    "cov['overall_pct'] = cov['diploid'] / 2_923_715_986\n",
    "cov['overall_pct'].describe()"
   ]
  },
  {
   "cell_type": "code",
   "execution_count": 181,
   "id": "7b0dc78d-c3f3-45e0-b691-885e1494c4c5",
   "metadata": {},
   "outputs": [],
   "source": [
    "cov['genome_pct'] = cov['final'] / 2_923_715_986 # Non-Ns of grch38 autosome X/Y"
   ]
  },
  {
   "cell_type": "code",
   "execution_count": 182,
   "id": "1223be0f-d7df-4fde-b1d7-8793fbd83972",
   "metadata": {},
   "outputs": [
    {
     "data": {
      "text/plain": [
       "count    86.000000\n",
       "mean      0.944750\n",
       "std       0.025493\n",
       "min       0.895440\n",
       "25%       0.943032\n",
       "50%       0.955738\n",
       "75%       0.961125\n",
       "max       0.970403\n",
       "Name: genome_pct, dtype: float64"
      ]
     },
     "execution_count": 182,
     "metadata": {},
     "output_type": "execute_result"
    }
   ],
   "source": [
    "cov['genome_pct'].describe()"
   ]
  },
  {
   "cell_type": "code",
   "execution_count": 183,
   "id": "99d1df6e-f9a8-4b8c-91f3-5498e373baa7",
   "metadata": {},
   "outputs": [
    {
     "data": {
      "text/html": [
       "<div>\n",
       "<style scoped>\n",
       "    .dataframe tbody tr th:only-of-type {\n",
       "        vertical-align: middle;\n",
       "    }\n",
       "\n",
       "    .dataframe tbody tr th {\n",
       "        vertical-align: top;\n",
       "    }\n",
       "\n",
       "    .dataframe thead tr th {\n",
       "        text-align: left;\n",
       "    }\n",
       "\n",
       "    .dataframe thead tr:last-of-type th {\n",
       "        text-align: right;\n",
       "    }\n",
       "</style>\n",
       "<table border=\"1\" class=\"dataframe\">\n",
       "  <thead>\n",
       "    <tr>\n",
       "      <th></th>\n",
       "      <th colspan=\"8\" halign=\"left\">genome_pct</th>\n",
       "    </tr>\n",
       "    <tr>\n",
       "      <th></th>\n",
       "      <th>count</th>\n",
       "      <th>mean</th>\n",
       "      <th>std</th>\n",
       "      <th>min</th>\n",
       "      <th>25%</th>\n",
       "      <th>50%</th>\n",
       "      <th>75%</th>\n",
       "      <th>max</th>\n",
       "    </tr>\n",
       "    <tr>\n",
       "      <th>project</th>\n",
       "      <th></th>\n",
       "      <th></th>\n",
       "      <th></th>\n",
       "      <th></th>\n",
       "      <th></th>\n",
       "      <th></th>\n",
       "      <th></th>\n",
       "      <th></th>\n",
       "    </tr>\n",
       "  </thead>\n",
       "  <tbody>\n",
       "    <tr>\n",
       "      <th>eichler</th>\n",
       "      <td>35.0</td>\n",
       "      <td>0.923148</td>\n",
       "      <td>0.024054</td>\n",
       "      <td>0.895440</td>\n",
       "      <td>0.898191</td>\n",
       "      <td>0.941209</td>\n",
       "      <td>0.946542</td>\n",
       "      <td>0.948274</td>\n",
       "    </tr>\n",
       "    <tr>\n",
       "      <th>hprc</th>\n",
       "      <td>47.0</td>\n",
       "      <td>0.962443</td>\n",
       "      <td>0.004744</td>\n",
       "      <td>0.953408</td>\n",
       "      <td>0.959373</td>\n",
       "      <td>0.960998</td>\n",
       "      <td>0.967293</td>\n",
       "      <td>0.970403</td>\n",
       "    </tr>\n",
       "    <tr>\n",
       "      <th>li</th>\n",
       "      <td>4.0</td>\n",
       "      <td>0.925877</td>\n",
       "      <td>0.026230</td>\n",
       "      <td>0.903000</td>\n",
       "      <td>0.903258</td>\n",
       "      <td>0.925480</td>\n",
       "      <td>0.948099</td>\n",
       "      <td>0.949547</td>\n",
       "    </tr>\n",
       "  </tbody>\n",
       "</table>\n",
       "</div>"
      ],
      "text/plain": [
       "        genome_pct                                                    \\\n",
       "             count      mean       std       min       25%       50%   \n",
       "project                                                                \n",
       "eichler       35.0  0.923148  0.024054  0.895440  0.898191  0.941209   \n",
       "hprc          47.0  0.962443  0.004744  0.953408  0.959373  0.960998   \n",
       "li             4.0  0.925877  0.026230  0.903000  0.903258  0.925480   \n",
       "\n",
       "                             \n",
       "              75%       max  \n",
       "project                      \n",
       "eichler  0.946542  0.948274  \n",
       "hprc     0.967293  0.970403  \n",
       "li       0.948099  0.949547  "
      ]
     },
     "execution_count": 183,
     "metadata": {},
     "output_type": "execute_result"
    }
   ],
   "source": [
    "cov.groupby('project')[[\"genome_pct\"]].describe()"
   ]
  },
  {
   "cell_type": "code",
   "execution_count": 185,
   "id": "19afa8e9-5e46-418f-89d3-43be01af5210",
   "metadata": {},
   "outputs": [
    {
     "data": {
      "text/html": [
       "<div>\n",
       "<style scoped>\n",
       "    .dataframe tbody tr th:only-of-type {\n",
       "        vertical-align: middle;\n",
       "    }\n",
       "\n",
       "    .dataframe tbody tr th {\n",
       "        vertical-align: top;\n",
       "    }\n",
       "\n",
       "    .dataframe thead th {\n",
       "        text-align: right;\n",
       "    }\n",
       "</style>\n",
       "<table border=\"1\" class=\"dataframe\">\n",
       "  <thead>\n",
       "    <tr style=\"text-align: right;\">\n",
       "      <th></th>\n",
       "      <th>sample</th>\n",
       "      <th>project</th>\n",
       "      <th>haplotype</th>\n",
       "      <th>n_contigs</th>\n",
       "      <th>n50</th>\n",
       "    </tr>\n",
       "  </thead>\n",
       "  <tbody>\n",
       "    <tr>\n",
       "      <th>0</th>\n",
       "      <td>NA19983</td>\n",
       "      <td>eichler</td>\n",
       "      <td>pat</td>\n",
       "      <td>1465</td>\n",
       "      <td>35517528</td>\n",
       "    </tr>\n",
       "    <tr>\n",
       "      <th>1</th>\n",
       "      <td>HG01928</td>\n",
       "      <td>hprc</td>\n",
       "      <td>pat</td>\n",
       "      <td>244</td>\n",
       "      <td>54860574</td>\n",
       "    </tr>\n",
       "    <tr>\n",
       "      <th>2</th>\n",
       "      <td>HG01505</td>\n",
       "      <td>eichler</td>\n",
       "      <td>mat</td>\n",
       "      <td>2526</td>\n",
       "      <td>28512550</td>\n",
       "    </tr>\n",
       "    <tr>\n",
       "      <th>3</th>\n",
       "      <td>HG00096</td>\n",
       "      <td>eichler</td>\n",
       "      <td>mat</td>\n",
       "      <td>2185</td>\n",
       "      <td>28196602</td>\n",
       "    </tr>\n",
       "    <tr>\n",
       "      <th>4</th>\n",
       "      <td>HG00735</td>\n",
       "      <td>hprc</td>\n",
       "      <td>pat</td>\n",
       "      <td>244</td>\n",
       "      <td>57240366</td>\n",
       "    </tr>\n",
       "    <tr>\n",
       "      <th>...</th>\n",
       "      <td>...</td>\n",
       "      <td>...</td>\n",
       "      <td>...</td>\n",
       "      <td>...</td>\n",
       "      <td>...</td>\n",
       "    </tr>\n",
       "    <tr>\n",
       "      <th>169</th>\n",
       "      <td>HG01952</td>\n",
       "      <td>hprc</td>\n",
       "      <td>pat</td>\n",
       "      <td>307</td>\n",
       "      <td>55302156</td>\n",
       "    </tr>\n",
       "    <tr>\n",
       "      <th>170</th>\n",
       "      <td>HG01123</td>\n",
       "      <td>hprc</td>\n",
       "      <td>pat</td>\n",
       "      <td>340</td>\n",
       "      <td>55326480</td>\n",
       "    </tr>\n",
       "    <tr>\n",
       "      <th>171</th>\n",
       "      <td>HG01109</td>\n",
       "      <td>hprc</td>\n",
       "      <td>mat</td>\n",
       "      <td>473</td>\n",
       "      <td>30391630</td>\n",
       "    </tr>\n",
       "    <tr>\n",
       "      <th>172</th>\n",
       "      <td>HG01978</td>\n",
       "      <td>hprc</td>\n",
       "      <td>mat</td>\n",
       "      <td>286</td>\n",
       "      <td>53079156</td>\n",
       "    </tr>\n",
       "    <tr>\n",
       "      <th>173</th>\n",
       "      <td>HG02818</td>\n",
       "      <td>hprc</td>\n",
       "      <td>pat</td>\n",
       "      <td>620</td>\n",
       "      <td>19770436</td>\n",
       "    </tr>\n",
       "  </tbody>\n",
       "</table>\n",
       "<p>174 rows × 5 columns</p>\n",
       "</div>"
      ],
      "text/plain": [
       "      sample  project haplotype  n_contigs       n50\n",
       "0    NA19983  eichler       pat       1465  35517528\n",
       "1    HG01928     hprc       pat        244  54860574\n",
       "2    HG01505  eichler       mat       2526  28512550\n",
       "3    HG00096  eichler       mat       2185  28196602\n",
       "4    HG00735     hprc       pat        244  57240366\n",
       "..       ...      ...       ...        ...       ...\n",
       "169  HG01952     hprc       pat        307  55302156\n",
       "170  HG01123     hprc       pat        340  55326480\n",
       "171  HG01109     hprc       mat        473  30391630\n",
       "172  HG01978     hprc       mat        286  53079156\n",
       "173  HG02818     hprc       pat        620  19770436\n",
       "\n",
       "[174 rows x 5 columns]"
      ]
     },
     "execution_count": 185,
     "metadata": {},
     "output_type": "execute_result"
    }
   ],
   "source": [
    "data['haplotype'] = data['haplotype'].map({\"H1\":\"pat\", \"H2\":\"mat\", \"1\":\"mat\", \"2\":\"pat\", \"mat\":\"mat\", \"pat\":\"pat\"})\n",
    "data"
   ]
  },
  {
   "cell_type": "code",
   "execution_count": 186,
   "id": "e23533e4-39f9-4342-b30d-498eeb58120a",
   "metadata": {},
   "outputs": [],
   "source": [
    "data = data.sort_values([\"sample\", \"haplotype\", \"project\"])"
   ]
  },
  {
   "cell_type": "code",
   "execution_count": 188,
   "id": "3a1d6d9f-7bc3-452f-88c0-5fa77b1a4b9d",
   "metadata": {},
   "outputs": [],
   "source": [
    "h1 = data[data['haplotype'] == 'mat'].set_index(['sample', 'project']).drop(columns='haplotype')\n",
    "h2 = data[data['haplotype'] == 'pat'].set_index(['sample', 'project']).drop(columns='haplotype')"
   ]
  },
  {
   "cell_type": "code",
   "execution_count": 189,
   "id": "91623143-472b-42e3-b4bb-361aeb5d6a29",
   "metadata": {},
   "outputs": [],
   "source": [
    "asm_view = h1.join(h2, lsuffix=\"_maternal_hap\", rsuffix=\"_paternal_hap2\")"
   ]
  },
  {
   "cell_type": "code",
   "execution_count": 190,
   "id": "e48247f6-ef38-4889-8c4f-13b1df25791e",
   "metadata": {},
   "outputs": [
    {
     "data": {
      "text/html": [
       "<div>\n",
       "<style scoped>\n",
       "    .dataframe tbody tr th:only-of-type {\n",
       "        vertical-align: middle;\n",
       "    }\n",
       "\n",
       "    .dataframe tbody tr th {\n",
       "        vertical-align: top;\n",
       "    }\n",
       "\n",
       "    .dataframe thead th {\n",
       "        text-align: right;\n",
       "    }\n",
       "</style>\n",
       "<table border=\"1\" class=\"dataframe\">\n",
       "  <thead>\n",
       "    <tr style=\"text-align: right;\">\n",
       "      <th></th>\n",
       "      <th></th>\n",
       "      <th>n_contigs_maternal_hap</th>\n",
       "      <th>n50_maternal_hap</th>\n",
       "      <th>n_contigs_paternal_hap2</th>\n",
       "      <th>n50_paternal_hap2</th>\n",
       "    </tr>\n",
       "    <tr>\n",
       "      <th>sample</th>\n",
       "      <th>project</th>\n",
       "      <th></th>\n",
       "      <th></th>\n",
       "      <th></th>\n",
       "      <th></th>\n",
       "    </tr>\n",
       "  </thead>\n",
       "  <tbody>\n",
       "    <tr>\n",
       "      <th>HG00096</th>\n",
       "      <th>eichler</th>\n",
       "      <td>2185</td>\n",
       "      <td>28196602</td>\n",
       "      <td>2263</td>\n",
       "      <td>28826430</td>\n",
       "    </tr>\n",
       "    <tr>\n",
       "      <th>HG00171</th>\n",
       "      <th>eichler</th>\n",
       "      <td>2482</td>\n",
       "      <td>29266314</td>\n",
       "      <td>2452</td>\n",
       "      <td>29317192</td>\n",
       "    </tr>\n",
       "    <tr>\n",
       "      <th rowspan=\"2\" valign=\"top\">HG002</th>\n",
       "      <th>giab</th>\n",
       "      <td>355</td>\n",
       "      <td>162676710</td>\n",
       "      <td>514</td>\n",
       "      <td>159878589</td>\n",
       "    </tr>\n",
       "    <tr>\n",
       "      <th>hprc</th>\n",
       "      <td>610</td>\n",
       "      <td>86209598</td>\n",
       "      <td>445</td>\n",
       "      <td>86491595</td>\n",
       "    </tr>\n",
       "    <tr>\n",
       "      <th>HG00438</th>\n",
       "      <th>hprc</th>\n",
       "      <td>276</td>\n",
       "      <td>49138847</td>\n",
       "      <td>258</td>\n",
       "      <td>56346258</td>\n",
       "    </tr>\n",
       "    <tr>\n",
       "      <th>...</th>\n",
       "      <th>...</th>\n",
       "      <td>...</td>\n",
       "      <td>...</td>\n",
       "      <td>...</td>\n",
       "      <td>...</td>\n",
       "    </tr>\n",
       "    <tr>\n",
       "      <th>NA20847</th>\n",
       "      <th>eichler</th>\n",
       "      <td>1903</td>\n",
       "      <td>27719882</td>\n",
       "      <td>1953</td>\n",
       "      <td>28983715</td>\n",
       "    </tr>\n",
       "    <tr>\n",
       "      <th>NA21309</th>\n",
       "      <th>hprc</th>\n",
       "      <td>608</td>\n",
       "      <td>17870629</td>\n",
       "      <td>501</td>\n",
       "      <td>20876992</td>\n",
       "    </tr>\n",
       "    <tr>\n",
       "      <th rowspan=\"2\" valign=\"top\">NA24385</th>\n",
       "      <th>eichler</th>\n",
       "      <td>7639</td>\n",
       "      <td>25653134</td>\n",
       "      <td>8003</td>\n",
       "      <td>32602800</td>\n",
       "    </tr>\n",
       "    <tr>\n",
       "      <th>li</th>\n",
       "      <td>5735</td>\n",
       "      <td>24836347</td>\n",
       "      <td>5912</td>\n",
       "      <td>25830230</td>\n",
       "    </tr>\n",
       "    <tr>\n",
       "      <th>PGP1</th>\n",
       "      <th>li</th>\n",
       "      <td>8582</td>\n",
       "      <td>18444923</td>\n",
       "      <td>8396</td>\n",
       "      <td>14858698</td>\n",
       "    </tr>\n",
       "  </tbody>\n",
       "</table>\n",
       "<p>87 rows × 4 columns</p>\n",
       "</div>"
      ],
      "text/plain": [
       "                 n_contigs_maternal_hap  n50_maternal_hap  \\\n",
       "sample  project                                             \n",
       "HG00096 eichler                    2185          28196602   \n",
       "HG00171 eichler                    2482          29266314   \n",
       "HG002   giab                        355         162676710   \n",
       "        hprc                        610          86209598   \n",
       "HG00438 hprc                        276          49138847   \n",
       "...                                 ...               ...   \n",
       "NA20847 eichler                    1903          27719882   \n",
       "NA21309 hprc                        608          17870629   \n",
       "NA24385 eichler                    7639          25653134   \n",
       "        li                         5735          24836347   \n",
       "PGP1    li                         8582          18444923   \n",
       "\n",
       "                 n_contigs_paternal_hap2  n50_paternal_hap2  \n",
       "sample  project                                              \n",
       "HG00096 eichler                     2263           28826430  \n",
       "HG00171 eichler                     2452           29317192  \n",
       "HG002   giab                         514          159878589  \n",
       "        hprc                         445           86491595  \n",
       "HG00438 hprc                         258           56346258  \n",
       "...                                  ...                ...  \n",
       "NA20847 eichler                     1953           28983715  \n",
       "NA21309 hprc                         501           20876992  \n",
       "NA24385 eichler                     8003           32602800  \n",
       "        li                          5912           25830230  \n",
       "PGP1    li                          8396           14858698  \n",
       "\n",
       "[87 rows x 4 columns]"
      ]
     },
     "execution_count": 190,
     "metadata": {},
     "output_type": "execute_result"
    }
   ],
   "source": [
    "asm_view"
   ]
  },
  {
   "cell_type": "code",
   "execution_count": 191,
   "id": "6353e3d4-feca-4933-ba9d-906580fe9d36",
   "metadata": {},
   "outputs": [],
   "source": [
    "cov.loc[cov['sample'] == \"HG002\", \"project\"] = 'giab'"
   ]
  },
  {
   "cell_type": "code",
   "execution_count": 192,
   "id": "8e846a31-fee9-48cb-bc50-1b4a3fd03868",
   "metadata": {},
   "outputs": [
    {
     "data": {
      "text/plain": [
       "hprc       46\n",
       "eichler    35\n",
       "li          4\n",
       "giab        1\n",
       "Name: project, dtype: int64"
      ]
     },
     "execution_count": 192,
     "metadata": {},
     "output_type": "execute_result"
    }
   ],
   "source": [
    "cov['project'].value_counts()"
   ]
  },
  {
   "cell_type": "code",
   "execution_count": 193,
   "id": "ffeb356c-9613-46b0-b812-b3fc4dbfbec6",
   "metadata": {},
   "outputs": [
    {
     "data": {
      "text/html": [
       "<div>\n",
       "<style scoped>\n",
       "    .dataframe tbody tr th:only-of-type {\n",
       "        vertical-align: middle;\n",
       "    }\n",
       "\n",
       "    .dataframe tbody tr th {\n",
       "        vertical-align: top;\n",
       "    }\n",
       "\n",
       "    .dataframe thead th {\n",
       "        text-align: right;\n",
       "    }\n",
       "</style>\n",
       "<table border=\"1\" class=\"dataframe\">\n",
       "  <thead>\n",
       "    <tr style=\"text-align: right;\">\n",
       "      <th></th>\n",
       "      <th>n_contigs_maternal_hap</th>\n",
       "      <th>n50_maternal_hap</th>\n",
       "      <th>n_contigs_paternal_hap2</th>\n",
       "      <th>n50_paternal_hap2</th>\n",
       "    </tr>\n",
       "    <tr>\n",
       "      <th>project</th>\n",
       "      <th></th>\n",
       "      <th></th>\n",
       "      <th></th>\n",
       "      <th></th>\n",
       "    </tr>\n",
       "  </thead>\n",
       "  <tbody>\n",
       "    <tr>\n",
       "      <th>giab</th>\n",
       "      <td>355</td>\n",
       "      <td>162676710</td>\n",
       "      <td>514</td>\n",
       "      <td>159878589</td>\n",
       "    </tr>\n",
       "    <tr>\n",
       "      <th>hprc</th>\n",
       "      <td>610</td>\n",
       "      <td>86209598</td>\n",
       "      <td>445</td>\n",
       "      <td>86491595</td>\n",
       "    </tr>\n",
       "  </tbody>\n",
       "</table>\n",
       "</div>"
      ],
      "text/plain": [
       "         n_contigs_maternal_hap  n50_maternal_hap  n_contigs_paternal_hap2  \\\n",
       "project                                                                      \n",
       "giab                        355         162676710                      514   \n",
       "hprc                        610          86209598                      445   \n",
       "\n",
       "         n50_paternal_hap2  \n",
       "project                     \n",
       "giab             159878589  \n",
       "hprc              86491595  "
      ]
     },
     "execution_count": 193,
     "metadata": {},
     "output_type": "execute_result"
    }
   ],
   "source": [
    "asm_view.loc['HG002']"
   ]
  },
  {
   "cell_type": "code",
   "execution_count": 194,
   "id": "7daa95a2-41aa-4c81-a22f-25665e8aeef5",
   "metadata": {},
   "outputs": [],
   "source": [
    "cov.set_index([\"sample\", \"project\"], inplace=True)"
   ]
  },
  {
   "cell_type": "code",
   "execution_count": 195,
   "id": "5731a0be-ec98-40ad-b513-cf3faa99915a",
   "metadata": {},
   "outputs": [],
   "source": [
    "asm_view.join(cov).sort_index(level=1).reset_index().to_csv(\"final_stats.txt\", sep='\\t', index=False)"
   ]
  },
  {
   "cell_type": "code",
   "execution_count": null,
   "id": "81d96138-ba07-49e5-87cc-408897885dff",
   "metadata": {},
   "outputs": [],
   "source": []
  }
 ],
 "metadata": {
  "kernelspec": {
   "display_name": "Python 3 (ipykernel)",
   "language": "python",
   "name": "python3"
  },
  "language_info": {
   "codemirror_mode": {
    "name": "ipython",
    "version": 3
   },
   "file_extension": ".py",
   "mimetype": "text/x-python",
   "name": "python",
   "nbconvert_exporter": "python",
   "pygments_lexer": "ipython3",
   "version": "3.9.6"
  }
 },
 "nbformat": 4,
 "nbformat_minor": 5
}
