{
 "cells": [
  {
   "cell_type": "markdown",
   "id": "dd18cf80-2cf4-4084-a7f9-7b335cdb8566",
   "metadata": {},
   "source": [
    "For the known pathogenic, codis, and medically relevant genes, ask\n",
    "1) How many there are in the catalog\n",
    "2) How many are in the benchmark\n",
    "3) How many have >=5bp HG002 variants in the benchmark"
   ]
  },
  {
   "cell_type": "code",
   "execution_count": null,
   "id": "27caa5de-bce6-48af-bca3-ba0f74c8357d",
   "metadata": {},
   "outputs": [],
   "source": [
    "import pyranges"
   ]
  },
  {
   "cell_type": "code",
   "execution_count": 1,
   "id": "4f255d44-96a3-4401-960c-8ab60d00ec47",
   "metadata": {},
   "outputs": [],
   "source": [
    "import pandas as pd\n",
    "\n",
    "catalog = pd.read_csv(\"/Users/english/code/adotto/regions/adotto_TRregions_v1.1.bed\", sep='\\t')\n",
    "catalog.set_index(['chr', 'start', 'end'], inplace=True)\n",
    "benchmark = pd.read_csv(\"/Users/english/code/adotto/benchmark/GIABTR_benchmark.6.26/GIABTR.HG002.benchmark.regions.bed.gz\",\n",
    "                        sep='\\t', names=['chr', 'start', 'end', 'tier', 'repl', 'var_state', 'entropy', 'mat_ad', 'pat_ad'])\n",
    "benchmark.set_index(['chr', 'start', 'end'], inplace=True)"
   ]
  },
  {
   "cell_type": "code",
   "execution_count": 3,
   "id": "1729864b-fcff-437f-ba13-886b99b1ad73",
   "metadata": {},
   "outputs": [],
   "source": [
    "data = benchmark.join(catalog)"
   ]
  },
  {
   "cell_type": "code",
   "execution_count": 38,
   "id": "ea8d417f-3e21-4124-a7d3-f05694725d36",
   "metadata": {},
   "outputs": [],
   "source": [
    "cat_in_cmg = pd.read_csv(\"catalog_hitting_mrg.bed\", sep='\\t',\n",
    "                    names=['chr', 'start', 'end', 'gchr', 'gstart', 'gend', 'gene', 'ovl']).set_index(['chr', 'start', 'end'])"
   ]
  },
  {
   "cell_type": "code",
   "execution_count": 62,
   "id": "a5c88142-f8a2-4236-ba6a-76bd73d0f108",
   "metadata": {},
   "outputs": [],
   "source": [
    "patho = catalog[catalog['patho'] != '.']\n",
    "codis = catalog[catalog['codis'] != '.']\n",
    "bench_patho = data[data['patho'] != '.']\n",
    "bench_codis = data[data['codis'] != '.']\n",
    "gene = pd.read_csv(\"GRCh38_mrg_full_gene.bed\", sep='\\t', names=['chr', 'start', 'end', 'gene'])\n",
    "has_hit_cmg = cat_in_cmg[cat_in_cmg['gchr'] != '.']\n",
    "bench_gene = data[data.index.isin(has_hit_cmg.index)]\n",
    "                   "
   ]
  },
  {
   "cell_type": "code",
   "execution_count": 63,
   "id": "d56d35ef-e191-40cb-b60d-cf484523ff3a",
   "metadata": {},
   "outputs": [],
   "source": [
    "def make_summary(d_bare, d_bench):\n",
    "    \"\"\"\n",
    "    Okay, we gotta turn this into a table. Its too many numbers.\n",
    "    Columns:\n",
    "    - N : Total number of items there are (*on MRG as it'll have 1->N Gene to TRs\n",
    "    - benchmark : Total number of items in benchmark\n",
    "    - Tier1 count :\n",
    "    - HG002 >=5bp Variant :\n",
    "    - Non-HG002 >=5bp Variant :\n",
    "    \"\"\"\n",
    "    ret = d_bench['tier'].value_counts()\n",
    "    ret['N'] = len(d_bare)\n",
    "    ret['benchmark'] = len(d_bench)\n",
    "    ret['HG002 >=5bp'] = (d_bench['var_state'].apply(lambda x: (x & 0x1) != 0)).sum()\n",
    "    ret['Other >=5bp'] = (d_bench['var_state'].apply(lambda x: (x & 0x4) != 0)).sum()\n",
    "    return ret\n",
    "    \n",
    "    "
   ]
  },
  {
   "cell_type": "code",
   "execution_count": 64,
   "id": "8d879ada-e005-4d87-9531-4f06e73cc4eb",
   "metadata": {},
   "outputs": [],
   "source": [
    "p_summary = make_summary(patho, bench_patho)\n",
    "p_summary.name = \"Pathogenic\"\n",
    "c_summary = make_summary(codis, bench_codis)\n",
    "c_summary.name = \"CODIS\"\n",
    "g_summary = make_summary(has_hit_cmg, bench_gene)\n",
    "g_summary.name = \"MRG\"\n",
    "\n",
    "summary = pd.concat([p_summary, c_summary, g_summary], axis=1).T"
   ]
  },
  {
   "cell_type": "code",
   "execution_count": 66,
   "id": "0209a3f4-9cac-4aae-bbef-252bf120acfe",
   "metadata": {},
   "outputs": [
    {
     "data": {
      "text/html": [
       "<div>\n",
       "<style scoped>\n",
       "    .dataframe tbody tr th:only-of-type {\n",
       "        vertical-align: middle;\n",
       "    }\n",
       "\n",
       "    .dataframe tbody tr th {\n",
       "        vertical-align: top;\n",
       "    }\n",
       "\n",
       "    .dataframe thead th {\n",
       "        text-align: right;\n",
       "    }\n",
       "</style>\n",
       "<table border=\"1\" class=\"dataframe\">\n",
       "  <thead>\n",
       "    <tr style=\"text-align: right;\">\n",
       "      <th></th>\n",
       "      <th>N</th>\n",
       "      <th>benchmark</th>\n",
       "      <th>Tier1</th>\n",
       "      <th>Tier2</th>\n",
       "      <th>HG002 &gt;=5bp</th>\n",
       "      <th>Other &gt;=5bp</th>\n",
       "    </tr>\n",
       "  </thead>\n",
       "  <tbody>\n",
       "    <tr>\n",
       "      <th>Pathogenic</th>\n",
       "      <td>62</td>\n",
       "      <td>50</td>\n",
       "      <td>42</td>\n",
       "      <td>8</td>\n",
       "      <td>24</td>\n",
       "      <td>40</td>\n",
       "    </tr>\n",
       "    <tr>\n",
       "      <th>CODIS</th>\n",
       "      <td>51</td>\n",
       "      <td>44</td>\n",
       "      <td>26</td>\n",
       "      <td>18</td>\n",
       "      <td>25</td>\n",
       "      <td>44</td>\n",
       "    </tr>\n",
       "    <tr>\n",
       "      <th>MRG</th>\n",
       "      <td>299633</td>\n",
       "      <td>289964</td>\n",
       "      <td>278225</td>\n",
       "      <td>11739</td>\n",
       "      <td>17201</td>\n",
       "      <td>49219</td>\n",
       "    </tr>\n",
       "  </tbody>\n",
       "</table>\n",
       "</div>"
      ],
      "text/plain": [
       "                 N  benchmark   Tier1  Tier2  HG002 >=5bp  Other >=5bp\n",
       "Pathogenic      62         50      42      8           24           40\n",
       "CODIS           51         44      26     18           25           44\n",
       "MRG         299633     289964  278225  11739        17201        49219"
      ]
     },
     "execution_count": 66,
     "metadata": {},
     "output_type": "execute_result"
    }
   ],
   "source": [
    "summary[[\"N\", \"benchmark\", \"Tier1\", \"Tier2\", \"HG002 >=5bp\", \"Other >=5bp\"]]"
   ]
  },
  {
   "cell_type": "code",
   "execution_count": 44,
   "id": "acf0c080-6246-4fa0-a351-867f2ab57bcd",
   "metadata": {},
   "outputs": [],
   "source": [
    "has_hit_cmg = cat_in_cmg[cat_in_cmg['gchr'] != '.']"
   ]
  },
  {
   "cell_type": "code",
   "execution_count": 45,
   "id": "86a61094-5977-4159-bac0-ea03468dc0b3",
   "metadata": {},
   "outputs": [
    {
     "name": "stdout",
     "output_type": "stream",
     "text": [
      "Patho: 50\n",
      "CODIS: 44\n",
      "CMG: 289964\n"
     ]
    }
   ],
   "source": [
    "print(\"Patho:\", (data['patho'] != '.').sum())\n",
    "print(\"CODIS:\", (data['codis'] != '.').sum())\n",
    "print(\"CMG:\", data.index.isin(has_hit_cmg.index).sum())"
   ]
  },
  {
   "cell_type": "code",
   "execution_count": 46,
   "id": "06f35bc1-e0a0-4573-a510-dc6fa086c5fe",
   "metadata": {},
   "outputs": [
    {
     "name": "stdout",
     "output_type": "stream",
     "text": [
      "0.8064516129032258\n",
      "0.8627450980392157\n",
      "0.9677305236739612\n"
     ]
    }
   ],
   "source": [
    "print(50 / 62)\n",
    "print(44 / 51)\n",
    "print(289964 / 299633)"
   ]
  },
  {
   "cell_type": "code",
   "execution_count": 21,
   "id": "41087e04-8e82-4724-abe9-678c8caa12e8",
   "metadata": {},
   "outputs": [
    {
     "data": {
      "text/plain": [
       "Index(['tier', 'repl', 'var_state', 'entropy', 'mat_ad', 'pat_ad', 'ovl_flag',\n",
       "       'up_buff', 'dn_buff', 'hom_pct', 'n_filtered', 'n_annos',\n",
       "       'n_subregions', 'mu_purity', 'pct_annotated', 'interspersed', 'patho',\n",
       "       'codis', 'gene_flag', 'biotype', 'annos'],\n",
       "      dtype='object')"
      ]
     },
     "execution_count": 21,
     "metadata": {},
     "output_type": "execute_result"
    }
   ],
   "source": [
    "data.columns"
   ]
  },
  {
   "cell_type": "code",
   "execution_count": 22,
   "id": "bc5436dd-e7af-4636-8f0b-fe2a37735bf2",
   "metadata": {},
   "outputs": [
    {
     "name": "stdout",
     "output_type": "stream",
     "text": [
      "Patho: Tier1    42\n",
      "Tier2     8\n",
      "Name: tier, dtype: int64\n"
     ]
    }
   ],
   "source": [
    "print(\"Patho:\", data[data['patho'] != '.']['tier'].value_counts())\n"
   ]
  },
  {
   "cell_type": "code",
   "execution_count": 23,
   "id": "9caacfb8-7776-4526-9569-bd7b5a9966df",
   "metadata": {},
   "outputs": [
    {
     "name": "stdout",
     "output_type": "stream",
     "text": [
      "CODIS: Tier1    26\n",
      "Tier2    18\n",
      "Name: tier, dtype: int64\n"
     ]
    }
   ],
   "source": [
    "print(\"CODIS:\", data[data['codis'] != '.']['tier'].value_counts())\n"
   ]
  },
  {
   "cell_type": "code",
   "execution_count": 47,
   "id": "5d35170c-295d-451e-a86b-6c43693ee878",
   "metadata": {},
   "outputs": [
    {
     "name": "stdout",
     "output_type": "stream",
     "text": [
      "CMG: Tier1    278225\n",
      "Tier2     11739\n",
      "Name: tier, dtype: int64\n"
     ]
    }
   ],
   "source": [
    "print(\"CMG:\", data[data.index.isin(has_hit_cmg.index)]['tier'].value_counts())"
   ]
  },
  {
   "cell_type": "code",
   "execution_count": 48,
   "id": "dffd6869-2ded-4d17-bb8e-7849ababd077",
   "metadata": {},
   "outputs": [
    {
     "data": {
      "text/plain": [
       "0.9595156640134638"
      ]
     },
     "execution_count": 48,
     "metadata": {},
     "output_type": "execute_result"
    }
   ],
   "source": [
    "278225 / (278225 + 11739)"
   ]
  },
  {
   "cell_type": "code",
   "execution_count": 16,
   "id": "a7f9524e-4779-4281-bea9-28f5d93b0bbb",
   "metadata": {},
   "outputs": [
    {
     "data": {
      "text/plain": [
       "13    15\n",
       "12    11\n",
       "15     9\n",
       "8      8\n",
       "14     5\n",
       "10     2\n",
       "Name: var_state, dtype: int64"
      ]
     },
     "execution_count": 16,
     "metadata": {},
     "output_type": "execute_result"
    }
   ],
   "source": [
    "data[data['patho'] != '.']['var_state'].value_counts()"
   ]
  },
  {
   "cell_type": "code",
   "execution_count": 17,
   "id": "a0c4f524-133a-4766-a398-3005e09076cd",
   "metadata": {},
   "outputs": [
    {
     "data": {
      "text/plain": [
       "14    14\n",
       "15    13\n",
       "13    11\n",
       "12     5\n",
       "5      1\n",
       "Name: var_state, dtype: int64"
      ]
     },
     "execution_count": 17,
     "metadata": {},
     "output_type": "execute_result"
    }
   ],
   "source": [
    "data[data['codis'] != '.']['var_state'].value_counts()"
   ]
  },
  {
   "cell_type": "code",
   "execution_count": 18,
   "id": "b7326d6e-0968-448d-b924-0d1507b89fb4",
   "metadata": {},
   "outputs": [],
   "source": [
    "cat_view = data[data.index.isin(cat_in_cmg.index)]"
   ]
  },
  {
   "cell_type": "code",
   "execution_count": 19,
   "id": "47875f23-3a2f-4764-a2f5-65ea7fbee3a7",
   "metadata": {},
   "outputs": [
    {
     "data": {
      "text/plain": [
       "8     115442\n",
       "0      83822\n",
       "10     40516\n",
       "14     15774\n",
       "12     13520\n",
       "15      9720\n",
       "13      6610\n",
       "4       2569\n",
       "5        754\n",
       "2        159\n",
       "11        26\n",
       "9         17\n",
       "6          7\n",
       "1          4\n",
       "7          1\n",
       "Name: var_state, dtype: int64"
      ]
     },
     "execution_count": 19,
     "metadata": {},
     "output_type": "execute_result"
    }
   ],
   "source": [
    "cat_view['var_state'].value_counts()"
   ]
  },
  {
   "cell_type": "markdown",
   "id": "0990254b-93d2-486e-a680-095eaddb3336",
   "metadata": {},
   "source": [
    "Okay, we gotta turn this into a table. Its too many numbers.\n",
    "\n",
    "Columns:\n",
    "- Site : Pathogenic, CODIS, MRG\n",
    "- N : Total number of items there are (*on MRG as it'll have 1->N Gene to TRs\n",
    "- benchmark : Total number of items in benchmark\n",
    "- Tier1 count :\n",
    "- HG002 >=5bp Variant :\n",
    "- Non-HG002 >=5bp Variant :"
   ]
  }
 ],
 "metadata": {
  "kernelspec": {
   "display_name": "Python 3 (ipykernel)",
   "language": "python",
   "name": "python3"
  },
  "language_info": {
   "codemirror_mode": {
    "name": "ipython",
    "version": 3
   },
   "file_extension": ".py",
   "mimetype": "text/x-python",
   "name": "python",
   "nbconvert_exporter": "python",
   "pygments_lexer": "ipython3",
   "version": "3.9.6"
  }
 },
 "nbformat": 4,
 "nbformat_minor": 5
}
