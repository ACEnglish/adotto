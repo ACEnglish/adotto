{
 "cells": [
  {
   "cell_type": "code",
   "execution_count": 1,
   "id": "550ebc8a-038c-4326-ac32-a2686e706c80",
   "metadata": {},
   "outputs": [],
   "source": [
    "import json\n",
    "import pandas as pd\n",
    "import seaborn as sb\n",
    "import matplotlib.pyplot as plt\n",
    "import sys"
   ]
  },
  {
   "cell_type": "code",
   "execution_count": 2,
   "id": "558bb282-3793-4f73-b261-7e0897fe299f",
   "metadata": {},
   "outputs": [],
   "source": [
    "catalog = pd.read_csv(\"/Users/english/code/adotto/regions/adotto_TRregions_v1.1.bed\", sep='\\t')\n",
    "catalog.set_index(['chr', 'start', 'end'], inplace=True)"
   ]
  },
  {
   "cell_type": "code",
   "execution_count": 3,
   "id": "20a658d9-866f-464f-af03-2ab9fe436b21",
   "metadata": {},
   "outputs": [],
   "source": [
    "benchmark = pd.read_csv(\"/Users/english/code/adotto/benchmark/GIABTR_benchmark.6.26/GIABTR.HG002.benchmark.regions.bed.gz\",\n",
    "                        sep='\\t', names=['chr', 'start', 'end', 'tier', 'repl', 'var_state', 'entropy', 'mat_ad', 'pat_ad'])\n",
    "benchmark.set_index(['chr', 'start', 'end'], inplace=True)"
   ]
  },
  {
   "cell_type": "code",
   "execution_count": 4,
   "id": "98daba25-0334-4432-af25-261527d017cf",
   "metadata": {},
   "outputs": [
    {
     "data": {
      "text/plain": [
       "(1784804, 1706853, 0.9563251763218819)"
      ]
     },
     "execution_count": 4,
     "metadata": {},
     "output_type": "execute_result"
    }
   ],
   "source": [
    "len(catalog), len(benchmark), len(benchmark) / len(catalog)"
   ]
  },
  {
   "cell_type": "code",
   "execution_count": 5,
   "id": "38c408c4-3392-4df7-b9c6-0c5cd159e153",
   "metadata": {},
   "outputs": [],
   "source": [
    "data = benchmark[benchmark['tier'] == \"Tier1\"]\n",
    "data = data.join(catalog)"
   ]
  },
  {
   "cell_type": "code",
   "execution_count": 6,
   "id": "c3d67495-cc97-4bc7-8924-e8676b85cb26",
   "metadata": {},
   "outputs": [
    {
     "ename": "KeyError",
     "evalue": "'max_motif'",
     "output_type": "error",
     "traceback": [
      "\u001b[0;31m---------------------------------------------------------------------------\u001b[0m",
      "\u001b[0;31mKeyError\u001b[0m                                  Traceback (most recent call last)",
      "File \u001b[0;32m~/py/lib/python3.9/site-packages/pandas/core/indexes/base.py:3802\u001b[0m, in \u001b[0;36mIndex.get_loc\u001b[0;34m(self, key, method, tolerance)\u001b[0m\n\u001b[1;32m   3801\u001b[0m \u001b[38;5;28;01mtry\u001b[39;00m:\n\u001b[0;32m-> 3802\u001b[0m     \u001b[38;5;28;01mreturn\u001b[39;00m \u001b[38;5;28;43mself\u001b[39;49m\u001b[38;5;241;43m.\u001b[39;49m\u001b[43m_engine\u001b[49m\u001b[38;5;241;43m.\u001b[39;49m\u001b[43mget_loc\u001b[49m\u001b[43m(\u001b[49m\u001b[43mcasted_key\u001b[49m\u001b[43m)\u001b[49m\n\u001b[1;32m   3803\u001b[0m \u001b[38;5;28;01mexcept\u001b[39;00m \u001b[38;5;167;01mKeyError\u001b[39;00m \u001b[38;5;28;01mas\u001b[39;00m err:\n",
      "File \u001b[0;32m~/py/lib/python3.9/site-packages/pandas/_libs/index.pyx:138\u001b[0m, in \u001b[0;36mpandas._libs.index.IndexEngine.get_loc\u001b[0;34m()\u001b[0m\n",
      "File \u001b[0;32m~/py/lib/python3.9/site-packages/pandas/_libs/index.pyx:165\u001b[0m, in \u001b[0;36mpandas._libs.index.IndexEngine.get_loc\u001b[0;34m()\u001b[0m\n",
      "File \u001b[0;32mpandas/_libs/hashtable_class_helper.pxi:5745\u001b[0m, in \u001b[0;36mpandas._libs.hashtable.PyObjectHashTable.get_item\u001b[0;34m()\u001b[0m\n",
      "File \u001b[0;32mpandas/_libs/hashtable_class_helper.pxi:5753\u001b[0m, in \u001b[0;36mpandas._libs.hashtable.PyObjectHashTable.get_item\u001b[0;34m()\u001b[0m\n",
      "\u001b[0;31mKeyError\u001b[0m: 'max_motif'",
      "\nThe above exception was the direct cause of the following exception:\n",
      "\u001b[0;31mKeyError\u001b[0m                                  Traceback (most recent call last)",
      "Cell \u001b[0;32mIn [6], line 4\u001b[0m\n\u001b[1;32m      1\u001b[0m data[\u001b[38;5;124m'\u001b[39m\u001b[38;5;124mis_inter\u001b[39m\u001b[38;5;124m'\u001b[39m] \u001b[38;5;241m=\u001b[39m data[\u001b[38;5;124m'\u001b[39m\u001b[38;5;124minterspersed\u001b[39m\u001b[38;5;124m'\u001b[39m] \u001b[38;5;241m!=\u001b[39m \u001b[38;5;124m'\u001b[39m\u001b[38;5;124m.\u001b[39m\u001b[38;5;124m'\u001b[39m\n\u001b[0;32m----> 4\u001b[0m data[\u001b[38;5;124m'\u001b[39m\u001b[38;5;124mmotif_length_bin\u001b[39m\u001b[38;5;124m'\u001b[39m] \u001b[38;5;241m=\u001b[39m pd\u001b[38;5;241m.\u001b[39mcut(\u001b[43mdata\u001b[49m\u001b[43m[\u001b[49m\u001b[38;5;124;43m'\u001b[39;49m\u001b[38;5;124;43mmax_motif\u001b[39;49m\u001b[38;5;124;43m'\u001b[39;49m\u001b[43m]\u001b[49m, bins\u001b[38;5;241m=\u001b[39m[\u001b[38;5;241m2\u001b[39m, \u001b[38;5;241m8\u001b[39m, \u001b[38;5;241m20\u001b[39m, \u001b[38;5;241m50\u001b[39m, \u001b[38;5;241m100\u001b[39m, sys\u001b[38;5;241m.\u001b[39mmaxsize], right\u001b[38;5;241m=\u001b[39m\u001b[38;5;28;01mFalse\u001b[39;00m, \n\u001b[1;32m      5\u001b[0m               labels\u001b[38;5;241m=\u001b[39m[\u001b[38;5;124m\"\u001b[39m\u001b[38;5;124m[2, 8)\u001b[39m\u001b[38;5;124m\"\u001b[39m, \u001b[38;5;124m\"\u001b[39m\u001b[38;5;124m[9, 20)\u001b[39m\u001b[38;5;124m\"\u001b[39m, \u001b[38;5;124m\"\u001b[39m\u001b[38;5;124m[21,50)\u001b[39m\u001b[38;5;124m\"\u001b[39m, \u001b[38;5;124m\"\u001b[39m\u001b[38;5;124m[51, 100)\u001b[39m\u001b[38;5;124m\"\u001b[39m, \u001b[38;5;124m\"\u001b[39m\u001b[38;5;124m>100\u001b[39m\u001b[38;5;124m\"\u001b[39m])\n\u001b[1;32m      6\u001b[0m data[\u001b[38;5;124m'\u001b[39m\u001b[38;5;124mmax_delta\u001b[39m\u001b[38;5;124m'\u001b[39m] \u001b[38;5;241m=\u001b[39m data[[\u001b[38;5;124m'\u001b[39m\u001b[38;5;124mmat_ad\u001b[39m\u001b[38;5;124m'\u001b[39m,\u001b[38;5;124m'\u001b[39m\u001b[38;5;124mpat_ad\u001b[39m\u001b[38;5;124m'\u001b[39m]]\u001b[38;5;241m.\u001b[39mmax(axis\u001b[38;5;241m=\u001b[39m\u001b[38;5;241m1\u001b[39m)\n\u001b[1;32m      7\u001b[0m hg002_subset \u001b[38;5;241m=\u001b[39m data[\u001b[38;5;124m'\u001b[39m\u001b[38;5;124mvar_state\u001b[39m\u001b[38;5;124m'\u001b[39m]\u001b[38;5;241m.\u001b[39mapply(\u001b[38;5;28;01mlambda\u001b[39;00m x: x \u001b[38;5;241m&\u001b[39m \u001b[38;5;241m0x1\u001b[39m) \u001b[38;5;241m==\u001b[39m \u001b[38;5;241m1\u001b[39m\n",
      "File \u001b[0;32m~/py/lib/python3.9/site-packages/pandas/core/frame.py:3807\u001b[0m, in \u001b[0;36mDataFrame.__getitem__\u001b[0;34m(self, key)\u001b[0m\n\u001b[1;32m   3805\u001b[0m \u001b[38;5;28;01mif\u001b[39;00m \u001b[38;5;28mself\u001b[39m\u001b[38;5;241m.\u001b[39mcolumns\u001b[38;5;241m.\u001b[39mnlevels \u001b[38;5;241m>\u001b[39m \u001b[38;5;241m1\u001b[39m:\n\u001b[1;32m   3806\u001b[0m     \u001b[38;5;28;01mreturn\u001b[39;00m \u001b[38;5;28mself\u001b[39m\u001b[38;5;241m.\u001b[39m_getitem_multilevel(key)\n\u001b[0;32m-> 3807\u001b[0m indexer \u001b[38;5;241m=\u001b[39m \u001b[38;5;28;43mself\u001b[39;49m\u001b[38;5;241;43m.\u001b[39;49m\u001b[43mcolumns\u001b[49m\u001b[38;5;241;43m.\u001b[39;49m\u001b[43mget_loc\u001b[49m\u001b[43m(\u001b[49m\u001b[43mkey\u001b[49m\u001b[43m)\u001b[49m\n\u001b[1;32m   3808\u001b[0m \u001b[38;5;28;01mif\u001b[39;00m is_integer(indexer):\n\u001b[1;32m   3809\u001b[0m     indexer \u001b[38;5;241m=\u001b[39m [indexer]\n",
      "File \u001b[0;32m~/py/lib/python3.9/site-packages/pandas/core/indexes/base.py:3804\u001b[0m, in \u001b[0;36mIndex.get_loc\u001b[0;34m(self, key, method, tolerance)\u001b[0m\n\u001b[1;32m   3802\u001b[0m     \u001b[38;5;28;01mreturn\u001b[39;00m \u001b[38;5;28mself\u001b[39m\u001b[38;5;241m.\u001b[39m_engine\u001b[38;5;241m.\u001b[39mget_loc(casted_key)\n\u001b[1;32m   3803\u001b[0m \u001b[38;5;28;01mexcept\u001b[39;00m \u001b[38;5;167;01mKeyError\u001b[39;00m \u001b[38;5;28;01mas\u001b[39;00m err:\n\u001b[0;32m-> 3804\u001b[0m     \u001b[38;5;28;01mraise\u001b[39;00m \u001b[38;5;167;01mKeyError\u001b[39;00m(key) \u001b[38;5;28;01mfrom\u001b[39;00m \u001b[38;5;21;01merr\u001b[39;00m\n\u001b[1;32m   3805\u001b[0m \u001b[38;5;28;01mexcept\u001b[39;00m \u001b[38;5;167;01mTypeError\u001b[39;00m:\n\u001b[1;32m   3806\u001b[0m     \u001b[38;5;66;03m# If we have a listlike key, _check_indexing_error will raise\u001b[39;00m\n\u001b[1;32m   3807\u001b[0m     \u001b[38;5;66;03m#  InvalidIndexError. Otherwise we fall through and re-raise\u001b[39;00m\n\u001b[1;32m   3808\u001b[0m     \u001b[38;5;66;03m#  the TypeError.\u001b[39;00m\n\u001b[1;32m   3809\u001b[0m     \u001b[38;5;28mself\u001b[39m\u001b[38;5;241m.\u001b[39m_check_indexing_error(key)\n",
      "\u001b[0;31mKeyError\u001b[0m: 'max_motif'"
     ]
    }
   ],
   "source": [
    "data['is_inter'] = data['interspersed'] != '.'\n",
    "\n",
    "\n",
    "data['motif_length_bin'] = pd.cut(data['max_motif'], bins=[2, 8, 20, 50, 100, sys.maxsize], right=False, \n",
    "              labels=[\"[2, 8)\", \"[9, 20)\", \"[21,50)\", \"[51, 100)\", \">100\"])\n",
    "data['max_delta'] = data[['mat_ad','pat_ad']].max(axis=1)\n",
    "hg002_subset = data['var_state'].apply(lambda x: x & 0x1) == 1\n",
    "\n",
    "def get_max_motif(x):\n",
    "    d = json.loads(x)\n",
    "    return max([len(_['motif']) for _ in d])\n",
    "data['max_motif'] = data['annos'].apply(get_max_motif)\n",
    "\n",
    "data['approx_copies'] = data['max_delta'] / data['max_motif']\n",
    "\n",
    "real_deltas = pd.read_csv(\"n_ad.txt\", sep='\\t', names=[\"chr\", \"start\", \"end\", \"delta\"]).set_index(['chr', 'start', 'end'])\n",
    "data['real_delta'] = real_deltas\n",
    "data['approx_copies'] = data['real_delta'] / data['max_motif']"
   ]
  },
  {
   "cell_type": "code",
   "execution_count": null,
   "id": "754da1d9-ccbe-41c9-88d1-19fef871ef1e",
   "metadata": {},
   "outputs": [],
   "source": [
    "p = sb.boxplot(data=data[hg002_subset & (~data['is_inter'])], x = \"motif_length_bin\", y=\"max_delta\", showfliers=False)\n",
    "p.set(title=\"Motif x Delta (F2c)\")"
   ]
  },
  {
   "cell_type": "code",
   "execution_count": null,
   "id": "7c3d38ac-06e2-4088-b67a-729dac23f2f0",
   "metadata": {},
   "outputs": [],
   "source": [
    "# There's a general trend that longer motifs create longer expansions/contractions of the region\n",
    "# However, for regions where the maximum motif is over 100bp, we see an increase in 'partial' copies\n",
    "# This is possibly due to the maximum motif length annotation being a super-sequence of the  "
   ]
  },
  {
   "cell_type": "code",
   "execution_count": null,
   "id": "8a94878d-02ba-4587-9d66-7c702d2a9de9",
   "metadata": {},
   "outputs": [],
   "source": [
    "p = sb.boxplot(data=data[hg002_subset], \n",
    "               x = \"motif_length_bin\", \n",
    "               y=\"max_delta\", \n",
    "               hue='is_inter',\n",
    "               showfliers=False)"
   ]
  },
  {
   "cell_type": "code",
   "execution_count": null,
   "id": "c2866d0a-6097-464f-821f-ac5f35205130",
   "metadata": {},
   "outputs": [],
   "source": [
    "p = sb.boxplot(data=data[hg002_subset & ~data['is_inter']], \n",
    "               x = \"motif_length_bin\",\n",
    "               y=\"max_delta\", \n",
    "               showfliers=False)"
   ]
  },
  {
   "cell_type": "code",
   "execution_count": null,
   "id": "c983e6c3-42e5-4bb6-ab74-9af8580ce542",
   "metadata": {},
   "outputs": [],
   "source": [
    "data['is_inter'].value_counts() # Can make another note about these."
   ]
  },
  {
   "cell_type": "code",
   "execution_count": null,
   "id": "7dbf6b2d-aa89-4f6a-93e8-30dff6da557c",
   "metadata": {},
   "outputs": [],
   "source": [
    "print((data[hg002_subset & (~data['is_inter'])]['approx_copies'] > 0).sum(),\n",
    "      (data[hg002_subset & (~data['is_inter'])]['approx_copies'] < 0).sum())"
   ]
  },
  {
   "cell_type": "code",
   "execution_count": null,
   "id": "5f205a43-3933-4df3-878f-710838ed30d6",
   "metadata": {},
   "outputs": [],
   "source": [
    "view = data[hg002_subset & (data['approx_copies'].abs().between(1, 21)) & (~data['is_inter'])]\n",
    "p = sb.histplot(data=view, \n",
    "                x='approx_copies', hue=\"motif_length_bin\", \n",
    "                multiple='stack', \n",
    "                binwidth=1)\n",
    "plt.xticks(ha='left')\n",
    "p.set(yscale='log', title=\"approximate expansion/contraction copy number (F2d)\")"
   ]
  },
  {
   "cell_type": "markdown",
   "id": "707184bc-6e49-4e5c-93f9-3cac3f5e608c",
   "metadata": {},
   "source": [
    "# For this we'll be looking for symmetry. \n",
    "Though there will be an imbalance at larger allele deltas because contractions are limited to a maximum length of the region's span whereas expansions can continue indefinitley."
   ]
  },
  {
   "cell_type": "code",
   "execution_count": null,
   "id": "0b606bc8-5a1b-434f-aa44-90a7c9442e9a",
   "metadata": {},
   "outputs": [],
   "source": [
    "# Why we sometimes want to exclude interspersed repeats\n",
    "view = data[hg002_subset & (data['approx_copies'].between(1, 21)) & (data['is_inter'])]\n",
    "p = sb.histplot(data=view, \n",
    "                x='fake_approx_copies', hue=\"motif_length_bin\", \n",
    "                multiple='stack', \n",
    "                binwidth=1)\n",
    "p.set(yscale='log')"
   ]
  },
  {
   "cell_type": "markdown",
   "id": "d9a2f0ac-87d6-4e2a-8bf1-7f0af4c56048",
   "metadata": {},
   "source": [
    "# Percent of TR regions in Tiers"
   ]
  },
  {
   "cell_type": "code",
   "execution_count": null,
   "id": "bfac9d92-c749-4bd1-8953-bf024fc0d9dc",
   "metadata": {},
   "outputs": [],
   "source": [
    "benchmark['tier'].value_counts()"
   ]
  },
  {
   "cell_type": "code",
   "execution_count": null,
   "id": "e605b18b-757d-40b9-80f1-9d1a1cecffde",
   "metadata": {},
   "outputs": [],
   "source": [
    "benchmark['tier'].value_counts() / len(benchmark)"
   ]
  },
  {
   "cell_type": "code",
   "execution_count": null,
   "id": "32d67e53-6296-48f0-8550-9f4905552110",
   "metadata": {},
   "outputs": [],
   "source": [
    "v = benchmark[benchmark['tier'] == \"Tier1\"].reset_index()\n",
    "t1_span = (v['end'] - v['start']).sum()\n",
    "v = benchmark[benchmark['tier'] == \"Tier2\"].reset_index()\n",
    "t2_span = (v['end'] - v['start']).sum()\n",
    "print('t1', t1_span, 't2', t2_span)"
   ]
  },
  {
   "cell_type": "code",
   "execution_count": null,
   "id": "489d3ed5-de84-47e5-bda8-b5bd8b34674d",
   "metadata": {},
   "outputs": [],
   "source": [
    "# Unanimous agreement"
   ]
  }
 ],
 "metadata": {
  "kernelspec": {
   "display_name": "Python 3 (ipykernel)",
   "language": "python",
   "name": "python3"
  },
  "language_info": {
   "codemirror_mode": {
    "name": "ipython",
    "version": 3
   },
   "file_extension": ".py",
   "mimetype": "text/x-python",
   "name": "python",
   "nbconvert_exporter": "python",
   "pygments_lexer": "ipython3",
   "version": "3.9.6"
  }
 },
 "nbformat": 4,
 "nbformat_minor": 5
}
