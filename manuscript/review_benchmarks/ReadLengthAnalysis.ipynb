{
 "cells": [
  {
   "cell_type": "markdown",
   "id": "0c7d260c-674c-4236-afe3-b55554ada0b6",
   "metadata": {},
   "source": [
    "Are there sites inaccessible from one technology / technique vs another?\n",
    "  - I bet there are sites where non-nist WGS all miss but every TR caller captures\n",
    "  - I bet there are sites long reads capture but none of the short reads capture\n",
    "  \n",
    "Take the refine.regions.txt from all tools and combine like how I'm doing for Q4.\n",
    "Perform queries based on path.txt metadata's sequencing,  Caller Type,  Sequencing, Locations.\n",
    "\n",
    "Where do each subset all agree / disagree with one another.\n",
    "\n",
    "wgs vs catalog (pretty much same as TR vs non-TR). \n",
    "Short-reads vs long reads\n"
   ]
  },
  {
   "cell_type": "code",
   "execution_count": 2,
   "id": "891312ab-97f0-4fdf-8104-8f0ace887d40",
   "metadata": {},
   "outputs": [],
   "source": [
    "import os\n",
    "import joblib\n",
    "import pandas as pd\n",
    "import seaborn as sb\n",
    "import matplotlib.pyplot as plt\n",
    "import json"
   ]
  },
  {
   "cell_type": "code",
   "execution_count": 172,
   "id": "ce9ed672-4421-40b9-a0e9-e41711fb0374",
   "metadata": {},
   "outputs": [],
   "source": [
    "def region_loader(path, name):\n",
    "    full_path = os.path.join(path, 'refine.regions.txt')\n",
    "    benchmark_regions = pd.read_csv(full_path, \n",
    "                                #names=[\"chrom\", \"start\", \"end\", \"tier\", \"repl\", \"vflag\", \"entropy\", \"ad1\", \"ad2\"],\n",
    "                                sep='\\t').set_index([\"chrom\", \"start\", \"end\"])\n",
    "    benchmark_regions.columns = [f'{c}_{name}' for c in benchmark_regions.columns]\n",
    "    return benchmark_regions\n",
    "paths = pd.read_csv(\"paths_hd.txt\", sep='\\t')\n",
    "paths = paths[paths['program'].isin(['biograph', \n",
    "                                     'deepvariant', \n",
    "                                     'gangstr', \n",
    "                                     'hipstr', \n",
    "                                     'medakaTR', \n",
    "                                     'sniffles', \n",
    "                                     'trgt', \n",
    "                                     'GIABv4.2.1'])]\n",
    "parts = []\n",
    "for _, i in paths.iterrows():\n",
    "    parts.append(region_loader(i['path'], i['program']))\n",
    "data = pd.concat(parts, axis=1)"
   ]
  },
  {
   "cell_type": "code",
   "execution_count": 173,
   "id": "640e66a4-3cde-4f1a-99b4-20702a5dc6cd",
   "metadata": {},
   "outputs": [],
   "source": [
    "# When doing the agreement, we want for all tier1 sites as well as for all >=5bp\n",
    "# Lets repeat all of that with Tier1\n",
    "\n",
    "benchmark_regions = pd.read_csv(\"/Users/english/code/adotto/benchmark/GIABTR_benchmark.6.26/GIABTR.HG002.benchmark.regions.bed.gz\", \n",
    "                                names=[\"chrom\", \"start\", \"end\", \"tier\", \"repl\", \"vflag\", \"entropy\", \"ad1\", \"ad2\"],\n",
    "                                sep='\\t').set_index([\"chrom\", \"start\", \"end\"])\n",
    "\n",
    "benchmark_regions['max_allele_delta'] = benchmark_regions[['ad1', 'ad2']].max(axis=1)\n",
    "s = benchmark_regions.reset_index()\n",
    "x = (s['end'] - s['start']).to_frame().set_index(benchmark_regions.index)\n",
    "benchmark_regions['span'] = x\n",
    "\n",
    "# Want to load the catalog and also do this grouping for the mean purity of the repeats\n",
    "catalog = (pd.read_csv(\"/Users/english/code/adotto/regions/adotto_TRregions_v1.1.bed\", sep='\\t')\n",
    "           .rename(columns={'chr':'chrom'})\n",
    "           .set_index(['chrom', 'start', 'end']))\n",
    "\n",
    "\n",
    "def max_motif(x):\n",
    "    d = json.loads(x)\n",
    "    return max([_['period'] for _ in d])\n",
    "catalog['max_motif'] = catalog['annos'].apply(max_motif)\n",
    "\n",
    "\n",
    "benchmark_regions = benchmark_regions.join(catalog[['mu_purity', 'max_motif']])\n",
    "\n",
    "t1_index = benchmark_regions[benchmark_regions['tier'] == 'Tier1'].index\n",
    "\n",
    "def is_gt5(x):\n",
    "    return (x & 0x1) != 0\n",
    "gt5_index = benchmark_regions[(benchmark_regions['tier'] == 'Tier1') & benchmark_regions['vflag'].apply(is_gt5)].index\n"
   ]
  },
  {
   "cell_type": "code",
   "execution_count": 174,
   "id": "639aac71-f864-4b98-b610-8be936ce1ae8",
   "metadata": {},
   "outputs": [],
   "source": [
    "to_analyze = ~(data[['state_hipstr', 'state_gangstr']].isna().any(axis=1))"
   ]
  },
  {
   "cell_type": "code",
   "execution_count": 175,
   "id": "8837afd6-03b6-41c8-a267-d4a4b124a2e0",
   "metadata": {},
   "outputs": [
    {
     "data": {
      "text/plain": [
       "60325"
      ]
     },
     "execution_count": 175,
     "metadata": {},
     "output_type": "execute_result"
    }
   ],
   "source": [
    "# How many are we subsetting to?\n",
    "len(benchmark_regions[benchmark_regions.index.isin(to_analyze[to_analyze].index)\n",
    "                      & benchmark_regions.index.isin(gt5_index)])"
   ]
  },
  {
   "cell_type": "code",
   "execution_count": 176,
   "id": "1fa87b0f-6a58-4a4f-a8bc-46b164da5c46",
   "metadata": {},
   "outputs": [
    {
     "data": {
      "text/plain": [
       "True     1058986\n",
       "False     647867\n",
       "dtype: int64"
      ]
     },
     "execution_count": 176,
     "metadata": {},
     "output_type": "execute_result"
    }
   ],
   "source": [
    "to_analyze.value_counts()"
   ]
  },
  {
   "cell_type": "code",
   "execution_count": 177,
   "id": "346e40cd-f6db-432c-bf65-7be605a75abb",
   "metadata": {},
   "outputs": [
    {
     "data": {
      "text/plain": [
       "state_biograph            0\n",
       "state_deepvariant         0\n",
       "state_gangstr             0\n",
       "state_medakaTR            0\n",
       "state_sniffles            0\n",
       "state_GIABv4.2.1          0\n",
       "state_trgt                0\n",
       "state_hipstr         647867\n",
       "dtype: int64"
      ]
     },
     "execution_count": 177,
     "metadata": {},
     "output_type": "execute_result"
    }
   ],
   "source": [
    "data[[_ for _ in data.columns if _.startswith('state')]].isna().sum(axis=0)"
   ]
  },
  {
   "cell_type": "code",
   "execution_count": 206,
   "id": "1d2aaacd-2bba-4479-9547-6e9dd222e684",
   "metadata": {},
   "outputs": [],
   "source": [
    "def within_set_agree(m_data, m_set):\n",
    "    # Do the state_name agree / disagree within a set. Returns a True/False\n",
    "    # return m_data['state_' + m_set[0]] == m_data['state_' + m_set[1]]\n",
    "    return m_data['state_' + m_set[0]].str.startswith(\"T\") == m_data['state_' + m_set[1]].str.startswith(\"T\")\n",
    "\n",
    "sr_callers_agree = within_set_agree(data, ['gangstr', 'hipstr'])\n",
    "lr_callers_agree = within_set_agree(data, ['trgt', 'medakaTR'])"
   ]
  },
  {
   "cell_type": "code",
   "execution_count": 207,
   "id": "e1cc3b56-008c-4bd2-aa45-7d23fa87124d",
   "metadata": {},
   "outputs": [
    {
     "data": {
      "text/plain": [
       "True     44735\n",
       "False    15590\n",
       "dtype: int64"
      ]
     },
     "execution_count": 207,
     "metadata": {},
     "output_type": "execute_result"
    }
   ],
   "source": [
    "sr_callers_agree[sr_callers_agree.index.isin(t1_index)\n",
    "                & sr_callers_agree.index.isin(gt5_index)\n",
    "                & to_analyze].value_counts()"
   ]
  },
  {
   "cell_type": "code",
   "execution_count": 208,
   "id": "804a9155-12e1-4688-9513-bf7330180b38",
   "metadata": {},
   "outputs": [
    {
     "data": {
      "text/plain": [
       "0.7415665147119768"
      ]
     },
     "execution_count": 208,
     "metadata": {},
     "output_type": "execute_result"
    }
   ],
   "source": [
    "sr_callers_agree[sr_callers_agree.index.isin(t1_index)\n",
    "                & sr_callers_agree.index.isin(gt5_index)\n",
    "                & to_analyze].mean()"
   ]
  },
  {
   "cell_type": "code",
   "execution_count": 209,
   "id": "ab9730d6-39b2-4af4-8972-4d59f9039002",
   "metadata": {},
   "outputs": [],
   "source": [
    "x = sr_callers_agree[sr_callers_agree.index.isin(t1_index)\n",
    "                & sr_callers_agree.index.isin(gt5_index)\n",
    "                & to_analyze].to_frame()\n",
    "x['max_allele_delta'] = benchmark_regions['max_allele_delta']\n",
    "\n",
    "x['hipstate_r'] = data['state_hipstr']\n",
    "x['hipstate'] = x['hipstate_r'].str.startswith('T')\n",
    "x['gangstate_r'] = data['state_gangstr']\n",
    "x['gangstate'] = x['gangstate_r'].str.startswith('T')\n",
    "x['max_motif'] = catalog['max_motif']\n",
    "x['both_tp'] = x['hipstate'] & x['gangstate']"
   ]
  },
  {
   "cell_type": "code",
   "execution_count": 210,
   "id": "cd3d3f6a-c1a0-4d47-b601-27a092050944",
   "metadata": {},
   "outputs": [
    {
     "data": {
      "text/html": [
       "<div>\n",
       "<style scoped>\n",
       "    .dataframe tbody tr th:only-of-type {\n",
       "        vertical-align: middle;\n",
       "    }\n",
       "\n",
       "    .dataframe tbody tr th {\n",
       "        vertical-align: top;\n",
       "    }\n",
       "\n",
       "    .dataframe thead th {\n",
       "        text-align: right;\n",
       "    }\n",
       "</style>\n",
       "<table border=\"1\" class=\"dataframe\">\n",
       "  <thead>\n",
       "    <tr style=\"text-align: right;\">\n",
       "      <th></th>\n",
       "      <th></th>\n",
       "      <th></th>\n",
       "      <th>0</th>\n",
       "      <th>max_allele_delta</th>\n",
       "      <th>hipstate_r</th>\n",
       "      <th>hipstate</th>\n",
       "      <th>gangstate_r</th>\n",
       "      <th>gangstate</th>\n",
       "      <th>max_motif</th>\n",
       "      <th>both_tp</th>\n",
       "    </tr>\n",
       "    <tr>\n",
       "      <th>chrom</th>\n",
       "      <th>start</th>\n",
       "      <th>end</th>\n",
       "      <th></th>\n",
       "      <th></th>\n",
       "      <th></th>\n",
       "      <th></th>\n",
       "      <th></th>\n",
       "      <th></th>\n",
       "      <th></th>\n",
       "      <th></th>\n",
       "    </tr>\n",
       "  </thead>\n",
       "  <tbody>\n",
       "    <tr>\n",
       "      <th>chr16</th>\n",
       "      <th>89511864</th>\n",
       "      <th>89512587</th>\n",
       "      <td>False</td>\n",
       "      <td>5</td>\n",
       "      <td>TP</td>\n",
       "      <td>True</td>\n",
       "      <td>FN</td>\n",
       "      <td>False</td>\n",
       "      <td>16.0</td>\n",
       "      <td>False</td>\n",
       "    </tr>\n",
       "    <tr>\n",
       "      <th>chr6</th>\n",
       "      <th>35350651</th>\n",
       "      <th>35351085</th>\n",
       "      <td>False</td>\n",
       "      <td>5</td>\n",
       "      <td>FN</td>\n",
       "      <td>False</td>\n",
       "      <td>TP</td>\n",
       "      <td>True</td>\n",
       "      <td>5.0</td>\n",
       "      <td>False</td>\n",
       "    </tr>\n",
       "    <tr>\n",
       "      <th>chr3</th>\n",
       "      <th>105161098</th>\n",
       "      <th>105161177</th>\n",
       "      <td>False</td>\n",
       "      <td>5</td>\n",
       "      <td>TP</td>\n",
       "      <td>True</td>\n",
       "      <td>FN</td>\n",
       "      <td>False</td>\n",
       "      <td>5.0</td>\n",
       "      <td>False</td>\n",
       "    </tr>\n",
       "    <tr>\n",
       "      <th>chr1</th>\n",
       "      <th>161395948</th>\n",
       "      <th>161396670</th>\n",
       "      <td>True</td>\n",
       "      <td>5</td>\n",
       "      <td>FN</td>\n",
       "      <td>False</td>\n",
       "      <td>FN</td>\n",
       "      <td>False</td>\n",
       "      <td>20.0</td>\n",
       "      <td>False</td>\n",
       "    </tr>\n",
       "    <tr>\n",
       "      <th>chr6</th>\n",
       "      <th>35107556</th>\n",
       "      <th>35107623</th>\n",
       "      <td>False</td>\n",
       "      <td>5</td>\n",
       "      <td>TP</td>\n",
       "      <td>True</td>\n",
       "      <td>FN</td>\n",
       "      <td>False</td>\n",
       "      <td>4.0</td>\n",
       "      <td>False</td>\n",
       "    </tr>\n",
       "    <tr>\n",
       "      <th>...</th>\n",
       "      <th>...</th>\n",
       "      <th>...</th>\n",
       "      <td>...</td>\n",
       "      <td>...</td>\n",
       "      <td>...</td>\n",
       "      <td>...</td>\n",
       "      <td>...</td>\n",
       "      <td>...</td>\n",
       "      <td>...</td>\n",
       "      <td>...</td>\n",
       "    </tr>\n",
       "    <tr>\n",
       "      <th>chr19</th>\n",
       "      <th>7450103</th>\n",
       "      <th>7451173</th>\n",
       "      <td>True</td>\n",
       "      <td>17516</td>\n",
       "      <td>FN</td>\n",
       "      <td>False</td>\n",
       "      <td>FN</td>\n",
       "      <td>False</td>\n",
       "      <td>34.0</td>\n",
       "      <td>False</td>\n",
       "    </tr>\n",
       "    <tr>\n",
       "      <th>chr11</th>\n",
       "      <th>50514411</th>\n",
       "      <th>50522351</th>\n",
       "      <td>False</td>\n",
       "      <td>19455</td>\n",
       "      <td>TN</td>\n",
       "      <td>True</td>\n",
       "      <td>FP</td>\n",
       "      <td>False</td>\n",
       "      <td>172.0</td>\n",
       "      <td>False</td>\n",
       "    </tr>\n",
       "    <tr>\n",
       "      <th>chr5</th>\n",
       "      <th>21481350</th>\n",
       "      <th>21484042</th>\n",
       "      <td>True</td>\n",
       "      <td>21126</td>\n",
       "      <td>FN</td>\n",
       "      <td>False</td>\n",
       "      <td>FN</td>\n",
       "      <td>False</td>\n",
       "      <td>17.0</td>\n",
       "      <td>False</td>\n",
       "    </tr>\n",
       "    <tr>\n",
       "      <th>chr12</th>\n",
       "      <th>131576098</th>\n",
       "      <th>131577517</th>\n",
       "      <td>True</td>\n",
       "      <td>22062</td>\n",
       "      <td>FN</td>\n",
       "      <td>False</td>\n",
       "      <td>FN</td>\n",
       "      <td>False</td>\n",
       "      <td>170.0</td>\n",
       "      <td>False</td>\n",
       "    </tr>\n",
       "    <tr>\n",
       "      <th>chr11</th>\n",
       "      <th>1939576</th>\n",
       "      <th>1940539</th>\n",
       "      <td>True</td>\n",
       "      <td>23711</td>\n",
       "      <td>FN</td>\n",
       "      <td>False</td>\n",
       "      <td>FN,FP</td>\n",
       "      <td>False</td>\n",
       "      <td>57.0</td>\n",
       "      <td>False</td>\n",
       "    </tr>\n",
       "  </tbody>\n",
       "</table>\n",
       "<p>60325 rows × 8 columns</p>\n",
       "</div>"
      ],
      "text/plain": [
       "                               0  max_allele_delta hipstate_r  hipstate  \\\n",
       "chrom start     end                                                       \n",
       "chr16 89511864  89512587   False                 5         TP      True   \n",
       "chr6  35350651  35351085   False                 5         FN     False   \n",
       "chr3  105161098 105161177  False                 5         TP      True   \n",
       "chr1  161395948 161396670   True                 5         FN     False   \n",
       "chr6  35107556  35107623   False                 5         TP      True   \n",
       "...                          ...               ...        ...       ...   \n",
       "chr19 7450103   7451173     True             17516         FN     False   \n",
       "chr11 50514411  50522351   False             19455         TN      True   \n",
       "chr5  21481350  21484042    True             21126         FN     False   \n",
       "chr12 131576098 131577517   True             22062         FN     False   \n",
       "chr11 1939576   1940539     True             23711         FN     False   \n",
       "\n",
       "                          gangstate_r  gangstate  max_motif  both_tp  \n",
       "chrom start     end                                                   \n",
       "chr16 89511864  89512587           FN      False       16.0    False  \n",
       "chr6  35350651  35351085           TP       True        5.0    False  \n",
       "chr3  105161098 105161177          FN      False        5.0    False  \n",
       "chr1  161395948 161396670          FN      False       20.0    False  \n",
       "chr6  35107556  35107623           FN      False        4.0    False  \n",
       "...                               ...        ...        ...      ...  \n",
       "chr19 7450103   7451173            FN      False       34.0    False  \n",
       "chr11 50514411  50522351           FP      False      172.0    False  \n",
       "chr5  21481350  21484042           FN      False       17.0    False  \n",
       "chr12 131576098 131577517          FN      False      170.0    False  \n",
       "chr11 1939576   1940539         FN,FP      False       57.0    False  \n",
       "\n",
       "[60325 rows x 8 columns]"
      ]
     },
     "execution_count": 210,
     "metadata": {},
     "output_type": "execute_result"
    }
   ],
   "source": [
    "x.sort_values(['max_allele_delta'], inplace=True)\n",
    "x"
   ]
  },
  {
   "cell_type": "code",
   "execution_count": 211,
   "id": "14ff826a-9acf-46fb-ab8b-8132eedff0bd",
   "metadata": {},
   "outputs": [
    {
     "name": "stdout",
     "output_type": "stream",
     "text": [
      "0.6891504351429756 0.505412349772068\n"
     ]
    }
   ],
   "source": [
    "print(x['hipstate'].mean(), x['gangstate'].mean())"
   ]
  },
  {
   "cell_type": "code",
   "execution_count": 212,
   "id": "2863b965-2b4e-49c3-bd38-5ea8d9979561",
   "metadata": {},
   "outputs": [
    {
     "data": {
      "text/plain": [
       "0.7289961978518739"
      ]
     },
     "execution_count": 212,
     "metadata": {},
     "output_type": "execute_result"
    }
   ],
   "source": [
    "x[x['max_allele_delta'] < 100][0].mean()"
   ]
  },
  {
   "cell_type": "code",
   "execution_count": 213,
   "id": "07ca3a5c-4883-445e-b406-d15aaec85b07",
   "metadata": {},
   "outputs": [
    {
     "data": {
      "image/png": "[encoded data removed]",
      "text/plain": [
       "<Figure size 640x480 with 1 Axes>"
      ]
     },
     "metadata": {},
     "output_type": "display_data"
    }
   ],
   "source": [
    "import sklearn.metrics as metrics\n",
    "#v = x[x['max_allele_delta'] < 100]\n",
    "fpr, tpr, threshold = metrics.roc_curve(x[0], x['max_allele_delta'])\n",
    "roc_auc = metrics.auc(fpr, tpr)\n",
    "\n",
    "import matplotlib.pyplot as plt\n",
    "plt.title('Caller Agreement ROC by max_allele_delta')\n",
    "plt.plot(fpr, tpr, 'b', label = 'AUC = %0.2f' % roc_auc)\n",
    "plt.legend(loc = 'lower right')\n",
    "plt.plot([0, 1], [0, 1],'r--')\n",
    "plt.xlim([0, 1])\n",
    "plt.ylim([0, 1])\n",
    "plt.ylabel('Caller Agreement Rate')\n",
    "plt.xlabel('Caller Disagreement Rate')\n",
    "plt.show()"
   ]
  },
  {
   "cell_type": "code",
   "execution_count": 196,
   "id": "13b1ea2d-70b8-43da-a253-7e5e7aca68ff",
   "metadata": {},
   "outputs": [
    {
     "data": {
      "text/plain": [
       "(0.6891504351429756, 0.505412349772068)"
      ]
     },
     "execution_count": 196,
     "metadata": {},
     "output_type": "execute_result"
    }
   ],
   "source": [
    "x['hipstate'].mean(), x['gangstate'].mean()"
   ]
  },
  {
   "cell_type": "code",
   "execution_count": 215,
   "id": "684804ee-336e-414b-8cb6-3e16a635fbd0",
   "metadata": {},
   "outputs": [
    {
     "data": {
      "image/png": "[encoded data removed]",
      "text/plain": [
       "<Figure size 640x480 with 1 Axes>"
      ]
     },
     "metadata": {},
     "output_type": "display_data"
    }
   ],
   "source": [
    "import sklearn.metrics as metrics\n",
    "#v = x[x['max_allele_delta'] < 100]\n",
    "#x.sort_values('gangstate', inplace=True)\n",
    "fpr, tpr, threshold = metrics.roc_curve(x['gangstate'], x['max_allele_delta'])\n",
    "roc_auc = metrics.auc(fpr, tpr)\n",
    "\n",
    "import matplotlib.pyplot as plt\n",
    "plt.title('Hipstr recall ROC by max_allele_delta')\n",
    "plt.plot(fpr, tpr, 'b', label = 'AUC = %0.2f' % roc_auc)\n",
    "plt.legend(loc = 'lower right')\n",
    "plt.plot([0, 1], [0, 1],'r--')\n",
    "plt.xlim([0, 1])\n",
    "plt.ylim([0, 1])\n",
    "plt.ylabel('True Positive Rate')\n",
    "plt.xlabel('False Rate')\n",
    "plt.show()"
   ]
  },
  {
   "cell_type": "code",
   "execution_count": 186,
   "id": "448345c4-4a8b-4e37-9be6-b5d867fb544f",
   "metadata": {},
   "outputs": [
    {
     "data": {
      "image/png": "[encoded data removed]",
      "text/plain": [
       "<Figure size 640x480 with 1 Axes>"
      ]
     },
     "metadata": {},
     "output_type": "display_data"
    }
   ],
   "source": [
    "import sklearn.metrics as metrics\n",
    "#v = x[x['max_allele_delta'] < 100]\n",
    "tpr, fpr, threshold = metrics.roc_curve(x[0], x['max_motif'])\n",
    "roc_auc = metrics.auc(fpr, tpr)\n",
    "\n",
    "import matplotlib.pyplot as plt\n",
    "plt.title('Receiver Operating Characteristic')\n",
    "plt.plot(fpr, tpr, 'b', label = 'AUC = %0.2f' % roc_auc)\n",
    "plt.legend(loc = 'lower right')\n",
    "plt.plot([0, 1], [0, 1],'r--')\n",
    "plt.xlim([0, 1])\n",
    "plt.ylim([0, 1])\n",
    "plt.ylabel('True Positive Rate')\n",
    "plt.xlabel('False Positive Rate')\n",
    "plt.show()"
   ]
  },
  {
   "cell_type": "code",
   "execution_count": 75,
   "id": "07bbabae-386c-43c5-aa55-e8ede7a556ee",
   "metadata": {},
   "outputs": [],
   "source": []
  },
  {
   "cell_type": "code",
   "execution_count": 68,
   "id": "3662768b-5acd-4eb7-93e1-afe59c5efe38",
   "metadata": {},
   "outputs": [
    {
     "data": {
      "text/plain": [
       "0.8870967741935484"
      ]
     },
     "execution_count": 68,
     "metadata": {},
     "output_type": "execute_result"
    }
   ],
   "source": [
    "x[x['max_allele_delta'] >= 400][0].mean()"
   ]
  },
  {
   "cell_type": "code",
   "execution_count": 74,
   "id": "1d239cb7-ea5f-458a-9908-db7eaf583a1b",
   "metadata": {},
   "outputs": [
    {
     "name": "stdout",
     "output_type": "stream",
     "text": [
      "hipstate\n",
      "0.013908205841446454\n",
      "0.7056396148555708\n",
      "gangstate\n",
      "0.015994436717663423\n",
      "0.5173637644981065\n"
     ]
    }
   ],
   "source": [
    "for i in ['hipstate', 'gangstate']:\n",
    "    print(i)\n",
    "    print(x[x['max_allele_delta'] >= 300][i].str.startswith('T').mean())\n",
    "    print(x[x['max_allele_delta'] < 300][i].str.startswith('T').mean())"
   ]
  },
  {
   "cell_type": "code",
   "execution_count": 63,
   "id": "a351c9cc-7a9e-45bc-b902-466e6c335ccf",
   "metadata": {},
   "outputs": [
    {
     "data": {
      "image/png": "[encoded data removed]",
      "text/plain": [
       "<Figure size 640x480 with 1 Axes>"
      ]
     },
     "metadata": {},
     "output_type": "display_data"
    }
   ],
   "source": []
  },
  {
   "cell_type": "code",
   "execution_count": 216,
   "id": "7ad3c1ca-9d33-448a-8c58-e14c51c888f7",
   "metadata": {},
   "outputs": [
    {
     "data": {
      "text/plain": [
       "0.7415665147119768"
      ]
     },
     "execution_count": 216,
     "metadata": {},
     "output_type": "execute_result"
    }
   ],
   "source": [
    "sr_callers_agree[sr_callers_agree.index.isin(t1_index)\n",
    "                & sr_callers_agree.index.isin(gt5_index)\n",
    "                & to_analyze].mean()"
   ]
  },
  {
   "cell_type": "code",
   "execution_count": 217,
   "id": "e8cd5ee7-37e2-4c06-96a7-4ec55c05fa38",
   "metadata": {},
   "outputs": [
    {
     "data": {
      "text/plain": [
       "True     59112\n",
       "False     1213\n",
       "dtype: int64"
      ]
     },
     "execution_count": 217,
     "metadata": {},
     "output_type": "execute_result"
    }
   ],
   "source": [
    "lr_callers_agree[lr_callers_agree.index.isin(t1_index)\n",
    "                & lr_callers_agree.index.isin(gt5_index)\n",
    "                & to_analyze].value_counts()"
   ]
  },
  {
   "cell_type": "code",
   "execution_count": 218,
   "id": "01fc862f-d3c1-4c03-80a1-5e295ffaafe8",
   "metadata": {},
   "outputs": [
    {
     "data": {
      "text/plain": [
       "0.9798922503108164"
      ]
     },
     "execution_count": 218,
     "metadata": {},
     "output_type": "execute_result"
    }
   ],
   "source": [
    "lr_callers_agree[lr_callers_agree.index.isin(t1_index)\n",
    "                & lr_callers_agree.index.isin(gt5_index)\n",
    "                & to_analyze].mean()"
   ]
  },
  {
   "cell_type": "code",
   "execution_count": 219,
   "id": "8aaa943f-5a42-4bd8-9e82-4d5590ced34e",
   "metadata": {},
   "outputs": [
    {
     "data": {
      "text/html": [
       "<div>\n",
       "<style scoped>\n",
       "    .dataframe tbody tr th:only-of-type {\n",
       "        vertical-align: middle;\n",
       "    }\n",
       "\n",
       "    .dataframe tbody tr th {\n",
       "        vertical-align: top;\n",
       "    }\n",
       "\n",
       "    .dataframe thead th {\n",
       "        text-align: right;\n",
       "    }\n",
       "</style>\n",
       "<table border=\"1\" class=\"dataframe\">\n",
       "  <thead>\n",
       "    <tr style=\"text-align: right;\">\n",
       "      <th>state_trgt</th>\n",
       "      <th>FN</th>\n",
       "      <th>FN,FP</th>\n",
       "      <th>FP</th>\n",
       "      <th>TN</th>\n",
       "      <th>TP</th>\n",
       "    </tr>\n",
       "    <tr>\n",
       "      <th>state_hipstr</th>\n",
       "      <th></th>\n",
       "      <th></th>\n",
       "      <th></th>\n",
       "      <th></th>\n",
       "      <th></th>\n",
       "    </tr>\n",
       "  </thead>\n",
       "  <tbody>\n",
       "    <tr>\n",
       "      <th>FN</th>\n",
       "      <td>72</td>\n",
       "      <td>22</td>\n",
       "      <td>35</td>\n",
       "      <td>133</td>\n",
       "      <td>14959</td>\n",
       "    </tr>\n",
       "    <tr>\n",
       "      <th>FN,FP</th>\n",
       "      <td>5</td>\n",
       "      <td>14</td>\n",
       "      <td>0</td>\n",
       "      <td>5</td>\n",
       "      <td>459</td>\n",
       "    </tr>\n",
       "    <tr>\n",
       "      <th>FP</th>\n",
       "      <td>3</td>\n",
       "      <td>7</td>\n",
       "      <td>41</td>\n",
       "      <td>2</td>\n",
       "      <td>91</td>\n",
       "    </tr>\n",
       "    <tr>\n",
       "      <th>TN</th>\n",
       "      <td>0</td>\n",
       "      <td>0</td>\n",
       "      <td>0</td>\n",
       "      <td>1</td>\n",
       "      <td>13</td>\n",
       "    </tr>\n",
       "    <tr>\n",
       "      <th>TP</th>\n",
       "      <td>4</td>\n",
       "      <td>1</td>\n",
       "      <td>0</td>\n",
       "      <td>69</td>\n",
       "      <td>27854</td>\n",
       "    </tr>\n",
       "  </tbody>\n",
       "</table>\n",
       "</div>"
      ],
      "text/plain": [
       "state_trgt    FN  FN,FP  FP   TN     TP\n",
       "state_hipstr                           \n",
       "FN            72     22  35  133  14959\n",
       "FN,FP          5     14   0    5    459\n",
       "FP             3      7  41    2     91\n",
       "TN             0      0   0    1     13\n",
       "TP             4      1   0   69  27854"
      ]
     },
     "execution_count": 219,
     "metadata": {},
     "output_type": "execute_result"
    }
   ],
   "source": [
    "v = data[sr_callers_agree\n",
    "        & lr_callers_agree\n",
    "        & data.index.isin(t1_index)\n",
    "        & data.index.isin(gt5_index)\n",
    "        & to_analyze][['state_hipstr', 'state_trgt']].value_counts().unstack().fillna(0).astype(int)\n",
    "v"
   ]
  },
  {
   "cell_type": "code",
   "execution_count": 220,
   "id": "a87def02-83f7-448c-ac59-d038cd51da09",
   "metadata": {},
   "outputs": [
    {
     "data": {
      "text/html": [
       "<div>\n",
       "<style scoped>\n",
       "    .dataframe tbody tr th:only-of-type {\n",
       "        vertical-align: middle;\n",
       "    }\n",
       "\n",
       "    .dataframe tbody tr th {\n",
       "        vertical-align: top;\n",
       "    }\n",
       "\n",
       "    .dataframe thead th {\n",
       "        text-align: right;\n",
       "    }\n",
       "</style>\n",
       "<table border=\"1\" class=\"dataframe\">\n",
       "  <thead>\n",
       "    <tr style=\"text-align: right;\">\n",
       "      <th>state_trgt</th>\n",
       "      <th>TN</th>\n",
       "      <th>TP</th>\n",
       "    </tr>\n",
       "    <tr>\n",
       "      <th>state_hipstr</th>\n",
       "      <th></th>\n",
       "      <th></th>\n",
       "    </tr>\n",
       "  </thead>\n",
       "  <tbody>\n",
       "    <tr>\n",
       "      <th>FN</th>\n",
       "      <td>133</td>\n",
       "      <td>14959</td>\n",
       "    </tr>\n",
       "    <tr>\n",
       "      <th>FN,FP</th>\n",
       "      <td>5</td>\n",
       "      <td>459</td>\n",
       "    </tr>\n",
       "    <tr>\n",
       "      <th>FP</th>\n",
       "      <td>2</td>\n",
       "      <td>91</td>\n",
       "    </tr>\n",
       "  </tbody>\n",
       "</table>\n",
       "</div>"
      ],
      "text/plain": [
       "state_trgt     TN     TP\n",
       "state_hipstr            \n",
       "FN            133  14959\n",
       "FN,FP           5    459\n",
       "FP              2     91"
      ]
     },
     "execution_count": 220,
     "metadata": {},
     "output_type": "execute_result"
    }
   ],
   "source": [
    "v.loc[:\"FP\"][[\"TN\", \"TP\"]]"
   ]
  },
  {
   "cell_type": "code",
   "execution_count": 221,
   "id": "08192be9-4d94-4345-823e-2cbda797a117",
   "metadata": {},
   "outputs": [
    {
     "data": {
      "text/html": [
       "<div>\n",
       "<style scoped>\n",
       "    .dataframe tbody tr th:only-of-type {\n",
       "        vertical-align: middle;\n",
       "    }\n",
       "\n",
       "    .dataframe tbody tr th {\n",
       "        vertical-align: top;\n",
       "    }\n",
       "\n",
       "    .dataframe thead th {\n",
       "        text-align: right;\n",
       "    }\n",
       "</style>\n",
       "<table border=\"1\" class=\"dataframe\">\n",
       "  <thead>\n",
       "    <tr style=\"text-align: right;\">\n",
       "      <th>state_trgt</th>\n",
       "      <th>FN</th>\n",
       "      <th>FN,FP</th>\n",
       "      <th>FP</th>\n",
       "    </tr>\n",
       "    <tr>\n",
       "      <th>state_hipstr</th>\n",
       "      <th></th>\n",
       "      <th></th>\n",
       "      <th></th>\n",
       "    </tr>\n",
       "  </thead>\n",
       "  <tbody>\n",
       "    <tr>\n",
       "      <th>TN</th>\n",
       "      <td>0</td>\n",
       "      <td>0</td>\n",
       "      <td>0</td>\n",
       "    </tr>\n",
       "    <tr>\n",
       "      <th>TP</th>\n",
       "      <td>4</td>\n",
       "      <td>1</td>\n",
       "      <td>0</td>\n",
       "    </tr>\n",
       "  </tbody>\n",
       "</table>\n",
       "</div>"
      ],
      "text/plain": [
       "state_trgt    FN  FN,FP  FP\n",
       "state_hipstr               \n",
       "TN             0      0   0\n",
       "TP             4      1   0"
      ]
     },
     "execution_count": 221,
     "metadata": {},
     "output_type": "execute_result"
    }
   ],
   "source": [
    "v.loc[[\"TN\", \"TP\"], :\"FP\"]"
   ]
  },
  {
   "cell_type": "code",
   "execution_count": 222,
   "id": "0060ab6f-9b76-46cc-b519-64bd6cd13238",
   "metadata": {},
   "outputs": [
    {
     "data": {
      "text/html": [
       "<div>\n",
       "<style scoped>\n",
       "    .dataframe tbody tr th:only-of-type {\n",
       "        vertical-align: middle;\n",
       "    }\n",
       "\n",
       "    .dataframe tbody tr th {\n",
       "        vertical-align: top;\n",
       "    }\n",
       "\n",
       "    .dataframe thead th {\n",
       "        text-align: right;\n",
       "    }\n",
       "</style>\n",
       "<table border=\"1\" class=\"dataframe\">\n",
       "  <thead>\n",
       "    <tr style=\"text-align: right;\">\n",
       "      <th>state_trgt</th>\n",
       "      <th>FN</th>\n",
       "      <th>FN,FP</th>\n",
       "      <th>FP</th>\n",
       "    </tr>\n",
       "    <tr>\n",
       "      <th>state_hipstr</th>\n",
       "      <th></th>\n",
       "      <th></th>\n",
       "      <th></th>\n",
       "    </tr>\n",
       "  </thead>\n",
       "  <tbody>\n",
       "    <tr>\n",
       "      <th>FN</th>\n",
       "      <td>72</td>\n",
       "      <td>22</td>\n",
       "      <td>35</td>\n",
       "    </tr>\n",
       "    <tr>\n",
       "      <th>FN,FP</th>\n",
       "      <td>5</td>\n",
       "      <td>14</td>\n",
       "      <td>0</td>\n",
       "    </tr>\n",
       "    <tr>\n",
       "      <th>FP</th>\n",
       "      <td>3</td>\n",
       "      <td>7</td>\n",
       "      <td>41</td>\n",
       "    </tr>\n",
       "  </tbody>\n",
       "</table>\n",
       "</div>"
      ],
      "text/plain": [
       "state_trgt    FN  FN,FP  FP\n",
       "state_hipstr               \n",
       "FN            72     22  35\n",
       "FN,FP          5     14   0\n",
       "FP             3      7  41"
      ]
     },
     "execution_count": 222,
     "metadata": {},
     "output_type": "execute_result"
    }
   ],
   "source": [
    "v.loc[:\"FP\", :\"FP\"]"
   ]
  },
  {
   "cell_type": "code",
   "execution_count": 223,
   "id": "767709bc-f676-4b70-8029-269726662fdd",
   "metadata": {},
   "outputs": [
    {
     "name": "stdout",
     "output_type": "stream",
     "text": [
      "43509\n"
     ]
    },
    {
     "data": {
      "text/html": [
       "<div>\n",
       "<style scoped>\n",
       "    .dataframe tbody tr th:only-of-type {\n",
       "        vertical-align: middle;\n",
       "    }\n",
       "\n",
       "    .dataframe tbody tr th {\n",
       "        vertical-align: top;\n",
       "    }\n",
       "\n",
       "    .dataframe thead th {\n",
       "        text-align: right;\n",
       "    }\n",
       "</style>\n",
       "<table border=\"1\" class=\"dataframe\">\n",
       "  <thead>\n",
       "    <tr style=\"text-align: right;\">\n",
       "      <th></th>\n",
       "      <th>which</th>\n",
       "      <th>cnt</th>\n",
       "      <th>pct</th>\n",
       "    </tr>\n",
       "  </thead>\n",
       "  <tbody>\n",
       "    <tr>\n",
       "      <th>0</th>\n",
       "      <td>both</td>\n",
       "      <td>27855</td>\n",
       "      <td>0.640212</td>\n",
       "    </tr>\n",
       "    <tr>\n",
       "      <th>1</th>\n",
       "      <td>only_lr</td>\n",
       "      <td>15649</td>\n",
       "      <td>0.359673</td>\n",
       "    </tr>\n",
       "    <tr>\n",
       "      <th>2</th>\n",
       "      <td>only_sr</td>\n",
       "      <td>5</td>\n",
       "      <td>0.000115</td>\n",
       "    </tr>\n",
       "  </tbody>\n",
       "</table>\n",
       "</div>"
      ],
      "text/plain": [
       "     which    cnt       pct\n",
       "0     both  27855  0.640212\n",
       "1  only_lr  15649  0.359673\n",
       "2  only_sr      5  0.000115"
      ]
     },
     "execution_count": 223,
     "metadata": {},
     "output_type": "execute_result"
    }
   ],
   "source": [
    "tmp = pd.DataFrame([[\"both\", v.loc[(\"TP\", \"TP\")] + v.loc[(\"TN\", \"TN\")]],\n",
    "                    [\"only_lr\", v.loc[:\"FP\"][[\"TN\", \"TP\"]].sum().sum()],\n",
    "                    [\"only_sr\", v.loc[[\"TN\", \"TP\"], :\"FP\"].sum().sum()]],\n",
    "                    #['neither', v.loc[:\"FP\", :\"FP\"].sum().sum()]],\n",
    "                   columns=['which', 'cnt'])\n",
    "tmp['pct'] = tmp['cnt'] /  tmp['cnt'].sum()\n",
    "print(tmp['cnt'].sum())\n",
    "tmp"
   ]
  },
  {
   "cell_type": "code",
   "execution_count": 18,
   "id": "4fb6a0b7-e9dc-4656-a6ba-737d3166bda4",
   "metadata": {},
   "outputs": [
    {
     "name": "stdout",
     "output_type": "stream",
     "text": [
      "40546\n"
     ]
    },
    {
     "data": {
      "text/html": [
       "<div>\n",
       "<style scoped>\n",
       "    .dataframe tbody tr th:only-of-type {\n",
       "        vertical-align: middle;\n",
       "    }\n",
       "\n",
       "    .dataframe tbody tr th {\n",
       "        vertical-align: top;\n",
       "    }\n",
       "\n",
       "    .dataframe thead th {\n",
       "        text-align: right;\n",
       "    }\n",
       "</style>\n",
       "<table border=\"1\" class=\"dataframe\">\n",
       "  <thead>\n",
       "    <tr style=\"text-align: right;\">\n",
       "      <th></th>\n",
       "      <th>which</th>\n",
       "      <th>cnt</th>\n",
       "      <th>pct</th>\n",
       "    </tr>\n",
       "  </thead>\n",
       "  <tbody>\n",
       "    <tr>\n",
       "      <th>0</th>\n",
       "      <td>both</td>\n",
       "      <td>27807</td>\n",
       "      <td>0.685814</td>\n",
       "    </tr>\n",
       "    <tr>\n",
       "      <th>1</th>\n",
       "      <td>only_lr</td>\n",
       "      <td>12734</td>\n",
       "      <td>0.314063</td>\n",
       "    </tr>\n",
       "    <tr>\n",
       "      <th>2</th>\n",
       "      <td>only_sr</td>\n",
       "      <td>5</td>\n",
       "      <td>0.000123</td>\n",
       "    </tr>\n",
       "  </tbody>\n",
       "</table>\n",
       "</div>"
      ],
      "text/plain": [
       "     which    cnt       pct\n",
       "0     both  27807  0.685814\n",
       "1  only_lr  12734  0.314063\n",
       "2  only_sr      5  0.000123"
      ]
     },
     "execution_count": 18,
     "metadata": {},
     "output_type": "execute_result"
    }
   ],
   "source": [
    "tmp = pd.DataFrame([[\"both\", v.loc[(\"TP\", \"TP\")] + v.loc[(\"TN\", \"TN\")]],\n",
    "                    [\"only_lr\", v.loc[:\"FP\"][[\"TN\", \"TP\"]].sum().sum()],\n",
    "                    [\"only_sr\", v.loc[[\"TN\", \"TP\"], :\"FP\"].sum().sum()]],\n",
    "                    #['neither', v.loc[:\"FP\", :\"FP\"].sum().sum()]],\n",
    "                   columns=['which', 'cnt'])\n",
    "tmp['pct'] = tmp['cnt'] /  tmp['cnt'].sum()\n",
    "print(tmp['cnt'].sum())\n",
    "tmp"
   ]
  },
  {
   "cell_type": "code",
   "execution_count": 224,
   "id": "a51e730d-fbc1-4f47-8293-81720eb89eaf",
   "metadata": {},
   "outputs": [],
   "source": [
    "# What are lr getting that sr aren't?\n",
    "\n",
    "subset = (to_analyze \n",
    "          & sr_callers_agree \n",
    "          & lr_callers_agree \n",
    "          & data.index.isin(t1_index) \n",
    "          & data.index.isin(gt5_index))\n",
    "\n",
    "both_mask = data[subset]['state_hipstr'].str.startswith('T') & data[subset]['state_trgt'].str.startswith('T')\n",
    "lr_mask = ~data[subset]['state_hipstr'].str.startswith('T') & data[subset]['state_trgt'].str.startswith('T')\n",
    "\n",
    "lro = benchmark_regions.loc[lr_mask[lr_mask].index]\n",
    "both = benchmark_regions.loc[both_mask[both_mask].index]\n"
   ]
  },
  {
   "cell_type": "code",
   "execution_count": 225,
   "id": "3c6960c3-e31a-4104-b077-050a97760e25",
   "metadata": {},
   "outputs": [
    {
     "data": {
      "text/html": [
       "<div>\n",
       "<style scoped>\n",
       "    .dataframe tbody tr th:only-of-type {\n",
       "        vertical-align: middle;\n",
       "    }\n",
       "\n",
       "    .dataframe tbody tr th {\n",
       "        vertical-align: top;\n",
       "    }\n",
       "\n",
       "    .dataframe thead th {\n",
       "        text-align: right;\n",
       "    }\n",
       "</style>\n",
       "<table border=\"1\" class=\"dataframe\">\n",
       "  <thead>\n",
       "    <tr style=\"text-align: right;\">\n",
       "      <th></th>\n",
       "      <th></th>\n",
       "      <th>count</th>\n",
       "      <th>mean</th>\n",
       "      <th>std</th>\n",
       "      <th>min</th>\n",
       "      <th>25%</th>\n",
       "      <th>50%</th>\n",
       "      <th>75%</th>\n",
       "      <th>max</th>\n",
       "    </tr>\n",
       "  </thead>\n",
       "  <tbody>\n",
       "    <tr>\n",
       "      <th rowspan=\"2\" valign=\"top\">entropy</th>\n",
       "      <th>both</th>\n",
       "      <td>27937.0</td>\n",
       "      <td>0.889615</td>\n",
       "      <td>0.054278</td>\n",
       "      <td>0.480618</td>\n",
       "      <td>0.856260</td>\n",
       "      <td>0.893772</td>\n",
       "      <td>0.927429</td>\n",
       "      <td>0.999828</td>\n",
       "    </tr>\n",
       "    <tr>\n",
       "      <th>lr_only</th>\n",
       "      <td>15649.0</td>\n",
       "      <td>0.889898</td>\n",
       "      <td>0.091435</td>\n",
       "      <td>0.411906</td>\n",
       "      <td>0.838969</td>\n",
       "      <td>0.908548</td>\n",
       "      <td>0.970982</td>\n",
       "      <td>0.999930</td>\n",
       "    </tr>\n",
       "    <tr>\n",
       "      <th rowspan=\"2\" valign=\"top\">max_allele_delta</th>\n",
       "      <th>both</th>\n",
       "      <td>27937.0</td>\n",
       "      <td>11.482299</td>\n",
       "      <td>14.741450</td>\n",
       "      <td>5.000000</td>\n",
       "      <td>6.000000</td>\n",
       "      <td>9.000000</td>\n",
       "      <td>14.000000</td>\n",
       "      <td>1588.000000</td>\n",
       "    </tr>\n",
       "    <tr>\n",
       "      <th>lr_only</th>\n",
       "      <td>15649.0</td>\n",
       "      <td>117.097642</td>\n",
       "      <td>451.225270</td>\n",
       "      <td>5.000000</td>\n",
       "      <td>10.000000</td>\n",
       "      <td>21.000000</td>\n",
       "      <td>64.000000</td>\n",
       "      <td>17516.000000</td>\n",
       "    </tr>\n",
       "    <tr>\n",
       "      <th rowspan=\"2\" valign=\"top\">max_motif</th>\n",
       "      <th>both</th>\n",
       "      <td>27937.0</td>\n",
       "      <td>6.668039</td>\n",
       "      <td>26.078946</td>\n",
       "      <td>2.000000</td>\n",
       "      <td>2.000000</td>\n",
       "      <td>3.000000</td>\n",
       "      <td>5.000000</td>\n",
       "      <td>481.000000</td>\n",
       "    </tr>\n",
       "    <tr>\n",
       "      <th>lr_only</th>\n",
       "      <td>15649.0</td>\n",
       "      <td>48.062879</td>\n",
       "      <td>78.166064</td>\n",
       "      <td>2.000000</td>\n",
       "      <td>6.000000</td>\n",
       "      <td>17.000000</td>\n",
       "      <td>42.000000</td>\n",
       "      <td>495.000000</td>\n",
       "    </tr>\n",
       "    <tr>\n",
       "      <th rowspan=\"2\" valign=\"top\">mu_purity</th>\n",
       "      <th>both</th>\n",
       "      <td>27937.0</td>\n",
       "      <td>95.462254</td>\n",
       "      <td>2.447519</td>\n",
       "      <td>79.000000</td>\n",
       "      <td>94.000000</td>\n",
       "      <td>96.000000</td>\n",
       "      <td>97.000000</td>\n",
       "      <td>100.000000</td>\n",
       "    </tr>\n",
       "    <tr>\n",
       "      <th>lr_only</th>\n",
       "      <td>15649.0</td>\n",
       "      <td>91.878842</td>\n",
       "      <td>2.559745</td>\n",
       "      <td>76.000000</td>\n",
       "      <td>90.000000</td>\n",
       "      <td>92.000000</td>\n",
       "      <td>94.000000</td>\n",
       "      <td>99.000000</td>\n",
       "    </tr>\n",
       "    <tr>\n",
       "      <th rowspan=\"2\" valign=\"top\">span</th>\n",
       "      <th>both</th>\n",
       "      <td>27937.0</td>\n",
       "      <td>125.275441</td>\n",
       "      <td>151.019236</td>\n",
       "      <td>27.000000</td>\n",
       "      <td>83.000000</td>\n",
       "      <td>93.000000</td>\n",
       "      <td>107.000000</td>\n",
       "      <td>3289.000000</td>\n",
       "    </tr>\n",
       "    <tr>\n",
       "      <th>lr_only</th>\n",
       "      <td>15649.0</td>\n",
       "      <td>597.245255</td>\n",
       "      <td>752.579369</td>\n",
       "      <td>20.000000</td>\n",
       "      <td>207.000000</td>\n",
       "      <td>424.000000</td>\n",
       "      <td>773.000000</td>\n",
       "      <td>23939.000000</td>\n",
       "    </tr>\n",
       "  </tbody>\n",
       "</table>\n",
       "</div>"
      ],
      "text/plain": [
       "                            count        mean         std        min  \\\n",
       "entropy          both     27937.0    0.889615    0.054278   0.480618   \n",
       "                 lr_only  15649.0    0.889898    0.091435   0.411906   \n",
       "max_allele_delta both     27937.0   11.482299   14.741450   5.000000   \n",
       "                 lr_only  15649.0  117.097642  451.225270   5.000000   \n",
       "max_motif        both     27937.0    6.668039   26.078946   2.000000   \n",
       "                 lr_only  15649.0   48.062879   78.166064   2.000000   \n",
       "mu_purity        both     27937.0   95.462254    2.447519  79.000000   \n",
       "                 lr_only  15649.0   91.878842    2.559745  76.000000   \n",
       "span             both     27937.0  125.275441  151.019236  27.000000   \n",
       "                 lr_only  15649.0  597.245255  752.579369  20.000000   \n",
       "\n",
       "                                 25%         50%         75%           max  \n",
       "entropy          both       0.856260    0.893772    0.927429      0.999828  \n",
       "                 lr_only    0.838969    0.908548    0.970982      0.999930  \n",
       "max_allele_delta both       6.000000    9.000000   14.000000   1588.000000  \n",
       "                 lr_only   10.000000   21.000000   64.000000  17516.000000  \n",
       "max_motif        both       2.000000    3.000000    5.000000    481.000000  \n",
       "                 lr_only    6.000000   17.000000   42.000000    495.000000  \n",
       "mu_purity        both      94.000000   96.000000   97.000000    100.000000  \n",
       "                 lr_only   90.000000   92.000000   94.000000     99.000000  \n",
       "span             both      83.000000   93.000000  107.000000   3289.000000  \n",
       "                 lr_only  207.000000  424.000000  773.000000  23939.000000  "
      ]
     },
     "execution_count": 225,
     "metadata": {},
     "output_type": "execute_result"
    }
   ],
   "source": [
    "a = lro[['max_allele_delta', 'entropy', 'span', 'mu_purity', 'max_motif']].describe().T\n",
    "a = a.set_index(pd.MultiIndex.from_tuples([(_, 'lr_only') for _ in a.index]))\n",
    "b = both[['max_allele_delta', 'entropy', 'span', 'mu_purity', 'max_motif']].describe().T\n",
    "b = b.set_index(pd.MultiIndex.from_tuples([(_, 'both') for _ in b.index]))\n",
    "view = pd.concat([a, b]).sort_index()\n",
    "view"
   ]
  },
  {
   "cell_type": "code",
   "execution_count": 226,
   "id": "d7a2c097-00ea-4a69-a737-520d63502611",
   "metadata": {},
   "outputs": [
    {
     "data": {
      "text/html": [
       "<div>\n",
       "<style scoped>\n",
       "    .dataframe tbody tr th:only-of-type {\n",
       "        vertical-align: middle;\n",
       "    }\n",
       "\n",
       "    .dataframe tbody tr th {\n",
       "        vertical-align: top;\n",
       "    }\n",
       "\n",
       "    .dataframe thead th {\n",
       "        text-align: right;\n",
       "    }\n",
       "</style>\n",
       "<table border=\"1\" class=\"dataframe\">\n",
       "  <thead>\n",
       "    <tr style=\"text-align: right;\">\n",
       "      <th></th>\n",
       "      <th>both mean</th>\n",
       "      <th>both std</th>\n",
       "      <th>both median</th>\n",
       "      <th>long-read only mean</th>\n",
       "      <th>long-read only std</th>\n",
       "      <th>long-read only median</th>\n",
       "      <th>alternate</th>\n",
       "      <th>p-value</th>\n",
       "      <th>statistic</th>\n",
       "    </tr>\n",
       "    <tr>\n",
       "      <th>annotation</th>\n",
       "      <th></th>\n",
       "      <th></th>\n",
       "      <th></th>\n",
       "      <th></th>\n",
       "      <th></th>\n",
       "      <th></th>\n",
       "      <th></th>\n",
       "      <th></th>\n",
       "      <th></th>\n",
       "    </tr>\n",
       "  </thead>\n",
       "  <tbody>\n",
       "    <tr>\n",
       "      <th>max_allele_delta</th>\n",
       "      <td>11.482299</td>\n",
       "      <td>14.741450</td>\n",
       "      <td>9.000000</td>\n",
       "      <td>117.097642</td>\n",
       "      <td>451.225270</td>\n",
       "      <td>21.000000</td>\n",
       "      <td>greater</td>\n",
       "      <td>0.0</td>\n",
       "      <td>85.850208</td>\n",
       "    </tr>\n",
       "    <tr>\n",
       "      <th>span</th>\n",
       "      <td>125.275441</td>\n",
       "      <td>151.019236</td>\n",
       "      <td>93.000000</td>\n",
       "      <td>597.245255</td>\n",
       "      <td>752.579369</td>\n",
       "      <td>424.000000</td>\n",
       "      <td>greater</td>\n",
       "      <td>0.0</td>\n",
       "      <td>141.676068</td>\n",
       "    </tr>\n",
       "    <tr>\n",
       "      <th>max_motif</th>\n",
       "      <td>6.668039</td>\n",
       "      <td>26.078946</td>\n",
       "      <td>3.000000</td>\n",
       "      <td>48.062879</td>\n",
       "      <td>78.166064</td>\n",
       "      <td>17.000000</td>\n",
       "      <td>greater</td>\n",
       "      <td>0.0</td>\n",
       "      <td>129.868668</td>\n",
       "    </tr>\n",
       "    <tr>\n",
       "      <th>mu_purity</th>\n",
       "      <td>95.462254</td>\n",
       "      <td>2.447519</td>\n",
       "      <td>96.000000</td>\n",
       "      <td>91.878842</td>\n",
       "      <td>2.559745</td>\n",
       "      <td>92.000000</td>\n",
       "      <td>less</td>\n",
       "      <td>0.0</td>\n",
       "      <td>-119.262192</td>\n",
       "    </tr>\n",
       "    <tr>\n",
       "      <th>entropy</th>\n",
       "      <td>0.889615</td>\n",
       "      <td>0.054278</td>\n",
       "      <td>0.893772</td>\n",
       "      <td>0.889898</td>\n",
       "      <td>0.091435</td>\n",
       "      <td>0.908548</td>\n",
       "      <td>less</td>\n",
       "      <td>1.0</td>\n",
       "      <td>18.125866</td>\n",
       "    </tr>\n",
       "  </tbody>\n",
       "</table>\n",
       "</div>"
      ],
      "text/plain": [
       "                   both mean    both std  both median  long-read only mean  \\\n",
       "annotation                                                                   \n",
       "max_allele_delta   11.482299   14.741450     9.000000           117.097642   \n",
       "span              125.275441  151.019236    93.000000           597.245255   \n",
       "max_motif           6.668039   26.078946     3.000000            48.062879   \n",
       "mu_purity          95.462254    2.447519    96.000000            91.878842   \n",
       "entropy             0.889615    0.054278     0.893772             0.889898   \n",
       "\n",
       "                  long-read only std  long-read only median alternate  \\\n",
       "annotation                                                              \n",
       "max_allele_delta          451.225270              21.000000   greater   \n",
       "span                      752.579369             424.000000   greater   \n",
       "max_motif                  78.166064              17.000000   greater   \n",
       "mu_purity                   2.559745              92.000000      less   \n",
       "entropy                     0.091435               0.908548      less   \n",
       "\n",
       "                  p-value   statistic  \n",
       "annotation                             \n",
       "max_allele_delta      0.0   85.850208  \n",
       "span                  0.0  141.676068  \n",
       "max_motif             0.0  129.868668  \n",
       "mu_purity             0.0 -119.262192  \n",
       "entropy               1.0   18.125866  "
      ]
     },
     "execution_count": 226,
     "metadata": {},
     "output_type": "execute_result"
    }
   ],
   "source": [
    "# Ranksum\n",
    "from scipy.stats import ranksums\n",
    "\n",
    "check = [('greater', 'max_allele_delta'),\n",
    "         ('greater', 'span'),\n",
    "         ('greater', 'max_motif'),\n",
    "         ('less', 'mu_purity'),\n",
    "         ('less', 'entropy')]\n",
    "rows = []\n",
    "for alt, c in check:\n",
    "    result = ranksums(lro[c], both[c], alternative=alt)\n",
    "    lstat = lro[c].describe()\n",
    "    bstat = both[c].describe()\n",
    "    rows.append([c, \n",
    "                 bstat['mean'], bstat['std'], bstat['50%'],\n",
    "                 lstat['mean'], lstat['std'], lstat['50%'],\n",
    "                 alt, result.pvalue, result.statistic])\n",
    "result = pd.DataFrame(rows, columns=['annotation', 'both mean', 'both std', 'both median',\n",
    "                                     'long-read only mean', 'long-read only std', 'long-read only median',\n",
    "                                     'alternate', 'p-value', 'statistic'])\n",
    "result.set_index('annotation')"
   ]
  },
  {
   "cell_type": "markdown",
   "id": "2db8cf40-3b1d-4989-8839-0942c8a7e14f",
   "metadata": {},
   "source": [
    "# TR vs WGS caller"
   ]
  },
  {
   "cell_type": "code",
   "execution_count": 22,
   "id": "2e050fff-9f08-474b-b1d7-c62c0715e293",
   "metadata": {},
   "outputs": [],
   "source": [
    "any_hip = data['state_hipstr'].str.startswith('T')\n",
    "any_gang = data['state_gangstr'].str.startswith('T')\n",
    "any_trgt = data['state_trgt'].str.startswith('T')\n",
    "any_medaka = data['state_medakaTR'].str.startswith('T')\n",
    "any_bg = data['state_biograph'].str.startswith('T')\n",
    "any_snif = data['state_sniffles'].str.startswith('T')\n",
    "any_dv = data['state_deepvariant'].str.startswith('T')\n",
    "\n",
    "wgs_tr = any_dv | any_bg | any_snif\n",
    "the_tr = any_hip | any_gang | any_trgt | any_medaka"
   ]
  },
  {
   "cell_type": "code",
   "execution_count": 23,
   "id": "61d11fcf-3f27-4755-a487-f66c2a5f96bf",
   "metadata": {},
   "outputs": [
    {
     "data": {
      "text/plain": [
       "101704"
      ]
     },
     "execution_count": 23,
     "metadata": {},
     "output_type": "execute_result"
    }
   ],
   "source": [
    "len(gt5_index) # How many regions are we dealing with?"
   ]
  },
  {
   "cell_type": "markdown",
   "id": "4c535428-cd64-4158-9713-24cd9c938ef3",
   "metadata": {},
   "source": [
    " Of the benchmark’s 101,704 Tier1 HG002 ≥5bp regions, the TR callers had at least one TP state in 101,1080 (99.4%) regions and 90,996 (89.4%) regions had a TP state from any WGS caller. Intersecting the two sets we found 90,812 (89.2%) are TP in the sets’ union, 10,296 (10.1%) are found to be TP exclusively by the TR callers, and only 184 are exclusive to the WGS callers. Interestingly, both the long-read and short-read TR callers contribute to the set of regions found exclusively by TR callers at 99.8% and 3.4% of regions, respectively. "
   ]
  },
  {
   "cell_type": "code",
   "execution_count": 24,
   "id": "9f3a4afa-1032-46dc-8b89-990bc07b588d",
   "metadata": {},
   "outputs": [
    {
     "data": {
      "text/plain": [
       "True     101124\n",
       "False       580\n",
       "dtype: int64"
      ]
     },
     "execution_count": 24,
     "metadata": {},
     "output_type": "execute_result"
    }
   ],
   "source": [
    "# TR had at least one TP:\n",
    "the_tr[the_tr.index.isin(gt5_index)].value_counts()"
   ]
  },
  {
   "cell_type": "code",
   "execution_count": 26,
   "id": "14fe6e35-0d9f-4c5d-b900-063ba618ebc6",
   "metadata": {},
   "outputs": [
    {
     "data": {
      "text/plain": [
       "0.9942971761189334"
      ]
     },
     "execution_count": 26,
     "metadata": {},
     "output_type": "execute_result"
    }
   ],
   "source": [
    "101124 / 101704"
   ]
  },
  {
   "cell_type": "code",
   "execution_count": 28,
   "id": "b65bd15b-21af-49d1-b30d-a0fd699c0725",
   "metadata": {},
   "outputs": [
    {
     "data": {
      "text/plain": [
       "True     90996\n",
       "False    10708\n",
       "dtype: int64"
      ]
     },
     "execution_count": 28,
     "metadata": {},
     "output_type": "execute_result"
    }
   ],
   "source": [
    "# WGS had at least one TP:\n",
    "wgs_tr[wgs_tr.index.isin(gt5_index)].value_counts()"
   ]
  },
  {
   "cell_type": "code",
   "execution_count": 29,
   "id": "8e90f8c7-3526-40bf-b8e2-ebb16e652613",
   "metadata": {},
   "outputs": [
    {
     "data": {
      "text/plain": [
       "0.8947140722095492"
      ]
     },
     "execution_count": 29,
     "metadata": {},
     "output_type": "execute_result"
    }
   ],
   "source": [
    "90996 / 101704"
   ]
  },
  {
   "cell_type": "code",
   "execution_count": 30,
   "id": "ed3c8ce6-b066-435d-9ccd-7bcd88c30751",
   "metadata": {},
   "outputs": [
    {
     "data": {
      "text/plain": [
       "True     90818\n",
       "False    10886\n",
       "dtype: int64"
      ]
     },
     "execution_count": 30,
     "metadata": {},
     "output_type": "execute_result"
    }
   ],
   "source": [
    "(the_tr[the_tr.index.isin(gt5_index)] & wgs_tr[wgs_tr.index.isin(gt5_index)]).value_counts()"
   ]
  },
  {
   "cell_type": "code",
   "execution_count": 31,
   "id": "1e2b4904-624b-475d-a430-3630c33afc1c",
   "metadata": {},
   "outputs": [
    {
     "data": {
      "text/plain": [
       "0.8929638952253599"
      ]
     },
     "execution_count": 31,
     "metadata": {},
     "output_type": "execute_result"
    }
   ],
   "source": [
    "90818 / 101704"
   ]
  },
  {
   "cell_type": "code",
   "execution_count": 32,
   "id": "9795be83-f9b1-4a9b-b5fc-aaaf63d7a197",
   "metadata": {},
   "outputs": [
    {
     "data": {
      "text/plain": [
       "False    91398\n",
       "True     10306\n",
       "dtype: int64"
      ]
     },
     "execution_count": 32,
     "metadata": {},
     "output_type": "execute_result"
    }
   ],
   "source": [
    "(the_tr[the_tr.index.isin(gt5_index)] & ~wgs_tr[wgs_tr.index.isin(gt5_index)]).value_counts()"
   ]
  },
  {
   "cell_type": "code",
   "execution_count": 33,
   "id": "db3e895e-81b7-4a18-b43f-4a9cb40aed15",
   "metadata": {},
   "outputs": [
    {
     "data": {
      "text/plain": [
       "False    101526\n",
       "True        178\n",
       "dtype: int64"
      ]
     },
     "execution_count": 33,
     "metadata": {},
     "output_type": "execute_result"
    }
   ],
   "source": [
    "(~the_tr[the_tr.index.isin(gt5_index)] & wgs_tr[wgs_tr.index.isin(gt5_index)]).value_counts()"
   ]
  },
  {
   "cell_type": "code",
   "execution_count": 34,
   "id": "6eb2c3b2-6276-440b-8827-a740578025f9",
   "metadata": {},
   "outputs": [],
   "source": [
    "tr_exclusive = the_tr & ~wgs_tr"
   ]
  },
  {
   "cell_type": "code",
   "execution_count": 35,
   "id": "d5dfd112-b641-4c78-a7cb-d584585ead7c",
   "metadata": {},
   "outputs": [
    {
     "data": {
      "text/plain": [
       "False    91398\n",
       "True     10306\n",
       "dtype: int64"
      ]
     },
     "execution_count": 35,
     "metadata": {},
     "output_type": "execute_result"
    }
   ],
   "source": [
    "tr_exclusive[tr_exclusive.index.isin(gt5_index)].value_counts() # 10296"
   ]
  },
  {
   "cell_type": "code",
   "execution_count": 36,
   "id": "6c663642-9d95-4197-951b-99e27f285991",
   "metadata": {},
   "outputs": [
    {
     "data": {
      "text/plain": [
       "False    101305\n",
       "True        399\n",
       "dtype: int64"
      ]
     },
     "execution_count": 36,
     "metadata": {},
     "output_type": "execute_result"
    }
   ],
   "source": [
    "sr_contribute = (tr_exclusive & (any_hip | any_gang))\n",
    "sr_contribute[sr_contribute.index.isin(gt5_index)].value_counts()"
   ]
  },
  {
   "cell_type": "code",
   "execution_count": 37,
   "id": "631be534-87e3-4578-808d-8182c4a6429f",
   "metadata": {},
   "outputs": [
    {
     "data": {
      "text/plain": [
       "False    1696571\n",
       "True       10282\n",
       "dtype: int64"
      ]
     },
     "execution_count": 37,
     "metadata": {},
     "output_type": "execute_result"
    }
   ],
   "source": [
    "(tr_exclusive & (any_trgt[any_trgt.index.isin(gt5_index)] | any_medaka[any_medaka.index.isin(gt5_index)])).value_counts()"
   ]
  },
  {
   "cell_type": "code",
   "execution_count": 38,
   "id": "2052ac75-cf6f-4ae9-a205-782884470d70",
   "metadata": {},
   "outputs": [
    {
     "name": "stdout",
     "output_type": "stream",
     "text": [
      "0.03871531146904716\n",
      "0.9976712594605085\n"
     ]
    }
   ],
   "source": [
    "print(399 / 10306)\n",
    "print(10282 / 10306)"
   ]
  },
  {
   "cell_type": "code",
   "execution_count": null,
   "id": "5be7a7ae-e29b-4fd3-b8c5-91ec77e7e6c0",
   "metadata": {},
   "outputs": [],
   "source": []
  }
 ],
 "metadata": {
  "kernelspec": {
   "display_name": "Python 3 (ipykernel)",
   "language": "python",
   "name": "python3"
  },
  "language_info": {
   "codemirror_mode": {
    "name": "ipython",
    "version": 3
   },
   "file_extension": ".py",
   "mimetype": "text/x-python",
   "name": "python",
   "nbconvert_exporter": "python",
   "pygments_lexer": "ipython3",
   "version": "3.9.6"
  }
 },
 "nbformat": 4,
 "nbformat_minor": 5
}
