{
 "cells": [
  {
   "cell_type": "markdown",
   "id": "0c7d260c-674c-4236-afe3-b55554ada0b6",
   "metadata": {},
   "source": [
    "Are there sites inaccessible from one technology / technique vs another?\n",
    "  - I bet there are sites where non-nist WGS all miss but every TR caller captures\n",
    "  - I bet there are sites long reads capture but none of the short reads capture\n",
    "  \n",
    "Take the refine.regions.txt from all tools and combine like how I'm doing for Q4.\n",
    "Perform queries based on path.txt metadata's sequencing,  Caller Type,  Sequencing, Locations.\n",
    "\n",
    "Where do each subset all agree / disagree with one another.\n",
    "\n",
    "wgs vs catalog (pretty much same as TR vs non-TR). \n",
    "Short-reads vs long reads\n"
   ]
  },
  {
   "cell_type": "code",
   "execution_count": 1,
   "id": "891312ab-97f0-4fdf-8104-8f0ace887d40",
   "metadata": {},
   "outputs": [],
   "source": [
    "import os\n",
    "import joblib\n",
    "import pandas as pd\n",
    "import seaborn as sb\n",
    "import matplotlib.pyplot as plt\n",
    "import json"
   ]
  },
  {
   "cell_type": "code",
   "execution_count": 137,
   "id": "ce9ed672-4421-40b9-a0e9-e41711fb0374",
   "metadata": {},
   "outputs": [],
   "source": [
    "def region_loader(path, name):\n",
    "    full_path = os.path.join(path, 'refine.regions.txt')\n",
    "    benchmark_regions = pd.read_csv(full_path, \n",
    "                                #names=[\"chrom\", \"start\", \"end\", \"tier\", \"repl\", \"vflag\", \"entropy\", \"ad1\", \"ad2\"],\n",
    "                                sep='\\t').set_index([\"chrom\", \"start\", \"end\"])\n",
    "    benchmark_regions.columns = [f'{c}_{name}' for c in benchmark_regions.columns]\n",
    "    return benchmark_regions\n",
    "paths = pd.read_csv(\"paths.txt\", sep='\\t')\n",
    "paths = paths[paths['program'].isin(['biograph', \n",
    "                                     'deepvariant', \n",
    "                                     'gangstr', \n",
    "                                     'hipstr', \n",
    "                                     'medakaTR', \n",
    "                                     'sniffles', \n",
    "                                     'trgt', \n",
    "                                     'GIABv4.2.1'])]\n",
    "parts = []\n",
    "for _, i in paths.iterrows():\n",
    "    parts.append(region_loader(i['path'], i['program']))\n",
    "data = pd.concat(parts, axis=1)"
   ]
  },
  {
   "cell_type": "code",
   "execution_count": 139,
   "id": "640e66a4-3cde-4f1a-99b4-20702a5dc6cd",
   "metadata": {},
   "outputs": [],
   "source": [
    "# When doing the agreement, we want for all tier1 sites as well as for all >=5bp\n",
    "# Lets repeat all of that with Tier1\n",
    "\n",
    "benchmark_regions = pd.read_csv(\"/Users/english/code/adotto/benchmark/GIABTR_benchmark.6.26/GIABTR.HG002.benchmark.regions.bed.gz\", \n",
    "                                names=[\"chrom\", \"start\", \"end\", \"tier\", \"repl\", \"vflag\", \"entropy\", \"ad1\", \"ad2\"],\n",
    "                                sep='\\t').set_index([\"chrom\", \"start\", \"end\"])\n",
    "\n",
    "benchmark_regions['max_allele_delta'] = benchmark_regions[['ad1', 'ad2']].max(axis=1)\n",
    "s = benchmark_regions.reset_index()\n",
    "x = (s['end'] - s['start']).to_frame().set_index(benchmark_regions.index)\n",
    "benchmark_regions['span'] = x\n",
    "\n",
    "# Want to load the catalog and also do this grouping for the mean purity of the repeats\n",
    "catalog = (pd.read_csv(\"/Users/english/code/adotto/regions/adotto_TRregions_v1.1.bed\", sep='\\t')\n",
    "           .rename(columns={'chr':'chrom'})\n",
    "           .set_index(['chrom', 'start', 'end']))\n",
    "\n",
    "\n",
    "def max_motif(x):\n",
    "    d = json.loads(x)\n",
    "    return max([_['period'] for _ in d])\n",
    "catalog['max_motif'] = catalog['annos'].apply(max_motif)\n",
    "\n",
    "\n",
    "benchmark_regions = benchmark_regions.join(catalog[['mu_purity', 'max_motif']])\n",
    "\n",
    "t1_index = benchmark_regions[benchmark_regions['tier'] == 'Tier1'].index\n",
    "\n",
    "def is_gt5(x):\n",
    "    return (x & 0x1) != 0\n",
    "gt5_index = benchmark_regions[(benchmark_regions['tier'] == 'Tier1') & benchmark_regions['vflag'].apply(is_gt5)].index\n"
   ]
  },
  {
   "cell_type": "code",
   "execution_count": 140,
   "id": "639aac71-f864-4b98-b610-8be936ce1ae8",
   "metadata": {},
   "outputs": [],
   "source": [
    "to_analyze = ~data['state_hipstr'].isna()"
   ]
  },
  {
   "cell_type": "code",
   "execution_count": 141,
   "id": "8837afd6-03b6-41c8-a267-d4a4b124a2e0",
   "metadata": {},
   "outputs": [
    {
     "data": {
      "text/plain": [
       "60325"
      ]
     },
     "execution_count": 141,
     "metadata": {},
     "output_type": "execute_result"
    }
   ],
   "source": [
    "# How many are we subsetting to?\n",
    "len(benchmark_regions[benchmark_regions.index.isin(to_analyze[to_analyze].index)\n",
    "                      & benchmark_regions.index.isin(gt5_index)])"
   ]
  },
  {
   "cell_type": "code",
   "execution_count": 142,
   "id": "1fa87b0f-6a58-4a4f-a8bc-46b164da5c46",
   "metadata": {},
   "outputs": [
    {
     "data": {
      "text/plain": [
       "True     1058986\n",
       "False     647867\n",
       "Name: state_hipstr, dtype: int64"
      ]
     },
     "execution_count": 142,
     "metadata": {},
     "output_type": "execute_result"
    }
   ],
   "source": [
    "to_analyze.value_counts()"
   ]
  },
  {
   "cell_type": "code",
   "execution_count": 143,
   "id": "346e40cd-f6db-432c-bf65-7be605a75abb",
   "metadata": {},
   "outputs": [
    {
     "data": {
      "text/plain": [
       "state_biograph            0\n",
       "state_deepvariant         0\n",
       "state_gangstr             0\n",
       "state_medakaTR            0\n",
       "state_sniffles            0\n",
       "state_GIABv4.2.1          0\n",
       "state_trgt                0\n",
       "state_hipstr         647867\n",
       "dtype: int64"
      ]
     },
     "execution_count": 143,
     "metadata": {},
     "output_type": "execute_result"
    }
   ],
   "source": [
    "data[[_ for _ in data.columns if _.startswith('state')]].isna().sum(axis=0)"
   ]
  },
  {
   "cell_type": "code",
   "execution_count": 144,
   "id": "1d2aaacd-2bba-4479-9547-6e9dd222e684",
   "metadata": {},
   "outputs": [],
   "source": [
    "def within_set_agree(m_data, m_set):\n",
    "    # Do the state_name agree / disagree within a set. Returns a True/False\n",
    "    return m_data['state_' + m_set[0]] == m_data['state_' + m_set[1]]\n",
    "\n",
    "sr_callers_agree = within_set_agree(data, ['gangstr', 'hipstr'])\n",
    "lr_callers_agree = within_set_agree(data, ['trgt', 'medakaTR'])"
   ]
  },
  {
   "cell_type": "code",
   "execution_count": 145,
   "id": "e1cc3b56-008c-4bd2-aa45-7d23fa87124d",
   "metadata": {},
   "outputs": [
    {
     "data": {
      "text/plain": [
       "False    33512\n",
       "True     26813\n",
       "dtype: int64"
      ]
     },
     "execution_count": 145,
     "metadata": {},
     "output_type": "execute_result"
    }
   ],
   "source": [
    "sr_callers_agree[sr_callers_agree.index.isin(t1_index)\n",
    "                & sr_callers_agree.index.isin(gt5_index)\n",
    "                & to_analyze].value_counts()"
   ]
  },
  {
   "cell_type": "code",
   "execution_count": 146,
   "id": "7ad3c1ca-9d33-448a-8c58-e14c51c888f7",
   "metadata": {},
   "outputs": [
    {
     "data": {
      "text/plain": [
       "0.4444757563199337"
      ]
     },
     "execution_count": 146,
     "metadata": {},
     "output_type": "execute_result"
    }
   ],
   "source": [
    "sr_callers_agree[sr_callers_agree.index.isin(t1_index)\n",
    "                & sr_callers_agree.index.isin(gt5_index)\n",
    "                & to_analyze].mean()"
   ]
  },
  {
   "cell_type": "code",
   "execution_count": 147,
   "id": "e8cd5ee7-37e2-4c06-96a7-4ec55c05fa38",
   "metadata": {},
   "outputs": [
    {
     "data": {
      "text/plain": [
       "True     58772\n",
       "False     1553\n",
       "dtype: int64"
      ]
     },
     "execution_count": 147,
     "metadata": {},
     "output_type": "execute_result"
    }
   ],
   "source": [
    "lr_callers_agree[lr_callers_agree.index.isin(t1_index)\n",
    "                & lr_callers_agree.index.isin(gt5_index)\n",
    "                & to_analyze].value_counts()"
   ]
  },
  {
   "cell_type": "code",
   "execution_count": 148,
   "id": "01fc862f-d3c1-4c03-80a1-5e295ffaafe8",
   "metadata": {},
   "outputs": [
    {
     "data": {
      "text/plain": [
       "0.9742561127227518"
      ]
     },
     "execution_count": 148,
     "metadata": {},
     "output_type": "execute_result"
    }
   ],
   "source": [
    "lr_callers_agree[lr_callers_agree.index.isin(t1_index)\n",
    "                & lr_callers_agree.index.isin(gt5_index)\n",
    "                & to_analyze].mean()"
   ]
  },
  {
   "cell_type": "code",
   "execution_count": 149,
   "id": "ff947834-4b8b-40c4-aada-bcee16383644",
   "metadata": {},
   "outputs": [
    {
     "data": {
      "text/html": [
       "<div>\n",
       "<style scoped>\n",
       "    .dataframe tbody tr th:only-of-type {\n",
       "        vertical-align: middle;\n",
       "    }\n",
       "\n",
       "    .dataframe tbody tr th {\n",
       "        vertical-align: top;\n",
       "    }\n",
       "\n",
       "    .dataframe thead th {\n",
       "        text-align: right;\n",
       "    }\n",
       "</style>\n",
       "<table border=\"1\" class=\"dataframe\">\n",
       "  <thead>\n",
       "    <tr style=\"text-align: right;\">\n",
       "      <th>state_trgt</th>\n",
       "      <th>FN</th>\n",
       "      <th>FN,FP</th>\n",
       "      <th>FP</th>\n",
       "      <th>TN</th>\n",
       "      <th>TP</th>\n",
       "    </tr>\n",
       "    <tr>\n",
       "      <th>state_hipstr</th>\n",
       "      <th></th>\n",
       "      <th></th>\n",
       "      <th></th>\n",
       "      <th></th>\n",
       "      <th></th>\n",
       "    </tr>\n",
       "  </thead>\n",
       "  <tbody>\n",
       "    <tr>\n",
       "      <th>FN</th>\n",
       "      <td>52</td>\n",
       "      <td>10</td>\n",
       "      <td>22</td>\n",
       "      <td>25</td>\n",
       "      <td>12303</td>\n",
       "    </tr>\n",
       "    <tr>\n",
       "      <th>FN,FP</th>\n",
       "      <td>3</td>\n",
       "      <td>9</td>\n",
       "      <td>1</td>\n",
       "      <td>1</td>\n",
       "      <td>293</td>\n",
       "    </tr>\n",
       "    <tr>\n",
       "      <th>FP</th>\n",
       "      <td>0</td>\n",
       "      <td>0</td>\n",
       "      <td>15</td>\n",
       "      <td>0</td>\n",
       "      <td>12</td>\n",
       "    </tr>\n",
       "    <tr>\n",
       "      <th>TN</th>\n",
       "      <td>0</td>\n",
       "      <td>0</td>\n",
       "      <td>0</td>\n",
       "      <td>1</td>\n",
       "      <td>0</td>\n",
       "    </tr>\n",
       "    <tr>\n",
       "      <th>TP</th>\n",
       "      <td>2</td>\n",
       "      <td>0</td>\n",
       "      <td>0</td>\n",
       "      <td>1</td>\n",
       "      <td>13318</td>\n",
       "    </tr>\n",
       "  </tbody>\n",
       "</table>\n",
       "</div>"
      ],
      "text/plain": [
       "state_trgt    FN  FN,FP  FP  TN     TP\n",
       "state_hipstr                          \n",
       "FN            52     10  22  25  12303\n",
       "FN,FP          3      9   1   1    293\n",
       "FP             0      0  15   0     12\n",
       "TN             0      0   0   1      0\n",
       "TP             2      0   0   1  13318"
      ]
     },
     "execution_count": 149,
     "metadata": {},
     "output_type": "execute_result"
    }
   ],
   "source": [
    "v = data[sr_callers_agree\n",
    "        & lr_callers_agree\n",
    "        & data.index.isin(t1_index)\n",
    "        & data.index.isin(gt5_index)\n",
    "        & to_analyze][['state_hipstr', 'state_trgt']].value_counts().unstack().fillna(0).astype(int)\n",
    "v"
   ]
  },
  {
   "cell_type": "code",
   "execution_count": 150,
   "id": "a87def02-83f7-448c-ac59-d038cd51da09",
   "metadata": {},
   "outputs": [
    {
     "data": {
      "text/html": [
       "<div>\n",
       "<style scoped>\n",
       "    .dataframe tbody tr th:only-of-type {\n",
       "        vertical-align: middle;\n",
       "    }\n",
       "\n",
       "    .dataframe tbody tr th {\n",
       "        vertical-align: top;\n",
       "    }\n",
       "\n",
       "    .dataframe thead th {\n",
       "        text-align: right;\n",
       "    }\n",
       "</style>\n",
       "<table border=\"1\" class=\"dataframe\">\n",
       "  <thead>\n",
       "    <tr style=\"text-align: right;\">\n",
       "      <th>state_trgt</th>\n",
       "      <th>TN</th>\n",
       "      <th>TP</th>\n",
       "    </tr>\n",
       "    <tr>\n",
       "      <th>state_hipstr</th>\n",
       "      <th></th>\n",
       "      <th></th>\n",
       "    </tr>\n",
       "  </thead>\n",
       "  <tbody>\n",
       "    <tr>\n",
       "      <th>FN</th>\n",
       "      <td>25</td>\n",
       "      <td>12303</td>\n",
       "    </tr>\n",
       "    <tr>\n",
       "      <th>FN,FP</th>\n",
       "      <td>1</td>\n",
       "      <td>293</td>\n",
       "    </tr>\n",
       "    <tr>\n",
       "      <th>FP</th>\n",
       "      <td>0</td>\n",
       "      <td>12</td>\n",
       "    </tr>\n",
       "  </tbody>\n",
       "</table>\n",
       "</div>"
      ],
      "text/plain": [
       "state_trgt    TN     TP\n",
       "state_hipstr           \n",
       "FN            25  12303\n",
       "FN,FP          1    293\n",
       "FP             0     12"
      ]
     },
     "execution_count": 150,
     "metadata": {},
     "output_type": "execute_result"
    }
   ],
   "source": [
    "v.loc[:\"FP\"][[\"TN\", \"TP\"]]"
   ]
  },
  {
   "cell_type": "code",
   "execution_count": 151,
   "id": "08192be9-4d94-4345-823e-2cbda797a117",
   "metadata": {},
   "outputs": [
    {
     "data": {
      "text/html": [
       "<div>\n",
       "<style scoped>\n",
       "    .dataframe tbody tr th:only-of-type {\n",
       "        vertical-align: middle;\n",
       "    }\n",
       "\n",
       "    .dataframe tbody tr th {\n",
       "        vertical-align: top;\n",
       "    }\n",
       "\n",
       "    .dataframe thead th {\n",
       "        text-align: right;\n",
       "    }\n",
       "</style>\n",
       "<table border=\"1\" class=\"dataframe\">\n",
       "  <thead>\n",
       "    <tr style=\"text-align: right;\">\n",
       "      <th>state_trgt</th>\n",
       "      <th>FN</th>\n",
       "      <th>FN,FP</th>\n",
       "      <th>FP</th>\n",
       "    </tr>\n",
       "    <tr>\n",
       "      <th>state_hipstr</th>\n",
       "      <th></th>\n",
       "      <th></th>\n",
       "      <th></th>\n",
       "    </tr>\n",
       "  </thead>\n",
       "  <tbody>\n",
       "    <tr>\n",
       "      <th>TN</th>\n",
       "      <td>0</td>\n",
       "      <td>0</td>\n",
       "      <td>0</td>\n",
       "    </tr>\n",
       "    <tr>\n",
       "      <th>TP</th>\n",
       "      <td>2</td>\n",
       "      <td>0</td>\n",
       "      <td>0</td>\n",
       "    </tr>\n",
       "  </tbody>\n",
       "</table>\n",
       "</div>"
      ],
      "text/plain": [
       "state_trgt    FN  FN,FP  FP\n",
       "state_hipstr               \n",
       "TN             0      0   0\n",
       "TP             2      0   0"
      ]
     },
     "execution_count": 151,
     "metadata": {},
     "output_type": "execute_result"
    }
   ],
   "source": [
    "v.loc[[\"TN\", \"TP\"], :\"FP\"]"
   ]
  },
  {
   "cell_type": "code",
   "execution_count": 152,
   "id": "0060ab6f-9b76-46cc-b519-64bd6cd13238",
   "metadata": {},
   "outputs": [
    {
     "data": {
      "text/html": [
       "<div>\n",
       "<style scoped>\n",
       "    .dataframe tbody tr th:only-of-type {\n",
       "        vertical-align: middle;\n",
       "    }\n",
       "\n",
       "    .dataframe tbody tr th {\n",
       "        vertical-align: top;\n",
       "    }\n",
       "\n",
       "    .dataframe thead th {\n",
       "        text-align: right;\n",
       "    }\n",
       "</style>\n",
       "<table border=\"1\" class=\"dataframe\">\n",
       "  <thead>\n",
       "    <tr style=\"text-align: right;\">\n",
       "      <th>state_trgt</th>\n",
       "      <th>FN</th>\n",
       "      <th>FN,FP</th>\n",
       "      <th>FP</th>\n",
       "    </tr>\n",
       "    <tr>\n",
       "      <th>state_hipstr</th>\n",
       "      <th></th>\n",
       "      <th></th>\n",
       "      <th></th>\n",
       "    </tr>\n",
       "  </thead>\n",
       "  <tbody>\n",
       "    <tr>\n",
       "      <th>FN</th>\n",
       "      <td>52</td>\n",
       "      <td>10</td>\n",
       "      <td>22</td>\n",
       "    </tr>\n",
       "    <tr>\n",
       "      <th>FN,FP</th>\n",
       "      <td>3</td>\n",
       "      <td>9</td>\n",
       "      <td>1</td>\n",
       "    </tr>\n",
       "    <tr>\n",
       "      <th>FP</th>\n",
       "      <td>0</td>\n",
       "      <td>0</td>\n",
       "      <td>15</td>\n",
       "    </tr>\n",
       "  </tbody>\n",
       "</table>\n",
       "</div>"
      ],
      "text/plain": [
       "state_trgt    FN  FN,FP  FP\n",
       "state_hipstr               \n",
       "FN            52     10  22\n",
       "FN,FP          3      9   1\n",
       "FP             0      0  15"
      ]
     },
     "execution_count": 152,
     "metadata": {},
     "output_type": "execute_result"
    }
   ],
   "source": [
    "v.loc[:\"FP\", :\"FP\"]"
   ]
  },
  {
   "cell_type": "code",
   "execution_count": 153,
   "id": "4fb6a0b7-e9dc-4656-a6ba-737d3166bda4",
   "metadata": {},
   "outputs": [
    {
     "name": "stdout",
     "output_type": "stream",
     "text": [
      "25955\n"
     ]
    },
    {
     "data": {
      "text/html": [
       "<div>\n",
       "<style scoped>\n",
       "    .dataframe tbody tr th:only-of-type {\n",
       "        vertical-align: middle;\n",
       "    }\n",
       "\n",
       "    .dataframe tbody tr th {\n",
       "        vertical-align: top;\n",
       "    }\n",
       "\n",
       "    .dataframe thead th {\n",
       "        text-align: right;\n",
       "    }\n",
       "</style>\n",
       "<table border=\"1\" class=\"dataframe\">\n",
       "  <thead>\n",
       "    <tr style=\"text-align: right;\">\n",
       "      <th></th>\n",
       "      <th>which</th>\n",
       "      <th>cnt</th>\n",
       "      <th>pct</th>\n",
       "    </tr>\n",
       "  </thead>\n",
       "  <tbody>\n",
       "    <tr>\n",
       "      <th>0</th>\n",
       "      <td>both</td>\n",
       "      <td>13319</td>\n",
       "      <td>0.513157</td>\n",
       "    </tr>\n",
       "    <tr>\n",
       "      <th>1</th>\n",
       "      <td>only_lr</td>\n",
       "      <td>12634</td>\n",
       "      <td>0.486766</td>\n",
       "    </tr>\n",
       "    <tr>\n",
       "      <th>2</th>\n",
       "      <td>only_sr</td>\n",
       "      <td>2</td>\n",
       "      <td>0.000077</td>\n",
       "    </tr>\n",
       "  </tbody>\n",
       "</table>\n",
       "</div>"
      ],
      "text/plain": [
       "     which    cnt       pct\n",
       "0     both  13319  0.513157\n",
       "1  only_lr  12634  0.486766\n",
       "2  only_sr      2  0.000077"
      ]
     },
     "execution_count": 153,
     "metadata": {},
     "output_type": "execute_result"
    }
   ],
   "source": [
    "tmp = pd.DataFrame([[\"both\", v.loc[(\"TP\", \"TP\")] + v.loc[(\"TN\", \"TN\")]],\n",
    "                    [\"only_lr\", v.loc[:\"FP\"][[\"TN\", \"TP\"]].sum().sum()],\n",
    "                    [\"only_sr\", v.loc[[\"TN\", \"TP\"], :\"FP\"].sum().sum()]],\n",
    "                    #['neither', v.loc[:\"FP\", :\"FP\"].sum().sum()]],\n",
    "                   columns=['which', 'cnt'])\n",
    "tmp['pct'] = tmp['cnt'] /  tmp['cnt'].sum()\n",
    "print(tmp['cnt'].sum())\n",
    "tmp"
   ]
  },
  {
   "cell_type": "code",
   "execution_count": 154,
   "id": "a51e730d-fbc1-4f47-8293-81720eb89eaf",
   "metadata": {},
   "outputs": [],
   "source": [
    "# What are lr getting that sr aren't?\n",
    "\n",
    "subset = (to_analyze \n",
    "          & sr_callers_agree \n",
    "          & lr_callers_agree \n",
    "          & data.index.isin(t1_index) \n",
    "          & data.index.isin(gt5_index))\n",
    "\n",
    "both_mask = data[subset]['state_hipstr'].str.startswith('T') & data[subset]['state_trgt'].str.startswith('T')\n",
    "lr_mask = ~data[subset]['state_hipstr'].str.startswith('T') & data[subset]['state_trgt'].str.startswith('T')\n",
    "\n",
    "lro = benchmark_regions.loc[lr_mask[lr_mask].index]\n",
    "both = benchmark_regions.loc[both_mask[both_mask].index]\n"
   ]
  },
  {
   "cell_type": "code",
   "execution_count": 155,
   "id": "3c6960c3-e31a-4104-b077-050a97760e25",
   "metadata": {},
   "outputs": [
    {
     "data": {
      "text/html": [
       "<div>\n",
       "<style scoped>\n",
       "    .dataframe tbody tr th:only-of-type {\n",
       "        vertical-align: middle;\n",
       "    }\n",
       "\n",
       "    .dataframe tbody tr th {\n",
       "        vertical-align: top;\n",
       "    }\n",
       "\n",
       "    .dataframe thead th {\n",
       "        text-align: right;\n",
       "    }\n",
       "</style>\n",
       "<table border=\"1\" class=\"dataframe\">\n",
       "  <thead>\n",
       "    <tr style=\"text-align: right;\">\n",
       "      <th></th>\n",
       "      <th></th>\n",
       "      <th>count</th>\n",
       "      <th>mean</th>\n",
       "      <th>std</th>\n",
       "      <th>min</th>\n",
       "      <th>25%</th>\n",
       "      <th>50%</th>\n",
       "      <th>75%</th>\n",
       "      <th>max</th>\n",
       "    </tr>\n",
       "  </thead>\n",
       "  <tbody>\n",
       "    <tr>\n",
       "      <th rowspan=\"2\" valign=\"top\">entropy</th>\n",
       "      <th>both</th>\n",
       "      <td>13320.0</td>\n",
       "      <td>0.881300</td>\n",
       "      <td>0.055594</td>\n",
       "      <td>0.571921</td>\n",
       "      <td>0.846654</td>\n",
       "      <td>0.884686</td>\n",
       "      <td>0.919322</td>\n",
       "      <td>0.999828</td>\n",
       "    </tr>\n",
       "    <tr>\n",
       "      <th>lr_only</th>\n",
       "      <td>12634.0</td>\n",
       "      <td>0.881441</td>\n",
       "      <td>0.094636</td>\n",
       "      <td>0.411906</td>\n",
       "      <td>0.826240</td>\n",
       "      <td>0.898749</td>\n",
       "      <td>0.964656</td>\n",
       "      <td>0.999930</td>\n",
       "    </tr>\n",
       "    <tr>\n",
       "      <th rowspan=\"2\" valign=\"top\">max_allele_delta</th>\n",
       "      <th>both</th>\n",
       "      <td>13320.0</td>\n",
       "      <td>11.631907</td>\n",
       "      <td>16.401112</td>\n",
       "      <td>5.000000</td>\n",
       "      <td>6.000000</td>\n",
       "      <td>10.000000</td>\n",
       "      <td>14.000000</td>\n",
       "      <td>1588.000000</td>\n",
       "    </tr>\n",
       "    <tr>\n",
       "      <th>lr_only</th>\n",
       "      <td>12634.0</td>\n",
       "      <td>123.156957</td>\n",
       "      <td>472.061117</td>\n",
       "      <td>5.000000</td>\n",
       "      <td>10.000000</td>\n",
       "      <td>22.000000</td>\n",
       "      <td>67.750000</td>\n",
       "      <td>17516.000000</td>\n",
       "    </tr>\n",
       "    <tr>\n",
       "      <th rowspan=\"2\" valign=\"top\">max_motif</th>\n",
       "      <th>both</th>\n",
       "      <td>13320.0</td>\n",
       "      <td>6.291291</td>\n",
       "      <td>23.685747</td>\n",
       "      <td>2.000000</td>\n",
       "      <td>2.000000</td>\n",
       "      <td>3.000000</td>\n",
       "      <td>5.000000</td>\n",
       "      <td>481.000000</td>\n",
       "    </tr>\n",
       "    <tr>\n",
       "      <th>lr_only</th>\n",
       "      <td>12634.0</td>\n",
       "      <td>42.650863</td>\n",
       "      <td>74.545513</td>\n",
       "      <td>2.000000</td>\n",
       "      <td>6.000000</td>\n",
       "      <td>16.000000</td>\n",
       "      <td>38.000000</td>\n",
       "      <td>495.000000</td>\n",
       "    </tr>\n",
       "    <tr>\n",
       "      <th rowspan=\"2\" valign=\"top\">mu_purity</th>\n",
       "      <th>both</th>\n",
       "      <td>13320.0</td>\n",
       "      <td>95.674099</td>\n",
       "      <td>2.436309</td>\n",
       "      <td>79.000000</td>\n",
       "      <td>94.000000</td>\n",
       "      <td>96.000000</td>\n",
       "      <td>98.000000</td>\n",
       "      <td>100.000000</td>\n",
       "    </tr>\n",
       "    <tr>\n",
       "      <th>lr_only</th>\n",
       "      <td>12634.0</td>\n",
       "      <td>91.751227</td>\n",
       "      <td>2.598996</td>\n",
       "      <td>76.000000</td>\n",
       "      <td>90.000000</td>\n",
       "      <td>92.000000</td>\n",
       "      <td>94.000000</td>\n",
       "      <td>99.000000</td>\n",
       "    </tr>\n",
       "    <tr>\n",
       "      <th rowspan=\"2\" valign=\"top\">span</th>\n",
       "      <th>both</th>\n",
       "      <td>13320.0</td>\n",
       "      <td>128.031907</td>\n",
       "      <td>139.298276</td>\n",
       "      <td>35.000000</td>\n",
       "      <td>89.000000</td>\n",
       "      <td>98.000000</td>\n",
       "      <td>112.000000</td>\n",
       "      <td>3157.000000</td>\n",
       "    </tr>\n",
       "    <tr>\n",
       "      <th>lr_only</th>\n",
       "      <td>12634.0</td>\n",
       "      <td>586.394491</td>\n",
       "      <td>691.154113</td>\n",
       "      <td>20.000000</td>\n",
       "      <td>211.250000</td>\n",
       "      <td>428.500000</td>\n",
       "      <td>764.000000</td>\n",
       "      <td>23939.000000</td>\n",
       "    </tr>\n",
       "  </tbody>\n",
       "</table>\n",
       "</div>"
      ],
      "text/plain": [
       "                            count        mean         std        min  \\\n",
       "entropy          both     13320.0    0.881300    0.055594   0.571921   \n",
       "                 lr_only  12634.0    0.881441    0.094636   0.411906   \n",
       "max_allele_delta both     13320.0   11.631907   16.401112   5.000000   \n",
       "                 lr_only  12634.0  123.156957  472.061117   5.000000   \n",
       "max_motif        both     13320.0    6.291291   23.685747   2.000000   \n",
       "                 lr_only  12634.0   42.650863   74.545513   2.000000   \n",
       "mu_purity        both     13320.0   95.674099    2.436309  79.000000   \n",
       "                 lr_only  12634.0   91.751227    2.598996  76.000000   \n",
       "span             both     13320.0  128.031907  139.298276  35.000000   \n",
       "                 lr_only  12634.0  586.394491  691.154113  20.000000   \n",
       "\n",
       "                                 25%         50%         75%           max  \n",
       "entropy          both       0.846654    0.884686    0.919322      0.999828  \n",
       "                 lr_only    0.826240    0.898749    0.964656      0.999930  \n",
       "max_allele_delta both       6.000000   10.000000   14.000000   1588.000000  \n",
       "                 lr_only   10.000000   22.000000   67.750000  17516.000000  \n",
       "max_motif        both       2.000000    3.000000    5.000000    481.000000  \n",
       "                 lr_only    6.000000   16.000000   38.000000    495.000000  \n",
       "mu_purity        both      94.000000   96.000000   98.000000    100.000000  \n",
       "                 lr_only   90.000000   92.000000   94.000000     99.000000  \n",
       "span             both      89.000000   98.000000  112.000000   3157.000000  \n",
       "                 lr_only  211.250000  428.500000  764.000000  23939.000000  "
      ]
     },
     "execution_count": 155,
     "metadata": {},
     "output_type": "execute_result"
    }
   ],
   "source": [
    "a = lro[['max_allele_delta', 'entropy', 'span', 'mu_purity', 'max_motif']].describe().T\n",
    "a = a.set_index(pd.MultiIndex.from_tuples([(_, 'lr_only') for _ in a.index]))\n",
    "b = both[['max_allele_delta', 'entropy', 'span', 'mu_purity', 'max_motif']].describe().T\n",
    "b = b.set_index(pd.MultiIndex.from_tuples([(_, 'both') for _ in b.index]))\n",
    "view = pd.concat([a, b]).sort_index()\n",
    "view"
   ]
  },
  {
   "cell_type": "code",
   "execution_count": 157,
   "id": "d7a2c097-00ea-4a69-a737-520d63502611",
   "metadata": {},
   "outputs": [
    {
     "data": {
      "text/html": [
       "<div>\n",
       "<style scoped>\n",
       "    .dataframe tbody tr th:only-of-type {\n",
       "        vertical-align: middle;\n",
       "    }\n",
       "\n",
       "    .dataframe tbody tr th {\n",
       "        vertical-align: top;\n",
       "    }\n",
       "\n",
       "    .dataframe thead th {\n",
       "        text-align: right;\n",
       "    }\n",
       "</style>\n",
       "<table border=\"1\" class=\"dataframe\">\n",
       "  <thead>\n",
       "    <tr style=\"text-align: right;\">\n",
       "      <th></th>\n",
       "      <th>both mean</th>\n",
       "      <th>both std</th>\n",
       "      <th>both median</th>\n",
       "      <th>long-read only mean</th>\n",
       "      <th>long-read only std</th>\n",
       "      <th>long-read only median</th>\n",
       "      <th>alternate</th>\n",
       "      <th>p-value</th>\n",
       "      <th>statistic</th>\n",
       "    </tr>\n",
       "    <tr>\n",
       "      <th>annotation</th>\n",
       "      <th></th>\n",
       "      <th></th>\n",
       "      <th></th>\n",
       "      <th></th>\n",
       "      <th></th>\n",
       "      <th></th>\n",
       "      <th></th>\n",
       "      <th></th>\n",
       "      <th></th>\n",
       "    </tr>\n",
       "  </thead>\n",
       "  <tbody>\n",
       "    <tr>\n",
       "      <th>max_allele_delta</th>\n",
       "      <td>11.631907</td>\n",
       "      <td>16.401112</td>\n",
       "      <td>10.000000</td>\n",
       "      <td>123.156957</td>\n",
       "      <td>472.061117</td>\n",
       "      <td>22.000000</td>\n",
       "      <td>greater</td>\n",
       "      <td>0.0</td>\n",
       "      <td>69.987532</td>\n",
       "    </tr>\n",
       "    <tr>\n",
       "      <th>span</th>\n",
       "      <td>128.031907</td>\n",
       "      <td>139.298276</td>\n",
       "      <td>98.000000</td>\n",
       "      <td>586.394491</td>\n",
       "      <td>691.154113</td>\n",
       "      <td>428.500000</td>\n",
       "      <td>greater</td>\n",
       "      <td>0.0</td>\n",
       "      <td>110.965245</td>\n",
       "    </tr>\n",
       "    <tr>\n",
       "      <th>max_motif</th>\n",
       "      <td>6.291291</td>\n",
       "      <td>23.685747</td>\n",
       "      <td>3.000000</td>\n",
       "      <td>42.650863</td>\n",
       "      <td>74.545513</td>\n",
       "      <td>16.000000</td>\n",
       "      <td>greater</td>\n",
       "      <td>0.0</td>\n",
       "      <td>103.867326</td>\n",
       "    </tr>\n",
       "    <tr>\n",
       "      <th>mu_purity</th>\n",
       "      <td>95.674099</td>\n",
       "      <td>2.436309</td>\n",
       "      <td>96.000000</td>\n",
       "      <td>91.751227</td>\n",
       "      <td>2.598996</td>\n",
       "      <td>92.000000</td>\n",
       "      <td>less</td>\n",
       "      <td>0.0</td>\n",
       "      <td>-101.126808</td>\n",
       "    </tr>\n",
       "    <tr>\n",
       "      <th>entropy</th>\n",
       "      <td>0.881300</td>\n",
       "      <td>0.055594</td>\n",
       "      <td>0.884686</td>\n",
       "      <td>0.881441</td>\n",
       "      <td>0.094636</td>\n",
       "      <td>0.898749</td>\n",
       "      <td>less</td>\n",
       "      <td>1.0</td>\n",
       "      <td>13.116153</td>\n",
       "    </tr>\n",
       "  </tbody>\n",
       "</table>\n",
       "</div>"
      ],
      "text/plain": [
       "                   both mean    both std  both median  long-read only mean  \\\n",
       "annotation                                                                   \n",
       "max_allele_delta   11.631907   16.401112    10.000000           123.156957   \n",
       "span              128.031907  139.298276    98.000000           586.394491   \n",
       "max_motif           6.291291   23.685747     3.000000            42.650863   \n",
       "mu_purity          95.674099    2.436309    96.000000            91.751227   \n",
       "entropy             0.881300    0.055594     0.884686             0.881441   \n",
       "\n",
       "                  long-read only std  long-read only median alternate  \\\n",
       "annotation                                                              \n",
       "max_allele_delta          472.061117              22.000000   greater   \n",
       "span                      691.154113             428.500000   greater   \n",
       "max_motif                  74.545513              16.000000   greater   \n",
       "mu_purity                   2.598996              92.000000      less   \n",
       "entropy                     0.094636               0.898749      less   \n",
       "\n",
       "                  p-value   statistic  \n",
       "annotation                             \n",
       "max_allele_delta      0.0   69.987532  \n",
       "span                  0.0  110.965245  \n",
       "max_motif             0.0  103.867326  \n",
       "mu_purity             0.0 -101.126808  \n",
       "entropy               1.0   13.116153  "
      ]
     },
     "execution_count": 157,
     "metadata": {},
     "output_type": "execute_result"
    }
   ],
   "source": [
    "# Ranksum\n",
    "from scipy.stats import ranksums\n",
    "\n",
    "check = [('greater', 'max_allele_delta'),\n",
    "         ('greater', 'span'),\n",
    "         ('greater', 'max_motif'),\n",
    "         ('less', 'mu_purity'),\n",
    "         ('less', 'entropy')]\n",
    "rows = []\n",
    "for alt, c in check:\n",
    "    result = ranksums(lro[c], both[c], alternative=alt)\n",
    "    lstat = lro[c].describe()\n",
    "    bstat = both[c].describe()\n",
    "    rows.append([c, \n",
    "                 bstat['mean'], bstat['std'], bstat['50%'],\n",
    "                 lstat['mean'], lstat['std'], lstat['50%'],\n",
    "                 alt, result.pvalue, result.statistic])\n",
    "result = pd.DataFrame(rows, columns=['annotation', 'both mean', 'both std', 'both median',\n",
    "                                     'long-read only mean', 'long-read only std', 'long-read only median',\n",
    "                                     'alternate', 'p-value', 'statistic'])\n",
    "result.set_index('annotation')"
   ]
  },
  {
   "cell_type": "markdown",
   "id": "2db8cf40-3b1d-4989-8839-0942c8a7e14f",
   "metadata": {},
   "source": [
    "# TR vs WGS caller"
   ]
  },
  {
   "cell_type": "code",
   "execution_count": 106,
   "id": "2e050fff-9f08-474b-b1d7-c62c0715e293",
   "metadata": {},
   "outputs": [],
   "source": [
    "any_hip = data['state_hipstr'].str.startswith('T')\n",
    "any_gang = data['state_gangstr'].str.startswith('T')\n",
    "any_trgt = data['state_trgt'].str.startswith('T')\n",
    "any_medaka = data['state_medakaTR'].str.startswith('T')\n",
    "any_bg = data['state_biograph'].str.startswith('T')\n",
    "any_snif = data['state_sniffles'].str.startswith('T')\n",
    "any_dv = data['state_deepvariant'].str.startswith('T')\n",
    "\n",
    "wgs_tr = any_dv | any_bg | any_snif\n",
    "the_tr = any_hip | any_gang | any_trgt | any_medaka"
   ]
  },
  {
   "cell_type": "code",
   "execution_count": 108,
   "id": "61d11fcf-3f27-4755-a487-f66c2a5f96bf",
   "metadata": {},
   "outputs": [
    {
     "data": {
      "text/plain": [
       "101704"
      ]
     },
     "execution_count": 108,
     "metadata": {},
     "output_type": "execute_result"
    }
   ],
   "source": [
    "len(gt5_index) # How many regions are we dealing with?"
   ]
  },
  {
   "cell_type": "markdown",
   "id": "4c535428-cd64-4158-9713-24cd9c938ef3",
   "metadata": {},
   "source": [
    " Of the benchmark’s 101,704 Tier1 HG002 ≥5bp regions, the TR callers had at least one TP state in 101,1080 (99.4%) regions and 90,996 (89.4%) regions had a TP state from any WGS caller. Intersecting the two sets we found 90,812 (89.2%) are TP in the sets’ union, 10,296 (10.1%) are found to be TP exclusively by the TR callers, and only 184 are exclusive to the WGS callers. Interestingly, both the long-read and short-read TR callers contribute to the set of regions found exclusively by TR callers at 99.8% and 3.4% of regions, respectively. "
   ]
  },
  {
   "cell_type": "code",
   "execution_count": 111,
   "id": "9f3a4afa-1032-46dc-8b89-990bc07b588d",
   "metadata": {},
   "outputs": [
    {
     "data": {
      "text/plain": [
       "True     101108\n",
       "False       596\n",
       "dtype: int64"
      ]
     },
     "execution_count": 111,
     "metadata": {},
     "output_type": "execute_result"
    }
   ],
   "source": [
    "# TR had at least one TP:\n",
    "the_tr[the_tr.index.isin(gt5_index)].value_counts()"
   ]
  },
  {
   "cell_type": "code",
   "execution_count": 112,
   "id": "14fe6e35-0d9f-4c5d-b900-063ba618ebc6",
   "metadata": {},
   "outputs": [
    {
     "data": {
      "text/plain": [
       "0.9941398568394557"
      ]
     },
     "execution_count": 112,
     "metadata": {},
     "output_type": "execute_result"
    }
   ],
   "source": [
    "101108 / 101704"
   ]
  },
  {
   "cell_type": "code",
   "execution_count": 113,
   "id": "b65bd15b-21af-49d1-b30d-a0fd699c0725",
   "metadata": {},
   "outputs": [
    {
     "data": {
      "text/plain": [
       "True     90996\n",
       "False    10708\n",
       "dtype: int64"
      ]
     },
     "execution_count": 113,
     "metadata": {},
     "output_type": "execute_result"
    }
   ],
   "source": [
    "# TR had at least one TP:\n",
    "wgs_tr[wgs_tr.index.isin(gt5_index)].value_counts()"
   ]
  },
  {
   "cell_type": "code",
   "execution_count": 114,
   "id": "8e90f8c7-3526-40bf-b8e2-ebb16e652613",
   "metadata": {},
   "outputs": [
    {
     "data": {
      "text/plain": [
       "0.8947140722095492"
      ]
     },
     "execution_count": 114,
     "metadata": {},
     "output_type": "execute_result"
    }
   ],
   "source": [
    "90996 / 101704"
   ]
  },
  {
   "cell_type": "code",
   "execution_count": 115,
   "id": "ed3c8ce6-b066-435d-9ccd-7bcd88c30751",
   "metadata": {},
   "outputs": [
    {
     "data": {
      "text/plain": [
       "True     90812\n",
       "False    10892\n",
       "dtype: int64"
      ]
     },
     "execution_count": 115,
     "metadata": {},
     "output_type": "execute_result"
    }
   ],
   "source": [
    "(the_tr[the_tr.index.isin(gt5_index)] & wgs_tr[wgs_tr.index.isin(gt5_index)]).value_counts()"
   ]
  },
  {
   "cell_type": "code",
   "execution_count": 131,
   "id": "1e2b4904-624b-475d-a430-3630c33afc1c",
   "metadata": {},
   "outputs": [
    {
     "data": {
      "text/plain": [
       "0.8929049004955557"
      ]
     },
     "execution_count": 131,
     "metadata": {},
     "output_type": "execute_result"
    }
   ],
   "source": [
    "90812 / 101704"
   ]
  },
  {
   "cell_type": "code",
   "execution_count": 117,
   "id": "9795be83-f9b1-4a9b-b5fc-aaaf63d7a197",
   "metadata": {},
   "outputs": [
    {
     "data": {
      "text/plain": [
       "False    91408\n",
       "True     10296\n",
       "dtype: int64"
      ]
     },
     "execution_count": 117,
     "metadata": {},
     "output_type": "execute_result"
    }
   ],
   "source": [
    "(the_tr[the_tr.index.isin(gt5_index)] & ~wgs_tr[wgs_tr.index.isin(gt5_index)]).value_counts()"
   ]
  },
  {
   "cell_type": "code",
   "execution_count": 119,
   "id": "db3e895e-81b7-4a18-b43f-4a9cb40aed15",
   "metadata": {},
   "outputs": [
    {
     "data": {
      "text/plain": [
       "False    101520\n",
       "True        184\n",
       "dtype: int64"
      ]
     },
     "execution_count": 119,
     "metadata": {},
     "output_type": "execute_result"
    }
   ],
   "source": [
    "(~the_tr[the_tr.index.isin(gt5_index)] & wgs_tr[wgs_tr.index.isin(gt5_index)]).value_counts()"
   ]
  },
  {
   "cell_type": "code",
   "execution_count": 126,
   "id": "6eb2c3b2-6276-440b-8827-a740578025f9",
   "metadata": {},
   "outputs": [],
   "source": [
    "tr_exclusive = the_tr & ~wgs_tr"
   ]
  },
  {
   "cell_type": "code",
   "execution_count": 127,
   "id": "d5dfd112-b641-4c78-a7cb-d584585ead7c",
   "metadata": {},
   "outputs": [
    {
     "data": {
      "text/plain": [
       "False    91408\n",
       "True     10296\n",
       "dtype: int64"
      ]
     },
     "execution_count": 127,
     "metadata": {},
     "output_type": "execute_result"
    }
   ],
   "source": [
    "tr_exclusive[tr_exclusive.index.isin(gt5_index)].value_counts() # 10296"
   ]
  },
  {
   "cell_type": "code",
   "execution_count": 128,
   "id": "6c663642-9d95-4197-951b-99e27f285991",
   "metadata": {},
   "outputs": [
    {
     "data": {
      "text/plain": [
       "False    101346\n",
       "True        358\n",
       "dtype: int64"
      ]
     },
     "execution_count": 128,
     "metadata": {},
     "output_type": "execute_result"
    }
   ],
   "source": [
    "sr_contribute = (tr_exclusive & (any_hip | any_gang))\n",
    "sr_contribute[sr_contribute.index.isin(gt5_index)].value_counts()"
   ]
  },
  {
   "cell_type": "code",
   "execution_count": 124,
   "id": "631be534-87e3-4578-808d-8182c4a6429f",
   "metadata": {},
   "outputs": [
    {
     "data": {
      "text/plain": [
       "False    91422\n",
       "True     10282\n",
       "dtype: int64"
      ]
     },
     "execution_count": 124,
     "metadata": {},
     "output_type": "execute_result"
    }
   ],
   "source": [
    "(tr_exclusive & (any_trgt[any_trgt.index.isin(gt5_index)] | any_medaka[any_medaka.index.isin(gt5_index)])).value_counts()"
   ]
  },
  {
   "cell_type": "code",
   "execution_count": 125,
   "id": "2052ac75-cf6f-4ae9-a205-782884470d70",
   "metadata": {},
   "outputs": [
    {
     "name": "stdout",
     "output_type": "stream",
     "text": [
      "0.03477078477078477\n",
      "0.9986402486402487\n"
     ]
    }
   ],
   "source": [
    "print(358 / 10296)\n",
    "print(10282 / 10296)"
   ]
  }
 ],
 "metadata": {
  "kernelspec": {
   "display_name": "Python 3 (ipykernel)",
   "language": "python",
   "name": "python3"
  },
  "language_info": {
   "codemirror_mode": {
    "name": "ipython",
    "version": 3
   },
   "file_extension": ".py",
   "mimetype": "text/x-python",
   "name": "python",
   "nbconvert_exporter": "python",
   "pygments_lexer": "ipython3",
   "version": "3.9.6"
  }
 },
 "nbformat": 4,
 "nbformat_minor": 5
}
