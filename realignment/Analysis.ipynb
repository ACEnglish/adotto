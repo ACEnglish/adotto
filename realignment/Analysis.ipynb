{
 "cells": [
  {
   "cell_type": "code",
   "execution_count": 33,
   "id": "a0397a82-40c6-4aa9-9e9c-f4e7945bf886",
   "metadata": {},
   "outputs": [],
   "source": [
    "import pandas as pd\n",
    "import seaborn as sb\n",
    "import joblib\n",
    "import numpy as np\n",
    "import matplotlib.pyplot as plt"
   ]
  },
  {
   "cell_type": "code",
   "execution_count": 34,
   "id": "126ba719-e846-47fb-85bd-b427eeb1da19",
   "metadata": {},
   "outputs": [],
   "source": [
    "data = joblib.load(\"phabsummary_5bp.jl\")"
   ]
  },
  {
   "cell_type": "code",
   "execution_count": 35,
   "id": "7ead4493-52c6-4582-83dd-3192677addab",
   "metadata": {},
   "outputs": [
    {
     "name": "stdout",
     "output_type": "stream",
     "text": [
      "32088\n"
     ]
    }
   ],
   "source": [
    "# How many regions are we looking at?\n",
    "print(len(data))"
   ]
  },
  {
   "cell_type": "code",
   "execution_count": 36,
   "id": "dbd50fce-aa59-4085-a9c7-ed2b097ea46c",
   "metadata": {},
   "outputs": [
    {
     "name": "stdout",
     "output_type": "stream",
     "text": [
      "9 regions failed\n"
     ]
    }
   ],
   "source": [
    "rows = []\n",
    "n_failed = 0\n",
    "for k,reg in data.items():\n",
    "    try:\n",
    "        rows.append([k, reg['in']['var_count'], reg['out']['var_count'], \n",
    "                     reg['in']['var_positions'], reg['out']['var_positions'], \n",
    "                     reg['in']['var_bases'], reg['out']['var_bases']])\n",
    "    except Exception:\n",
    "        n_failed += 1\n",
    "print(\"%d regions failed\" % n_failed)\n",
    "counts = pd.DataFrame(rows, columns=['region', 'in_var_count', 'out_var_count', \n",
    "                                     'in_var_positions', 'out_var_positions',\n",
    "                                     'in_var_bases', 'out_var_bases'])\n",
    "counts.set_index('region', inplace=True)"
   ]
  },
  {
   "cell_type": "code",
   "execution_count": 45,
   "id": "5fa183bb-049d-4922-805b-7d8a09ec9560",
   "metadata": {},
   "outputs": [
    {
     "name": "stdout",
     "output_type": "stream",
     "text": [
      "4156 regions had observable change (12.96%)\n"
     ]
    }
   ],
   "source": [
    "# Filter out things with no obvious change\n",
    "remove = counts['in_var_count'] == counts['out_var_count']\n",
    "remove = remove & (counts['in_var_bases'] == counts['out_var_bases'])\n",
    "remove = remove & (counts['in_var_positions'] == counts['out_var_positions'])\n",
    "# Also, things that have no input variants (happens because of the size filter)\n",
    "remove = remove | (counts['in_var_count'] == 0) | (counts['out_var_count'] == 0)\n",
    "#remove = (counts['in_var_count'] == 0) | (counts['out_var_count'] == 0)\n",
    "keep = ~remove\n",
    "print(f\"{keep.sum()} regions had observable change ({keep.mean() * 100:.2f}%)\")"
   ]
  },
  {
   "cell_type": "code",
   "execution_count": 46,
   "id": "eafca664-00b8-4c21-9f99-8aeb71be1e1e",
   "metadata": {},
   "outputs": [
    {
     "name": "stdout",
     "output_type": "stream",
     "text": [
      "var_count\n",
      "       in_var_count  out_var_count\n",
      "count          4156           4156\n",
      "mean             14             19\n",
      "std              21             54\n",
      "min               1              1\n",
      "25%               3              4\n",
      "50%               7              8\n",
      "75%              16             17\n",
      "max             416           1423\n",
      "\n",
      "var_bases\n",
      "       in_var_bases  out_var_bases\n",
      "count          4156           4156\n",
      "mean           3006           3103\n",
      "std           26491          28337\n",
      "min               5              5\n",
      "25%              39             42\n",
      "50%             111            109\n",
      "75%             366            357\n",
      "max          743974         805073\n",
      "\n",
      "var_positions\n",
      "       in_var_positions  out_var_positions\n",
      "count              4156               4156\n",
      "mean                  5                  7\n",
      "std                   8                 25\n",
      "min                   1                  1\n",
      "25%                   2                  1\n",
      "50%                   3                  3\n",
      "75%                   6                  6\n",
      "max                 196                888\n",
      "\n"
     ]
    }
   ],
   "source": [
    "for field in ['var_count', 'var_bases', 'var_positions']:\n",
    "    _ = pd.concat([counts[keep][f'in_{field}'].describe().astype(int), \n",
    "                   counts[keep][f'out_{field}'].describe().astype(int)]\n",
    "                  , axis=1)\n",
    "    print(field)\n",
    "    print(_)\n",
    "    print()"
   ]
  },
  {
   "cell_type": "markdown",
   "id": "0b20ac4a-94bd-467d-a714-506a8f003553",
   "metadata": {},
   "source": [
    "# Consistency"
   ]
  },
  {
   "cell_type": "code",
   "execution_count": 47,
   "id": "68f23c0a-d903-4ce3-8611-70c2060c6ae1",
   "metadata": {},
   "outputs": [],
   "source": [
    "rows = []\n",
    "\n",
    "def qcnt(arr):\n",
    "    j = arr.sum(axis=0)\n",
    "\n",
    "    if j[0] != 0:\n",
    "        count_pct = j[2] / j[0]\n",
    "    else:\n",
    "        count_pct = 0\n",
    "    if j[1] != 0:\n",
    "        base_pct = j[3] / j[1]\n",
    "    else:\n",
    "        base_pct = 0\n",
    "    return count_pct, base_pct\n",
    "        \n",
    "for k,reg in data.items():\n",
    "    if isinstance(reg['in'], str) or isinstance(reg['out'], str):\n",
    "        continue\n",
    "\n",
    "    # Skip those without changes\n",
    "    has_change = not np.all(reg['in']['consis'] == reg['out']['consis'])\n",
    "\n",
    "    # Only those with no failing genotypes\n",
    "    karr = reg['in']['consis'][:, 4] == 0\n",
    "    in_count_pct, in_base_pct = qcnt(reg['in']['consis'][karr])\n",
    "    out_count_pct, out_base_pct = qcnt(reg['out']['consis'][karr])\n",
    "    \n",
    "    rows.append([k, in_count_pct, in_base_pct, out_count_pct, out_base_pct, has_change])\n",
    "\n",
    "\n",
    "consis = pd.DataFrame(rows, columns=['region', 'in_count_pct', 'in_base_pct',\n",
    "                                    'out_count_pct', 'out_base_pct', \"has_change\"]) \n",
    "consis.set_index('region', inplace=True)"
   ]
  },
  {
   "cell_type": "code",
   "execution_count": 48,
   "id": "a867d09d-d409-45ed-afb9-8b9efaa1e80a",
   "metadata": {},
   "outputs": [],
   "source": [
    "filt_consis = consis.loc[counts[keep].index]\n",
    "filt_consis = filt_consis[filt_consis['has_change']]"
   ]
  },
  {
   "cell_type": "code",
   "execution_count": 49,
   "id": "6871afac-91d2-44b5-9a17-5c939b807e95",
   "metadata": {},
   "outputs": [
    {
     "name": "stdout",
     "output_type": "stream",
     "text": [
      "count_pct\n",
      "       in_count_pct  out_count_pct\n",
      "count     2059.0000      2059.0000\n",
      "mean         0.6451         0.6596\n",
      "std          0.3737         0.3710\n",
      "min          0.0000         0.0000\n",
      "25%          0.3333         0.4000\n",
      "50%          0.7500         0.7778\n",
      "75%          1.0000         1.0000\n",
      "max          1.0000         1.0000\n",
      "\n",
      "base_pct\n",
      "       in_base_pct  out_base_pct\n",
      "count    2059.0000     2059.0000\n",
      "mean        0.6463        0.6613\n",
      "std         0.3801        0.3769\n",
      "min         0.0000        0.0000\n",
      "25%         0.3430        0.3682\n",
      "50%         0.7857        0.8030\n",
      "75%         1.0000        1.0000\n",
      "max         1.0000        1.0000\n",
      "\n"
     ]
    }
   ],
   "source": [
    "for field in ['count_pct', 'base_pct']:\n",
    "    _ = pd.concat([filt_consis[f'in_{field}'].describe().round(4), \n",
    "                   filt_consis[f'out_{field}'].describe().round(4)]\n",
    "                  , axis=1)\n",
    "    print(field)\n",
    "    print(_)\n",
    "    print()"
   ]
  },
  {
   "cell_type": "code",
   "execution_count": 50,
   "id": "424bbfc2-9014-45d4-bddf-3e47403fb467",
   "metadata": {},
   "outputs": [
    {
     "data": {
      "text/html": [
       "<div>\n",
       "<style scoped>\n",
       "    .dataframe tbody tr th:only-of-type {\n",
       "        vertical-align: middle;\n",
       "    }\n",
       "\n",
       "    .dataframe tbody tr th {\n",
       "        vertical-align: top;\n",
       "    }\n",
       "\n",
       "    .dataframe thead th {\n",
       "        text-align: right;\n",
       "    }\n",
       "</style>\n",
       "<table border=\"1\" class=\"dataframe\">\n",
       "  <thead>\n",
       "    <tr style=\"text-align: right;\">\n",
       "      <th></th>\n",
       "      <th>in_count_pct</th>\n",
       "      <th>in_base_pct</th>\n",
       "      <th>out_count_pct</th>\n",
       "      <th>out_base_pct</th>\n",
       "    </tr>\n",
       "  </thead>\n",
       "  <tbody>\n",
       "    <tr>\n",
       "      <th>count</th>\n",
       "      <td>1086.000000</td>\n",
       "      <td>1086.000000</td>\n",
       "      <td>1086.000000</td>\n",
       "      <td>1086.000000</td>\n",
       "    </tr>\n",
       "    <tr>\n",
       "      <th>mean</th>\n",
       "      <td>0.598974</td>\n",
       "      <td>0.600824</td>\n",
       "      <td>0.626522</td>\n",
       "      <td>0.629291</td>\n",
       "    </tr>\n",
       "    <tr>\n",
       "      <th>std</th>\n",
       "      <td>0.282325</td>\n",
       "      <td>0.297082</td>\n",
       "      <td>0.279262</td>\n",
       "      <td>0.293167</td>\n",
       "    </tr>\n",
       "    <tr>\n",
       "      <th>min</th>\n",
       "      <td>0.000000</td>\n",
       "      <td>0.000000</td>\n",
       "      <td>0.000000</td>\n",
       "      <td>0.000000</td>\n",
       "    </tr>\n",
       "    <tr>\n",
       "      <th>25%</th>\n",
       "      <td>0.400000</td>\n",
       "      <td>0.380952</td>\n",
       "      <td>0.435462</td>\n",
       "      <td>0.444435</td>\n",
       "    </tr>\n",
       "    <tr>\n",
       "      <th>50%</th>\n",
       "      <td>0.625000</td>\n",
       "      <td>0.620690</td>\n",
       "      <td>0.666667</td>\n",
       "      <td>0.671636</td>\n",
       "    </tr>\n",
       "    <tr>\n",
       "      <th>75%</th>\n",
       "      <td>0.833333</td>\n",
       "      <td>0.857697</td>\n",
       "      <td>0.846154</td>\n",
       "      <td>0.878140</td>\n",
       "    </tr>\n",
       "    <tr>\n",
       "      <th>max</th>\n",
       "      <td>1.000000</td>\n",
       "      <td>1.000000</td>\n",
       "      <td>1.000000</td>\n",
       "      <td>1.000000</td>\n",
       "    </tr>\n",
       "  </tbody>\n",
       "</table>\n",
       "</div>"
      ],
      "text/plain": [
       "       in_count_pct  in_base_pct  out_count_pct  out_base_pct\n",
       "count   1086.000000  1086.000000    1086.000000   1086.000000\n",
       "mean       0.598974     0.600824       0.626522      0.629291\n",
       "std        0.282325     0.297082       0.279262      0.293167\n",
       "min        0.000000     0.000000       0.000000      0.000000\n",
       "25%        0.400000     0.380952       0.435462      0.444435\n",
       "50%        0.625000     0.620690       0.666667      0.671636\n",
       "75%        0.833333     0.857697       0.846154      0.878140\n",
       "max        1.000000     1.000000       1.000000      1.000000"
      ]
     },
     "execution_count": 50,
     "metadata": {},
     "output_type": "execute_result"
    }
   ],
   "source": [
    "view = filt_consis['in_base_pct'] == filt_consis['out_base_pct']\n",
    "filt_consis[~view].describe()"
   ]
  },
  {
   "cell_type": "markdown",
   "id": "45f0377e-4f80-491e-b7ae-638b96066016",
   "metadata": {},
   "source": [
    "Not super noticable, but a small increase in consistency.\n",
    "\n",
    "# Menderr"
   ]
  },
  {
   "cell_type": "code",
   "execution_count": 51,
   "id": "792e0ebc-585e-4d78-883a-bea90d63dcf3",
   "metadata": {},
   "outputs": [],
   "source": [
    "rows = []\n",
    "\n",
    "def qcnt(arr):\n",
    "    j = arr.sum(axis=0)\n",
    "\n",
    "    if j[0] != 0:\n",
    "        count_pct = j[2] / j[0]\n",
    "    else:\n",
    "        count_pct = 0\n",
    "    if j[1] != 0:\n",
    "        base_pct = j[3] / j[1]\n",
    "    else:\n",
    "        base_pct = 0\n",
    "    return count_pct, base_pct\n",
    "\n",
    "for k,reg in data.items():\n",
    "    if isinstance(reg['in'], str) or isinstance(reg['out'], str):\n",
    "        continue\n",
    "\n",
    "    has_change = not np.all(reg['in']['menderr'] == reg['out']['menderr'])\n",
    "\n",
    "    karr = reg['in']['menderr'][:, 4] == 0\n",
    "    in_count_pct, in_base_pct = qcnt(reg['in']['menderr'][karr])\n",
    "    out_count_pct, out_base_pct = qcnt(reg['out']['menderr'][karr])\n",
    "    \n",
    "    rows.append([k, in_count_pct, in_base_pct, out_count_pct, out_base_pct, has_change])\n",
    "\n",
    "menderr = pd.DataFrame(rows, columns=['region', 'in_count_pct', 'in_base_pct',\n",
    "                                    'out_count_pct', 'out_base_pct', \"has_change\"]) \n",
    "menderr.set_index('region', inplace=True)"
   ]
  },
  {
   "cell_type": "code",
   "execution_count": 60,
   "id": "95e06599-ac4f-490d-ba69-7ee033d0f219",
   "metadata": {},
   "outputs": [
    {
     "name": "stdout",
     "output_type": "stream",
     "text": [
      "count_pct\n",
      "       in_count_pct  out_count_pct\n",
      "count     4156.0000      4156.0000\n",
      "mean         0.1039         0.0993\n",
      "std          0.1747         0.1866\n",
      "min          0.0000         0.0000\n",
      "25%          0.0000         0.0000\n",
      "50%          0.0000         0.0000\n",
      "75%          0.2000         0.1667\n",
      "max          1.0000         1.0000\n",
      "\n",
      "base_pct\n",
      "       in_base_pct  out_base_pct\n",
      "count    4156.0000     4156.0000\n",
      "mean        0.1020        0.0983\n",
      "std         0.1758        0.1882\n",
      "min         0.0000        0.0000\n",
      "25%         0.0000        0.0000\n",
      "50%         0.0000        0.0000\n",
      "75%         0.1790        0.1530\n",
      "max         1.0000        1.0000\n",
      "\n"
     ]
    }
   ],
   "source": [
    "filt_menderr = menderr.loc[counts[keep].index]\n",
    "#filt_menderr = filt_menderr[filt_menderr['has_change']]\n",
    "for field in ['count_pct', 'base_pct']:\n",
    "    _ = pd.concat([filt_menderr[f'in_{field}'].describe().round(4), \n",
    "                   filt_menderr[f'out_{field}'].describe().round(4)]\n",
    "                  , axis=1)\n",
    "    print(field)\n",
    "    print(_)\n",
    "    print()"
   ]
  },
  {
   "cell_type": "code",
   "execution_count": 61,
   "id": "3ae114a3-8964-4332-bf84-66a0ce836771",
   "metadata": {},
   "outputs": [
    {
     "data": {
      "text/html": [
       "<div>\n",
       "<style scoped>\n",
       "    .dataframe tbody tr th:only-of-type {\n",
       "        vertical-align: middle;\n",
       "    }\n",
       "\n",
       "    .dataframe tbody tr th {\n",
       "        vertical-align: top;\n",
       "    }\n",
       "\n",
       "    .dataframe thead th {\n",
       "        text-align: right;\n",
       "    }\n",
       "</style>\n",
       "<table border=\"1\" class=\"dataframe\">\n",
       "  <thead>\n",
       "    <tr style=\"text-align: right;\">\n",
       "      <th></th>\n",
       "      <th>in_count_pct</th>\n",
       "      <th>in_base_pct</th>\n",
       "      <th>out_count_pct</th>\n",
       "      <th>out_base_pct</th>\n",
       "    </tr>\n",
       "  </thead>\n",
       "  <tbody>\n",
       "    <tr>\n",
       "      <th>count</th>\n",
       "      <td>1104.000000</td>\n",
       "      <td>1104.000000</td>\n",
       "      <td>1104.000000</td>\n",
       "      <td>1104.000000</td>\n",
       "    </tr>\n",
       "    <tr>\n",
       "      <th>mean</th>\n",
       "      <td>0.239346</td>\n",
       "      <td>0.234687</td>\n",
       "      <td>0.221592</td>\n",
       "      <td>0.220846</td>\n",
       "    </tr>\n",
       "    <tr>\n",
       "      <th>std</th>\n",
       "      <td>0.173727</td>\n",
       "      <td>0.180079</td>\n",
       "      <td>0.225319</td>\n",
       "      <td>0.230301</td>\n",
       "    </tr>\n",
       "    <tr>\n",
       "      <th>min</th>\n",
       "      <td>0.000000</td>\n",
       "      <td>0.000000</td>\n",
       "      <td>0.000000</td>\n",
       "      <td>0.000000</td>\n",
       "    </tr>\n",
       "    <tr>\n",
       "      <th>25%</th>\n",
       "      <td>0.125000</td>\n",
       "      <td>0.113315</td>\n",
       "      <td>0.071429</td>\n",
       "      <td>0.050765</td>\n",
       "    </tr>\n",
       "    <tr>\n",
       "      <th>50%</th>\n",
       "      <td>0.222222</td>\n",
       "      <td>0.216244</td>\n",
       "      <td>0.181818</td>\n",
       "      <td>0.173300</td>\n",
       "    </tr>\n",
       "    <tr>\n",
       "      <th>75%</th>\n",
       "      <td>0.333333</td>\n",
       "      <td>0.329506</td>\n",
       "      <td>0.285714</td>\n",
       "      <td>0.300000</td>\n",
       "    </tr>\n",
       "    <tr>\n",
       "      <th>max</th>\n",
       "      <td>1.000000</td>\n",
       "      <td>1.000000</td>\n",
       "      <td>1.000000</td>\n",
       "      <td>1.000000</td>\n",
       "    </tr>\n",
       "  </tbody>\n",
       "</table>\n",
       "</div>"
      ],
      "text/plain": [
       "       in_count_pct  in_base_pct  out_count_pct  out_base_pct\n",
       "count   1104.000000  1104.000000    1104.000000   1104.000000\n",
       "mean       0.239346     0.234687       0.221592      0.220846\n",
       "std        0.173727     0.180079       0.225319      0.230301\n",
       "min        0.000000     0.000000       0.000000      0.000000\n",
       "25%        0.125000     0.113315       0.071429      0.050765\n",
       "50%        0.222222     0.216244       0.181818      0.173300\n",
       "75%        0.333333     0.329506       0.285714      0.300000\n",
       "max        1.000000     1.000000       1.000000      1.000000"
      ]
     },
     "execution_count": 61,
     "metadata": {},
     "output_type": "execute_result"
    }
   ],
   "source": [
    "view = filt_menderr['in_base_pct'] == filt_menderr['out_base_pct']\n",
    "filt_menderr[~view].describe()"
   ]
  },
  {
   "cell_type": "code",
   "execution_count": 71,
   "id": "0efc22ac-ddef-40f4-a955-f505f19551eb",
   "metadata": {},
   "outputs": [
    {
     "name": "stderr",
     "output_type": "stream",
     "text": [
      "/Users/english/py/lib/python3.9/site-packages/seaborn/_decorators.py:36: FutureWarning: Pass the following variable as a keyword arg: x. From version 0.12, the only valid positional argument will be `data`, and passing other arguments without an explicit keyword will result in an error or misinterpretation.\n",
      "  warnings.warn(\n"
     ]
    },
    {
     "data": {
      "text/plain": [
       "count    4156.000000\n",
       "mean       -0.004688\n",
       "std         0.150549\n",
       "min        -1.000000\n",
       "25%         0.000000\n",
       "50%         0.000000\n",
       "75%         0.000000\n",
       "max         1.000000\n",
       "dtype: float64"
      ]
     },
     "execution_count": 71,
     "metadata": {},
     "output_type": "execute_result"
    },
    {
     "data": {
      "image/png": "[encoded data removed]",
      "text/plain": [
       "<Figure size 640x480 with 1 Axes>"
      ]
     },
     "metadata": {},
     "output_type": "display_data"
    }
   ],
   "source": [
    "diff = filt_menderr['out_count_pct'] - filt_menderr['in_count_pct']\n",
    "sb.boxplot(diff)\n",
    "diff.describe()"
   ]
  },
  {
   "cell_type": "code",
   "execution_count": 14,
   "id": "d2997195-b985-4651-b1e7-857983e33841",
   "metadata": {},
   "outputs": [
    {
     "data": {
      "image/png": "[encoded data removed]",
      "text/plain": [
       "<Figure size 640x480 with 1 Axes>"
      ]
     },
     "metadata": {},
     "output_type": "display_data"
    },
    {
     "data": {
      "image/png": "[encoded data removed]",
      "text/plain": [
       "<Figure size 640x480 with 1 Axes>"
      ]
     },
     "metadata": {},
     "output_type": "display_data"
    }
   ],
   "source": [
    "sb.histplot(data=filt_menderr, x=\"in_base_pct\")\n",
    "plt.show()\n",
    "sb.histplot(data=filt_menderr, x=\"out_base_pcxt\")\n",
    "plt.show()"
   ]
  },
  {
   "cell_type": "code",
   "execution_count": 54,
   "id": "2c270000-8677-4ae2-a7cb-a2fb6d85a898",
   "metadata": {},
   "outputs": [
    {
     "data": {
      "text/html": [
       "<div>\n",
       "<style scoped>\n",
       "    .dataframe tbody tr th:only-of-type {\n",
       "        vertical-align: middle;\n",
       "    }\n",
       "\n",
       "    .dataframe tbody tr th {\n",
       "        vertical-align: top;\n",
       "    }\n",
       "\n",
       "    .dataframe thead th {\n",
       "        text-align: right;\n",
       "    }\n",
       "</style>\n",
       "<table border=\"1\" class=\"dataframe\">\n",
       "  <thead>\n",
       "    <tr style=\"text-align: right;\">\n",
       "      <th></th>\n",
       "      <th>in_count_pct</th>\n",
       "      <th>in_base_pct</th>\n",
       "      <th>out_count_pct</th>\n",
       "      <th>out_base_pct</th>\n",
       "      <th>has_change</th>\n",
       "    </tr>\n",
       "    <tr>\n",
       "      <th>region</th>\n",
       "      <th></th>\n",
       "      <th></th>\n",
       "      <th></th>\n",
       "      <th></th>\n",
       "      <th></th>\n",
       "    </tr>\n",
       "  </thead>\n",
       "  <tbody>\n",
       "    <tr>\n",
       "      <th>chr20:19285452-19285592</th>\n",
       "      <td>0.500000</td>\n",
       "      <td>0.500000</td>\n",
       "      <td>1.0</td>\n",
       "      <td>1.0</td>\n",
       "      <td>True</td>\n",
       "    </tr>\n",
       "    <tr>\n",
       "      <th>chr20:29664406-29664515</th>\n",
       "      <td>0.000000</td>\n",
       "      <td>0.000000</td>\n",
       "      <td>1.0</td>\n",
       "      <td>1.0</td>\n",
       "      <td>True</td>\n",
       "    </tr>\n",
       "    <tr>\n",
       "      <th>chr20:45859399-45859465</th>\n",
       "      <td>0.333333</td>\n",
       "      <td>0.411765</td>\n",
       "      <td>1.0</td>\n",
       "      <td>1.0</td>\n",
       "      <td>True</td>\n",
       "    </tr>\n",
       "    <tr>\n",
       "      <th>chr20:26049072-26049163</th>\n",
       "      <td>0.000000</td>\n",
       "      <td>0.000000</td>\n",
       "      <td>1.0</td>\n",
       "      <td>1.0</td>\n",
       "      <td>True</td>\n",
       "    </tr>\n",
       "    <tr>\n",
       "      <th>chr20:62288300-62288651</th>\n",
       "      <td>0.000000</td>\n",
       "      <td>0.000000</td>\n",
       "      <td>1.0</td>\n",
       "      <td>1.0</td>\n",
       "      <td>True</td>\n",
       "    </tr>\n",
       "  </tbody>\n",
       "</table>\n",
       "</div>"
      ],
      "text/plain": [
       "                         in_count_pct  in_base_pct  out_count_pct  \\\n",
       "region                                                              \n",
       "chr20:19285452-19285592      0.500000     0.500000            1.0   \n",
       "chr20:29664406-29664515      0.000000     0.000000            1.0   \n",
       "chr20:45859399-45859465      0.333333     0.411765            1.0   \n",
       "chr20:26049072-26049163      0.000000     0.000000            1.0   \n",
       "chr20:62288300-62288651      0.000000     0.000000            1.0   \n",
       "\n",
       "                         out_base_pct  has_change  \n",
       "region                                             \n",
       "chr20:19285452-19285592           1.0        True  \n",
       "chr20:29664406-29664515           1.0        True  \n",
       "chr20:45859399-45859465           1.0        True  \n",
       "chr20:26049072-26049163           1.0        True  \n",
       "chr20:62288300-62288651           1.0        True  "
      ]
     },
     "execution_count": 54,
     "metadata": {},
     "output_type": "execute_result"
    }
   ],
   "source": [
    "filt_menderr[filt_menderr['out_base_pct'] == 1].sample(5)"
   ]
  },
  {
   "cell_type": "code",
   "execution_count": 55,
   "id": "6175195a-91d3-4528-980b-cfbdeec80510",
   "metadata": {},
   "outputs": [
    {
     "data": {
      "text/plain": [
       "{'in': {'var_count': 5,\n",
       "  'var_bases': 31,\n",
       "  'var_positions': 1,\n",
       "  'allele_counts': [1, 1, 1, 6, 3],\n",
       "  'menderr': array([[0., 0., 0., 0., 0.],\n",
       "         [1., 5., 0., 0., 0.],\n",
       "         [1., 5., 1., 5., 0.]]),\n",
       "  'consis': array([[1., 5., 1., 5., 0.],\n",
       "         [0., 0., 0., 0., 0.],\n",
       "         [0., 0., 0., 0., 0.],\n",
       "         [0., 0., 0., 0., 0.],\n",
       "         [0., 0., 0., 0., 0.],\n",
       "         [0., 0., 0., 0., 0.],\n",
       "         [0., 0., 0., 0., 0.],\n",
       "         [0., 0., 0., 0., 0.]])},\n",
       " 'out': {'var_count': 4,\n",
       "  'var_bases': 30,\n",
       "  'var_positions': 1,\n",
       "  'allele_counts': [6, 4, 1, 1],\n",
       "  'menderr': array([[0., 0., 0., 0., 0.],\n",
       "         [0., 0., 0., 0., 0.],\n",
       "         [1., 5., 1., 5., 0.]]),\n",
       "  'consis': array([[1., 5., 1., 5., 0.],\n",
       "         [0., 0., 0., 0., 0.],\n",
       "         [0., 0., 0., 0., 0.],\n",
       "         [0., 0., 0., 0., 0.],\n",
       "         [0., 0., 0., 0., 0.],\n",
       "         [0., 0., 0., 0., 0.],\n",
       "         [0., 0., 0., 0., 0.],\n",
       "         [1., 6., 1., 6., 0.]])},\n",
       " 'inTR': [['A', -8.0], ['A', -7.0], ['A', -6.0], ['A', -5.0], ['A', 5.0]],\n",
       " 'outTR': [['A', -5.0], ['A', -6.0], ['A', -9.0], ['A', -10.0]]}"
      ]
     },
     "execution_count": 55,
     "metadata": {},
     "output_type": "execute_result"
    }
   ],
   "source": [
    "data['chr20:19285452-19285592']"
   ]
  },
  {
   "cell_type": "markdown",
   "id": "afc48ed9-435f-4733-9e7f-5fdc40ca3dff",
   "metadata": {},
   "source": [
    "# Non-Singleton Variants"
   ]
  },
  {
   "cell_type": "code",
   "execution_count": 56,
   "id": "a5b5b7f8-b840-4f37-95c8-4266b36101eb",
   "metadata": {},
   "outputs": [],
   "source": [
    "rows = []\n",
    "for k, reg in data.items():\n",
    "    if isinstance(reg['in'], str) or isinstance(reg['out'], str):\n",
    "        continue\n",
    "    in_max_ac = max(reg['in']['allele_counts']) if reg['in']['allele_counts'] else np.nan\n",
    "    out_max_ac = max(reg['out']['allele_counts']) if reg['out']['allele_counts'] else np.nan\n",
    "    \n",
    "    in_non_single = len([_ for _ in reg['in']['allele_counts'] if _ > 1])\n",
    "    out_non_single = len([_ for _ in reg['out']['allele_counts'] if _ > 1])\n",
    "    \n",
    "    if reg['in']['var_count'] != 0:\n",
    "        in_non_single_pct = in_non_single / reg['in']['var_count']\n",
    "    else:\n",
    "        in_non_single_pct = np.nan\n",
    "\n",
    "    if reg['out']['var_count'] != 0:\n",
    "        out_non_single_pct = out_non_single / reg['out']['var_count']\n",
    "    else:\n",
    "        out_non_single_pct = np.nan\n",
    "    if reg['in']['allele_counts']:\n",
    "        in_mean_af = np.mean([_ / 172 for _ in reg['in']['allele_counts']])\n",
    "    else:\n",
    "        in_mean_af = np.nan\n",
    "    if reg['out']['allele_counts']:\n",
    "        out_mean_af = np.mean([_ / 172 for _ in reg['out']['allele_counts']])\n",
    "    else:\n",
    "        out_mean_af = np.nan\n",
    "    rows.append([k, in_max_ac, out_max_ac, \n",
    "                 in_non_single, out_non_single, \n",
    "                 in_non_single_pct, out_non_single_pct,\n",
    "                in_mean_af, out_mean_af])\n",
    "max_ac = pd.DataFrame(rows, columns=[\"key\", \"in_max_ac\", \"out_max_ac\", \n",
    "                                     \"in_non_single\", \"out_non_single\",\n",
    "                                    \"in_ns_pct\", \"out_ns_pct\", \"in_mean_af\", \"out_mean_af\"])\n",
    "max_ac.set_index('key', inplace=True)"
   ]
  },
  {
   "cell_type": "code",
   "execution_count": 57,
   "id": "77dc60b4-ef64-4d2e-971c-b3c823bca3ae",
   "metadata": {},
   "outputs": [
    {
     "data": {
      "text/html": [
       "<div>\n",
       "<style scoped>\n",
       "    .dataframe tbody tr th:only-of-type {\n",
       "        vertical-align: middle;\n",
       "    }\n",
       "\n",
       "    .dataframe tbody tr th {\n",
       "        vertical-align: top;\n",
       "    }\n",
       "\n",
       "    .dataframe thead th {\n",
       "        text-align: right;\n",
       "    }\n",
       "</style>\n",
       "<table border=\"1\" class=\"dataframe\">\n",
       "  <thead>\n",
       "    <tr style=\"text-align: right;\">\n",
       "      <th></th>\n",
       "      <th>in_max_ac</th>\n",
       "      <th>out_max_ac</th>\n",
       "      <th>in_non_single</th>\n",
       "      <th>out_non_single</th>\n",
       "      <th>in_ns_pct</th>\n",
       "      <th>out_ns_pct</th>\n",
       "      <th>in_mean_af</th>\n",
       "      <th>out_mean_af</th>\n",
       "    </tr>\n",
       "  </thead>\n",
       "  <tbody>\n",
       "    <tr>\n",
       "      <th>count</th>\n",
       "      <td>4156.000000</td>\n",
       "      <td>4156.000000</td>\n",
       "      <td>4156.000000</td>\n",
       "      <td>4156.000000</td>\n",
       "      <td>4156.000000</td>\n",
       "      <td>4156.000000</td>\n",
       "      <td>4156.000000</td>\n",
       "      <td>4156.000000</td>\n",
       "    </tr>\n",
       "    <tr>\n",
       "      <th>mean</th>\n",
       "      <td>30.589990</td>\n",
       "      <td>38.473773</td>\n",
       "      <td>7.043311</td>\n",
       "      <td>8.685996</td>\n",
       "      <td>0.568627</td>\n",
       "      <td>0.586724</td>\n",
       "      <td>0.051159</td>\n",
       "      <td>0.063579</td>\n",
       "    </tr>\n",
       "    <tr>\n",
       "      <th>std</th>\n",
       "      <td>30.773687</td>\n",
       "      <td>38.296136</td>\n",
       "      <td>7.803887</td>\n",
       "      <td>16.436152</td>\n",
       "      <td>0.268098</td>\n",
       "      <td>0.285714</td>\n",
       "      <td>0.064568</td>\n",
       "      <td>0.091996</td>\n",
       "    </tr>\n",
       "    <tr>\n",
       "      <th>min</th>\n",
       "      <td>1.000000</td>\n",
       "      <td>1.000000</td>\n",
       "      <td>0.000000</td>\n",
       "      <td>0.000000</td>\n",
       "      <td>0.000000</td>\n",
       "      <td>0.000000</td>\n",
       "      <td>0.005814</td>\n",
       "      <td>0.005814</td>\n",
       "    </tr>\n",
       "    <tr>\n",
       "      <th>25%</th>\n",
       "      <td>8.000000</td>\n",
       "      <td>9.000000</td>\n",
       "      <td>2.000000</td>\n",
       "      <td>2.000000</td>\n",
       "      <td>0.416667</td>\n",
       "      <td>0.401805</td>\n",
       "      <td>0.015504</td>\n",
       "      <td>0.017091</td>\n",
       "    </tr>\n",
       "    <tr>\n",
       "      <th>50%</th>\n",
       "      <td>21.000000</td>\n",
       "      <td>26.000000</td>\n",
       "      <td>4.000000</td>\n",
       "      <td>4.000000</td>\n",
       "      <td>0.571429</td>\n",
       "      <td>0.600000</td>\n",
       "      <td>0.030579</td>\n",
       "      <td>0.035714</td>\n",
       "    </tr>\n",
       "    <tr>\n",
       "      <th>75%</th>\n",
       "      <td>43.000000</td>\n",
       "      <td>56.000000</td>\n",
       "      <td>9.000000</td>\n",
       "      <td>10.000000</td>\n",
       "      <td>0.750000</td>\n",
       "      <td>0.800000</td>\n",
       "      <td>0.060773</td>\n",
       "      <td>0.072093</td>\n",
       "    </tr>\n",
       "    <tr>\n",
       "      <th>max</th>\n",
       "      <td>172.000000</td>\n",
       "      <td>172.000000</td>\n",
       "      <td>88.000000</td>\n",
       "      <td>379.000000</td>\n",
       "      <td>1.000000</td>\n",
       "      <td>1.000000</td>\n",
       "      <td>0.947674</td>\n",
       "      <td>1.000000</td>\n",
       "    </tr>\n",
       "  </tbody>\n",
       "</table>\n",
       "</div>"
      ],
      "text/plain": [
       "         in_max_ac   out_max_ac  in_non_single  out_non_single    in_ns_pct  \\\n",
       "count  4156.000000  4156.000000    4156.000000     4156.000000  4156.000000   \n",
       "mean     30.589990    38.473773       7.043311        8.685996     0.568627   \n",
       "std      30.773687    38.296136       7.803887       16.436152     0.268098   \n",
       "min       1.000000     1.000000       0.000000        0.000000     0.000000   \n",
       "25%       8.000000     9.000000       2.000000        2.000000     0.416667   \n",
       "50%      21.000000    26.000000       4.000000        4.000000     0.571429   \n",
       "75%      43.000000    56.000000       9.000000       10.000000     0.750000   \n",
       "max     172.000000   172.000000      88.000000      379.000000     1.000000   \n",
       "\n",
       "        out_ns_pct   in_mean_af  out_mean_af  \n",
       "count  4156.000000  4156.000000  4156.000000  \n",
       "mean      0.586724     0.051159     0.063579  \n",
       "std       0.285714     0.064568     0.091996  \n",
       "min       0.000000     0.005814     0.005814  \n",
       "25%       0.401805     0.015504     0.017091  \n",
       "50%       0.600000     0.030579     0.035714  \n",
       "75%       0.800000     0.060773     0.072093  \n",
       "max       1.000000     0.947674     1.000000  "
      ]
     },
     "execution_count": 57,
     "metadata": {},
     "output_type": "execute_result"
    }
   ],
   "source": [
    "max_ac.loc[counts[keep].index].describe()"
   ]
  },
  {
   "cell_type": "code",
   "execution_count": 58,
   "id": "a256368f-ec67-4c0b-b0fc-07c03ddaa1a4",
   "metadata": {},
   "outputs": [
    {
     "data": {
      "text/plain": [
       "<AxesSubplot: xlabel='variable', ylabel='value'>"
      ]
     },
     "execution_count": 58,
     "metadata": {},
     "output_type": "execute_result"
    },
    {
     "data": {
      "image/png": "[encoded data removed]",
      "text/plain": [
       "<Figure size 640x480 with 1 Axes>"
      ]
     },
     "metadata": {},
     "output_type": "display_data"
    }
   ],
   "source": [
    "view = max_ac.loc[counts[keep].index]\n",
    "view = pd.melt(view[view[\"in_mean_af\"] != view[\"out_mean_af\"]], value_vars=['in_mean_af', 'out_mean_af'])\n",
    "sb.boxplot(data=view, x='variable', y='value')"
   ]
  },
  {
   "cell_type": "code",
   "execution_count": 59,
   "id": "2e3d9496-8afc-4639-819e-fb94f7911a11",
   "metadata": {},
   "outputs": [
    {
     "data": {
      "text/plain": [
       "[(0.0, 0.15)]"
      ]
     },
     "execution_count": 59,
     "metadata": {},
     "output_type": "execute_result"
    },
    {
     "data": {
      "image/png": "[encoded data removed]",
      "text/plain": [
       "<Figure size 640x480 with 1 Axes>"
      ]
     },
     "metadata": {},
     "output_type": "display_data"
    }
   ],
   "source": [
    "p = sb.histplot(data=view, hue='variable', x='value', binwidth=0.005, multiple='dodge')\n",
    "p.set(xlim=(0, 0.15))"
   ]
  },
  {
   "cell_type": "code",
   "execution_count": 25,
   "id": "81db6411-7641-4ccb-8aa4-63395ed045f0",
   "metadata": {},
   "outputs": [
    {
     "data": {
      "text/html": [
       "<div>\n",
       "<style scoped>\n",
       "    .dataframe tbody tr th:only-of-type {\n",
       "        vertical-align: middle;\n",
       "    }\n",
       "\n",
       "    .dataframe tbody tr th {\n",
       "        vertical-align: top;\n",
       "    }\n",
       "\n",
       "    .dataframe thead th {\n",
       "        text-align: right;\n",
       "    }\n",
       "</style>\n",
       "<table border=\"1\" class=\"dataframe\">\n",
       "  <thead>\n",
       "    <tr style=\"text-align: right;\">\n",
       "      <th></th>\n",
       "      <th>in_var_count</th>\n",
       "      <th>out_var_count</th>\n",
       "      <th>in_var_positions</th>\n",
       "      <th>out_var_positions</th>\n",
       "      <th>in_var_bases</th>\n",
       "      <th>out_var_bases</th>\n",
       "    </tr>\n",
       "    <tr>\n",
       "      <th>region</th>\n",
       "      <th></th>\n",
       "      <th></th>\n",
       "      <th></th>\n",
       "      <th></th>\n",
       "      <th></th>\n",
       "      <th></th>\n",
       "    </tr>\n",
       "  </thead>\n",
       "  <tbody>\n",
       "    <tr>\n",
       "      <th>chr20:35791382-35791625</th>\n",
       "      <td>15</td>\n",
       "      <td>11</td>\n",
       "      <td>9</td>\n",
       "      <td>4</td>\n",
       "      <td>171</td>\n",
       "      <td>126</td>\n",
       "    </tr>\n",
       "    <tr>\n",
       "      <th>chr20:34113205-34114548</th>\n",
       "      <td>3</td>\n",
       "      <td>1</td>\n",
       "      <td>3</td>\n",
       "      <td>1</td>\n",
       "      <td>525</td>\n",
       "      <td>515</td>\n",
       "    </tr>\n",
       "    <tr>\n",
       "      <th>chr20:55712390-55712729</th>\n",
       "      <td>1</td>\n",
       "      <td>14</td>\n",
       "      <td>1</td>\n",
       "      <td>14</td>\n",
       "      <td>5</td>\n",
       "      <td>179</td>\n",
       "    </tr>\n",
       "    <tr>\n",
       "      <th>chr20:47656863-47656936</th>\n",
       "      <td>17</td>\n",
       "      <td>18</td>\n",
       "      <td>5</td>\n",
       "      <td>1</td>\n",
       "      <td>212</td>\n",
       "      <td>213</td>\n",
       "    </tr>\n",
       "    <tr>\n",
       "      <th>chr20:24323286-24323379</th>\n",
       "      <td>5</td>\n",
       "      <td>4</td>\n",
       "      <td>2</td>\n",
       "      <td>1</td>\n",
       "      <td>56</td>\n",
       "      <td>48</td>\n",
       "    </tr>\n",
       "  </tbody>\n",
       "</table>\n",
       "</div>"
      ],
      "text/plain": [
       "                         in_var_count  out_var_count  in_var_positions  \\\n",
       "region                                                                   \n",
       "chr20:35791382-35791625            15             11                 9   \n",
       "chr20:34113205-34114548             3              1                 3   \n",
       "chr20:55712390-55712729             1             14                 1   \n",
       "chr20:47656863-47656936            17             18                 5   \n",
       "chr20:24323286-24323379             5              4                 2   \n",
       "\n",
       "                         out_var_positions  in_var_bases  out_var_bases  \n",
       "region                                                                   \n",
       "chr20:35791382-35791625                  4           171            126  \n",
       "chr20:34113205-34114548                  1           525            515  \n",
       "chr20:55712390-55712729                 14             5            179  \n",
       "chr20:47656863-47656936                  1           212            213  \n",
       "chr20:24323286-24323379                  1            56             48  "
      ]
     },
     "execution_count": 25,
     "metadata": {},
     "output_type": "execute_result"
    }
   ],
   "source": [
    "counts[keep].head()"
   ]
  },
  {
   "cell_type": "markdown",
   "id": "1fe0f022-c318-4cb9-a998-0607de0ea54c",
   "metadata": {},
   "source": [
    "# Annotations"
   ]
  },
  {
   "cell_type": "code",
   "execution_count": 74,
   "id": "6c6506e3-71b0-4bce-8849-30d180c9f375",
   "metadata": {},
   "outputs": [
    {
     "name": "stderr",
     "output_type": "stream",
     "text": [
      "/var/folders/fy/lkd5_yz90zq3f67qys3tpztc0000gn/T/ipykernel_93347/1937798894.py:2: DeprecationWarning: Sampling from a set deprecated\n",
      "since Python 3.9 and will be removed in a subsequent version.\n",
      "  random.sample(data.keys(), 5)\n"
     ]
    },
    {
     "data": {
      "text/plain": [
       "['chr20:63372065-63372691',\n",
       " 'chr20:5251051-5251172',\n",
       " 'chr20:34784199-34784260',\n",
       " 'chr20:47256049-47256110',\n",
       " 'chr20:63697745-63697921']"
      ]
     },
     "execution_count": 74,
     "metadata": {},
     "output_type": "execute_result"
    }
   ],
   "source": [
    "import random\n",
    "random.sample(data.keys(), 5)"
   ]
  },
  {
   "cell_type": "code",
   "execution_count": 76,
   "id": "74185b2c-20ed-496a-a6f9-cb6511c7247b",
   "metadata": {},
   "outputs": [
    {
     "data": {
      "text/plain": [
       "{'in': {'var_count': 27,\n",
       "  'var_bases': 4357,\n",
       "  'var_positions': 25,\n",
       "  'allele_counts': [2,\n",
       "   1,\n",
       "   69,\n",
       "   1,\n",
       "   12,\n",
       "   2,\n",
       "   1,\n",
       "   1,\n",
       "   24,\n",
       "   1,\n",
       "   1,\n",
       "   1,\n",
       "   7,\n",
       "   1,\n",
       "   1,\n",
       "   1,\n",
       "   1,\n",
       "   2,\n",
       "   1,\n",
       "   1,\n",
       "   1,\n",
       "   1,\n",
       "   1,\n",
       "   8,\n",
       "   1,\n",
       "   1,\n",
       "   1],\n",
       "  'menderr': array([[  6., 997.,   2., 372.,   0.],\n",
       "         [  3., 481.,   0.,   0.,   0.],\n",
       "         [  2., 259.,   0.,   0.,   0.]]),\n",
       "  'consis': array([[  1., 111.,   1., 111.,   0.],\n",
       "         [  1., 185.,   1., 185.,   0.],\n",
       "         [  1., 185.,   1., 185.,   0.],\n",
       "         [  1., 185.,   1., 185.,   0.],\n",
       "         [  2., 296.,   2., 296.,   0.],\n",
       "         [  0.,   0.,   0.,   0.,   0.],\n",
       "         [  1., 185.,   1., 185.,   0.],\n",
       "         [  2., 333.,   2., 333.,   0.]])},\n",
       " 'out': {'var_count': 30,\n",
       "  'var_bases': 1984,\n",
       "  'var_positions': 26,\n",
       "  'allele_counts': [1,\n",
       "   1,\n",
       "   1,\n",
       "   1,\n",
       "   1,\n",
       "   4,\n",
       "   1,\n",
       "   1,\n",
       "   2,\n",
       "   1,\n",
       "   1,\n",
       "   1,\n",
       "   7,\n",
       "   1,\n",
       "   1,\n",
       "   1,\n",
       "   1,\n",
       "   1,\n",
       "   1,\n",
       "   87,\n",
       "   1,\n",
       "   1,\n",
       "   8,\n",
       "   7,\n",
       "   5,\n",
       "   14,\n",
       "   14,\n",
       "   1,\n",
       "   37,\n",
       "   1],\n",
       "  'menderr': array([[  5., 281.,   0.,   0.,   0.],\n",
       "         [  5., 481.,   0.,   0.,   0.],\n",
       "         [  4., 296.,   0.,   0.,   0.]]),\n",
       "  'consis': array([[  1., 111.,   1., 111.,   0.],\n",
       "         [  4., 370.,   0.,   0.,   0.],\n",
       "         [  3., 185.,   3., 185.,   0.],\n",
       "         [  4., 370.,   0.,   0.,   0.],\n",
       "         [  3., 296.,   3., 296.,   0.],\n",
       "         [  0.,   0.,   0.,   0.,   0.],\n",
       "         [  1., 185.,   1., 185.,   0.],\n",
       "         [  4., 333.,   4., 333.,   0.]])},\n",
       " 'inTR': [['GCCCAGGGCCACTGTCCTGTCCCCAGCCCCATTAAAC', -6.0],\n",
       "  ['GCCCAGGGCCACTGTCCTGTCCCCAGCCCCATTAAAC', -7.0],\n",
       "  ['GCCCAGGGCCACTGTCCTGTCCCCAGCCCCATTAAAC', -5.0],\n",
       "  ['GCCCAGGGCCACTGTCCTGTCCCCAGCCCCATTAAAC', -5.0],\n",
       "  ['GCCCAGGGCCACTGTCCTGTCCCCAGCCCCATTAAAC', -4.0],\n",
       "  ['GCCCAGGGCCACTGTCCTGTCCCCAGCCCCATTAAAC', -5.0],\n",
       "  ['GCCCAGGGCCACTGTCCTGTCCCCAGCCCCATTAAAC', -5.0],\n",
       "  ['GCCCAGGGCCACTGTCCTGTCCCCAGCCCCATTAAAC', -5.0],\n",
       "  ['GCCCAGGGCCACTGTCCTGTCCCCAGCCCCATTAAAC', -3.0],\n",
       "  ['GCCCAGGGCCACTGTCCTGTCCCCAGCCCCATTAAAC', -5.0],\n",
       "  ['GCCCAGGGCCACTGTCCTGTCCCCAGCCCCATTAAAC', -5.0],\n",
       "  ['GCCCAGGGCCACTGTCCTGTCCCCAGCCCCATTAAAC', -5.0],\n",
       "  ['GCCCAGGGCCACTGTCCTGTCCCCAGCCCCATTAAAC', -2.0],\n",
       "  ['GCCCAGGGCCACTGTCCTGTCCCCAGCCCCATTAAAC', -3.0],\n",
       "  ['GCCCAGGGCCACTGTCCTGTCCCCAGCCCCATTAAAC', -5.0],\n",
       "  ['GCCCAGGGCCACTGTCCTGTCCCCAGCCCCATTAAAC', -1.9],\n",
       "  ['GCCCAGGGCCACTGTCCTGTCCCCAGCCCCATTAAAC', -5.0],\n",
       "  ['GCCCAGGGCCACTGTCCTGTCCCCAGCCCCATTAAAC', -5.0],\n",
       "  ['GCCCAGGGCCACTGTCCTGTCCCCAGCCCCATTAAAC', -3.0],\n",
       "  ['GCCCAGGGCCACTGTCCTGTCCCCAGCCCCATTAAAC', -5.0],\n",
       "  ['GCCCAGGGCCACTGTCCTGTCCCCAGCCCCATTAAAC', -5.0],\n",
       "  ['GCCCAGGGCCACTGTCCTGTCCCCAGCCCCATTAAAC', -5.1],\n",
       "  ['GCCCAGGGCCACTGTCCTGTCCCCAGCCCCATTAAAC', -3.0],\n",
       "  ['GCCCAGGGCCACTGTCCTGTCCCCAGCCCCATTAAAC', -5.0],\n",
       "  ['GCCCAGGGCCACTGTCCTGTCCCCAGCCCCATTAAAC', -4.0],\n",
       "  ['GCCCAGGGCCACTGTCCTGTCCCCAGCCCCATTAAAC', -5.0],\n",
       "  ['GCCCAGGGCCACTGTCCTGTCCCCAGCCCCATTAAAC', 1.0]],\n",
       " 'outTR': [['GCCCAGGGCCACTGTCCTGTCCCCAGCCCCATTAAAC', -0.2],\n",
       "  ['GCCCAGGGCCACTGTCCTGTCCCCAGCCCCATTAAAC', -1.0],\n",
       "  ['GCCCAGGGCCACTGTCCTGTCCCCAGCCCCATTAAAC', -1.0],\n",
       "  ['GCCCAGGGCCACTGTCCTGTCCCCAGCCCCATTAAAC', -2.0],\n",
       "  ['GCCCAGGGCCACTGTCCTGTCCCCAGCCCCATTAAAC', 1.0],\n",
       "  ['GCCCAGGGCCACTGTCCTGTCCCCAGCCCCATTAAAC', -1.0],\n",
       "  ['GCCCAGGGCCACTGTCCTGTCCCCAGCCCCATTAAAC', 1.0],\n",
       "  ['GCCCAGGGCCACTGTCCTGTCCCCAGCCCCATTAAAC', -1.0],\n",
       "  ['GCCCAGGGCCACTGTCCTGTCCCCAGCCCCATTAAAC', 1.0],\n",
       "  ['GCCCAGGGCCACTGTCCTGTCCCCAGCCCCATTAAAC', -1.0],\n",
       "  ['GCCCAGGGCCACTGTCCTGTCCCCAGCCCCATTAAAC', -1.0],\n",
       "  ['GCCCAGGGCCACTGTCCTGTCCCCAGCCCCATTAAAC', 5.0],\n",
       "  ['GCCCAGGGCCACTGTCCTGTCCCCAGCCCCATTAAAC', -2.0],\n",
       "  ['GCCCAGGGCCACTGTCCTGTCCCCAGCCCCATTAAAC', -4.0],\n",
       "  ['GCCCAGGGCCACTGTCCTGTCCCCAGCCCCATTAAAC', -1.0],\n",
       "  ['GCCCAGGGCCACTGTCCTGTCCCCAGCCCCATTAAAC', -5.0],\n",
       "  ['GCCCAGGGCCACTGTCCTGTCCCCAGCCCCATTAAAC', -5.0],\n",
       "  ['GCCCAGGGCCACTGTCCTGTCCCCAGCCCCATTAAAC', -2.0],\n",
       "  ['GCCCAGGGCCACTGTCCTGTCCCCAGCCCCATTAAAC', -2.0],\n",
       "  ['GCCCAGGGCCACTGTCCTGTCCCCAGCCCCATTAAAC', -4.0],\n",
       "  ['GCCCAGGGCCACTGTCCTGTCCCCAGCCCCATTAAAC', -1.0],\n",
       "  ['GCCCAGGGCCACTGTCCTGTCCCCAGCCCCATTAAAC', -3.0],\n",
       "  ['GCCCAGGGCCACTGTCCTGTCCCCAGCCCCATTAAAC', -1.0],\n",
       "  ['GCCCAGGGCCACTGTCCTGTCCCCAGCCCCATTAAAC', -2.0],\n",
       "  ['GCCCAGGGCCACTGTCCTGTCCCCAGCCCCATTAAAC', 1.0],\n",
       "  [None, None],\n",
       "  [None, None],\n",
       "  [None, None],\n",
       "  ['GCCCAGGGCCACTGTCCTGTCCCCAGCCCCATTAAAC', 1.0],\n",
       "  ['GCCCAGGGCCACTGTCCTGTCCCCAGCCCCATTAAAC', 1.0]]}"
      ]
     },
     "execution_count": 76,
     "metadata": {},
     "output_type": "execute_result"
    }
   ],
   "source": [
    "data['chr20:63372065-63372691']"
   ]
  },
  {
   "cell_type": "code",
   "execution_count": null,
   "id": "e322278d-4800-4a26-92b6-d99d0aff55a1",
   "metadata": {},
   "outputs": [],
   "source": []
  }
 ],
 "metadata": {
  "kernelspec": {
   "display_name": "Python 3 (ipykernel)",
   "language": "python",
   "name": "python3"
  },
  "language_info": {
   "codemirror_mode": {
    "name": "ipython",
    "version": 3
   },
   "file_extension": ".py",
   "mimetype": "text/x-python",
   "name": "python",
   "nbconvert_exporter": "python",
   "pygments_lexer": "ipython3",
   "version": "3.9.6"
  }
 },
 "nbformat": 4,
 "nbformat_minor": 5
}
